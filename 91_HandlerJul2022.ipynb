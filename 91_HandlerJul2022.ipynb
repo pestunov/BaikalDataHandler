{
 "cells": [
  {
   "cell_type": "code",
   "execution_count": null,
   "id": "88a84ba4-0bec-44bb-9475-8b9bc3206461",
   "metadata": {
    "tags": []
   },
   "outputs": [],
   "source": [
    "import pandas as pd\n",
    "import numpy as np\n",
    "import matplotlib.pyplot as plt\n",
    "from sqlalchemy import create_engine\n",
    "from sqlalchemy.sql import text\n",
    "\n",
    "import baikalfunctions as bfunc\n",
    "import scheme_mar2023 as scheme\n",
    "import mytools\n",
    "import mysecure"
   ]
  },
  {
   "cell_type": "code",
   "execution_count": null,
   "id": "ad41cd73-1286-4453-bc5a-22be3e354d60",
   "metadata": {
    "tags": []
   },
   "outputs": [],
   "source": [
    "pd.options.display.max_columns = 100\n",
    "pd.options.display.max_rows = 100"
   ]
  },
  {
   "cell_type": "code",
   "execution_count": null,
   "id": "bbcb1581-1408-4c7c-982e-a0245a7e37e5",
   "metadata": {
    "tags": []
   },
   "outputs": [],
   "source": [
    "# pd.set_option('display.min_rows', 100)\n",
    "%matplotlib inline\n",
    "plt.style.use('dark_background')   # try another styles: 'classic'\n",
    "plt.rcParams['figure.figsize'] = [15, 5]\n",
    "#plt.subplots_adjust(top=1, left=0, right=1, bottom=0)"
   ]
  },
  {
   "cell_type": "code",
   "execution_count": null,
   "id": "5d425f27-5073-41ec-83a7-5de782187e10",
   "metadata": {
    "tags": []
   },
   "outputs": [],
   "source": [
    "pwd = 'G:\\\\1_Data1\\\\91_BaikalJul2022\\\\'\n",
    "saveImgPath = 'G:\\\\1_Data1\\\\91_BaikalJul2022\\\\'\n",
    "saveDataPath = 'G:\\\\1_Data1\\\\91_BaikalJul2022\\\\'"
   ]
  },
  {
   "cell_type": "raw",
   "id": "8c1015c6-2a83-42d3-a495-32b69790365a",
   "metadata": {
    "tags": []
   },
   "source": [
    "# host = 192.168.3.53\n",
    "host = 'localhost'\n",
    "tableName = \"jul2022\"\n",
    "\n",
    "engine = create_engine(f\"mysql+pymysql://{mysecure.user}:{mysecure.password}@{host}:3306/baikal\")\n",
    "# req = f\"select * from {tableName} where DateTime > ADDDATE((SELECT DATETIME FROM {tableName} ORDER BY DATETIME DESC LIMIT 1), INTERVAL -24 hour);\"\n",
    "req = f\"select * from {tableName}\"\n",
    "\n",
    "with engine.connect().execution_options(autocommit=True) as conn:\n",
    "    query = conn.execute(text(req))\n",
    "df = pd.DataFrame(query.fetchall())"
   ]
  },
  {
   "cell_type": "code",
   "execution_count": null,
   "id": "96e7c515-b875-4738-aa64-03922417c730",
   "metadata": {
    "tags": []
   },
   "outputs": [],
   "source": [
    "df = pd.read_csv(pwd+'origin.dat', sep='\\t', parse_dates=['DateTime'], dayfirst=True, na_values='--', decimal=',', skiprows=[1,2], header=[0])"
   ]
  },
  {
   "cell_type": "code",
   "execution_count": null,
   "id": "1d7a5f83-3ea1-49cf-bfa9-5d63672ad067",
   "metadata": {
    "tags": []
   },
   "outputs": [],
   "source": [
    "df"
   ]
  },
  {
   "cell_type": "code",
   "execution_count": null,
   "id": "2188712c-c38f-4d7e-872d-15a39599f983",
   "metadata": {
    "tags": []
   },
   "outputs": [],
   "source": [
    "df.info()"
   ]
  },
  {
   "cell_type": "code",
   "execution_count": null,
   "id": "b75e9d5b-2129-4ae8-8eca-b0ad6f667a7b",
   "metadata": {
    "tags": []
   },
   "outputs": [],
   "source": [
    "df.rename(columns=scheme.NAME_CONV_BAS, inplace=True)\n",
    "df.sort_values(by='DateTime', inplace=True)\n",
    "df.reset_index(inplace=True, drop=True)\n",
    "df"
   ]
  },
  {
   "cell_type": "code",
   "execution_count": null,
   "id": "7f5c53a9-1426-4d90-bd36-db331ea33407",
   "metadata": {
    "tags": []
   },
   "outputs": [],
   "source": [
    "### remove service variables\n",
    "df.drop([x for x in df.columns if x.lower().endswith('err')], axis='columns', inplace=True, errors='ignore')\n",
    "df.drop([x for x in df.columns if x.lower().endswith('max')], axis='columns', inplace=True, errors='ignore')\n",
    "df.drop([x for x in df.columns if x.lower().endswith('min')], axis='columns', inplace=True, errors='ignore')\n",
    "df.drop([x for x in df.columns if x.lower().startswith('pump')], axis='columns', inplace=True, errors='ignore')\n",
    "df.drop(['HumidityAir', ], axis='columns', inplace=True, errors='ignore')\n"
   ]
  },
  {
   "cell_type": "code",
   "execution_count": null,
   "id": "586a1fc5-918c-4a33-aaa9-5d65f0887e9d",
   "metadata": {
    "tags": []
   },
   "outputs": [],
   "source": [
    "df.shape, df.columns"
   ]
  },
  {
   "cell_type": "code",
   "execution_count": null,
   "id": "47df79f6-6a82-4949-a3ff-38b73fe38f5d",
   "metadata": {
    "tags": []
   },
   "outputs": [],
   "source": [
    "plt.rcParams['figure.figsize'] = [15, 15]\n",
    "fig, axs = plt.subplots(7, 1)\n",
    "\n",
    "axs[0].set_title('vCO2, ppm')\n",
    "axs[0].plot(df.DateTime, df['vCO2'], '-', c='silver')\n",
    "axs[0].set_ylim(0, 1000)\n",
    "\n",
    "axs[1].set_title('vCH4, ppm')\n",
    "axs[1].plot(df.DateTime, df['vCH4'], '-', c='silver')\n",
    "\n",
    "axs[2].set_title('Temp')\n",
    "axs[2].plot(df.DateTime, df['TempEqu1'], 'r-')\n",
    "axs[2].plot(df.DateTime, df['TempEqu2'], 'g-')\n",
    "axs[2].plot(df.DateTime, df['TempEqu3'], 'b-')\n",
    "axs[2].plot(df.DateTime, df['TempAir'], 'c-')\n",
    "\n",
    "axs[3].set_title('WaterFlow')\n",
    "axs[3].plot(df.DateTime, df['WaterFlowEqu1'], 'r-')\n",
    "axs[3].plot(df.DateTime, df['WaterFlowEqu2'], 'g-')\n",
    "axs[3].plot(df.DateTime, df['WaterFlowEqu3'], 'b-')\n",
    "\n",
    "axs[4].set_title('Press')\n",
    "axs[4].plot(df.DateTime, df['PressAir'], 'c-')\n",
    "axs[5].set_title('Solar')\n",
    "axs[5].plot(df.DateTime, df['LightLX'], 'w-')\n",
    "axs[6].set_title('fluo, r.u.')\n",
    "axs[6].plot(df.DateTime, df['FluoKfaBlu'], 'b.')\n",
    "axs[6].plot(df.DateTime, df['FluoKfaGrn'], 'g.')\n",
    "axs[6].plot(df.DateTime, df['FluoKfaRed'], 'r.')\n",
    "\n"
   ]
  },
  {
   "cell_type": "markdown",
   "id": "7a0c768d-907f-4b0d-9825-959a4b4f7178",
   "metadata": {},
   "source": [
    "### Correction data"
   ]
  },
  {
   "cell_type": "code",
   "execution_count": null,
   "id": "c953534a-a7a8-40be-926e-5cd3c30ed5f3",
   "metadata": {
    "tags": []
   },
   "outputs": [],
   "source": [
    "## gether/apply specific variables\n",
    "### data corrections\n",
    "# df['vCO2'] = df['vCO2'] * scheme.CO2PicarroScaut_cor[0] + scheme.CO2PicarroScaut_cor[1]\n",
    "# df['vCH4'] = df['vCH4'] * scheme.CH4PicarroScaut_cor[0] + scheme.CH4PicarroScaut_cor[1]\n",
    "# df['vCO2'] = df['CO2_dry']\n",
    "# df['vCH4'] = df['CH4_dry']\n",
    "df['LightLX'] = df['LightLX'] * scheme.solar_cor[0] + scheme.solar_cor[1]\n",
    "df['LightUV'] = df['LightUV'] * scheme.solar_uv_cor[0] + scheme.solar_uv_cor[1]\n",
    "df['PressAir'] = bfunc.pressConvert(df['PressAir'])\n",
    "df['PressAir'] = df['PressAir'] * scheme.press_cor[0] + scheme.press_cor[1]\n",
    "\n",
    "### servise data corrections\n",
    "df['TempEqu1'] = df['TempEqu1'] * scheme.tempEqu1_cor[0] + scheme.tempEqu1_cor[1]\n",
    "df['TempEqu2'] = df['TempEqu2'] * scheme.tempEqu2_cor[0] + scheme.tempEqu2_cor[1]\n",
    "df['TempEqu3'] = df['TempEqu3'] * scheme.tempEqu3_cor[0] + scheme.tempEqu3_cor[1]\n",
    "\n",
    "df['AirFlow'] = df['AirFlow'] * scheme.airflow_cor[0] + scheme.airflow_cor[1]\n",
    "\n",
    "df['WaterFlowEqu1'] = df['WaterFlowEqu1'] * scheme.waterflowEqu1_cor[0] + scheme.waterflowEqu1_cor[1]\n",
    "df['WaterFlowEqu2'] = df['WaterFlowEqu2'] * scheme.waterflowEqu2_cor[0] + scheme.waterflowEqu2_cor[1]\n",
    "df['WaterFlowEqu3'] = df['WaterFlowEqu3'] * scheme.waterflowEqu3_cor[0] + scheme.waterflowEqu3_cor[1]"
   ]
  },
  {
   "cell_type": "markdown",
   "id": "a3b6553d-e127-4b51-a5cd-06731ca8e85a",
   "metadata": {},
   "source": [
    "###  Remove bad data   \n",
    "List of accidental cases to filter data (see notes)"
   ]
  },
  {
   "cell_type": "code",
   "execution_count": null,
   "id": "f0346dee-1a15-4474-ab4e-91ae5d62e562",
   "metadata": {
    "tags": []
   },
   "outputs": [],
   "source": [
    "filter_list = [{'date_start': '08.07.2022 22:38', 'date_stop': '09.07.2022 06:30', 'cols': ['chm_fail'], 'fill_with': 1},   # chamber is disfunc\n",
    "               {'date_start': '09.07.2022 09:26', 'date_stop': '09.07.2022 12:12', 'cols': ['chm_fail'], 'fill_with': 1},   # chamber is disfunc\n",
    "               {'date_start': '10.07.2022 03:53', 'date_stop': '10.07.2022 07:52', 'cols': ['chm_fail'], 'fill_with': 1},   # chamber is disfunc\n",
    "               {'date_start': '11.07.2022 23:55', 'date_stop': '12.07.2022 07:10', 'cols': ['chm_fail'], 'fill_with': 1},   # chamber is disfunc\n",
    "               {'date_start': '13.07.2022 17:44', 'date_stop': '14.07.2022 00:17', 'cols': ['chm_fail'], 'fill_with': 1},   # chamber is disfunc\n",
    "               {'date_start': '14.07.2022 16:55', 'date_stop': '31.12.2022 23:59', 'cols': ['chm_fail'], 'fill_with': 1},   # chamber is disfunc\n",
    "              ]\n",
    "\n",
    "df['chm_fail'] = 0\n",
    "for cycle in filter_list:\n",
    "    for col in cycle['cols']:\n",
    "        date_start = pd.to_datetime(cycle['date_start'], dayfirst=True)\n",
    "        date_stop = pd.to_datetime(cycle['date_stop'], dayfirst=True)\n",
    "        df.loc[(df['DateTime'] > date_start) & (df['DateTime'] < date_stop), col] = cycle['fill_with']"
   ]
  },
  {
   "cell_type": "code",
   "execution_count": null,
   "id": "31a119a7-52d0-4eff-b607-a99b0b049f8c",
   "metadata": {
    "tags": []
   },
   "outputs": [],
   "source": [
    "cols = ['FluoNxRed', 'FluoNxGrn', 'FluoNxBlu', 'FluoKfaRed', 'FluoKfaGrn', 'FluoKfaBlu']\n",
    "for col in cols:\n",
    "    df.loc[df[col] == 0, col] = np.NaN\n",
    "cols = ['WaterFlowEqu1', 'WaterFlowEqu2', 'WaterFlowEqu3', 'WaterFlowEqu4', 'AirFlow']\n",
    "for col in cols:\n",
    "    df.loc[df[col] < 0, col] = np.NaN"
   ]
  },
  {
   "cell_type": "markdown",
   "id": "ef0c644d-009a-4bf4-990e-1a0e6ec57052",
   "metadata": {
    "tags": []
   },
   "source": [
    "### Separate data"
   ]
  },
  {
   "cell_type": "code",
   "execution_count": null,
   "id": "03748ac2-aa0c-4fa5-9af6-ca87be9b6bc8",
   "metadata": {
    "tags": []
   },
   "outputs": [],
   "source": [
    "v_state_list = list(scheme.CHANNEL_COLS.values())\n",
    "\n",
    "chnl = 'Channel'\n",
    "if not chnl in df.columns:\n",
    "    df[chnl] = 0\n",
    "if 'V1_state' in df.columns:\n",
    "    df.loc[df.V1_state == 1, chnl] = 1\n",
    "    df.loc[df.V2_state == 1, chnl] = 2\n",
    "    df.loc[df.V3_state == 1, chnl] = 3\n",
    "    df.loc[df.V4_state == 1, chnl] = 4\n",
    "    df.loc[df.V5_state == 1, chnl] = 5\n",
    "    df.loc[df.V6_state == 1, chnl] = 6\n",
    "df.drop(v_state_list, inplace=True, errors='ignore')"
   ]
  },
  {
   "cell_type": "markdown",
   "id": "e87f6905-a602-4a75-b86f-d8b6184b3e83",
   "metadata": {
    "tags": []
   },
   "source": [
    "### Flux calc"
   ]
  },
  {
   "cell_type": "code",
   "execution_count": null,
   "id": "0b432fdf-e0a2-457e-8472-60cc14d2fe20",
   "metadata": {},
   "outputs": [],
   "source": [
    "### find the moments where flux is valid to calculate\n",
    "df['flag'] = (df['Channel'] == 5)\n",
    "df['flag'] &= (df['chm_fail'] == 0)\n",
    "df['fluxEvent'] = (df['flag']==0) & (df['flag'].shift(-1)!=0)\n",
    "df['fluxCount'] = df['fluxEvent'].cumsum() * df['flag']\n",
    "df.tail(990).head(10)"
   ]
  },
  {
   "cell_type": "raw",
   "id": "06bcaaaa-a4c3-4335-818c-024f6c2f2217",
   "metadata": {},
   "source": [
    "for deep in range(50):\n",
    "    df['flag'] &= (df['Channel'] == df['Channel'].shift(deep))\n",
    "\n",
    "tempflag = (df['Channel'] == 5) & (df['DateTime'] > t) \n",
    "\n",
    "for deep in range(2):\n",
    "    tempflag &= (df['Channel'] == df['Channel'].shift(deep))\n",
    "\n",
    "df['flag'] |= tempflag\n",
    "# set flag for 100 points skipping first 2 points  \n",
    "df['flag'] = df['flag'].astype('int8')\n",
    "# count flux cycles for grouping\n",
    "df['fluxEvent'] = (df['flag']==0) & (df['flag'].shift(-1)!=0)\n",
    "df['fluxCount'] = df['fluxEvent'].cumsum() * df['flag']\n",
    "#df['flag'] |= (df['Channel'] == 5) & (df['DateTime'] > t)"
   ]
  },
  {
   "cell_type": "code",
   "execution_count": null,
   "id": "88f60024-895f-4799-86e4-00ca190cd120",
   "metadata": {},
   "outputs": [],
   "source": [
    "ch_v = 'flag'\n",
    "df['cCO2chm'] = df['vCO2'][(df[chnl] == 5) & (df[ch_v] == 1)] * df['PressAir'] * bfunc.getDensity(temp=0, press=1, gas='CO2') / 1000  ## mg/l\n",
    "df['cCH4chm'] = df['vCH4'][(df[chnl] == 5) & (df[ch_v] == 1)] * df['PressAir'] * bfunc.getDensity(temp=0, press=1, gas='CH4')         ## ug/l\n",
    "df['DateSec'] = df['DateTime'].astype('int64')//10**9\n",
    "for col in ['cCO2chm', 'cCH4chm']:\n",
    "    df[col] = df[col].rolling(3).mean()"
   ]
  },
  {
   "cell_type": "code",
   "execution_count": null,
   "id": "0f501580-69a9-4aa8-8fb5-d9c2ce683afd",
   "metadata": {
    "tags": []
   },
   "outputs": [],
   "source": [
    "plt.rcParams['figure.figsize'] = [15, 5]\n",
    "fig, ax = plt.subplots(1)\n",
    "ax.plot('DateTime', 'cCO2chm', 'ro', linewidth=1, alpha=0.2, data=df )\n",
    "ax.plot('DateTime', 'flag', 'c-', linewidth=1, alpha=0.2, data=df)\n",
    "ax.set_xlim(pd.to_datetime('08.07.2022 20:00', dayfirst=True), pd.to_datetime('09.07.2022 10:00', dayfirst=True))\n",
    "ax.set_ylim(0.6, 1.01)"
   ]
  },
  {
   "cell_type": "code",
   "execution_count": null,
   "id": "c4fb845e-5150-4704-b75f-f494824cdc0b",
   "metadata": {
    "tags": []
   },
   "outputs": [],
   "source": [
    "deep = 1\n",
    "df['CO2flux'] = (df['cCO2chm'].shift(-deep) - df['cCO2chm'].shift(deep)) / (df['DateSec'].shift(-deep) - df['DateSec'].shift(deep)) * 3600 / 0.81 * 320\n",
    "df['CH4flux'] = (df['cCH4chm'].shift(-deep) - df['cCH4chm'].shift(deep)) / (df['DateSec'].shift(-deep) - df['DateSec'].shift(deep)) * 3600 / 0.81 * 320"
   ]
  },
  {
   "cell_type": "code",
   "execution_count": null,
   "id": "22fdf063-d8a2-4243-a618-c88c9b46ec5a",
   "metadata": {},
   "outputs": [],
   "source": [
    "def get_mean_flux_1(dfff):\n",
    "    dfff = dfff.tail(30)\n",
    "    return dfff.quantile(q=0.4, interpolation='midpoint')\n",
    "'''    dfff.sort_values(by='CO2flux')\n",
    "    i_begin = int(len(dfff)/2) - s\n",
    "    i_end = int(len(dfff)/2) + s\n",
    "    \n",
    "    dfff.loc[inl(len)]\n",
    "   ''' \n",
    "    \n",
    "\n",
    "dff = df.loc[:, ['DateSec', 'CO2flux', 'CH4flux', 'fluxCount']]\n",
    "dff.describe()"
   ]
  },
  {
   "cell_type": "code",
   "execution_count": null,
   "id": "69cbd448-b23d-49f7-ac2a-6ecdba4e2dbe",
   "metadata": {},
   "outputs": [],
   "source": [
    "dff = dff.groupby(by='fluxCount').apply(get_mean_flux_1)\n",
    "dff['DateSec'] = dff['DateSec'].astype('int')\n",
    "dff"
   ]
  },
  {
   "cell_type": "code",
   "execution_count": null,
   "id": "319840b0-cf97-474e-b5bc-cfd3b2ef4446",
   "metadata": {
    "tags": []
   },
   "outputs": [],
   "source": [
    "df = pd.merge(left=df, right=dff, how='left', left_on='fluxCount', right_index=True, suffixes=(None, '_1'))"
   ]
  },
  {
   "cell_type": "code",
   "execution_count": null,
   "id": "53e5bf7a-595b-4a72-9715-3f10cde98ac8",
   "metadata": {},
   "outputs": [],
   "source": [
    "plt.rcParams['figure.figsize'] = [15, 5]\n",
    "fig, ax = plt.subplots(1)\n",
    "ax.plot('DateTime', df['flag']*100, 'c-', linewidth=1, alpha=0.8, data=df)\n",
    "ax.plot('DateTime', 'CO2flux', 'ro', linewidth=1, alpha=0.1, data=df )\n",
    "ax.plot('DateTime', 'CO2flux_1', 'bo', linewidth=1, alpha=0.9, data=df )\n",
    "\n",
    "# ax.set_xlim(pd.to_datetime('08.07.2022 0:00', dayfirst=True), pd.to_datetime('09.07.2022 0:00', dayfirst=True))\n",
    "ax.set_ylim(-200, 200)\n",
    "#ax.set_xlim(1656960000, 1657823000)"
   ]
  },
  {
   "cell_type": "code",
   "execution_count": null,
   "id": "d0cd248d-5314-4119-a433-af40fcde2125",
   "metadata": {
    "tags": []
   },
   "outputs": [],
   "source": [
    "df['reff'] = 1\n",
    "df = df.resample('20S', on='DateTime').mean()\n",
    "df[chnl].fillna(method='ffill', inplace=True)\n",
    "ch_v = 'Chn_valid'\n",
    "df[ch_v] = 1\n",
    "for deep in range(1, 7):\n",
    "    df.loc[df[chnl] != df[chnl].shift(deep), ch_v] = 0\n",
    "df.dropna(axis='index', subset=['reff'], inplace=True)"
   ]
  },
  {
   "cell_type": "code",
   "execution_count": null,
   "id": "6214dfef-7ffd-4c95-bb84-95c82817107e",
   "metadata": {
    "tags": []
   },
   "outputs": [],
   "source": [
    "df['DateTime'] = df.index\n",
    "df"
   ]
  },
  {
   "cell_type": "code",
   "execution_count": null,
   "id": "3c4f6936-405f-40db-a185-30ee7ae6cc65",
   "metadata": {
    "tags": []
   },
   "outputs": [],
   "source": [
    "df['vCO2air'] = df['vCO2'][(df[chnl] == 6) & (df[ch_v] == 1)]\n",
    "df['vCH4air'] = df['vCH4'][(df[chnl] == 6) & (df[ch_v] == 1)]\n",
    "for col in ['vCO2air', 'vCH4air',]:\n",
    "    df[col] = df[col].rolling(3).mean()\n",
    "\n",
    "df['vCO2air'].interpolate(method='values', inplace=True)\n",
    "df['vCH4air'].interpolate(method='values', inplace=True)  ## `time` method mb better\n",
    "df['pCO2air'] = df['vCO2air'] * df['PressAir']  # mkatm\n",
    "df['pCH4air'] = df['vCH4air'] * df['PressAir']  # mkatm"
   ]
  },
  {
   "cell_type": "code",
   "execution_count": null,
   "id": "a003322e-b7bd-4326-b6d7-f2b6bf38b1f3",
   "metadata": {
    "tags": []
   },
   "outputs": [],
   "source": [
    "plt.rcParams['figure.figsize'] = [15, 5]\n",
    "fig, axs = plt.subplots(2, 1)\n",
    "\n",
    "axs[0].set_title('CO2 air, ppm')\n",
    "axs[0].set_ylim(300, 550)\n",
    "axs[0].plot(df.DateTime, df['vCO2'], '-', c='silver')\n",
    "axs[0].plot(df.DateTime, df['vCO2air'], 'r-')\n",
    "\n",
    "axs[1].set_title('CH4 air, ppm')\n",
    "axs[1].set_ylim(1.75, 2.5)\n",
    "axs[1].plot(df.DateTime, df['vCH4'], '-', c='silver')\n",
    "axs[1].plot(df.DateTime, df['vCH4air'], 'b-')\n",
    "fig.savefig(saveImgPath+'cAir_vs_time.png', transparent=False)"
   ]
  },
  {
   "cell_type": "code",
   "execution_count": null,
   "id": "29a5adc0-372d-4142-bd92-cea9e7130ac0",
   "metadata": {
    "tags": []
   },
   "outputs": [],
   "source": [
    "df.columns"
   ]
  },
  {
   "cell_type": "markdown",
   "id": "285e7fbc-779e-4a84-a277-667c705003a2",
   "metadata": {
    "tags": []
   },
   "source": [
    "## RECOVERY !!!"
   ]
  },
  {
   "cell_type": "code",
   "execution_count": null,
   "id": "008e389f-c6f3-4a49-bb33-af4bc38496d7",
   "metadata": {
    "tags": []
   },
   "outputs": [],
   "source": [
    "ch_v = 'Chn_valid'\n",
    "df[ch_v] = 1\n",
    "for deep in range(1, 15):\n",
    "    df.loc[df[chnl] != df[chnl].shift(deep), ch_v] = 0"
   ]
  },
  {
   "cell_type": "code",
   "execution_count": null,
   "id": "c14bac6e-de93-4c91-add5-10a681806389",
   "metadata": {
    "tags": []
   },
   "outputs": [],
   "source": [
    "df['DateSec'] = df['DateTime'].astype('int64')//10**9\n",
    "df['dTSec'] = df['DateSec'] - df['DateSec'].shift(1)\n",
    "dt = df['dTSec'] / 60   ## delta time, min\n",
    "ch_v = 'Chn_valid'"
   ]
  },
  {
   "cell_type": "markdown",
   "id": "17f12b1e-1498-4845-9569-1024f304b70d",
   "metadata": {
    "tags": []
   },
   "source": [
    "#### recovery `CO2/CH4`, channel `1` (bottom jul 2022)"
   ]
  },
  {
   "cell_type": "code",
   "execution_count": null,
   "id": "16350b90-0a95-4c3b-9743-ba9922c5e41b",
   "metadata": {
    "tags": []
   },
   "outputs": [],
   "source": [
    "equ_vol = scheme.equ_walltube_param['equ_vol']  # equivalent equ volume, l\n",
    "equ_cap = scheme.equ_walltube_param['equ_cap']  # equilibrator capacity\n",
    "wtr_flow_min = scheme.equ_walltube_param['water_flow_min'] "
   ]
  },
  {
   "cell_type": "code",
   "execution_count": null,
   "id": "c039bf18-dc89-4ef9-b4d4-696881137b2f",
   "metadata": {
    "tags": []
   },
   "outputs": [],
   "source": [
    "t_wtr = df['TempEqu1']\n",
    "t_air = t_wtr\n",
    "wtr_flow = df['WaterFlowEqu1']\n",
    "air_flow = df['AirFlow']"
   ]
  },
  {
   "cell_type": "code",
   "execution_count": null,
   "id": "d8f3a70c-aa0e-402e-9244-9d5aa90e6323",
   "metadata": {
    "tags": []
   },
   "outputs": [],
   "source": [
    "### CO2 water\n",
    "df['vCO2equ'] = df['vCO2'][(df[chnl] == 1) & (df[ch_v] == 1) & (wtr_flow > wtr_flow_min)]\n",
    "solubility = bfunc.getSolubility(t_wtr, 'CO2')\n",
    "\n",
    "density = bfunc.getDensity(t_air, df['PressAir'], 'CO2')\n",
    "cGasAir = df['pCO2air'] / 1000000 * density\n",
    "pGasEquAir = df['vCO2equ'] * df['PressAir']\n",
    "cGasEquAir = pGasEquAir * density / 1000000  # g/l\n",
    "\n",
    "tau = equ_vol/(air_flow+wtr_flow*equ_cap*solubility/density)\n",
    "eternal = (cGasEquAir-cGasEquAir.shift(1)*np.exp(-1*dt/tau))/(1-np.exp(-1*dt/tau))\n",
    "cGasWtr = (eternal*(wtr_flow*equ_cap*solubility/density+air_flow)-air_flow*cGasAir)/(wtr_flow*equ_cap)\n",
    "\n",
    "df['cCO2bot'] = cGasWtr * 1000     # mg/l\n",
    "df['pCO2bot'] = cGasWtr * 1000000 / solubility  # mkatm"
   ]
  },
  {
   "cell_type": "code",
   "execution_count": null,
   "id": "a9b96faf-3a40-4b78-9db2-f365ac3f8eb8",
   "metadata": {
    "tags": []
   },
   "outputs": [],
   "source": [
    "### CH4 water\n",
    "df['vCH4equ'] = df['vCH4'][(df[chnl] == 1) & (df[ch_v] == 1)]\n",
    "solubility = bfunc.getSolubility(t_wtr, 'CH4')\n",
    "\n",
    "density = bfunc.getDensity(t_air, df['PressAir'], 'CH4')\n",
    "cGasAir = df['pCH4air'] / 1000000 * density\n",
    "pGasEquAir = df['vCH4equ'] * df['PressAir']\n",
    "cGasEquAir = pGasEquAir * density / 1000000  # g/l\n",
    "\n",
    "tau = equ_vol/(air_flow+wtr_flow*equ_cap*solubility/density)\n",
    "eternal = (cGasEquAir-cGasEquAir.shift(1)*np.exp(-1*dt/tau))/(1-np.exp(-1*dt/tau))\n",
    "cGasWtr = (eternal*(wtr_flow*equ_cap*solubility/density+air_flow)-air_flow*cGasAir)/(wtr_flow*equ_cap)\n",
    "df['cCH4bot'] = cGasWtr * 1000000000    # ng/l\n",
    "df['pCH4bot'] = cGasWtr * 1000000 / solubility  # mkatm"
   ]
  },
  {
   "cell_type": "markdown",
   "id": "f515c5c1-a9d6-4a21-8845-99821799b2a4",
   "metadata": {
    "tags": []
   },
   "source": [
    "#### recovery `CO2/CH4`, channel `2` (surface in jul 2022)"
   ]
  },
  {
   "cell_type": "code",
   "execution_count": null,
   "id": "45ddeb04-bf56-44ff-b706-5a77f765d0dd",
   "metadata": {
    "tags": []
   },
   "outputs": [],
   "source": [
    "t_wtr = df['TempEqu2']\n",
    "t_air = t_wtr\n",
    "wtr_flow = df['WaterFlowEqu2']"
   ]
  },
  {
   "cell_type": "code",
   "execution_count": null,
   "id": "f48e853e-fb94-45cf-a5a6-465405eed91e",
   "metadata": {
    "tags": []
   },
   "outputs": [],
   "source": [
    "### CO2 water\n",
    "df['vCO2equ'] = df['vCO2'][(df[chnl] == 2) & (df[ch_v] == 1) & (wtr_flow > wtr_flow_min)]\n",
    "solubility = bfunc.getSolubility(t_wtr, 'CO2')\n",
    "\n",
    "density = bfunc.getDensity(t_air, df['PressAir'], 'CO2')\n",
    "cGasAir = df['pCO2air'] / 1000000 * density\n",
    "pGasEquAir = df['vCO2equ'] * df['PressAir']\n",
    "cGasEquAir = pGasEquAir * density / 1000000  # g/l\n",
    "\n",
    "tau = equ_vol/(air_flow+wtr_flow*equ_cap*solubility/density)\n",
    "eternal = (cGasEquAir-cGasEquAir.shift(1)*np.exp(-1*dt/tau))/(1-np.exp(-1*dt/tau))\n",
    "cGasWtr = (eternal*(wtr_flow*equ_cap*solubility/density+air_flow)-air_flow*cGasAir)/(wtr_flow*equ_cap)\n",
    "\n",
    "df['cCO2sur'] = cGasWtr * 1000     # mg/l\n",
    "df['pCO2sur'] = cGasWtr * 1000000 / solubility  # mkatm"
   ]
  },
  {
   "cell_type": "code",
   "execution_count": null,
   "id": "368a189c-99d0-49d2-8a44-1e7fc015fa2f",
   "metadata": {
    "tags": []
   },
   "outputs": [],
   "source": [
    "### CH4 water\n",
    "df['vCH4equ'] = df['vCH4'][(df[chnl] == 2) & (df[ch_v] == 1)]\n",
    "solubility = bfunc.getSolubility(df['TempEqu1'], 'CH4')\n",
    "\n",
    "density = bfunc.getDensity(t_air, df['PressAir'], 'CH4')\n",
    "cGasAir = df['pCH4air'] / 1000000 * density\n",
    "pGasEquAir = df['vCH4equ'] * df['PressAir']\n",
    "cGasEquAir = pGasEquAir * density / 1000000  # g/l\n",
    "\n",
    "tau = equ_vol/(air_flow+wtr_flow*equ_cap*solubility/density)\n",
    "eternal = (cGasEquAir-cGasEquAir.shift(1)*np.exp(-1*dt/tau))/(1-np.exp(-1*dt/tau))\n",
    "cGasWtr = (eternal*(wtr_flow*equ_cap*solubility/density+air_flow)-air_flow*cGasAir)/(wtr_flow*equ_cap)\n",
    "df['cCH4sur'] = cGasWtr * 1000000000    # ng/l\n",
    "df['pCH4sur'] = cGasWtr * 1000000 / solubility  # mkatm"
   ]
  },
  {
   "cell_type": "code",
   "execution_count": null,
   "id": "c665e9c8-8671-4d29-902c-b192c657becc",
   "metadata": {
    "tags": []
   },
   "outputs": [],
   "source": [
    "## rolling average is applied inplace. Be cafelly, run this cell **ONCE**\n",
    "\n",
    "for col in ['cCO2sur', 'cCO2bot', 'pCO2sur', 'pCO2bot', 'cCH4sur', 'pCH4sur', 'cCH4bot', 'pCH4bot']:\n",
    "    df.loc[df[col] == np.inf , col] = np.nan \n",
    "    df.loc[df[col] == -np.inf , col] = np.nan           \n",
    "    \n",
    "    df.loc[df[col] <= 0 , col] = np.nan\n",
    "    df[col] = df[col].rolling(4, center=True).mean()\n",
    "\n",
    "df['cCH4bot'].describe()"
   ]
  },
  {
   "cell_type": "code",
   "execution_count": null,
   "id": "1457e1c0-c3c9-420d-8668-fe3920dde42a",
   "metadata": {
    "tags": []
   },
   "outputs": [],
   "source": [
    "df['pCO2'] = df['vCO2'] * df['PressAir']\n",
    "\n",
    "plt.rcParams['figure.figsize'] = [18, 5]\n",
    "fig, ax = plt.subplots()\n",
    "## ax.set_xlim(pd.to_datetime('05.06.2023 18:00:00', dayfirst=True), pd.to_datetime('05.06.2023 19:00:00', dayfirst=True))\n",
    "ax.set_title('CO2 water, mkatm')\n",
    "# ax.set_ylim(0, 800)\n",
    "ax.plot(df.DateTime, df['pCO2'], '-', c='silver')\n",
    "ax.plot(df.DateTime, df['pCO2sur'], 'g-')\n",
    "ax.plot(df.DateTime, df['pCO2bot'], 'r-')\n",
    "ax.plot(df.DateTime, df['pCO2air'], 'c-')\n",
    "fig.savefig(saveImgPath+'pCO2wtr_vs_time.png')"
   ]
  },
  {
   "cell_type": "code",
   "execution_count": null,
   "id": "1059de88-2582-466e-bd76-30d3a52add19",
   "metadata": {
    "tags": []
   },
   "outputs": [],
   "source": [
    "count_recent = 30000\n",
    "df['pCH4'] = df['vCH4'] * df['PressAir']\n",
    "plt.rcParams['figure.figsize'] = [18, 5]\n",
    "fig, ax = plt.subplots()\n",
    "ax.set_title('CH4 water, mkatm')\n",
    "ax.set_xlim(pd.to_datetime('07.07.2022 10:00:00', dayfirst=True), pd.to_datetime('09.07.2022 19:00:00', dayfirst=True))\n",
    "# ax.set_ylim(0, 20)\n",
    "ax.plot(df.tail(count_recent).DateTime, df.tail(count_recent)['pCH4'], '-', c='silver')\n",
    "ax.plot(df.tail(count_recent).DateTime, df.tail(count_recent)['pCH4air'], 'c.')\n",
    "ax.plot(df.tail(count_recent).DateTime, df.tail(count_recent)['pCH4bot'], 'r.')\n",
    "ax.plot(df.tail(count_recent).DateTime, df.tail(count_recent)['pCH4sur'], 'g.')\n",
    "fig.savefig(saveImgPath+'pCH4wtr_vs_time.png')"
   ]
  },
  {
   "cell_type": "code",
   "execution_count": null,
   "id": "c8792563-e6e6-4db8-96f3-0f8a7aac1f9b",
   "metadata": {},
   "outputs": [],
   "source": [
    "df.columns"
   ]
  },
  {
   "cell_type": "code",
   "execution_count": null,
   "id": "3f07ee83-abe1-4f4d-95ed-817ff3e3903c",
   "metadata": {},
   "outputs": [],
   "source": [
    "df['hour'] = df['DateTime'].dt.hour + df['DateTime'].dt.minute / 60.0 + + df['DateTime'].dt.second / 3600.0\n",
    "df['hour']"
   ]
  },
  {
   "cell_type": "code",
   "execution_count": null,
   "id": "e98d7863-3d2f-4dd9-a655-ed9851858e3a",
   "metadata": {
    "tags": []
   },
   "outputs": [],
   "source": [
    "plt.rcParams['figure.figsize'] = [15, 5]\n",
    "fig, ax = plt.subplots(1)\n",
    "ax.plot('hour', 'CO2flux', 'ro', linewidth=1, alpha=0.1, data=df )\n",
    "ax.plot('hour', 'CO2flux_1', 'bo', linewidth=1, alpha=0.9, data=df )\n",
    "ax.set_ylim(-200, 200)"
   ]
  },
  {
   "cell_type": "code",
   "execution_count": null,
   "id": "7793e65f-c656-4aa0-8a86-59ce979d8007",
   "metadata": {
    "tags": []
   },
   "outputs": [],
   "source": [
    "cols = ['hour', 'DateSec', 'TempAir', 'PressAir', 'Precipitation', 'LightLX', 'LightUV',\n",
    "        'vCO2', 'vCH4', 'vH2O', 'AirFlow', 'Channel',\n",
    "        'FluoNxRed', 'FluoNxGrn', 'FluoNxBlu', 'FluoKfaRed', 'FluoKfaGrn', 'FluoKfaBlu', 'WaterFlowEqu1',\n",
    "        'WaterFlowEqu2', 'WaterFlowEqu3', 'WaterFlowEqu4',\n",
    "        'TempEqu1', 'TempEqu2', 'TempEqu3', 'cCO2chm', 'cCH4chm',\n",
    "        'CO2flux', 'CH4flux', 'vCO2air', 'vCH4air',\n",
    "        'CO2flux_1', 'CH4flux_1',\n",
    "        'pCO2air', 'pCH4air', 'cCO2sur', 'pCO2sur',\n",
    "        'cCH4sur', 'pCH4sur', 'cCO2bot', 'pCO2bot', 'cCH4bot', 'pCH4bot',]\n",
    "df.to_csv(f'{pwd}origin_pd.txt',\n",
    "          columns=cols,\n",
    "          sep='\\t',\n",
    "         )"
   ]
  },
  {
   "cell_type": "code",
   "execution_count": null,
   "id": "8744c919-85d8-4b7d-b874-30ca04ed15a4",
   "metadata": {},
   "outputs": [],
   "source": [
    "hourly = df.resample('60T', on='DateTime', offset='30T').mean()\n",
    "hourly.index = hourly.index + pd.to_timedelta('30T')\n",
    "\n",
    "cols = ['hour', 'DateSec', 'TempAir', 'PressAir', 'Precipitation', 'LightLX', 'LightUV',\n",
    "        'vCO2', 'vCH4', 'vH2O',\n",
    "        'FluoNxRed', 'FluoNxGrn', 'FluoNxBlu', 'FluoKfaRed', 'FluoKfaGrn', 'FluoKfaBlu', 'WaterFlowEqu1',\n",
    "        'TempEqu1', 'TempEqu2', 'TempEqu3', 'cCO2chm', 'cCH4chm',\n",
    "        'CO2flux', 'CH4flux', 'vCO2air', 'vCH4air',\n",
    "        'CO2flux_1', 'CH4flux_1',\n",
    "        'pCO2air', 'pCH4air', 'cCO2sur', 'pCO2sur',\n",
    "        'cCH4sur', 'pCH4sur', 'cCO2bot', 'pCO2bot', 'cCH4bot', 'pCH4bot',]\n",
    "hourly.to_csv(f'{saveDataPath}hourly.txt',\n",
    "              columns=cols,\n",
    "              sep='\\t',\n",
    "             )"
   ]
  },
  {
   "cell_type": "code",
   "execution_count": null,
   "id": "d901e8d1-c197-40c8-9e80-4c4de81f2932",
   "metadata": {},
   "outputs": [],
   "source": []
  }
 ],
 "metadata": {
  "kernelspec": {
   "display_name": "Python 3 (ipykernel)",
   "language": "python",
   "name": "python3"
  },
  "language_info": {
   "codemirror_mode": {
    "name": "ipython",
    "version": 3
   },
   "file_extension": ".py",
   "mimetype": "text/x-python",
   "name": "python",
   "nbconvert_exporter": "python",
   "pygments_lexer": "ipython3",
   "version": "3.11.2"
  },
  "toc-autonumbering": true,
  "toc-showcode": true,
  "toc-showmarkdowntxt": true
 },
 "nbformat": 4,
 "nbformat_minor": 5
}
