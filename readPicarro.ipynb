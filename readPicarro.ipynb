{
 "cells": [
  {
   "cell_type": "code",
   "execution_count": null,
   "id": "75c08395-1c0a-42df-b16d-438da82ffaf2",
   "metadata": {
    "tags": []
   },
   "outputs": [],
   "source": [
    "import pandas as pd\n",
    "import numpy as np\n",
    "import matplotlib.pyplot as plt\n",
    "\n",
    "import glob\n",
    "import scheme_mar2023 as scheme\n",
    "import mytools"
   ]
  },
  {
   "cell_type": "code",
   "execution_count": null,
   "id": "2c51d759-c395-43e7-ada2-c9d7915b7a30",
   "metadata": {
    "tags": []
   },
   "outputs": [],
   "source": [
    "#picarro_data_path = r'g:\\1_Data1\\93_BaikalJun2023Sea\\scouter\\2023'\n",
    "picarro_data_path = r'G:\\1_Data1\\97_BaikalJun2024Sea\\origin\\2024'\n",
    "#picarro_data_path = r'G:\\1_Data1\\98_BaikalJul2024Sea\\origin'\n",
    "#picarro_data_path = r'G:\\1_Data1\\!AMK96\\picarro'\n",
    "files = glob.glob(picarro_data_path+r'\\*\\*\\*.dat')\n",
    "len(files)"
   ]
  },
  {
   "cell_type": "code",
   "execution_count": null,
   "id": "453eb3de-b6d3-4da6-9e64-93b40eb6de76",
   "metadata": {
    "tags": []
   },
   "outputs": [],
   "source": [
    "df = pd.DataFrame()\n",
    "for file in files:\n",
    "    dft = pd.read_csv(file,\n",
    "                      sep='\\s+',\n",
    "                      usecols=lambda x: x.lower() in ['date', 'time', 'ch4_dry', 'co2_dry'],\n",
    "                      parse_dates=[['DATE', 'TIME']],\n",
    "                      # nrows=1000,\n",
    "                      )\n",
    "    df = pd.concat([df, dft], ignore_index=True)\n",
    "    print(file)\n",
    "    "
   ]
  },
  {
   "cell_type": "code",
   "execution_count": null,
   "id": "328e9014-29a8-4d0b-9e25-3506fdfadd9e",
   "metadata": {
    "tags": []
   },
   "outputs": [],
   "source": [
    "# df.reset_index(drop=True)\n",
    "df.sort_values(by='DATE_TIME', ascending=True, axis='index', inplace=True)\n",
    "df.info()"
   ]
  },
  {
   "cell_type": "code",
   "execution_count": null,
   "id": "31251dc1-1167-4cab-9f57-e20fb32c671b",
   "metadata": {
    "tags": []
   },
   "outputs": [],
   "source": [
    "df = df.resample('10S', on='DATE_TIME',).mean()\n",
    "df"
   ]
  },
  {
   "cell_type": "code",
   "execution_count": null,
   "id": "4771a7f8-fe12-451e-b2da-d3cdf574c91d",
   "metadata": {
    "tags": []
   },
   "outputs": [],
   "source": [
    "df['DATE_TIME_sec'] = df.index.astype('int64')/10**9\n",
    "df['DATE_TIME_sec'] = df['DATE_TIME_sec'].astype('int')\n",
    "df['DATE_TIME_sec'] = df['DATE_TIME_sec'] + 8*60*60 + 2*60 + 50\n",
    "df['DateTime'] = pd.to_datetime(df['DATE_TIME_sec'], unit='s')\n",
    "df"
   ]
  },
  {
   "cell_type": "code",
   "execution_count": null,
   "id": "ea51d1b6-172a-47da-827e-9b45c4dd5dd1",
   "metadata": {
    "tags": []
   },
   "outputs": [],
   "source": [
    "fig, ax = plt.subplots()\n",
    "ax.scatter(x='DateTime', y='CH4_dry', data=df)\n",
    "ax.legend()"
   ]
  },
  {
   "cell_type": "code",
   "execution_count": null,
   "id": "e658bbe6-b870-4142-90fa-82f87ef33d71",
   "metadata": {
    "tags": []
   },
   "outputs": [],
   "source": [
    "df.rename(columns=scheme.NAME_CONV_BAS, inplace=True)\n",
    "df.sort_values(by='DateTime', inplace=True)\n",
    "df.reset_index(inplace=True, drop=True)\n",
    "df.tail(2)"
   ]
  },
  {
   "cell_type": "code",
   "execution_count": null,
   "id": "4ee09c5f-d39c-4a4d-a7df-a1fa99a34877",
   "metadata": {
    "tags": []
   },
   "outputs": [],
   "source": [
    "df.drop(['DATE_TIME_sec'], axis='columns', inplace=True)\n",
    "df"
   ]
  },
  {
   "cell_type": "code",
   "execution_count": null,
   "id": "12e099cc-06bf-489e-8afb-5ae2d60a7dfc",
   "metadata": {
    "tags": []
   },
   "outputs": [],
   "source": [
    "df['vCO2'] = df['vCO2'] * scheme.CO2PicarroScaut_cor[0] + scheme.CO2PicarroScaut_cor[1]\n",
    "df['vCH4'] = df['vCH4'] * scheme.CH4PicarroScaut_cor[0] + scheme.CH4PicarroScaut_cor[1]\n"
   ]
  },
  {
   "cell_type": "code",
   "execution_count": null,
   "id": "a8fa48c8-3af6-45d8-bef5-ebb39b5dd4ea",
   "metadata": {
    "tags": []
   },
   "outputs": [],
   "source": [
    "df.to_csv(picarro_data_path+r'\\..\\picarroCor.dat', sep='\\t')"
   ]
  },
  {
   "cell_type": "code",
   "execution_count": null,
   "id": "f65bd45d-971e-4d2f-9d24-11c50a7fe9de",
   "metadata": {
    "tags": []
   },
   "outputs": [],
   "source": [
    "df"
   ]
  }
 ],
 "metadata": {
  "kernelspec": {
   "display_name": "Python 3 (ipykernel)",
   "language": "python",
   "name": "python3"
  },
  "language_info": {
   "codemirror_mode": {
    "name": "ipython",
    "version": 3
   },
   "file_extension": ".py",
   "mimetype": "text/x-python",
   "name": "python",
   "nbconvert_exporter": "python",
   "pygments_lexer": "ipython3",
   "version": "3.11.2"
  }
 },
 "nbformat": 4,
 "nbformat_minor": 5
}
