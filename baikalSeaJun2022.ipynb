{
 "cells": [
  {
   "cell_type": "code",
   "execution_count": null,
   "id": "c380e19a-1ffe-47f0-b9fd-bd7e7efd509a",
   "metadata": {
    "tags": []
   },
   "outputs": [],
   "source": [
    "%matplotlib inline\n",
    "\n",
    "import pandas as pd\n",
    "import numpy as np\n",
    "import matplotlib.pyplot as plt\n",
    "import glob"
   ]
  },
  {
   "cell_type": "code",
   "execution_count": null,
   "id": "1cc7abb8-0155-4a6e-9a31-0ffc5e3d2f76",
   "metadata": {
    "tags": []
   },
   "outputs": [],
   "source": [
    "from math import radians, cos, sin, asin, sqrt\n",
    "\n",
    "def dist(a, b):\n",
    "    \"\"\"\n",
    "    Calculate the great circle distance between two points\n",
    "    on the earth (specified in decimal degrees)\n",
    "    \"\"\"\n",
    "    x1, y1, x2, y2 = map(radians, [a[0], a[1], b[0], b[1]])\n",
    "    dx = x2 - x1\n",
    "    dy = y2 - y1\n",
    "    a = sin(dy/2)**2 + cos(y1) * cos(y2) * sin(dx/2)**2\n",
    "    c = 2 * asin(sqrt(a))\n",
    "    # Earth`s radius in kilometers\n",
    "    km = 6372.795 * c\n",
    "    return km\n",
    "def f(a):\n",
    "    return a+2"
   ]
  },
  {
   "cell_type": "code",
   "execution_count": null,
   "id": "a9886562-b98c-4122-9aa6-a44e9705da8d",
   "metadata": {
    "tags": []
   },
   "outputs": [],
   "source": [
    "meteo_path = \"G:/1_Data1/90_BaikalJun2022Sea/Meteo/\"\n",
    "origin_path = \"G:/1_Data1/90_BaikalJun2022Sea/jun2022sea.dat\""
   ]
  },
  {
   "cell_type": "code",
   "execution_count": null,
   "id": "222dd8f3-e31c-4a02-abd3-523652b91f86",
   "metadata": {
    "tags": []
   },
   "outputs": [],
   "source": [
    "origin_df = pd.read_csv(origin_path,\n",
    "                        header=0,\n",
    "                        skiprows=1,\n",
    "                        sep=\"\\t\",\n",
    "                        na_values='--',\n",
    "                        decimal=',',\n",
    "                        parse_dates=['DateTime'],\n",
    "                        dayfirst=True,\n",
    "                        )\n",
    "#origin_df.info()\n",
    "origin_df.sort_values(by='DateTime', inplace=True)"
   ]
  },
  {
   "cell_type": "code",
   "execution_count": null,
   "id": "d227db2e-32db-4f50-9dd9-d8266e57132d",
   "metadata": {
    "tags": []
   },
   "outputs": [],
   "source": [
    "print(origin_df.columns)"
   ]
  },
  {
   "cell_type": "code",
   "execution_count": null,
   "id": "386b7fa8-0ef5-42c1-bc98-b03f588c7ca0",
   "metadata": {
    "tags": []
   },
   "outputs": [],
   "source": [
    "cols = ['Longitude', 'Latitude', 'TempAir', 'PressAir',\n",
    "       'TempEqu1', 'dateSec', 'vCO2Air', 'vCH4Air', 'pCO2Air', 'pCH4Air', 'cCO2Wtr', 'pCO2Wtr', 'cCH4Wtr', 'pCH4Wtr']\n",
    "cols_dict = {}\n",
    "for item in cols:\n",
    "    cols_dict[item] = 'mean'"
   ]
  },
  {
   "cell_type": "code",
   "execution_count": null,
   "id": "6a2b5aaa-ebfc-44f5-96c9-62dae1e9a677",
   "metadata": {
    "tags": []
   },
   "outputs": [],
   "source": [
    "origin_df_minutly = origin_df.resample('1T', on='DateTime').agg(cols_dict).ffill()\n",
    "origin_df_minutly"
   ]
  },
  {
   "cell_type": "code",
   "execution_count": null,
   "id": "c09a2593-5db4-4dab-9261-129a3c5cf766",
   "metadata": {
    "tags": []
   },
   "outputs": [],
   "source": [
    "origin_df['lat_shifted'] = origin_df['Latitude'].shift(1)\n",
    "origin_df['long_shifted'] = origin_df['Longitude'].shift(1)\n",
    "origin_df['distance'] = 0\n",
    "origin_df['vessel_speed'] = 0"
   ]
  },
  {
   "cell_type": "code",
   "execution_count": null,
   "id": "0c09e34f-bc6f-4709-8011-ebdfc4ef4e4e",
   "metadata": {
    "tags": []
   },
   "outputs": [],
   "source": [
    "meteo_files_list = glob.glob(meteo_path+\"*.txt\")\n",
    "dfl = []\n",
    "for f in meteo_files_list:\n",
    "    df = pd.read_csv(f,\n",
    "                     encoding_errors=\"ignore\",\n",
    "                     header=None,\n",
    "                     skiprows=1,\n",
    "                     sep=\" \",\n",
    "                     names=['date', 'time', 't_air', 'w_hor', 'w_dir', 'wx', 'wy', 'wz', 'press', 'rh']\n",
    "                    )\n",
    "    dfl.append(df)\n",
    "\n",
    "meteo_df = pd.concat(dfl)\n",
    "meteo_df['DateTime'] = pd.to_datetime(meteo_df['date']+' '+meteo_df['time'], dayfirst=True, cache=True)\n",
    "meteo_df.sort_values(by='DateTime', inplace=True)\n",
    "meteo_df\n"
   ]
  },
  {
   "cell_type": "code",
   "execution_count": null,
   "id": "32da7a31",
   "metadata": {
    "tags": []
   },
   "outputs": [],
   "source": [
    "print(df.columns)\n",
    "cols = ['t_air', 'w_hor', 'w_dir', 'press', 'rh']\n",
    "cols_dict = {}\n",
    "for item in cols:\n",
    "    cols_dict[item] = 'mean'"
   ]
  },
  {
   "cell_type": "code",
   "execution_count": null,
   "id": "881b4486-e8a0-44ba-92e3-706964f61823",
   "metadata": {
    "tags": []
   },
   "outputs": [],
   "source": [
    "meteo_df_minutly = meteo_df.resample(\"1T\", on=\"DateTime\", ).agg(cols_dict).ffill()\n",
    "meteo_df_minutly"
   ]
  },
  {
   "cell_type": "code",
   "execution_count": null,
   "id": "2b0c6ec4-5688-4d1c-9b99-266c21876822",
   "metadata": {
    "tags": []
   },
   "outputs": [],
   "source": [
    "df = pd.merge(origin_df_minutly, meteo_df_minutly, how='outer', on='DateTime')\n",
    "df.sort_values(by='DateTime', inplace=True)\n",
    "df"
   ]
  },
  {
   "cell_type": "code",
   "execution_count": null,
   "id": "dfec40b2-507b-409b-91aa-198e448867ae",
   "metadata": {
    "tags": []
   },
   "outputs": [],
   "source": [
    "dLong = np.radians(df['Longitude'] - df['Longitude'].shift(1))\n",
    "dLat = np.radians(df['Latitude'] - df['Latitude'].shift(1))\n",
    "a = np.sin(dLat/2)**2 + np.cos(df['Longitude']) * np.cos(df['Longitude'].shift(1)) * np.sin(dLong)**2\n",
    "df['speed'] = (2 * np.arcsin(np.sqrt(a)) * 6372.8) * 60"
   ]
  },
  {
   "cell_type": "code",
   "execution_count": null,
   "id": "780fb6d5-d067-400d-8ac8-95a4c7acc590",
   "metadata": {
    "tags": []
   },
   "outputs": [],
   "source": [
    "fig, ax = plt.subplots()\n",
    "fig.set_size_inches(16,5)\n",
    "ax.set_ylim(0, 80)\n",
    "ax.set_xlim(pd.to_datetime('2022/06/01'),pd.to_datetime('2022/06/15'))\n",
    "ax.grid()\n",
    "ax.plot(df.index, 'speed', 'g-', data=df)"
   ]
  },
  {
   "cell_type": "code",
   "execution_count": null,
   "id": "117d8a04-2492-4776-8f73-b8a0d199ec7e",
   "metadata": {
    "tags": []
   },
   "outputs": [],
   "source": [
    "df.to_csv('G:/1_Data1/90_BaikalJun2022Sea/jun2022sea_pandas.out', sep='\\t')"
   ]
  },
  {
   "cell_type": "code",
   "execution_count": null,
   "id": "a252557f-eb74-4cf1-b00d-d94d0cb5d088",
   "metadata": {},
   "outputs": [],
   "source": [
    "plt.isinteractive()"
   ]
  },
  {
   "cell_type": "code",
   "execution_count": null,
   "id": "341da6d2-038f-478e-9d65-f7ba69e55668",
   "metadata": {},
   "outputs": [],
   "source": []
  }
 ],
 "metadata": {
  "kernelspec": {
   "display_name": "Python 3 (ipykernel)",
   "language": "python",
   "name": "python3"
  },
  "language_info": {
   "codemirror_mode": {
    "name": "ipython",
    "version": 3
   },
   "file_extension": ".py",
   "mimetype": "text/x-python",
   "name": "python",
   "nbconvert_exporter": "python",
   "pygments_lexer": "ipython3",
   "version": "3.11.2"
  },
  "toc-autonumbering": true,
  "toc-showcode": true,
  "toc-showmarkdowntxt": true
 },
 "nbformat": 4,
 "nbformat_minor": 5
}
