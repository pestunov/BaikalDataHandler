{
 "cells": [
  {
   "cell_type": "code",
   "execution_count": null,
   "id": "88a84ba4-0bec-44bb-9475-8b9bc3206461",
   "metadata": {
    "tags": []
   },
   "outputs": [],
   "source": [
    "import pandas as pd\n",
    "import numpy as np\n",
    "import matplotlib.pyplot as plt\n",
    "\n",
    "import baikalfunctions as bfunc\n",
    "import scheme_mar2023 as scheme\n",
    "import mysecure"
   ]
  },
  {
   "cell_type": "code",
   "execution_count": null,
   "id": "ad41cd73-1286-4453-bc5a-22be3e354d60",
   "metadata": {
    "tags": []
   },
   "outputs": [],
   "source": [
    "pd.options.display.max_columns = 100\n",
    "pd.options.display.max_rows = 100\n",
    "pd.__version__"
   ]
  },
  {
   "cell_type": "code",
   "execution_count": null,
   "id": "bbcb1581-1408-4c7c-982e-a0245a7e37e5",
   "metadata": {
    "tags": []
   },
   "outputs": [],
   "source": [
    "# pd.set_option('display.min_rows', 100)\n",
    "%matplotlib inline\n",
    "plt.style.use('dark_background')   # try another styles: 'classic'\n",
    "plt.rcParams['figure.figsize'] = [15, 5]\n",
    "#plt.subplots_adjust(top=1, left=0, right=1, bottom=0)"
   ]
  },
  {
   "cell_type": "code",
   "execution_count": null,
   "id": "5d425f27-5073-41ec-83a7-5de782187e10",
   "metadata": {
    "tags": []
   },
   "outputs": [],
   "source": [
    "pwd = 'G:\\\\1_Data1\\\\98_BaikalJul2024Sea\\\\'\n",
    "saveImgPath = pwd\n",
    "saveDataPath = pwd"
   ]
  },
  {
   "cell_type": "raw",
   "id": "a111a345-d5d6-4bd7-9ae2-4ae76b46a39f",
   "metadata": {
    "tags": []
   },
   "source": [
    "names=['Date', 'Time', 'DateUTC', 'TimeUTC', 'latitude', 'longitude', 'speed', 'course', 'solar_altitude', 'solar-azimuth',\n",
    "       'temperature_air', 'pressure_air', 'relative-humidity_air', 'precipitation', 'solar_eye', 'solar_uv',\n",
    "       'co2_picarro', 'co2_picarro_max', 'co2_picarro_min', 'ch4_picarro', 'ch4_picarro_max', 'ch4_picarro_min', 'h2o_picarro', 'co2_licor', 'h2o_licor', 'o2_water', 'o2_water_temperature',\n",
    "       'ph', 'temperature_water', 'temperature_equ_1', 'temperature_equ_2', 'temperature_equ_3', 'temperature_equ_4', 'flow_water', 'flow_air', 'channel', 'flag',\n",
    "       'fluo_nx_red', 'fluo_nx_green', 'fluo_nx_blue', 'fluo_kfa_red', 'fluo_kfa_green', 'fluo_kfa_blue', # 'comment',\n",
    "       'water_flow_1', 'water_flow_2', 'water_flow_3', 'water_flow_4',\n",
    "       'temperature_ds_1', 'temperature_ds_2', 'temperature_ds_3', 'temperature_ds_4', 'temperature_ds_5', 'temperature_ds_6', 'temperature_ds_7'\n",
    "      ]"
   ]
  },
  {
   "cell_type": "raw",
   "id": "67f39f46-f743-45ab-9f89-7b92abae08d3",
   "metadata": {
    "tags": []
   },
   "source": [
    "df = pd.read_csv(pwd+'origin\\\\data.txt',\n",
    "                 sep='\\s+',\n",
    "                 header=None,\n",
    "                 names=names,\n",
    "                 index_col=False,\n",
    "                 parse_dates={'DateTime':['Date', 'Time']},\n",
    "                 dayfirst=True,\n",
    "                 na_values='-999999',\n",
    "                 decimal=',',\n",
    "                )\n",
    "df.info()"
   ]
  },
  {
   "cell_type": "raw",
   "id": "9ebbc017-e527-4ac1-80f9-06dee23a8c41",
   "metadata": {
    "tags": []
   },
   "source": [
    "picarro = pd.read_csv(pwd+'picarroCor.dat', sep='\\t', parse_dates=['DateTime'], dayfirst=False)\n",
    "picarro['DateTime'] = picarro['DateTime']+pd.Timedelta('05:03:10')\n",
    "picarro.info()head"
   ]
  },
  {
   "cell_type": "raw",
   "id": "0971c3db-aba5-445b-84f4-616a96d0fc24",
   "metadata": {
    "tags": []
   },
   "source": [
    "plt.rcParams['figure.figsize'] = (15,5)\n",
    "plt.scatter('DateTime', 'vCH4', data=picarro,s=0.1, c='red', alpha=0.1)\n",
    "plt.scatter('DateTime', 'Channel', data=dfchannel, s=0.1, c='cyan', alpha=0.2)\n",
    "plt.ylim(0, 10)"
   ]
  },
  {
   "cell_type": "raw",
   "id": "7b6b72ff-db7c-4fc1-bc72-5f9670c4ab15",
   "metadata": {
    "tags": []
   },
   "source": [
    "dfgps = pd.read_xml(pwd+r'origin\\July.gpx',\n",
    "                    iterparse={'trkpt': ['time', 'lat', 'lon']},\n",
    "                    parse_dates={'DateTime':['time']},                    \n",
    "                   )\n",
    "dfgps['DateTime'] = dfgps['DateTime'].dt.tz_convert(8*3600).dt.tz_localize(None)\n",
    "dfgps.info()"
   ]
  },
  {
   "cell_type": "raw",
   "id": "655cfad2-89d8-4a5b-b63e-de21246a3c09",
   "metadata": {
    "tags": []
   },
   "source": [
    "meteo = pd.read_csv(pwd+'meteo.txt',\n",
    "                   sep='\\t',\n",
    "                   parse_dates=['DateTime'],\n",
    "                   dayfirst=False)\n",
    "meteo.info()"
   ]
  },
  {
   "cell_type": "raw",
   "id": "048898cb-90f7-48e5-b582-3035480d087e",
   "metadata": {
    "tags": []
   },
   "source": [
    "df['prs']=df['pressure_air']/133.32\n",
    "plt.scatter('DateTime', 'prs', data=df)\n",
    "plt.scatter('DateTime', 'Press', data=meteo, s=1)"
   ]
  },
  {
   "cell_type": "raw",
   "id": "a7d8805c-e2cc-4dca-96bd-d098151bb83b",
   "metadata": {
    "tags": []
   },
   "source": [
    "plt.plot('DateTime', 'co2_picarro', 'g', data=df)\n",
    "plt.plot('DateTime', 'vCO2', 'r', data=picarro, )\n",
    "plt.xlim(pd.to_datetime('24/07/2024 05:58:00', dayfirst=True),pd.to_datetime('24/07/2024 06:02:00', dayfirst=True))\n",
    "plt.ylim(100, 600)\n",
    "plt.grid(True)"
   ]
  },
  {
   "cell_type": "raw",
   "id": "85205afb-80b3-44d8-bc94-929f58747b70",
   "metadata": {
    "tags": []
   },
   "source": [
    "plt.plot('DateTime', 'lon', 'r+', data=dfgps, )\n",
    "plt.plot('DateTime', 'longitude', 'g+', data=df)\n",
    "plt.xlim(pd.to_datetime('24/07/2024 00:58:00', dayfirst=True),pd.to_datetime('29/07/2024 06:02:00', dayfirst=True))\n",
    "plt.ylim(103.5, 107.5)\n",
    "plt.grid(True)"
   ]
  },
  {
   "cell_type": "raw",
   "id": "5b96c05c-1c0e-477f-970c-e216748763f2",
   "metadata": {
    "tags": []
   },
   "source": [
    "meteo['mywindspeed'] = np.sqrt(np.power(meteo['vx'],2)+np.power(meteo['vy'],2))\n",
    "plt.rcParams['figure.figsize'] = (7,7)\n",
    "plt.plot([0,10], [0,10], markersize=0.1, alpha=0.5)\n",
    "plt.rcParams['figure.figsize'] = [10, 10]\n",
    "plt.scatter('mywindspeed', 'Wh', data=meteo, s=1, c='red', alpha=0.1)"
   ]
  },
  {
   "cell_type": "raw",
   "id": "6f734f78-0132-4154-aa46-91f0aa17ae77",
   "metadata": {
    "tags": []
   },
   "source": [
    "plt.rcParams['figure.figsize'] = (7,7)\n",
    "meteo['mywinddir'] = 180-np.arctan2(meteo['vy'], meteo['vx'])/np.pi/2*360\n",
    "plt.scatter('mywinddir', 'Wdir', data=meteo, s=1, c='red', alpha=0.4)"
   ]
  },
  {
   "cell_type": "code",
   "execution_count": null,
   "id": "795779e2-c00a-4d88-aa5e-5bbedffb1f29",
   "metadata": {
    "tags": []
   },
   "outputs": [],
   "source": [
    "obris = pd.read_csv(\"G:/1_Data1/obris/obris.dat\",\n",
    "                    header=0,\n",
    "                    na_values='--',\n",
    "                    sep='\\t',\n",
    "                    decimal=',',\n",
    "                    )\n",
    "obris.head(3)"
   ]
  },
  {
   "cell_type": "raw",
   "id": "f198ddca-dbb8-4e05-b06d-978192c91b78",
   "metadata": {
    "tags": []
   },
   "source": [
    "plt.rcParams['figure.figsize'] = [10, 10]\n",
    "plt.plot('long', 'lat', data=obris)\n",
    "plt.scatter('lon', 'lat', c='red', data=dfgps, s=1)\n",
    "plt.scatter('longitude', 'latitude', c='green', data=df, s=1, alpha=0.1)\n",
    "plt.savefig(pwd+'/track.png')"
   ]
  },
  {
   "cell_type": "markdown",
   "id": "f273b05c-f98d-4d33-8124-6824f71cd866",
   "metadata": {},
   "source": [
    "### Concat all dataframes"
   ]
  },
  {
   "cell_type": "raw",
   "id": "3cf4a1c1-2bd1-4ea0-b5e7-eb77799afdfa",
   "metadata": {
    "tags": []
   },
   "source": [
    "df = pd.concat([df, picarro, dfgps, meteo], ignore_index=True)"
   ]
  },
  {
   "cell_type": "markdown",
   "id": "1c429979-b67e-4c55-a7d7-aeb7b6e4fbe0",
   "metadata": {},
   "source": [
    "### refactor table. remove unused columns, rename columns"
   ]
  },
  {
   "cell_type": "code",
   "execution_count": null,
   "id": "dcca59b9-af60-4ee6-8a33-12a66cfbbc51",
   "metadata": {
    "tags": []
   },
   "outputs": [],
   "source": [
    "df = pd.read_csv(pwd+'BaikalJul24Sea.dat',\n",
    "                 sep='\\t',\n",
    "                 skiprows=[1],\n",
    "                 parse_dates=['DateTime'],\n",
    "                 dayfirst=True,\n",
    "                 na_values='--',\n",
    "                 decimal=',',\n",
    "                )"
   ]
  },
  {
   "cell_type": "code",
   "execution_count": null,
   "id": "9b0d068c-10a8-46b5-8776-a903311a70f3",
   "metadata": {
    "tags": []
   },
   "outputs": [],
   "source": [
    "df.describe()"
   ]
  },
  {
   "cell_type": "code",
   "execution_count": null,
   "id": "7465bd41-2915-42e3-ad5b-283290bc2adf",
   "metadata": {
    "tags": []
   },
   "outputs": [],
   "source": [
    "plt.rcParams['figure.figsize'] = [5, 5]\n",
    "plt.scatter('long', 'lat', data=obris, s=1)\n",
    "plt.scatter('Longitude', 'Latitude', data=df, s=0.2)"
   ]
  },
  {
   "cell_type": "raw",
   "id": "50684eb5-4648-4bdc-8ef2-5957e7820892",
   "metadata": {
    "tags": []
   },
   "source": [
    "colstoneed=['DateTime', 'precipitation', 'solar_eye', 'solar_uv',\n",
    "            'temperature_equ_1', 'temperature_equ_2', 'flow_air',\n",
    "            'channel', 'flag', 'fluo_nx_red', 'fluo_nx_green', 'fluo_nx_blue',\n",
    "            'fluo_kfa_red', 'fluo_kfa_green', 'fluo_kfa_blue',\n",
    "            'water_flow_1', 'water_flow_2',\n",
    "            'vCH4', 'vCO2', 'lat', 'lon', 'Temp', 'Wh', 'Wdir', 'vx', 'vy', 'vz', 'Press', 'RH']\n",
    "colstoremove=[x for x in df.columns if x not in colstoneed]\n",
    "colstoremove"
   ]
  },
  {
   "cell_type": "raw",
   "id": "71be8785-b631-4115-b613-202077c748ac",
   "metadata": {
    "tags": []
   },
   "source": [
    "df.drop(colstoremove, axis='columns', inplace=True, errors='ignore')"
   ]
  },
  {
   "cell_type": "raw",
   "id": "cb0331eb-debe-4c6f-aa67-157abc8c7aed",
   "metadata": {
    "tags": []
   },
   "source": [
    "df.rename(columns=scheme.NAME_CONV_BAS, inplace=True)\n",
    "df.sort_values(by='DateTime', inplace=True)\n",
    "df.reset_index(inplace=True, drop=True)\n",
    "df.describe()"
   ]
  },
  {
   "cell_type": "code",
   "execution_count": null,
   "id": "586a1fc5-918c-4a33-aaa9-5d65f0887e9d",
   "metadata": {
    "tags": []
   },
   "outputs": [],
   "source": [
    "df.shape, df.columns"
   ]
  },
  {
   "cell_type": "code",
   "execution_count": null,
   "id": "47df79f6-6a82-4949-a3ff-38b73fe38f5d",
   "metadata": {
    "tags": []
   },
   "outputs": [],
   "source": [
    "plt.rcParams['figure.figsize'] = [15, 15]\n",
    "fig, axs = plt.subplots(7, 1)\n",
    "\n",
    "axs[0].set_title('vCO2, ppm')\n",
    "axs[0].plot(df.DateTime, df['vCO2'], '-', c='silver')\n",
    "\n",
    "axs[1].set_title('vCH4, ppm')\n",
    "axs[1].plot(df.DateTime, df['vCH4'], '-', c='silver')\n",
    "axs[1].set_ylim(1.5, 2.5)\n",
    "\n",
    "axs[2].set_title('Temp')\n",
    "axs[2].scatter(df.DateTime, df['TempEqu1'],s=1)\n",
    "axs[2].scatter(df.DateTime, df['TempEqu2'],s=1)\n",
    "axs[2].scatter(df.DateTime, df['TempAir'],s=2,c='red')\n",
    "#axs[2].set_ylim(-2, 10)\n",
    "\n",
    "axs[3].set_title('WaterFlow')\n",
    "axs[3].scatter(df.DateTime, df['WaterFlowEqu1'], s=1)\n",
    "axs[3].scatter(df.DateTime, df['WaterFlowEqu2'], s=1)\n",
    "\n",
    "axs[4].set_title('PressAir')\n",
    "axs[4].scatter(df.DateTime, df['PressAir'], s=1, c='red')\n",
    "axs[5].set_title('Solar')\n",
    "axs[5].scatter(df.DateTime, df['LightLX'])\n",
    "axs[6].set_title('SolarUV')\n",
    "axs[6].scatter(df.DateTime, df['LightUV'])\n",
    "\n"
   ]
  },
  {
   "cell_type": "markdown",
   "id": "7a0c768d-907f-4b0d-9825-959a4b4f7178",
   "metadata": {},
   "source": [
    "### Correction data  \n",
    " ** Be carefull !!!  Make it ONCE !!! **\n"
   ]
  },
  {
   "cell_type": "code",
   "execution_count": null,
   "id": "0cd0aff6-6a6d-42dd-9409-941664733528",
   "metadata": {
    "tags": []
   },
   "outputs": [],
   "source": [
    "# gether/apply specific variables\n",
    "### data corrections\n",
    "#df['vCO2'] = df['vCO2'] * scheme.CO2PicarroScaut_cor[0] + scheme.CO2PicarroScaut_cor[1]\n",
    "#df['vCH4'] = df['vCH4'] * scheme.CH4PicarroScaut_cor[0] + scheme.CH4PicarroScaut_cor[1]\n",
    "# df['vCO2'] = df['CO2_dry']\n",
    "# df['vCH4'] = df['CH4_dry']\n",
    "df['LightLX'] = df['LightLX'] * scheme.solar_cor[0] + scheme.solar_cor[1]\n",
    "df['LightUV'] = df['LightUV'] * scheme.solar_uv_cor[0] + scheme.solar_uv_cor[1]\n",
    "df['PressAir'] = bfunc.pressConvert(df['PressAir'])\n",
    "df['PressAir'] = df['PressAir'] * scheme.press_cor[0] + scheme.press_cor[1]\n",
    "\n",
    "### servise data corrections\n",
    "df['TempEqu1'] = df['TempEqu1'] * scheme.tempEqu1_cor[0] + scheme.tempEqu1_cor[1]\n",
    "df['TempEqu2'] = df['TempEqu2'] * scheme.tempEqu2_cor[0] + scheme.tempEqu2_cor[1]\n",
    "\n",
    "df['AirFlow'] = df['AirFlow'] * scheme.airflow_cor[0] + scheme.airflow_cor[1]\n",
    "df['WaterFlowEqu1'] = df['WaterFlowEqu1'] * scheme.waterflowEqu1_cor[0] + scheme.waterflowEqu1_cor[1]\n",
    "df['WaterFlowEqu2'] = df['WaterFlowEqu2'] * scheme.waterflowEqu2_cor[0] + scheme.waterflowEqu2_cor[1]\n"
   ]
  },
  {
   "cell_type": "markdown",
   "id": "a3b6553d-e127-4b51-a5cd-06731ca8e85a",
   "metadata": {
    "tags": []
   },
   "source": [
    "###  Remove bad data   \n",
    "List of accidental cases to filter data (see notes)"
   ]
  },
  {
   "cell_type": "code",
   "execution_count": null,
   "id": "f0346dee-1a15-4474-ab4e-91ae5d62e562",
   "metadata": {
    "tags": []
   },
   "outputs": [],
   "source": [
    "filter_list = [{'date_start': '19.02.2022 13:00', 'date_stop': '19.02.2022 13:32', 'cols': ['vCO2', 'vCH4'], 'fill_with': np.nan},   # Picarro is not ready\n",
    "               {'date_start': '20.02.2022 17:53', 'date_stop': '20.02.2022 17:55', 'cols': ['vCO2', 'vCH4'], 'fill_with': np.nan},   # Picarro mulfunction\n",
    "               {'date_start': '21.02.2022 07:14', 'date_stop': '21.02.2022 11:52', 'cols': ['vCO2', 'vCH4'], 'fill_with': np.nan},   # Picarro mulfunction\n",
    "               {'date_start': '20.02.2022 18:14', 'date_stop': '21.02.2022 02:30', 'cols': ['vCH4'], 'fill_with': np.nan},   # Picarro mulfunction\n",
    "              ]\n",
    "\n",
    "for cycle in filter_list:\n",
    "    for col in cycle['cols']:\n",
    "        date_start = pd.to_datetime(cycle['date_start'], dayfirst=True)\n",
    "        date_stop = pd.to_datetime(cycle['date_stop'], dayfirst=True)\n",
    "        df.loc[(df['DateTime'] > date_start) & (df['DateTime'] < date_stop), col] = cycle['fill_with']"
   ]
  },
  {
   "cell_type": "code",
   "execution_count": null,
   "id": "31a119a7-52d0-4eff-b607-a99b0b049f8c",
   "metadata": {
    "tags": []
   },
   "outputs": [],
   "source": [
    "cols = ['FluoNxRed', 'FluoNxGrn', 'FluoNxBlu', 'FluoKfaRed', 'FluoKfaGrn', 'FluoKfaBlu']\n",
    "for col in cols:\n",
    "    df.loc[df[col] == 0, col] = np.nan\n",
    "cols = ['WaterFlowEqu1', 'WaterFlowEqu2', 'AirFlow']\n",
    "for col in cols:\n",
    "    df.loc[df[col] < 0, col] = np.nan"
   ]
  },
  {
   "cell_type": "markdown",
   "id": "04e9421e-5323-42c5-9dee-0feb6322f675",
   "metadata": {},
   "source": [
    "### prepare data"
   ]
  },
  {
   "cell_type": "code",
   "execution_count": null,
   "id": "c10b148d-7641-4792-b654-169ae3565aea",
   "metadata": {
    "tags": []
   },
   "outputs": [],
   "source": [
    "chnl = 'Channel'\n",
    "if not chnl in df.columns:\n",
    "    df[chnl] = 0\n",
    "    for k, val in scheme.CHANNEL_COLS.items():\n",
    "        df.loc[df[val] == 1, chnl] = k"
   ]
  },
  {
   "cell_type": "code",
   "execution_count": null,
   "id": "93d316e5-980e-41fe-9fe0-eac2d2c652c6",
   "metadata": {
    "tags": []
   },
   "outputs": [],
   "source": [
    "v_state_list = list(scheme.CHANNEL_COLS.values())\n",
    "df.drop(v_state_list, inplace=True, errors='ignore')"
   ]
  },
  {
   "cell_type": "markdown",
   "id": "53c5fa6a-b7d8-40a4-b075-4772caab8669",
   "metadata": {},
   "source": [
    "#### split data on channel events\n",
    "separate `CH4air` from whole massive. take minimum from each cycle"
   ]
  },
  {
   "cell_type": "code",
   "execution_count": null,
   "id": "1c90108e-5f29-41c3-876f-fb12e88631c8",
   "metadata": {
    "tags": []
   },
   "outputs": [],
   "source": [
    "df['event'] = 0\n",
    "df.loc[df[chnl] != df[chnl].shift(1), ['event']] = 1\n",
    "df['event'] = df['event'].cumsum()\n",
    "df"
   ]
  },
  {
   "cell_type": "code",
   "execution_count": null,
   "id": "77f7e374-8bda-409d-84b7-c81beb6542f1",
   "metadata": {
    "tags": []
   },
   "outputs": [],
   "source": [
    "dfr = df.groupby(by=['event']).min()\n",
    "dfr = dfr.loc[dfr[chnl] == 6,['DateTime', 'vCH4']]\n",
    "dfr.rename({'vCH4': 'vCH4air'}, axis='columns', errors='ignore', inplace=True)\n",
    "dfr"
   ]
  },
  {
   "cell_type": "code",
   "execution_count": null,
   "id": "21a20e57-8120-4c35-96db-38a99a5843a8",
   "metadata": {},
   "outputs": [],
   "source": [
    "df.drop('vCH4air', axis='columns', inplace=True, errors='ignore' )\n",
    "df = pd.merge(left=df, right=dfr, left_on='DateTime', right_on='DateTime', how='left', suffixes=(None, 'air1'))\n",
    "df.describe()"
   ]
  },
  {
   "cell_type": "code",
   "execution_count": null,
   "id": "4b656f81-b86e-44d0-8260-e6c2e3d06dce",
   "metadata": {
    "tags": []
   },
   "outputs": [],
   "source": [
    "ch_v = 'valid'\n",
    "df[ch_v] = 1\n",
    "df.loc[(df['event'] != df['event'].shift(-2)), ['valid']] = 0\n",
    "df.loc[(df['event'] != df['event'].shift(8)), ['valid']] = 0"
   ]
  },
  {
   "cell_type": "code",
   "execution_count": null,
   "id": "68dc7e51-d929-4751-ba0a-5ea1e4c147a9",
   "metadata": {
    "tags": []
   },
   "outputs": [],
   "source": [
    "df['vCO2air'] = df['vCO2'][(df[chnl] == 6) & (df[ch_v] == 1)]\n",
    "#df['vCH4air'] = df['vCH4'][(df[chnl] == 6) & (df[ch_v] == 1)]\n",
    "#df['vCH4air'] = df['vCH4air']  ## take minimal for each cycle"
   ]
  },
  {
   "cell_type": "code",
   "execution_count": null,
   "id": "51937ac9-4e91-41ab-ac13-6db3a4d63e1f",
   "metadata": {
    "tags": []
   },
   "outputs": [],
   "source": [
    "df.index = df['DateTime']\n",
    "df['vCO2air'] = df['vCO2air'].interpolate(method='time')\n",
    "df['vCH4air'] = df['vCH4air'].interpolate(method='time')  ## `time` method mb better"
   ]
  },
  {
   "cell_type": "code",
   "execution_count": null,
   "id": "3c1b46a5-ec7b-4112-bc13-1b0f15f66dc8",
   "metadata": {
    "tags": []
   },
   "outputs": [],
   "source": [
    "for col in ['vCO2air', 'vCH4air']:\n",
    "    df[col] = df[col].rolling('10min').mean()"
   ]
  },
  {
   "cell_type": "code",
   "execution_count": null,
   "id": "f071f570-4517-480d-ac0f-71c73bc30b54",
   "metadata": {
    "tags": []
   },
   "outputs": [],
   "source": [
    "df.reset_index(drop=True, inplace=True)\n",
    "df"
   ]
  },
  {
   "cell_type": "code",
   "execution_count": null,
   "id": "7cad8150-f379-4b39-97ec-866ed71c4796",
   "metadata": {},
   "outputs": [],
   "source": [
    "plt.rcParams['figure.figsize'] = (15,5)\n",
    "plt.scatter('DateTime', 'vCO2air', data=df,s=1, c='red', alpha=1)\n",
    "plt.scatter('DateTime', 'vCO2', data=df, s=0.1, c='cyan', alpha=0.2)\n",
    "#plt.ylim(1.8, 5)\n",
    "#plt.xlim(pd.to_datetime('2024-07-27 00:00'), pd.to_datetime('2024-07-27 12:00'))\n"
   ]
  },
  {
   "cell_type": "code",
   "execution_count": null,
   "id": "0e4aa583-718d-4aee-9d13-064eed068800",
   "metadata": {},
   "outputs": [],
   "source": [
    "plt.rcParams['figure.figsize'] = (15,5)\n",
    "plt.scatter('DateTime', 'vCH4air', data=df,s=1, c='red', alpha=1)\n",
    "plt.scatter('DateTime', 'vCH4', data=df, s=0.1, c='cyan', alpha=0.2)\n",
    "plt.scatter('DateTime', 'vCH4air_med', data=df, s=0.1, c='green', alpha=0.2)\n",
    "plt.ylim(1.8, 3)\n",
    "plt.xlim(pd.to_datetime('2024-07-27 18:00'), pd.to_datetime('2024-07-28 10:00'))"
   ]
  },
  {
   "cell_type": "code",
   "execution_count": null,
   "id": "873789ab-8ade-48e6-98d6-6354427f3a27",
   "metadata": {},
   "outputs": [],
   "source": [
    "df['vCH4air_med'] = df['vCH4air'].median()"
   ]
  },
  {
   "cell_type": "code",
   "execution_count": null,
   "id": "d410e4fa-867d-4520-9fe3-60a8640c9d74",
   "metadata": {
    "tags": []
   },
   "outputs": [],
   "source": [
    "df['pCO2air'] = df['vCO2air'] * df['PressAir']  # mkatm\n",
    "df['pCH4air'] = df['vCH4air'] * df['PressAir']  # mkatm"
   ]
  },
  {
   "cell_type": "code",
   "execution_count": null,
   "id": "1cdde8fa-51ef-4f6a-a6dd-ba41608894bd",
   "metadata": {
    "tags": []
   },
   "outputs": [],
   "source": [
    "n = df['vCH4air'].describe()['25%']\n",
    "n"
   ]
  },
  {
   "cell_type": "code",
   "execution_count": null,
   "id": "e6710870-eec6-4bf0-9114-16a2c07693cc",
   "metadata": {
    "tags": []
   },
   "outputs": [],
   "source": [
    "df.sample(20)"
   ]
  },
  {
   "cell_type": "code",
   "execution_count": null,
   "id": "e4099359-fd3b-4904-a4dc-02d1369a5434",
   "metadata": {
    "tags": []
   },
   "outputs": [],
   "source": [
    "df"
   ]
  },
  {
   "cell_type": "code",
   "execution_count": null,
   "id": "f5d0795f-3fa8-4191-8881-3311a3cc895e",
   "metadata": {
    "tags": []
   },
   "outputs": [],
   "source": [
    "df = df.resample('20s', on='DateTime').mean()"
   ]
  },
  {
   "cell_type": "code",
   "execution_count": null,
   "id": "a508e3ff-1e35-4010-ba45-6164b56d6b2a",
   "metadata": {
    "tags": []
   },
   "outputs": [],
   "source": [
    "df.interpolate('time', inplace=True,)\n",
    "df"
   ]
  },
  {
   "cell_type": "code",
   "execution_count": null,
   "id": "d58e2326-75b4-4203-814c-8d5d6a7e53e8",
   "metadata": {
    "tags": []
   },
   "outputs": [],
   "source": [
    "df.reset_index(drop=False, inplace=True)"
   ]
  },
  {
   "cell_type": "code",
   "execution_count": null,
   "id": "a003322e-b7bd-4326-b6d7-f2b6bf38b1f3",
   "metadata": {
    "tags": []
   },
   "outputs": [],
   "source": [
    "plt.rcParams['figure.figsize'] = [15, 5]\n",
    "fig, axs = plt.subplots(2, 1)\n",
    "\n",
    "axs[0].set_title('CO2 air, ppm')\n",
    "axs[0].set_ylim(400, 500)\n",
    "axs[0].plot(df.DateTime, df['vCO2'], '-', c='silver', alpha=0.2)\n",
    "axs[0].plot(df.DateTime, df['vCO2air'], 'r-', alpha=0.5)\n",
    "\n",
    "axs[1].set_title('CH4 air, ppm')\n",
    "axs[1].set_ylim(1.5, 3)\n",
    "# axs[1].set_xlim(pd.to_datetime('2022-02-25 12:00'), pd.to_datetime('2022-02-25 14:00'))\n",
    "axs[1].plot(df.DateTime, df['vCH4'], '-', c='silver')\n",
    "axs[1].plot(df.DateTime, df['vCH4air'], 'b-')\n",
    "fig.savefig(saveImgPath+'cAir_vs_time.png', transparent=False)"
   ]
  },
  {
   "cell_type": "code",
   "execution_count": null,
   "id": "29a5adc0-372d-4142-bd92-cea9e7130ac0",
   "metadata": {
    "tags": []
   },
   "outputs": [],
   "source": [
    "df.columns"
   ]
  },
  {
   "cell_type": "markdown",
   "id": "285e7fbc-779e-4a84-a277-667c705003a2",
   "metadata": {
    "tags": []
   },
   "source": [
    "## RECOVERY !!!"
   ]
  },
  {
   "cell_type": "code",
   "execution_count": null,
   "id": "c14bac6e-de93-4c91-add5-10a681806389",
   "metadata": {
    "tags": []
   },
   "outputs": [],
   "source": [
    "df['DateSec'] = df['DateTime'].astype('int64')//10**9\n",
    "df['dTSec'] = df['DateSec'] - df['DateSec'].shift(1)\n",
    "dt = df['dTSec'] / 60   ## delta time, min\n",
    "ch_v = 'valid'\n",
    "df[ch_v] = 1\n",
    "for deep in range(1, 7):\n",
    "    df.loc[df[chnl] != df[chnl].shift(deep), ch_v] = 0"
   ]
  },
  {
   "cell_type": "markdown",
   "id": "17f12b1e-1498-4845-9569-1024f304b70d",
   "metadata": {
    "tags": []
   },
   "source": [
    "#### recovery `CO2/CH4`, channel `1` (water in Jun 2024)"
   ]
  },
  {
   "cell_type": "code",
   "execution_count": null,
   "id": "16350b90-0a95-4c3b-9743-ba9922c5e41b",
   "metadata": {
    "tags": []
   },
   "outputs": [],
   "source": [
    "equ_vol = scheme.equ_seatube_param['equ_vol']  # equivalent equ volume, l\n",
    "equ_cap = scheme.equ_seatube_param['equ_cap']  # equilibrator capacity\n",
    "wtr_flow_min = scheme.equ_seatube_param['water_flow_min'] "
   ]
  },
  {
   "cell_type": "code",
   "execution_count": null,
   "id": "c039bf18-dc89-4ef9-b4d4-696881137b2f",
   "metadata": {
    "tags": []
   },
   "outputs": [],
   "source": [
    "t_wtr = df['TempEqu1']\n",
    "t_air = t_wtr\n",
    "wtr_flow = df['WaterFlowEqu1']\n",
    "air_flow = df['AirFlow']"
   ]
  },
  {
   "cell_type": "code",
   "execution_count": null,
   "id": "ddc76e3e-35a6-44e9-aa7f-c5741035f318",
   "metadata": {
    "tags": []
   },
   "outputs": [],
   "source": [
    "t_wtr.describe()"
   ]
  },
  {
   "cell_type": "code",
   "execution_count": null,
   "id": "d8f3a70c-aa0e-402e-9244-9d5aa90e6323",
   "metadata": {
    "tags": []
   },
   "outputs": [],
   "source": [
    "### CO2 water\n",
    "df['vCO2equ'] = df['vCO2'][(df[chnl] == 1) & (df[ch_v] == 1) & (wtr_flow > wtr_flow_min)]\n",
    "solubility = bfunc.getSolubility(t_wtr, 'CO2')\n",
    "\n",
    "density = bfunc.getDensity(t_air, df['PressAir'], 'CO2')\n",
    "cGasAir = df['pCO2air'] / 1000000 * density\n",
    "pGasEquAir = df['vCO2equ'] * df['PressAir']\n",
    "cGasEquAir = pGasEquAir * density / 1000000  # g/l\n",
    "\n",
    "tau = equ_vol/(air_flow+wtr_flow*equ_cap*solubility/density)\n",
    "eternal = (cGasEquAir-cGasEquAir.shift(1)*np.exp(-1*dt/tau))/(1-np.exp(-1*dt/tau))\n",
    "cGasWtr = (eternal*(wtr_flow*equ_cap*solubility/density+air_flow)-air_flow*cGasAir)/(wtr_flow*equ_cap)\n",
    "\n",
    "df['cCO2wtr'] = cGasWtr * 1000     # mg/l\n",
    "df['pCO2wtr'] = cGasWtr * 1000000 / solubility  # mkatm"
   ]
  },
  {
   "cell_type": "code",
   "execution_count": null,
   "id": "a9b96faf-3a40-4b78-9db2-f365ac3f8eb8",
   "metadata": {
    "tags": []
   },
   "outputs": [],
   "source": [
    "### CH4 water\n",
    "df['vCH4equ'] = df['vCH4'][(df[chnl] == 1) & (df[ch_v] == 1)]\n",
    "solubility = bfunc.getSolubility(t_wtr, 'CH4')\n",
    "\n",
    "density = bfunc.getDensity(t_air, df['PressAir'], 'CH4')\n",
    "cGasAir = df['pCH4air'] / 1000000 * density\n",
    "pGasEquAir = df['vCH4equ'] * df['PressAir']\n",
    "cGasEquAir = pGasEquAir * density / 1000000  # g/l\n",
    "\n",
    "tau = equ_vol/(air_flow+wtr_flow*equ_cap*solubility/density)\n",
    "eternal = (cGasEquAir-cGasEquAir.shift(1)*np.exp(-1*dt/tau))/(1-np.exp(-1*dt/tau))\n",
    "cGasWtr = (eternal*(wtr_flow*equ_cap*solubility/density+air_flow)-air_flow*cGasAir)/(wtr_flow*equ_cap)\n",
    "df['cCH4wtr'] = cGasWtr * 1000000000    # ng/l\n",
    "df['pCH4wtr'] = cGasWtr * 1000000 / solubility  # mkatm"
   ]
  },
  {
   "cell_type": "code",
   "execution_count": null,
   "id": "20191c9c-0ec9-4a3f-acfd-01e71022ceb9",
   "metadata": {
    "tags": []
   },
   "outputs": [],
   "source": [
    "df['pCH4wtr'].describe()"
   ]
  },
  {
   "cell_type": "code",
   "execution_count": null,
   "id": "68bf0fb0-f82f-45d2-a10d-21b7211c2f6c",
   "metadata": {
    "tags": []
   },
   "outputs": [],
   "source": [
    "df['pCO2'] = df['vCO2'] * df['PressAir']"
   ]
  },
  {
   "cell_type": "code",
   "execution_count": null,
   "id": "051b26ed-f717-4895-9f41-6c6064d27f24",
   "metadata": {
    "tags": []
   },
   "outputs": [],
   "source": [
    "dfplot = df.loc[15100:15500,:]\n",
    "plt.rcParams['figure.figsize'] = [18, 5]\n",
    "fig, ax = plt.subplots()\n",
    "ax.set_title('CO2 water, mkatm')\n",
    "#ax.set_xlim(pd.to_datetime('26.07.2024 23:00:00', dayfirst=True), pd.to_datetime('28.07.2024 02:00:00', dayfirst=True))\n",
    "#ax.set_ylim(0, 600)\n",
    "ax.scatter('DateTime', 'pCO2', data=dfplot, c='silver', s=2,  alpha=0.2)\n",
    "ax.scatter('DateTime', 'pCO2wtr', data=dfplot, c='green', s=2)\n",
    "ax.scatter('DateTime', 'pCO2air', data=dfplot, c='cyan', s=2)\n",
    "fig.savefig(saveImgPath+'pCO2wtr_vs_time.png')"
   ]
  },
  {
   "cell_type": "code",
   "execution_count": null,
   "id": "4bb7a764-1832-404e-a7a6-d960b5ceade1",
   "metadata": {},
   "outputs": [],
   "source": [
    "col_name = 'pCO2wtr'\n",
    "df['dif'] = df[col_name] - df[col_name].shift(-1)\n",
    "df.loc[df['dif'] > 50, ['dif', 'pCO2wtr']]\n",
    "#df.loc[320:340, ['dif', 'pCO2wtr']]"
   ]
  },
  {
   "cell_type": "code",
   "execution_count": null,
   "id": "7e76de3b-736f-456e-b19f-18c917a097fc",
   "metadata": {
    "tags": []
   },
   "outputs": [],
   "source": [
    "## rolling average is applied inplace. Be cafelly, run this cell **ONCE**\n",
    "\n",
    "for col in ['cCO2wtr', 'pCO2wtr', 'cCH4wtr', 'pCH4wtr']:\n",
    "    df.loc[df[col] == np.inf , col] = np.nan \n",
    "    df.loc[df[col] == -np.inf , col] = np.nan\n",
    "    df.loc[df[col] <= 0 , col] = np.nan\n",
    "    df[col] = df[col].rolling(3, center=True).mean()"
   ]
  },
  {
   "cell_type": "code",
   "execution_count": null,
   "id": "1059de88-2582-466e-bd76-30d3a52add19",
   "metadata": {
    "tags": []
   },
   "outputs": [],
   "source": [
    "count_recent = 30000\n",
    "df['pCH4'] = df['vCH4'] * df['PressAir']\n",
    "plt.rcParams['figure.figsize'] = [18, 5]\n",
    "fig, ax = plt.subplots()\n",
    "ax.set_title('CH4 water, mkatm')\n",
    "#ax.set_xlim(pd.to_datetime('06.06.2024 10:00:00', dayfirst=True), pd.to_datetime('06.06.2024 19:00:00', dayfirst=True))\n",
    "#ax.set_ylim(0, 20)\n",
    "ax.plot(df.tail(count_recent).DateTime, df.tail(count_recent)['pCH4'], '-', c='silver')\n",
    "ax.plot(df.tail(count_recent).DateTime, df.tail(count_recent)['pCH4wtr'], 'r.')\n",
    "ax.plot(df.tail(count_recent).DateTime, df.tail(count_recent)['pCH4air'], 'c.')\n",
    "fig.savefig(saveImgPath+'pCH4wtr_vs_time.png')"
   ]
  },
  {
   "cell_type": "code",
   "execution_count": null,
   "id": "c8792563-e6e6-4db8-96f3-0f8a7aac1f9b",
   "metadata": {},
   "outputs": [],
   "source": [
    "df.columns"
   ]
  },
  {
   "cell_type": "code",
   "execution_count": null,
   "id": "3f07ee83-abe1-4f4d-95ed-817ff3e3903c",
   "metadata": {},
   "outputs": [],
   "source": [
    "df['hour'] = df['DateTime'].dt.hour # + df['DateTime'].dt.minute / 60\n",
    "df['hour']"
   ]
  },
  {
   "cell_type": "code",
   "execution_count": null,
   "id": "1a7a5dee-e270-4d97-90c1-a7bcbf6110fb",
   "metadata": {
    "tags": []
   },
   "outputs": [],
   "source": [
    "cols = ['DateTime', 'hour', 'DateSec', 'TempAir', 'PressAir', 'Precipitation', 'LightLX', 'LightUV',\n",
    "        'Latitude', 'Longitude',\n",
    "        'vCO2', 'vCH4', 'vH2O', 'AirFlow', 'Channel',\n",
    "        'pCO2', 'pCH4',\n",
    "        #'FluoNxRed', 'FluoNxGrn', 'FluoNxBlu', 'FluoKfaRed', 'FluoKfaGrn', 'FluoKfaBlu',\n",
    "        'WaterFlowEqu1', 'WaterFlowEqu2', 'WaterFlowEqu3', 'WaterFlowEqu4',\n",
    "        'TempEqu1', 'TempEqu2', 'TempEqu3',\n",
    "        # 'cCO2chm', 'cCH4chm', 'CO2flux', 'CH4flux',\n",
    "        'vCO2air', 'vCH4air', 'pCO2air', 'pCH4air',\n",
    "        'cCO2wtr', 'pCO2wtr',\n",
    "        'cCH4wtr', 'pCH4wtr',\n",
    "       ]\n",
    "# df = df.loc[:, cols]"
   ]
  },
  {
   "cell_type": "code",
   "execution_count": null,
   "id": "40de1548-a2bc-4e33-a26c-14118dbae32f",
   "metadata": {
    "tags": []
   },
   "outputs": [],
   "source": [
    "df.to_csv(f'{pwd}BaikalJul24Sea.dat',\n",
    "          # columns=cols,\n",
    "          sep='\\t',\n",
    "         )"
   ]
  },
  {
   "cell_type": "code",
   "execution_count": null,
   "id": "8744c919-85d8-4b7d-b874-30ca04ed15a4",
   "metadata": {},
   "outputs": [],
   "source": [
    "func_list = ['mean', 'std']\n",
    "hourly = df.resample('1H', on='DateTime').agg(func_list)\n",
    "hourly.to_csv(f'{pwd}BaikalJun2024hourly.dat',\n",
    "              # columns=cols,\n",
    "              sep='\\t',\n",
    "             )"
   ]
  },
  {
   "cell_type": "code",
   "execution_count": null,
   "id": "08bb4989-2a23-4a4c-a75b-7261345a08d0",
   "metadata": {
    "tags": []
   },
   "outputs": [],
   "source": [
    "df.info()"
   ]
  },
  {
   "cell_type": "markdown",
   "id": "a82ad5a8-e0ef-4d67-80bd-cfdf3ad37249",
   "metadata": {},
   "source": [
    "## Station Statistics"
   ]
  },
  {
   "cell_type": "code",
   "execution_count": null,
   "id": "495e6e00-caff-4a40-b2a2-38f69a0087b9",
   "metadata": {
    "tags": []
   },
   "outputs": [],
   "source": [
    "import mytools\n",
    "geo = mytools.geo_gen_stations()\n",
    "geo"
   ]
  },
  {
   "cell_type": "code",
   "execution_count": null,
   "id": "19cd323a-c9b6-4326-96f0-aa43fbffb637",
   "metadata": {
    "tags": []
   },
   "outputs": [],
   "source": [
    "df['Station'] = ''"
   ]
  },
  {
   "cell_type": "code",
   "execution_count": null,
   "id": "dd2a5430-bd24-40d3-8166-d60978cbd22d",
   "metadata": {
    "tags": []
   },
   "outputs": [],
   "source": [
    "df['Station'] = ''\n",
    "DLAT = 0.005\n",
    "DLNG = 0.01\n",
    "\n",
    "for k, v in geo.items():\n",
    "    df.loc[(df['Latitude'].between(v[0]-DLAT, v[0]+DLAT) & df['Longitude'].between(v[1]-DLNG, v[1]+DLNG)), 'Station'] = k"
   ]
  },
  {
   "cell_type": "code",
   "execution_count": null,
   "id": "dd12878a-519a-40a7-8cd3-d13e5c716c78",
   "metadata": {
    "tags": []
   },
   "outputs": [],
   "source": [
    "dfg = df.groupby(by='Station')['cCH4wtr', 'cCO2wtr', 'Latitude', 'Longitude'].agg(['count', 'mean', 'median', 'std'])\n",
    "dfg"
   ]
  },
  {
   "cell_type": "code",
   "execution_count": null,
   "id": "b4e7d7d3-37dd-4e61-9d01-e781ee88de80",
   "metadata": {
    "tags": []
   },
   "outputs": [],
   "source": [
    "dfg.to_csv(pwd+'stationsCH4CO2.dat',\n",
    "          sep='\\t',\n",
    "         )"
   ]
  },
  {
   "cell_type": "code",
   "execution_count": null,
   "id": "fc6ddd87-6002-4f15-82c4-d79873952f32",
   "metadata": {},
   "outputs": [],
   "source": []
  }
 ],
 "metadata": {
  "kernelspec": {
   "display_name": "Python 3 (ipykernel)",
   "language": "python",
   "name": "python3"
  },
  "language_info": {
   "codemirror_mode": {
    "name": "ipython",
    "version": 3
   },
   "file_extension": ".py",
   "mimetype": "text/x-python",
   "name": "python",
   "nbconvert_exporter": "python",
   "pygments_lexer": "ipython3",
   "version": "3.11.2"
  },
  "toc-autonumbering": true,
  "toc-showcode": true,
  "toc-showmarkdowntxt": true
 },
 "nbformat": 4,
 "nbformat_minor": 5
}
