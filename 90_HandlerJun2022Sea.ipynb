{
 "cells": [
  {
   "cell_type": "code",
   "execution_count": 1,
   "id": "c380e19a-1ffe-47f0-b9fd-bd7e7efd509a",
   "metadata": {
    "tags": []
   },
   "outputs": [],
   "source": [
    "%matplotlib inline\n",
    "\n",
    "import pandas as pd\n",
    "import numpy as np\n",
    "import matplotlib.pyplot as plt\n",
    "import glob"
   ]
  },
  {
   "cell_type": "code",
   "execution_count": 2,
   "id": "1cc7abb8-0155-4a6e-9a31-0ffc5e3d2f76",
   "metadata": {
    "tags": []
   },
   "outputs": [],
   "source": [
    "from math import radians, cos, sin, asin, sqrt\n",
    "\n",
    "def dist(a, b):\n",
    "    \"\"\"\n",
    "    Calculate the great circle distance between two points\n",
    "    on the earth (specified in decimal degrees)\n",
    "    \"\"\"\n",
    "    x1, y1, x2, y2 = map(radians, [a[0], a[1], b[0], b[1]])\n",
    "    dx = x2 - x1\n",
    "    dy = y2 - y1\n",
    "    a = sin(dy/2)**2 + cos(y1) * cos(y2) * sin(dx/2)**2\n",
    "    c = 2 * asin(sqrt(a))\n",
    "    # Earth`s radius in kilometers\n",
    "    km = 6372.795 * c\n",
    "    return km\n"
   ]
  },
  {
   "cell_type": "code",
   "execution_count": 3,
   "id": "a9886562-b98c-4122-9aa6-a44e9705da8d",
   "metadata": {
    "tags": []
   },
   "outputs": [],
   "source": [
    "meteo_path = \"G:/1_Data1/90_BaikalJun2022Sea/Meteo/\"\n",
    "origin_path = \"G:/1_Data1/90_BaikalJun2022Sea/jun2022sea.dat\""
   ]
  },
  {
   "cell_type": "code",
   "execution_count": 4,
   "id": "222dd8f3-e31c-4a02-abd3-523652b91f86",
   "metadata": {
    "tags": []
   },
   "outputs": [],
   "source": [
    "df = pd.read_csv(origin_path,\n",
    "                        header=0,\n",
    "                        skiprows=1,\n",
    "                        sep=\"\\t\",\n",
    "                        na_values='--',\n",
    "                        decimal=',',\n",
    "                        parse_dates=['DateTime'],\n",
    "                        dayfirst=True,\n",
    "                        )\n",
    "#origin_df.info()\n",
    "df.sort_values(by='DateTime', inplace=True)"
   ]
  },
  {
   "cell_type": "code",
   "execution_count": 6,
   "id": "4f8469ae-66a4-48cc-8b35-713721ab3b48",
   "metadata": {
    "tags": []
   },
   "outputs": [
    {
     "name": "stdout",
     "output_type": "stream",
     "text": [
      "<class 'pandas.core.frame.DataFrame'>\n",
      "Int64Index: 53581 entries, 0 to 53580\n",
      "Data columns (total 40 columns):\n",
      " #   Column           Non-Null Count  Dtype         \n",
      "---  ------           --------------  -----         \n",
      " 0   DateTime         53581 non-null  datetime64[ns]\n",
      " 1   deltaTime        53577 non-null  float64       \n",
      " 2   Longitude        53502 non-null  float64       \n",
      " 3   Latitude         53502 non-null  float64       \n",
      " 4   TempAir          53552 non-null  float64       \n",
      " 5   PressAir         53551 non-null  float64       \n",
      " 6   vCO2             52338 non-null  float64       \n",
      " 7   vCO2max          52187 non-null  float64       \n",
      " 8   vCO2min          52187 non-null  float64       \n",
      " 9   vCH4             52338 non-null  float64       \n",
      " 10  vCH4max          52186 non-null  float64       \n",
      " 11  vCH4min          52186 non-null  float64       \n",
      " 12  TempEqu1         53499 non-null  float64       \n",
      " 13  TempEqu2         53499 non-null  float64       \n",
      " 14  TempEqu3         53499 non-null  float64       \n",
      " 15  AirFlow          53550 non-null  float64       \n",
      " 16  channel          53581 non-null  int64         \n",
      " 17  WaterFlowEqu1    53499 non-null  float64       \n",
      " 18  WaterFlowEqu2    53499 non-null  float64       \n",
      " 19  WaterFlowEqu3    53499 non-null  float64       \n",
      " 20  dateSec          53581 non-null  int64         \n",
      " 21  time             53581 non-null  object        \n",
      " 22  dT               53580 non-null  float64       \n",
      " 23  pCO2             52338 non-null  float64       \n",
      " 24  pCH4             52338 non-null  float64       \n",
      " 25  vCO2Air          53522 non-null  float64       \n",
      " 26  vCH4Air          53531 non-null  float64       \n",
      " 27  pCO2Air          53492 non-null  float64       \n",
      " 28  pCH4Air          53501 non-null  float64       \n",
      " 29  WaterFlowEquCur  42267 non-null  float64       \n",
      " 30  TempEquCur       45324 non-null  float64       \n",
      " 31  vGas             36891 non-null  float64       \n",
      " 32  cCO2Wtr          32708 non-null  float64       \n",
      " 33  pCO2Wtr          32708 non-null  float64       \n",
      " 34  cCH4Wtr          33051 non-null  float64       \n",
      " 35  pCH4Wtr          33051 non-null  float64       \n",
      " 36  dpCO2            32708 non-null  float64       \n",
      " 37  dpCH4            33051 non-null  float64       \n",
      " 38  long             53502 non-null  float64       \n",
      " 39  lat              53502 non-null  float64       \n",
      "dtypes: datetime64[ns](1), float64(36), int64(2), object(1)\n",
      "memory usage: 16.8+ MB\n"
     ]
    }
   ],
   "source": [
    "df.info()"
   ]
  },
  {
   "cell_type": "code",
   "execution_count": 14,
   "id": "9e547499-1167-4a4b-831e-b8644f67272c",
   "metadata": {
    "tags": []
   },
   "outputs": [
    {
     "name": "stdout",
     "output_type": "stream",
     "text": [
      "count    5.344500e+04\n",
      "mean     5.770868e-09\n",
      "std      7.160722e-06\n",
      "min     -2.047270e-05\n",
      "25%     -2.914699e-06\n",
      "50%      1.745332e-08\n",
      "75%      2.844956e-06\n",
      "max      5.483000e-04\n",
      "dtype: float64\n"
     ]
    },
    {
     "ename": "ValueError",
     "evalue": "The truth value of a Series is ambiguous. Use a.empty, a.bool(), a.item(), a.any() or a.all().",
     "output_type": "error",
     "traceback": [
      "\u001b[1;31m---------------------------------------------------------------------------\u001b[0m",
      "\u001b[1;31mValueError\u001b[0m                                Traceback (most recent call last)",
      "Cell \u001b[1;32mIn[14], line 32\u001b[0m\n\u001b[0;32m     30\u001b[0m z \u001b[38;5;241m=\u001b[39m np\u001b[38;5;241m.\u001b[39mdegrees(np\u001b[38;5;241m.\u001b[39marctan(\u001b[38;5;241m-\u001b[39my\u001b[38;5;241m/\u001b[39mx))\n\u001b[0;32m     31\u001b[0m \u001b[38;5;28mprint\u001b[39m(x\u001b[38;5;241m.\u001b[39mdescribe())\n\u001b[1;32m---> 32\u001b[0m \u001b[38;5;28;01mif\u001b[39;00m (x \u001b[38;5;241m<\u001b[39m \u001b[38;5;241m0\u001b[39m):\n\u001b[0;32m     33\u001b[0m     z \u001b[38;5;241m=\u001b[39m z\u001b[38;5;241m+\u001b[39m\u001b[38;5;241m180.\u001b[39m\n\u001b[0;32m     35\u001b[0m z2 \u001b[38;5;241m=\u001b[39m (z\u001b[38;5;241m+\u001b[39m\u001b[38;5;241m180.\u001b[39m) \u001b[38;5;241m%\u001b[39m \u001b[38;5;241m360.\u001b[39m \u001b[38;5;241m-\u001b[39m \u001b[38;5;241m180.\u001b[39m\n",
      "File \u001b[1;32m~\\AppData\\Local\\Programs\\Python\\Python311\\Lib\\site-packages\\pandas\\core\\generic.py:1527\u001b[0m, in \u001b[0;36mNDFrame.__nonzero__\u001b[1;34m(self)\u001b[0m\n\u001b[0;32m   1525\u001b[0m \u001b[38;5;129m@final\u001b[39m\n\u001b[0;32m   1526\u001b[0m \u001b[38;5;28;01mdef\u001b[39;00m \u001b[38;5;21m__nonzero__\u001b[39m(\u001b[38;5;28mself\u001b[39m) \u001b[38;5;241m-\u001b[39m\u001b[38;5;241m>\u001b[39m NoReturn:\n\u001b[1;32m-> 1527\u001b[0m     \u001b[38;5;28;01mraise\u001b[39;00m \u001b[38;5;167;01mValueError\u001b[39;00m(\n\u001b[0;32m   1528\u001b[0m         \u001b[38;5;124mf\u001b[39m\u001b[38;5;124m\"\u001b[39m\u001b[38;5;124mThe truth value of a \u001b[39m\u001b[38;5;132;01m{\u001b[39;00m\u001b[38;5;28mtype\u001b[39m(\u001b[38;5;28mself\u001b[39m)\u001b[38;5;241m.\u001b[39m\u001b[38;5;18m__name__\u001b[39m\u001b[38;5;132;01m}\u001b[39;00m\u001b[38;5;124m is ambiguous. \u001b[39m\u001b[38;5;124m\"\u001b[39m\n\u001b[0;32m   1529\u001b[0m         \u001b[38;5;124m\"\u001b[39m\u001b[38;5;124mUse a.empty, a.bool(), a.item(), a.any() or a.all().\u001b[39m\u001b[38;5;124m\"\u001b[39m\n\u001b[0;32m   1530\u001b[0m     )\n",
      "\u001b[1;31mValueError\u001b[0m: The truth value of a Series is ambiguous. Use a.empty, a.bool(), a.item(), a.any() or a.all()."
     ]
    }
   ],
   "source": [
    "def get_ang(x: float, y: float) -> any:\n",
    "    length = get_len(x, y)\n",
    "    if length == 0:\n",
    "        return None\n",
    "    ang = np.arctan2(x, -y) * 180 / np.pi\n",
    "    return (ang + 270) % 360\n",
    "\n",
    "lat_rad1 = df['Latitude'] * np.pi / 180\n",
    "long_rad1 = df['Longitude'] * np.pi / 180\n",
    "lat_rad2 = lat_rad1.shift(1)\n",
    "long_rad2 = long_rad1.shift(1)\n",
    "\n",
    "dTime = (df['DateTime'] - df['DateTime'].shift(1)).astype('int64')/10**9\n",
    "\n",
    "cl1 = np.cos(lat_rad1)\n",
    "cl2 = np.cos(lat_rad2)\n",
    "sl1 = np.sin(lat_rad1)\n",
    "sl2 = np.sin(lat_rad2)\n",
    "delta = long_rad2 - long_rad1\n",
    "cdelta = np.cos(delta)\n",
    "sdelta = np.sin(delta)\n",
    "\n",
    "y = np.sqrt(np.power(cl2*sdelta, 2) + np.power(cl1*sl2-sl1*cl2*cdelta, 2))\n",
    "x = sl1*sl2+cl1*cl2*cdelta\n",
    "ad = np.arctan2(y,x)\n",
    "df['dist1'] = ad * 6372800\n",
    "\n",
    "x = (cl1*sl2) - (sl1*cl2*cdelta)\n",
    "y = sdelta*cl2\n",
    "z = np.degrees(np.arctan(-y/x))\n",
    "print(x.describe())\n",
    "if (x < 0):\n",
    "    z = z+180.\n",
    "\n",
    "z2 = (z+180.) % 360. - 180.\n",
    "z2 = - math.radians(z2)\n",
    "anglerad2 = z2 - ((2*math.pi)*math.floor((z2/(2*math.pi))) )\n",
    "angledeg = (anglerad2*180.)/math.pi\n",
    "\n",
    "a = np.sin(dLat/2)**2 + np.cos(long_rad) * np.cos(long_shifted) * np.sin(dLong)**2\n",
    "df['dist'] = (2 * np.arcsin(np.sqrt(a)) * 6372.8 * 1000)\n",
    "df['speed'] = df['dist'] / dTime\n",
    "\n",
    "dist_east = np.cos(lat_rad) * dLong\n",
    "dist_nord = dLat\n",
    "df['course'] = np.arctan2(dLong, dLat) * 180 / np.pi"
   ]
  },
  {
   "cell_type": "code",
   "execution_count": null,
   "id": "ce0de6f3-521e-473e-8309-9549e71df6fc",
   "metadata": {},
   "outputs": [],
   "source": [
    "lat1 = llat1*math.pi/180.\n",
    "lat2 = llat2*math.pi/180.\n",
    "long1 = llong1*math.pi/180.\n",
    "long2 = llong2*math.pi/180.\n",
    "\n",
    " #косинусы и синусы широт и разницы долгот\n",
    "cl1 = math.cos(lat1)\n",
    "cl2 = math.cos(lat2)\n",
    "sl1 = math.sin(lat1)\n",
    "sl2 = math.sin(lat2)\n",
    "delta = long2 - long1\n",
    "cdelta = math.cos(delta)\n",
    "sdelta = math.sin(delta)\n",
    "#вычисления длины большого круга\n",
    "y = math.sqrt(math.pow(cl2*sdelta,2)+math.pow(cl1*sl2-sl1*cl2*cdelta,2))\n",
    "x = sl1*sl2+cl1*cl2*cdelta\n",
    "ad = math.atan2(y,x)\n",
    "dist = ad*rad\n",
    "#вычисление начального азимута\n",
    "x = (cl1*sl2) - (sl1*cl2*cdelta)\n",
    "y = sdelta*cl2\n",
    "z = math.degrees(math.atan(-y/x))\n",
    "if (x < 0):\n",
    "    z = z+180.\n",
    "\n",
    "z2 = (z+180.) % 360. - 180.\n",
    "z2 = - math.radians(z2)\n",
    "anglerad2 = z2 - ((2*math.pi)*math.floor((z2/(2*math.pi))) )\n",
    "angledeg = (anglerad2*180.)/math.pi\n"
   ]
  },
  {
   "cell_type": "code",
   "execution_count": null,
   "id": "5d1a8930-44bb-419f-bf92-b5c46ea21a7c",
   "metadata": {
    "tags": []
   },
   "outputs": [],
   "source": [
    "df.loc[(df['DateTime'] > pd.to_datetime('2022-06-03 12:00')) & (df['DateTime'] < pd.to_datetime('2022-06-03 13:00'))]"
   ]
  },
  {
   "cell_type": "code",
   "execution_count": null,
   "id": "386b7fa8-0ef5-42c1-bc98-b03f588c7ca0",
   "metadata": {
    "tags": []
   },
   "outputs": [],
   "source": [
    "cols = ['Longitude', 'Latitude', 'TempAir', 'PressAir',\n",
    "        'TempEqu1', 'dateSec', 'vCO2Air', 'vCH4Air', 'pCO2Air', 'pCH4Air', 'cCO2Wtr', 'pCO2Wtr', 'cCH4Wtr', 'pCH4Wtr']\n",
    "cols_dict = {}\n",
    "for item in cols:\n",
    "    cols_dict[item] = 'mean'"
   ]
  },
  {
   "cell_type": "code",
   "execution_count": null,
   "id": "b8a26978-c342-4dbb-b2bf-e965a2635042",
   "metadata": {
    "tags": []
   },
   "outputs": [],
   "source": [
    "cols_dict"
   ]
  },
  {
   "cell_type": "code",
   "execution_count": null,
   "id": "6a2b5aaa-ebfc-44f5-96c9-62dae1e9a677",
   "metadata": {
    "tags": []
   },
   "outputs": [],
   "source": [
    "origin_df_minutly = origin_df.resample('1T', on='DateTime').agg(cols_dict).ffill()\n",
    "origin_df_minutly"
   ]
  },
  {
   "cell_type": "code",
   "execution_count": null,
   "id": "0c09e34f-bc6f-4709-8011-ebdfc4ef4e4e",
   "metadata": {
    "tags": []
   },
   "outputs": [],
   "source": [
    "meteo_files_list = glob.glob(meteo_path+\"*.txt\")\n",
    "dfl = []\n",
    "for f in meteo_files_list:\n",
    "    df = pd.read_csv(f,\n",
    "                     encoding_errors=\"ignore\",\n",
    "                     header=None,\n",
    "                     skiprows=1,\n",
    "                     sep=\" \",\n",
    "                     names=['date', 'time', 't_air', 'w_hor', 'w_dir', 'wx', 'wy', 'wz', 'press', 'rh']\n",
    "                    )\n",
    "    dfl.append(df)\n",
    "\n",
    "meteo_df = pd.concat(dfl)\n",
    "meteo_df['DateTime'] = pd.to_datetime(meteo_df['date']+' '+meteo_df['time'], dayfirst=True, cache=True)\n",
    "meteo_df.sort_values(by='DateTime', inplace=True)\n",
    "meteo_df\n"
   ]
  },
  {
   "cell_type": "code",
   "execution_count": null,
   "id": "7fe24d29-5da8-42f2-ae56-4f761f26c510",
   "metadata": {
    "tags": []
   },
   "outputs": [],
   "source": [
    "np.rad2deg(-np.arctan2(-meteo_df['wy'], -meteo_df['wx']))"
   ]
  },
  {
   "cell_type": "code",
   "execution_count": null,
   "id": "32da7a31",
   "metadata": {
    "tags": []
   },
   "outputs": [],
   "source": [
    "print(df.columns)\n",
    "cols = ['t_air', 'w_hor', 'w_dir', 'press', 'rh']\n",
    "cols_dict = {}\n",
    "for item in cols:\n",
    "    cols_dict[item] = 'mean'"
   ]
  },
  {
   "cell_type": "code",
   "execution_count": null,
   "id": "881b4486-e8a0-44ba-92e3-706964f61823",
   "metadata": {
    "tags": []
   },
   "outputs": [],
   "source": [
    "meteo_df_minutly = meteo_df.resample(\"1T\", on=\"DateTime\", ).agg(cols_dict).ffill()\n",
    "meteo_df_minutly"
   ]
  },
  {
   "cell_type": "code",
   "execution_count": null,
   "id": "2b0c6ec4-5688-4d1c-9b99-266c21876822",
   "metadata": {
    "tags": []
   },
   "outputs": [],
   "source": [
    "df = pd.merge(origin_df_minutly, meteo_df_minutly, how='outer', on='DateTime')\n",
    "df.sort_values(by='DateTime', inplace=True)\n",
    "df"
   ]
  },
  {
   "cell_type": "code",
   "execution_count": null,
   "id": "780fb6d5-d067-400d-8ac8-95a4c7acc590",
   "metadata": {
    "tags": []
   },
   "outputs": [],
   "source": [
    "fig, ax = plt.subplots()\n",
    "fig.set_size_inches(16,5)\n",
    "ax.set_ylim(0, 80)\n",
    "ax.set_xlim(pd.to_datetime('2022/06/01'),pd.to_datetime('2022/06/15'))\n",
    "ax.grid()\n",
    "ax.plot(df.index, 'speed', 'g-', data=df)"
   ]
  },
  {
   "cell_type": "code",
   "execution_count": null,
   "id": "117d8a04-2492-4776-8f73-b8a0d199ec7e",
   "metadata": {
    "tags": []
   },
   "outputs": [],
   "source": [
    "df.to_csv('G:/1_Data1/90_BaikalJun2022Sea/jun2022sea_pandas.out', sep='\\t')"
   ]
  },
  {
   "cell_type": "code",
   "execution_count": 15,
   "id": "a252557f-eb74-4cf1-b00d-d94d0cb5d088",
   "metadata": {},
   "outputs": [
    {
     "data": {
      "text/plain": [
       "True"
      ]
     },
     "execution_count": 15,
     "metadata": {},
     "output_type": "execute_result"
    }
   ],
   "source": [
    "plt.isinteractive()"
   ]
  },
  {
   "cell_type": "code",
   "execution_count": null,
   "id": "6ecfb4d2-da67-4d8b-b690-af15c04250a6",
   "metadata": {},
   "outputs": [],
   "source": []
  }
 ],
 "metadata": {
  "kernelspec": {
   "display_name": "Python 3 (ipykernel)",
   "language": "python",
   "name": "python3"
  },
  "language_info": {
   "codemirror_mode": {
    "name": "ipython",
    "version": 3
   },
   "file_extension": ".py",
   "mimetype": "text/x-python",
   "name": "python",
   "nbconvert_exporter": "python",
   "pygments_lexer": "ipython3",
   "version": "3.11.2"
  },
  "toc-autonumbering": true,
  "toc-showcode": true,
  "toc-showmarkdowntxt": true
 },
 "nbformat": 4,
 "nbformat_minor": 5
}
