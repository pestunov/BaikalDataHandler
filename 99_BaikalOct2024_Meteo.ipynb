{
 "cells": [
  {
   "cell_type": "code",
   "execution_count": null,
   "id": "aece53aa-0509-43ca-b90f-032b9b176325",
   "metadata": {},
   "outputs": [],
   "source": [
    "import pandas as pd\n",
    "import numpy as np\n",
    "from matplotlib import pyplot as plt"
   ]
  },
  {
   "cell_type": "code",
   "execution_count": null,
   "id": "eccc7e87-e524-4283-bf0e-35af71579ff0",
   "metadata": {},
   "outputs": [],
   "source": [
    "pwd =  r\"C:\\Users\\redmi\\1_Data1\\99_BaikalOct2024\"\n",
    "print(pwd)"
   ]
  },
  {
   "cell_type": "code",
   "execution_count": null,
   "id": "87a56bbf-ca41-4ba0-91dd-469ddb438e86",
   "metadata": {},
   "outputs": [],
   "source": [
    "df = pd.read_csv(pwd+r'\\origin.txt',\n",
    "                sep='\\t')\n",
    "df['DateTime'] = pd.to_datetime(df['DateTime'], dayfirst=False)"
   ]
  },
  {
   "cell_type": "code",
   "execution_count": null,
   "id": "067775bf-f85b-459c-9137-2dfb92d4d0b2",
   "metadata": {},
   "outputs": [],
   "source": [
    "dfc.info()"
   ]
  },
  {
   "cell_type": "code",
   "execution_count": null,
   "id": "9c0ec2bf-3467-4f8c-8d26-88303ebf3aa5",
   "metadata": {},
   "outputs": [],
   "source": [
    "dfm = pd.read_csv(pwd+r'/origin/meteo.txt',\n",
    "                 sep='\\t',\n",
    "                 )\n",
    "dfm['DateTime'] = pd.to_datetime(dfm['DateTime'], yearfirst=True)\n",
    "dfm.drop(['date', 'time'], axis='columns', inplace=True)\n",
    "dfm.info()"
   ]
  },
  {
   "cell_type": "code",
   "execution_count": null,
   "id": "94fd354d-2e54-45fc-aeb6-c62aadae3277",
   "metadata": {},
   "outputs": [],
   "source": [
    "dfc = pd.concat([df, dfm])"
   ]
  },
  {
   "cell_type": "code",
   "execution_count": null,
   "id": "4dfb98ec-b6a6-4e0d-a63a-318044388c6c",
   "metadata": {},
   "outputs": [],
   "source": [
    "dfc = dfc.resample('1min', on='DateTime').mean()"
   ]
  },
  {
   "cell_type": "code",
   "execution_count": null,
   "id": "69da8fa3-cfcf-4401-9712-4f6e52e43ce6",
   "metadata": {},
   "outputs": [],
   "source": [
    "dfc.reset_index(drop=False, inplace=True)\n",
    "dfc.info()"
   ]
  },
  {
   "cell_type": "code",
   "execution_count": null,
   "id": "0b3580cb-e415-4e4e-8659-d474ef5d1b61",
   "metadata": {},
   "outputs": [],
   "source": [
    "dfc['dpCO2'] = dfc['pCO2sur'] - dfc['pCO2air']\n",
    "dfc['dpCH4'] = dfc['pCH4sur'] - dfc['pCH4air']\n",
    "dfc['Wh10'] = dfc['Wh'] * 1.5"
   ]
  },
  {
   "cell_type": "code",
   "execution_count": null,
   "id": "d48a63a8-82e9-4f81-a950-f965aa506718",
   "metadata": {},
   "outputs": [],
   "source": [
    "plt.rcParams['figure.figsize'] = [15,5]\n",
    "fig, axl = plt.subplots()\n",
    "axr = axl.twinx()\n",
    "axl.scatter('DateTime', 'CH4flux', data=dfc, s=4, alpha=1, c='red')\n",
    "axr.scatter('DateTime', 'Wh', data=dfc, s=4, alpha=1, c='blue')\n",
    "\n",
    "axl.grid(alpha=0.2)\n",
    "axl.set_ylim(-10,200)"
   ]
  },
  {
   "cell_type": "code",
   "execution_count": null,
   "id": "714ee9dd-a822-4bea-8f80-b8037dae1723",
   "metadata": {},
   "outputs": [],
   "source": [
    "r = dfc['Wh']\n",
    "theta = dfc['Wdir'] / 180 * np.pi\n",
    "fig, ax = plt.subplots(subplot_kw={'projection': 'polar'})\n",
    "ax.scatter(theta, r, s=2, alpha=0.2)\n",
    "ax.set_theta_direction(-1)\n",
    "ax.set_theta_offset(np.pi/2)\n",
    "ax.grid(True)\n",
    "\n",
    "ax.set_title('Oct 2024')\n",
    "plt.show()\n",
    "plt.savefig(pwd+r'/rosewind.png')"
   ]
  },
  {
   "cell_type": "code",
   "execution_count": null,
   "id": "239fcd70-ccb9-41f2-9ee2-3d877ee1bf06",
   "metadata": {},
   "outputs": [],
   "source": [
    "plt.rcParams['figure.figsize'] = [15,5]\n",
    "fig, axl = plt.subplots()\n",
    "axr = axl.twinx()\n",
    "axl.scatter('DateTime', 'CH4flux', data=dfc, s=4, alpha=1, c='red')\n",
    "axr.scatter('DateTime', 'dpCH4', data=dfc, s=4, alpha=1, c='blue')\n",
    "\n",
    "axl.grid(alpha=0.2)\n",
    "axl.set_ylim(-10,200)"
   ]
  },
  {
   "cell_type": "code",
   "execution_count": null,
   "id": "751b88c6-7f86-4f00-913b-23c852c4fd03",
   "metadata": {},
   "outputs": [],
   "source": [
    "plt.rcParams['figure.figsize'] = [15,5]\n",
    "fig, axl = plt.subplots()\n",
    "axr = axl.twinx()\n",
    "axl.scatter('DateTime', 'CO2flux', data=dfc, s=4, alpha=1, c='red')\n",
    "axr.scatter('DateTime', 'dpCO2', data=dfc, s=4, alpha=1, c='blue')\n",
    "\n",
    "axl.grid(alpha=0.5)\n",
    "axl.set_ylim(-100, 100)\n",
    "axr.set_ylim(-300, 300)"
   ]
  },
  {
   "cell_type": "code",
   "execution_count": null,
   "id": "0cd21fbd-f100-4a12-b4f8-69d0c330dea6",
   "metadata": {},
   "outputs": [],
   "source": [
    "dfc['CO2fluxWan'] = 0.005 * dfc['dpCO2'] * np.power(dfc['Wh10'], 2)\n",
    "dfc['CH4fluxWan'] = 0.064 * dfc['dpCH4'] * np.power(dfc['Wh10'], 2)"
   ]
  },
  {
   "cell_type": "code",
   "execution_count": null,
   "id": "dff1e7be-78aa-4a5a-92e1-1b634c68dbd6",
   "metadata": {
    "editable": true,
    "slideshow": {
     "slide_type": ""
    },
    "tags": []
   },
   "outputs": [],
   "source": [
    "dfc.loc[(dfc['CO2fluxWan'] < 1000) & (dfc['Wh10'] < 100), :]"
   ]
  },
  {
   "cell_type": "code",
   "execution_count": null,
   "id": "9356e3e0-a814-4c8c-94ff-20d346591527",
   "metadata": {},
   "outputs": [],
   "source": [
    "plt.rcParams['figure.figsize'] = [5,5]\n",
    "plt.scatter('CO2flux', 'CO2fluxWan', data=dfc)\n",
    "plt.grid()\n",
    "plt.xlim(-100, 100)\n",
    "plt.ylim(-100, 100)"
   ]
  },
  {
   "cell_type": "code",
   "execution_count": null,
   "id": "293c8b7b-a8a5-4ddc-9ec4-0fb84571ba54",
   "metadata": {},
   "outputs": [],
   "source": [
    "plt.rcParams['figure.figsize'] = [5,5]\n",
    "plt.scatter('CH4flux', 'CH4fluxWan', data=dfc)\n",
    "plt.xlim(0, 50)\n",
    "plt.ylim(0, 50)\n",
    "plt.grid()"
   ]
  },
  {
   "cell_type": "code",
   "execution_count": null,
   "id": "e32b4a39-90af-45a5-9fae-88a788e029e3",
   "metadata": {
    "editable": true,
    "slideshow": {
     "slide_type": ""
    },
    "tags": []
   },
   "outputs": [],
   "source": [
    "plt.rcParams['figure.figsize'] = [15,5]\n",
    "fig, axl = plt.subplots()\n",
    "axr = axl.twinx()\n",
    "axl.scatter('DateTime', 'CH4flux', data=dfc, s=4, alpha=1, c='red')\n",
    "axr.scatter('DateTime', 'dpCH4', data=dfc, s=4, alpha=1, c='blue')\n",
    "\n",
    "axl.grid(alpha=0.5)\n",
    "axl.set_ylim(-10, 100)\n",
    "axr.set_ylim(-2, 20)"
   ]
  },
  {
   "cell_type": "code",
   "execution_count": null,
   "id": "61b51d24-2ad5-46cd-832a-59eab7ac472f",
   "metadata": {},
   "outputs": [],
   "source": [
    "import os\n",
    "dfc.to_csv(os.path.join(pwd, 'hourly.txt'), sep='\\t')"
   ]
  },
  {
   "cell_type": "code",
   "execution_count": null,
   "id": "091b3947-6422-468c-82d6-8ffa2b2d0398",
   "metadata": {},
   "outputs": [],
   "source": [
    "os.path.join(pwd, 'hourly.txt')"
   ]
  },
  {
   "cell_type": "code",
   "execution_count": null,
   "id": "5d116601-e92e-47b5-8cbe-65827451cf4e",
   "metadata": {},
   "outputs": [],
   "source": []
  }
 ],
 "metadata": {
  "kernelspec": {
   "display_name": "Python 3 (ipykernel)",
   "language": "python",
   "name": "python3"
  },
  "language_info": {
   "codemirror_mode": {
    "name": "ipython",
    "version": 3
   },
   "file_extension": ".py",
   "mimetype": "text/x-python",
   "name": "python",
   "nbconvert_exporter": "python",
   "pygments_lexer": "ipython3",
   "version": "3.11.2"
  }
 },
 "nbformat": 4,
 "nbformat_minor": 5
}
