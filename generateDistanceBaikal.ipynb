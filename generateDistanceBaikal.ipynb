{
 "cells": [
  {
   "cell_type": "code",
   "execution_count": 3,
   "id": "2f6d2dd3-7936-4d9b-a57c-76c6b37028bb",
   "metadata": {
    "tags": []
   },
   "outputs": [],
   "source": [
    "import pandas as pd\n",
    "import numpy as np\n",
    "from matplotlib import pyplot as plt\n",
    "from scipy import spatial\n",
    "\n",
    "import os"
   ]
  },
  {
   "cell_type": "code",
   "execution_count": 4,
   "id": "2d4d94ac-859b-4418-b4f5-4e453c587082",
   "metadata": {
    "tags": []
   },
   "outputs": [],
   "source": [
    "from shapely.geometry import Point\n",
    "from shapely.geometry import Polygon"
   ]
  },
  {
   "cell_type": "code",
   "execution_count": 5,
   "id": "5efd8a40-6c25-42aa-a776-153b25d1c84d",
   "metadata": {
    "tags": []
   },
   "outputs": [],
   "source": [
    "plt.style.use('Solarize_Light2')   # try another styles: 'classic'"
   ]
  },
  {
   "cell_type": "code",
   "execution_count": 6,
   "id": "28a67df6-faaa-459f-a412-f4e90a9547f4",
   "metadata": {
    "tags": []
   },
   "outputs": [],
   "source": [
    "driver = \"~/\"  # \"G:/\n",
    "destData = os.path.join(driver, \"1_Data1/sea/AllSeaGisOut.txt\")\n",
    "batimetrFile = \"G:/1_Data1/batimetria/b1.txt\""
   ]
  },
  {
   "cell_type": "code",
   "execution_count": 7,
   "id": "29cb09ae-a590-4e60-aa22-3a378b2310a9",
   "metadata": {
    "tags": []
   },
   "outputs": [],
   "source": [
    "obris = pd.read_csv(os.path.join(driver, \"1_Data1/obris/obris.dat\"),\n",
    "                    header=0,\n",
    "                    na_values='--',\n",
    "                    sep='\\t',\n",
    "                    decimal=',',\n",
    "                   )"
   ]
  },
  {
   "cell_type": "code",
   "execution_count": 8,
   "id": "41cf4a37-995a-4f44-a085-e019f65a1e73",
   "metadata": {
    "tags": []
   },
   "outputs": [],
   "source": [
    "obrisEast = pd.read_csv(os.path.join(driver, \"1_Data1/obris/obrisEast.dat\"),\n",
    "                        header=0,\n",
    "                        na_values='--',\n",
    "                        sep='\\t',\n",
    "                        decimal=',',\n",
    "                       )"
   ]
  },
  {
   "cell_type": "code",
   "execution_count": 9,
   "id": "bb1eed62-1ba3-4132-9012-07d1a09851f6",
   "metadata": {
    "tags": []
   },
   "outputs": [
    {
     "data": {
      "text/html": [
       "<div>\n",
       "<style scoped>\n",
       "    .dataframe tbody tr th:only-of-type {\n",
       "        vertical-align: middle;\n",
       "    }\n",
       "\n",
       "    .dataframe tbody tr th {\n",
       "        vertical-align: top;\n",
       "    }\n",
       "\n",
       "    .dataframe thead th {\n",
       "        text-align: right;\n",
       "    }\n",
       "</style>\n",
       "<table border=\"1\" class=\"dataframe\">\n",
       "  <thead>\n",
       "    <tr style=\"text-align: right;\">\n",
       "      <th></th>\n",
       "      <th>n</th>\n",
       "      <th>long</th>\n",
       "      <th>lat</th>\n",
       "    </tr>\n",
       "  </thead>\n",
       "  <tbody>\n",
       "    <tr>\n",
       "      <th>0</th>\n",
       "      <td>1</td>\n",
       "      <td>103.709167</td>\n",
       "      <td>51.707917</td>\n",
       "    </tr>\n",
       "    <tr>\n",
       "      <th>1</th>\n",
       "      <td>2</td>\n",
       "      <td>103.713056</td>\n",
       "      <td>51.716250</td>\n",
       "    </tr>\n",
       "    <tr>\n",
       "      <th>2</th>\n",
       "      <td>3</td>\n",
       "      <td>103.713611</td>\n",
       "      <td>51.718194</td>\n",
       "    </tr>\n",
       "  </tbody>\n",
       "</table>\n",
       "</div>"
      ],
      "text/plain": [
       "   n        long        lat\n",
       "0  1  103.709167  51.707917\n",
       "1  2  103.713056  51.716250\n",
       "2  3  103.713611  51.718194"
      ]
     },
     "execution_count": 9,
     "metadata": {},
     "output_type": "execute_result"
    }
   ],
   "source": [
    "obrisWest = pd.read_csv(os.path.join(driver, \"1_Data1/obris/obrisWest.dat\"),\n",
    "                        header=0,\n",
    "                        na_values='--',\n",
    "                        sep='\\t',\n",
    "                        decimal=',',\n",
    "                       )\n",
    "obrisWest.head(3)"
   ]
  },
  {
   "cell_type": "code",
   "execution_count": 11,
   "id": "5e453ae2-717b-43d6-9d3d-c962293e8190",
   "metadata": {
    "tags": []
   },
   "outputs": [
    {
     "data": {
      "text/plain": [
       "[<matplotlib.lines.Line2D at 0x27e89806090>]"
      ]
     },
     "execution_count": 11,
     "metadata": {},
     "output_type": "execute_result"
    },
    {
     "data": {
      "image/png": "[encoded data removed]",
      "text/plain": [
       "<Figure size 500x500 with 1 Axes>"
      ]
     },
     "metadata": {},
     "output_type": "display_data"
    }
   ],
   "source": [
    "plt.rcParams['figure.figsize'] = [5, 5]\n",
    "fig, ax = plt.subplots()\n",
    "ax.plot(obrisEast['long'], obrisEast['lat'], 'b-', alpha=0.4)\n",
    "ax.plot(obrisWest['long'], obrisWest['lat'], 'r-', alpha=0.4)\n"
   ]
  },
  {
   "cell_type": "markdown",
   "id": "305f30b0-1570-4a9b-bda5-a4487616f8a8",
   "metadata": {},
   "source": [
    "## GIS handlers   \n",
    "### Get Squared Baikal"
   ]
  },
  {
   "cell_type": "code",
   "execution_count": 12,
   "id": "4e77b902-5852-4cb1-85df-835eb5ae6041",
   "metadata": {
    "tags": []
   },
   "outputs": [],
   "source": [
    "def dist(a, b):\n",
    "    \"\"\"\n",
    "    Calculate the great circle distance between two points\n",
    "    on the earth (specified in decimal degrees,\n",
    "    [0] - long,\n",
    "    [1] - lat)\n",
    "    \"\"\"\n",
    "    x1, y1, x2, y2 = map(np.radians, [a[0], a[1], b[0], b[1]])\n",
    "    dx = x2 - x1\n",
    "    dy = y2 - y1\n",
    "    a = np.sin(dy/2)**2 + np.cos(y1) * np.cos(y2) * np.sin(dx/2)**2\n",
    "    c = 2 * np.arcsin(np.sqrt(a))\n",
    "    # Earth`s radius in kilometers\n",
    "    km = 6372.795 * c\n",
    "    return km\n",
    "\n",
    "\n",
    "def rdist(a, b):\n",
    "    \"\"\"\n",
    "    Calculate the great circle distance between two points\n",
    "    on the sphere, radius 1 ru (specified in radians, x1, y1, x2, y2\n",
    "    x - long, y - lat).\n",
    "    multiply result to Earth`s dia (6372.795 km) to get metric distance on Earth surface\n",
    "    \"\"\"\n",
    "    x1, y1 = a\n",
    "    x2, y2 =b\n",
    "    return 2 * np.arcsin(np.sqrt(np.sin((y2 - y1)/2)**2 + np.cos(y1) * np.cos(y2) * np.sin((x2 - x1)/2)**2))"
   ]
  },
  {
   "cell_type": "code",
   "execution_count": 15,
   "id": "98fcb274-2cfe-49bf-9f33-51ff3133ca11",
   "metadata": {
    "tags": []
   },
   "outputs": [
    {
     "data": {
      "text/plain": [
       "147.688665474318"
      ]
     },
     "execution_count": 15,
     "metadata": {},
     "output_type": "execute_result"
    }
   ],
   "source": [
    "tomsk = (85.1974, 56.372)\n",
    "moscow = (37.929, 55.422)\n",
    "a = (35.0456, -85.2672)\n",
    "b = (35.9728, -83.9422)\n",
    "dist(a, b)"
   ]
  },
  {
   "cell_type": "code",
   "execution_count": 16,
   "id": "a8fd2812-9357-4d17-b1d5-d5e9e65cf73a",
   "metadata": {
    "tags": []
   },
   "outputs": [],
   "source": [
    "nordPoint = (109.767, 55.751)\n",
    "sudPoint = (103.70917, 51.707917)"
   ]
  },
  {
   "cell_type": "code",
   "execution_count": 17,
   "id": "b8aeada9-6ed2-4c42-9a61-78d63837380c",
   "metadata": {
    "tags": []
   },
   "outputs": [],
   "source": [
    "obrisWest['longr'] = np.radians(obrisWest['long'])\n",
    "obrisWest['latr'] = np.radians(obrisWest['lat'])\n",
    "obrisEast['longr'] = np.radians(obrisEast['long'])\n",
    "obrisEast['latr'] = np.radians(obrisEast['lat'])"
   ]
  },
  {
   "cell_type": "raw",
   "id": "a2634fa0-a7cb-4d90-9863-710e84d4cefd",
   "metadata": {
    "tags": []
   },
   "source": [
    "for i in range(len(res)):\n",
    "    argg = (float(res.loc[i, 'long']), float(res.loc[i, 'lat']))\n",
    "    print(argg)\n",
    "    res.at[i, 'toWest'] = obrisWest.apply(lambda x: dist((x['long'], x['lat']), argg), axis=1).min()\n",
    "    res.at[i, 'toEast'] = obrisEast.apply(lambda x: dist((x['long'], x['lat']), argg), axis=1).min()\n",
    "    res.at[i, 'toSud'] = dist(sudPoint, argg)\n",
    "    res.at[i, 'toNord'] = dist(nordPoint, argg)\n",
    "    print('*', end='')"
   ]
  },
  {
   "cell_type": "code",
   "execution_count": 21,
   "id": "71f9e29e-cf99-4d30-af9a-b109f0fff825",
   "metadata": {
    "scrolled": true,
    "tags": []
   },
   "outputs": [],
   "source": [
    "ob = zip(list(obrisWest['long'])+(list(obrisEast['long'])) , list(obrisWest['lat'])+(list(obrisEast['lat'])))\n",
    "obrisPolygon = Polygon(ob)"
   ]
  },
  {
   "cell_type": "code",
   "execution_count": null,
   "id": "738dd0a1-7cbe-446b-b12f-7b8e5a9effae",
   "metadata": {},
   "outputs": [],
   "source": [
    "longStep = 0.02\n",
    "latStep = 0.01"
   ]
  },
  {
   "cell_type": "code",
   "execution_count": null,
   "id": "3aa9a6e0-5d90-403c-9c6d-4c2edad534f0",
   "metadata": {},
   "outputs": [
    {
     "data": {
      "text/plain": [
       "(1.384799433804472, 1.2471555145188842)"
      ]
     },
     "execution_count": 39,
     "metadata": {},
     "output_type": "execute_result"
    }
   ],
   "source": [
    "dist((0, 51.5), (longStep, 51.5)),  dist((0, 55.9), (longStep, 55.9))"
   ]
  },
  {
   "cell_type": "code",
   "execution_count": 40,
   "id": "d8f7c888-2a50-4728-a738-43d2a1fe4fe2",
   "metadata": {},
   "outputs": [
    {
     "data": {
      "text/plain": [
       "1.112262553046251"
      ]
     },
     "execution_count": 40,
     "metadata": {},
     "output_type": "execute_result"
    }
   ],
   "source": [
    "dist((110, 51.5), (110, 51.5+latStep))"
   ]
  },
  {
   "cell_type": "code",
   "execution_count": 36,
   "id": "291640b2-a0dd-4159-8fb3-c75d9cedb968",
   "metadata": {
    "tags": []
   },
   "outputs": [
    {
     "name": "stdout",
     "output_type": "stream",
     "text": [
      "long = 103.5; long = 103.52; long = 103.54; long = 103.56; long = 103.58; long = 103.6; long = 103.62; long = 103.64; long = 103.66; long = 103.68; long = 103.7; long = 103.72; long = 103.74; long = 103.76; long = 103.78; long = 103.8; long = 103.82; long = 103.84; long = 103.86; long = 103.88; long = 103.9; long = 103.92; n=100, long = 103.94; long = 103.96; long = 103.98; long = 104.0; long = 104.02; long = 104.04; n=200, long = 104.06; long = 104.08; long = 104.1; long = 104.12; n=300, long = 104.14; long = 104.16; long = 104.18; long = 104.2; n=400, long = 104.22; long = 104.24; long = 104.26; long = 104.28; n=500, long = 104.3; long = 104.32; long = 104.34; n=600, long = 104.36; long = 104.38; long = 104.4; n=700, long = 104.42; long = 104.44; long = 104.46; n=800, long = 104.48; long = 104.5; long = 104.52; n=900, long = 104.54; long = 104.56; long = 104.58; n=1000, long = 104.6; long = 104.62; long = 104.64; long = 104.66; n=1100, long = 104.68; long = 104.7; n=1200, long = 104.72; long = 104.74; long = 104.76; n=1300, long = 104.78; long = 104.8; n=1400, long = 104.82; long = 104.84; long = 104.86; n=1500, long = 104.88; long = 104.9; long = 104.92; n=1600, long = 104.94; long = 104.96; long = 104.98; n=1700, long = 105.0; long = 105.02; long = 105.04; n=1800, long = 105.06; long = 105.08; long = 105.1; n=1900, long = 105.12; long = 105.14; long = 105.16; n=2000, long = 105.18; long = 105.2; long = 105.22; n=2100, long = 105.24; long = 105.26; long = 105.28; n=2200, long = 105.3; long = 105.32; n=2300, long = 105.34; long = 105.36; long = 105.38; n=2400, long = 105.4; long = 105.42; n=2500, long = 105.44; long = 105.46; n=2600, long = 105.48; long = 105.5; long = 105.52; n=2700, long = 105.54; long = 105.56; n=2800, long = 105.58; long = 105.6; n=2900, long = 105.62; long = 105.64; n=3000, long = 105.66; long = 105.68; n=3100, long = 105.7; n=3200, long = 105.72; long = 105.74; n=3300, long = 105.76; long = 105.78; n=3400, long = 105.8; n=3500, long = 105.82; long = 105.84; n=3600, long = 105.86; n=3700, long = 105.88; long = 105.9; n=3800, long = 105.92; n=3900, long = 105.94; n=4000, long = 105.96; long = 105.98; n=4100, long = 106.0; n=4200, long = 106.02; long = 106.04; n=4300, long = 106.06; n=4400, long = 106.08; long = 106.1; n=4500, long = 106.12; n=4600, long = 106.14; long = 106.16; n=4700, long = 106.18; long = 106.2; n=4800, long = 106.22; long = 106.24; n=4900, long = 106.26; long = 106.28; n=5000, long = 106.3; long = 106.32; long = 106.34; n=5100, long = 106.36; long = 106.38; long = 106.4; n=5200, long = 106.42; long = 106.44; long = 106.46; n=5300, long = 106.48; long = 106.5; long = 106.52; n=5400, long = 106.54; long = 106.56; n=5500, long = 106.58; long = 106.6; long = 106.62; n=5600, long = 106.64; long = 106.66; n=5700, long = 106.68; long = 106.7; n=5800, long = 106.72; long = 106.74; n=5900, long = 106.76; long = 106.78; n=6000, long = 106.8; n=6100, long = 106.82; long = 106.84; n=6200, long = 106.86; n=6300, long = 106.88; long = 106.9; n=6400, long = 106.92; n=6500, long = 106.94; long = 106.96; n=6600, long = 106.98; n=6700, long = 107.0; long = 107.02; n=6800, long = 107.04; n=6900, long = 107.06; long = 107.08; n=7000, long = 107.1; n=7100, long = 107.12; n=7200, long = 107.14; long = 107.16; n=7300, long = 107.18; n=7400, long = 107.2; long = 107.22; n=7500, long = 107.24; n=7600, long = 107.26; n=7700, long = 107.28; long = 107.3; n=7800, long = 107.32; n=7900, long = 107.34; n=8000, long = 107.36; long = 107.38; n=8100, long = 107.4; n=8200, long = 107.42; n=8300, long = 107.44; long = 107.46; n=8400, long = 107.48; n=8500, long = 107.5; n=8600, long = 107.52; long = 107.54; n=8700, long = 107.56; n=8800, long = 107.58; n=8900, long = 107.6; n=9000, long = 107.62; n=9100, long = 107.64; n=9200, long = 107.66; long = 107.68; n=9300, long = 107.7; n=9400, long = 107.72; n=9500, long = 107.74; n=9600, long = 107.76; n=9700, long = 107.78; n=9800, long = 107.8; n=9900, long = 107.82; n=10000, long = 107.84; n=10100, long = 107.86; n=10200, long = 107.88; n=10300, long = 107.9; n=10400, long = 107.92; n=10500, long = 107.94; n=10600, long = 107.96; n=10700, long = 107.98; n=10800, long = 108.0; n=10900, long = 108.02; n=11000, long = 108.04; n=11100, long = 108.06; n=11200, long = 108.08; n=11300, long = 108.1; n=11400, long = 108.12; n=11500, long = 108.14; n=11600, long = 108.16; n=11700, long = 108.18; n=11800, long = 108.2; n=11900, long = 108.22; n=12000, long = 108.24; n=12100, long = 108.26; n=12200, long = 108.28; n=12300, long = 108.3; n=12400, n=12500, long = 108.32; n=12600, long = 108.34; n=12700, long = 108.36; n=12800, long = 108.38; n=12900, long = 108.4; n=13000, long = 108.42; n=13100, long = 108.44; n=13200, long = 108.46; n=13300, long = 108.48; n=13400, long = 108.5; n=13500, long = 108.52; n=13600, long = 108.54; n=13700, n=13800, long = 108.56; n=13900, long = 108.58; n=14000, long = 108.6; n=14100, long = 108.62; n=14200, long = 108.64; n=14300, long = 108.66; n=14400, n=14500, long = 108.68; n=14600, long = 108.7; n=14700, long = 108.72; n=14800, long = 108.74; n=14900, long = 108.76; n=15000, long = 108.78; n=15100, n=15200, long = 108.8; n=15300, long = 108.82; n=15400, long = 108.84; n=15500, long = 108.86; n=15600, long = 108.88; n=15700, n=15800, long = 108.9; n=15900, long = 108.92; n=16000, long = 108.94; n=16100, n=16200, long = 108.96; n=16300, long = 108.98; n=16400, long = 109.0; n=16500, long = 109.02; n=16600, n=16700, long = 109.04; n=16800, long = 109.06; n=16900, long = 109.08; n=17000, n=17100, long = 109.1; n=17200, long = 109.12; n=17300, n=17400, long = 109.14; n=17500, long = 109.16; n=17600, n=17700, long = 109.18; n=17800, long = 109.2; n=17900, n=18000, long = 109.22; n=18100, n=18200, long = 109.24; n=18300, long = 109.26; n=18400, n=18500, long = 109.28; n=18600, n=18700, long = 109.3; n=18800, long = 109.32; n=18900, n=19000, long = 109.34; n=19100, n=19200, long = 109.36; n=19300, long = 109.38; n=19400, n=19500, long = 109.4; n=19600, n=19700, long = 109.42; n=19800, long = 109.44; n=19900, n=20000, long = 109.46; n=20100, n=20200, long = 109.48; n=20300, long = 109.5; n=20400, n=20500, long = 109.52; n=20600, long = 109.54; n=20700, long = 109.56; n=20800, long = 109.58; n=20900, long = 109.6; n=21000, long = 109.62; n=21100, long = 109.64; n=21200, long = 109.66; n=21300, long = 109.68; n=21400, long = 109.7; n=21500, long = 109.72; n=21600, long = 109.74; long = 109.76; n=21700, long = 109.78; n=21800, long = 109.8; long = 109.82; long = 109.84; n=21900, long = 109.86; long = 109.88; long = 109.9; long = 109.92; long = 109.94; long = 109.96; long = 109.98; done!\n"
     ]
    }
   ],
   "source": [
    "dff = 0\n",
    "dff = pd.DataFrame(columns=['long', 'lat'])\n",
    "\n",
    "n=0\n",
    "for x in range(10350, 11000, round(longStep*100)):\n",
    "    print(f'long = {x/100}; ', end='')\n",
    "    for y in np.arange(5140, 5590, round(latStep*100)):\n",
    "        if obrisPolygon.contains(Point(x/100, y/100)):\n",
    "            toWest = obrisWest.apply(lambda f: dist((f['long'], f['lat']), (x/100, y/100)), axis=1).min()\n",
    "            toEast = obrisEast.apply(lambda f: dist((f['long'], f['lat']), (x/100, y/100)), axis=1).min()\n",
    "            toSud = dist(sudPoint, (x/100, y/100))\n",
    "            toNord = dist(nordPoint, (x/100, y/100))\n",
    "            dff.loc[len(dff), ['long', 'lat', 'toWest', 'toEast', 'toSud', 'toNord']] = [x/100, y/100, toWest, toEast, toSud, toNord]\n",
    "            n+=1\n",
    "            if n%100 == 0:\n",
    "                print(f\"n={n},\", end=' ')\n",
    "print(\"done!\")"
   ]
  },
  {
   "cell_type": "code",
   "execution_count": 35,
   "id": "c2a195e3-06a9-4c39-834f-d5de163bef99",
   "metadata": {},
   "outputs": [
    {
     "data": {
      "text/plain": [
       "long    103.72\n",
       "Name: 0, dtype: object"
      ]
     },
     "execution_count": 35,
     "metadata": {},
     "output_type": "execute_result"
    }
   ],
   "source": [
    "dff.loc[0,['long']]"
   ]
  },
  {
   "cell_type": "code",
   "execution_count": 41,
   "id": "3f98be08-1242-4003-8b9e-f69e897b6de6",
   "metadata": {
    "tags": []
   },
   "outputs": [],
   "source": [
    "dff.to_csv('wholeBaikalGrid.dat',\n",
    "          sep='\\t')"
   ]
  },
  {
   "cell_type": "code",
   "execution_count": 26,
   "id": "e61487f2-954d-4f39-b229-0559df154d55",
   "metadata": {},
   "outputs": [
    {
     "data": {
      "text/html": [
       "<div>\n",
       "<style scoped>\n",
       "    .dataframe tbody tr th:only-of-type {\n",
       "        vertical-align: middle;\n",
       "    }\n",
       "\n",
       "    .dataframe tbody tr th {\n",
       "        vertical-align: top;\n",
       "    }\n",
       "\n",
       "    .dataframe thead th {\n",
       "        text-align: right;\n",
       "    }\n",
       "</style>\n",
       "<table border=\"1\" class=\"dataframe\">\n",
       "  <thead>\n",
       "    <tr style=\"text-align: right;\">\n",
       "      <th></th>\n",
       "      <th>long</th>\n",
       "      <th>lat</th>\n",
       "      <th>toWest</th>\n",
       "      <th>toEast</th>\n",
       "      <th>toSud</th>\n",
       "      <th>toNord</th>\n",
       "    </tr>\n",
       "  </thead>\n",
       "  <tbody>\n",
       "    <tr>\n",
       "      <th>0</th>\n",
       "      <td>103.9</td>\n",
       "      <td>51.7</td>\n",
       "      <td>3.692319</td>\n",
       "      <td>10.050579</td>\n",
       "      <td>13.183287</td>\n",
       "      <td>592.95445</td>\n",
       "    </tr>\n",
       "    <tr>\n",
       "      <th>1</th>\n",
       "      <td>104.1</td>\n",
       "      <td>51.6</td>\n",
       "      <td>17.38168</td>\n",
       "      <td>5.600282</td>\n",
       "      <td>29.519998</td>\n",
       "      <td>593.382115</td>\n",
       "    </tr>\n",
       "    <tr>\n",
       "      <th>2</th>\n",
       "      <td>104.1</td>\n",
       "      <td>51.7</td>\n",
       "      <td>6.397597</td>\n",
       "      <td>15.810201</td>\n",
       "      <td>26.954139</td>\n",
       "      <td>584.502688</td>\n",
       "    </tr>\n",
       "    <tr>\n",
       "      <th>3</th>\n",
       "      <td>104.3</td>\n",
       "      <td>51.5</td>\n",
       "      <td>31.457257</td>\n",
       "      <td>1.252625</td>\n",
       "      <td>46.911654</td>\n",
       "      <td>594.270997</td>\n",
       "    </tr>\n",
       "    <tr>\n",
       "      <th>4</th>\n",
       "      <td>104.3</td>\n",
       "      <td>51.6</td>\n",
       "      <td>20.900468</td>\n",
       "      <td>11.655669</td>\n",
       "      <td>42.500773</td>\n",
       "      <td>585.21237</td>\n",
       "    </tr>\n",
       "    <tr>\n",
       "      <th>...</th>\n",
       "      <td>...</td>\n",
       "      <td>...</td>\n",
       "      <td>...</td>\n",
       "      <td>...</td>\n",
       "      <td>...</td>\n",
       "      <td>...</td>\n",
       "    </tr>\n",
       "    <tr>\n",
       "      <th>210</th>\n",
       "      <td>109.7</td>\n",
       "      <td>55.3</td>\n",
       "      <td>31.197587</td>\n",
       "      <td>3.929215</td>\n",
       "      <td>562.376812</td>\n",
       "      <td>50.340077</td>\n",
       "    </tr>\n",
       "    <tr>\n",
       "      <th>211</th>\n",
       "      <td>109.7</td>\n",
       "      <td>55.4</td>\n",
       "      <td>29.989708</td>\n",
       "      <td>7.346168</td>\n",
       "      <td>569.99098</td>\n",
       "      <td>39.267057</td>\n",
       "    </tr>\n",
       "    <tr>\n",
       "      <th>212</th>\n",
       "      <td>109.7</td>\n",
       "      <td>55.5</td>\n",
       "      <td>24.773557</td>\n",
       "      <td>8.127559</td>\n",
       "      <td>577.718648</td>\n",
       "      <td>28.233061</td>\n",
       "    </tr>\n",
       "    <tr>\n",
       "      <th>213</th>\n",
       "      <td>109.7</td>\n",
       "      <td>55.6</td>\n",
       "      <td>17.309022</td>\n",
       "      <td>9.765515</td>\n",
       "      <td>585.555321</td>\n",
       "      <td>17.312864</td>\n",
       "    </tr>\n",
       "    <tr>\n",
       "      <th>214</th>\n",
       "      <td>109.7</td>\n",
       "      <td>55.7</td>\n",
       "      <td>6.924097</td>\n",
       "      <td>7.056229</td>\n",
       "      <td>593.496682</td>\n",
       "      <td>7.056229</td>\n",
       "    </tr>\n",
       "  </tbody>\n",
       "</table>\n",
       "<p>215 rows × 6 columns</p>\n",
       "</div>"
      ],
      "text/plain": [
       "      long   lat     toWest     toEast       toSud      toNord\n",
       "0    103.9  51.7   3.692319  10.050579   13.183287   592.95445\n",
       "1    104.1  51.6   17.38168   5.600282   29.519998  593.382115\n",
       "2    104.1  51.7   6.397597  15.810201   26.954139  584.502688\n",
       "3    104.3  51.5  31.457257   1.252625   46.911654  594.270997\n",
       "4    104.3  51.6  20.900468  11.655669   42.500773   585.21237\n",
       "..     ...   ...        ...        ...         ...         ...\n",
       "210  109.7  55.3  31.197587   3.929215  562.376812   50.340077\n",
       "211  109.7  55.4  29.989708   7.346168   569.99098   39.267057\n",
       "212  109.7  55.5  24.773557   8.127559  577.718648   28.233061\n",
       "213  109.7  55.6  17.309022   9.765515  585.555321   17.312864\n",
       "214  109.7  55.7   6.924097   7.056229  593.496682    7.056229\n",
       "\n",
       "[215 rows x 6 columns]"
      ]
     },
     "execution_count": 26,
     "metadata": {},
     "output_type": "execute_result"
    }
   ],
   "source": [
    "dff"
   ]
  },
  {
   "cell_type": "code",
   "execution_count": null,
   "id": "4524a698-04d4-47a6-83ea-1178748e8130",
   "metadata": {},
   "outputs": [],
   "source": [
    "plt.scatter('norm_x', 'norm_xx', data=res, s=5, alpha=0.2)"
   ]
  },
  {
   "cell_type": "code",
   "execution_count": null,
   "id": "97c1d3ab-d229-4a8b-b817-b357c92b76a9",
   "metadata": {},
   "outputs": [],
   "source": [
    "# This solution by @denis is OK for small xy2\n",
    "res = pd.DataFrame(columns=['long', 'lat'])\n",
    "\n",
    "res['mindistWest'] = np.min(spatial.distance.cdist(res.loc[:, ['rlong', 'rlat']], obrisWest.loc[:, ['rlong', 'rlat']], metric=rdist), axis=1)\n",
    "res['mindistEast'] = np.min(spatial.distance.cdist(res.loc[:, ['rlong', 'rlat']], obrisEast.loc[:, ['rlong', 'rlat']], metric=rdist), axis=1)\n",
    "res['norm_x'] = res['mindistWest']/(res['mindistWest'] + res['mindistEast'])\n",
    "res['toNord'] = np.min(spatial.distance.pdist(res.loc[:, ['rlong', 'rlat']], obrisWest.loc[:, ['rlong', 'rlat']], metric=rdist), axis=1)\n",
    "res['mindistEast'] = np.min(spatial.distance.cdist(res.loc[:, ['rlong', 'rlat']], obrisEast.loc[:, ['rlong', 'rlat']], metric=rdist), axis=1)\n",
    "\n",
    "res['norm_y'] = res['toSud']/(res['toSud'] + res['toNord'])\n",
    "\n",
    "res"
   ]
  },
  {
   "cell_type": "code",
   "execution_count": null,
   "id": "0a55d0fc-7ac2-4b5c-b05f-85ab76e38a79",
   "metadata": {
    "tags": []
   },
   "outputs": [],
   "source": [
    "l = list(obrisWest['long']) + list(obrisEast['long'])"
   ]
  },
  {
   "cell_type": "code",
   "execution_count": null,
   "id": "e3495744-cee5-45c7-b461-d6faf4351405",
   "metadata": {
    "tags": []
   },
   "outputs": [],
   "source": [
    "point = Point(103, 55)"
   ]
  },
  {
   "cell_type": "code",
   "execution_count": null,
   "id": "6cb8df72-af2d-4d4a-81aa-cef3898b820f",
   "metadata": {
    "tags": []
   },
   "outputs": [],
   "source": [
    "obrisPolygon.contains(point)"
   ]
  },
  {
   "cell_type": "code",
   "execution_count": null,
   "id": "5cf63b66-2d15-4883-81b1-2c91f3a9ed10",
   "metadata": {
    "tags": []
   },
   "outputs": [],
   "source": [
    "dff = pd.DataFrame(columns=['long', 'lat'])\n",
    "dff"
   ]
  },
  {
   "cell_type": "markdown",
   "id": "253692b9-4e34-43ac-8a4d-da8269d18694",
   "metadata": {},
   "source": [
    "#### fill baikal obris with cells `longStep` * `latStep`  \n",
    "do it once. do no forget save to file"
   ]
  },
  {
   "cell_type": "code",
   "execution_count": null,
   "id": "b3bca902-1d92-47b0-b142-d913d2001077",
   "metadata": {
    "tags": []
   },
   "outputs": [],
   "source": [
    "dff['norm_x'] = np.int32(dff['toWest']/(dff['toWest'] + dff['toEast'])*100)\n",
    "dff['norm_y'] = np.int32(dff['toSud']/(dff['toSud'] + dff['toNord'])*100)\n",
    "dff"
   ]
  },
  {
   "cell_type": "code",
   "execution_count": null,
   "id": "d8eac222-235a-4bf1-9800-98b875af9b10",
   "metadata": {
    "tags": []
   },
   "outputs": [],
   "source": [
    "dff.plot('long', 'lat', c=dff['norm_x'], kind='scatter',)"
   ]
  },
  {
   "cell_type": "code",
   "execution_count": null,
   "id": "5efef421-9c30-4b61-887d-63749b453893",
   "metadata": {},
   "outputs": [],
   "source": []
  },
  {
   "cell_type": "code",
   "execution_count": 24,
   "id": "9f9b7ea9-a8de-4746-8209-5d70f5e7a1c3",
   "metadata": {},
   "outputs": [],
   "source": []
  },
  {
   "cell_type": "code",
   "execution_count": null,
   "id": "50ab7b66-0856-4ee9-896c-07bc2f571482",
   "metadata": {},
   "outputs": [],
   "source": []
  }
 ],
 "metadata": {
  "kernelspec": {
   "display_name": "Python 3 (ipykernel)",
   "language": "python",
   "name": "python3"
  },
  "language_info": {
   "codemirror_mode": {
    "name": "ipython",
    "version": 3
   },
   "file_extension": ".py",
   "mimetype": "text/x-python",
   "name": "python",
   "nbconvert_exporter": "python",
   "pygments_lexer": "ipython3",
   "version": "3.12.2"
  }
 },
 "nbformat": 4,
 "nbformat_minor": 5
}
