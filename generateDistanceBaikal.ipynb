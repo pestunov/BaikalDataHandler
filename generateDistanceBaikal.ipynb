{
 "cells": [
  {
   "cell_type": "code",
   "execution_count": null,
   "id": "2f6d2dd3-7936-4d9b-a57c-76c6b37028bb",
   "metadata": {
    "tags": []
   },
   "outputs": [],
   "source": [
    "import pandas as pd\n",
    "import numpy as np\n",
    "from matplotlib import pyplot as plt\n",
    "from scipy import spatial\n",
    "\n",
    "import os"
   ]
  },
  {
   "cell_type": "code",
   "execution_count": null,
   "id": "2d4d94ac-859b-4418-b4f5-4e453c587082",
   "metadata": {
    "tags": []
   },
   "outputs": [],
   "source": [
    "from shapely.geometry import Point\n",
    "from shapely.geometry import Polygon"
   ]
  },
  {
   "cell_type": "code",
   "execution_count": null,
   "id": "5efd8a40-6c25-42aa-a776-153b25d1c84d",
   "metadata": {
    "tags": []
   },
   "outputs": [],
   "source": [
    "plt.style.use('Solarize_Light2')   # try another styles: 'classic'"
   ]
  },
  {
   "cell_type": "code",
   "execution_count": null,
   "id": "28a67df6-faaa-459f-a412-f4e90a9547f4",
   "metadata": {
    "tags": []
   },
   "outputs": [],
   "source": [
    "#driver = \"~/\"  # \"G:/\n",
    "driver = \"G:/\"\n",
    "destData = os.path.join(driver, \"1_Data1/sea/AllSeaGisOut.txt\")\n",
    "batimetrFile = \"G:/1_Data1/batimetria/b1.txt\""
   ]
  },
  {
   "cell_type": "code",
   "execution_count": null,
   "id": "29cb09ae-a590-4e60-aa22-3a378b2310a9",
   "metadata": {
    "tags": []
   },
   "outputs": [],
   "source": [
    "obris = pd.read_csv(os.path.join(driver, \"1_Data1/obris/obris.dat\"),\n",
    "                    header=0,\n",
    "                    na_values='--',\n",
    "                    sep='\\t',\n",
    "                    decimal=',',\n",
    "                    nrows=5425\n",
    "                   )\n",
    "obris.loc[np.isnan(obris['lat']),:]"
   ]
  },
  {
   "cell_type": "code",
   "execution_count": null,
   "id": "108d63be-e0aa-41cd-afbf-bdcb9eec7a5e",
   "metadata": {},
   "outputs": [],
   "source": [
    "obris_olkhon = obris.loc[4845:5298,:]\n",
    "obris_olkhon"
   ]
  },
  {
   "cell_type": "code",
   "execution_count": null,
   "id": "941c7cbb-9510-47b6-a389-389539d8b8b9",
   "metadata": {},
   "outputs": [],
   "source": [
    "plt.scatter('long', 'lat', data=obris, s=1)\n",
    "plt.scatter('long', 'lat', data=obris_olkhon, s=1)"
   ]
  },
  {
   "cell_type": "code",
   "execution_count": null,
   "id": "41cf4a37-995a-4f44-a085-e019f65a1e73",
   "metadata": {
    "tags": []
   },
   "outputs": [],
   "source": [
    "obrisEast = pd.read_csv(os.path.join(driver, \"1_Data1/obris/obrisEast.dat\"),\n",
    "                        header=0,\n",
    "                        na_values='--',\n",
    "                        sep='\\t',\n",
    "                        decimal=',',\n",
    "                       )"
   ]
  },
  {
   "cell_type": "code",
   "execution_count": null,
   "id": "bb1eed62-1ba3-4132-9012-07d1a09851f6",
   "metadata": {
    "tags": []
   },
   "outputs": [],
   "source": [
    "obrisWest = pd.read_csv(os.path.join(driver, \"1_Data1/obris/obrisWest.dat\"),\n",
    "                        header=0,\n",
    "                        na_values='--',\n",
    "                        sep='\\t',\n",
    "                        decimal=',',\n",
    "                       )\n",
    "obrisWest.head(3)"
   ]
  },
  {
   "cell_type": "code",
   "execution_count": null,
   "id": "5e453ae2-717b-43d6-9d3d-c962293e8190",
   "metadata": {
    "tags": []
   },
   "outputs": [],
   "source": [
    "plt.rcParams['figure.figsize'] = [4, 5]\n",
    "fig, ax = plt.subplots()\n",
    "ax.plot(obrisEast['long'], obrisEast['lat'], 'b-', alpha=0.4)\n",
    "ax.plot(obrisWest['long'], obrisWest['lat'], 'r-', alpha=0.4)\n"
   ]
  },
  {
   "cell_type": "markdown",
   "id": "305f30b0-1570-4a9b-bda5-a4487616f8a8",
   "metadata": {},
   "source": [
    "## GIS handlers   \n",
    "### Get Squared Baikal"
   ]
  },
  {
   "cell_type": "code",
   "execution_count": null,
   "id": "4e77b902-5852-4cb1-85df-835eb5ae6041",
   "metadata": {
    "tags": []
   },
   "outputs": [],
   "source": [
    "def dist(a, b):\n",
    "    \"\"\"\n",
    "    Calculate the great circle distance between two points\n",
    "    on the earth (specified in decimal degrees,\n",
    "    [0] - long,\n",
    "    [1] - lat)\n",
    "    \"\"\"\n",
    "    x1, y1, x2, y2 = map(np.radians, [a[0], a[1], b[0], b[1]])\n",
    "    dx = x2 - x1\n",
    "    dy = y2 - y1\n",
    "    a = np.sin(dy/2)**2 + np.cos(y1) * np.cos(y2) * np.sin(dx/2)**2\n",
    "    c = 2 * np.arcsin(np.sqrt(a))\n",
    "    # Earth`s radius in kilometers\n",
    "    km = 6372.795 * c\n",
    "    return km\n",
    "\n",
    "\n",
    "def rdist(a, b):\n",
    "    \"\"\"\n",
    "    Calculate the great circle distance between two points\n",
    "    on the sphere, radius 1 ru (specified in radians, x1, y1, x2, y2\n",
    "    x - long, y - lat).\n",
    "    multiply result to Earth`s dia (6372.795 km) to get metric distance on Earth surface\n",
    "    \"\"\"\n",
    "    x1, y1 = a\n",
    "    x2, y2 =b\n",
    "    return 2 * np.arcsin(np.sqrt(np.sin((y2 - y1)/2)**2 + np.cos(y1) * np.cos(y2) * np.sin((x2 - x1)/2)**2))"
   ]
  },
  {
   "cell_type": "code",
   "execution_count": null,
   "id": "98fcb274-2cfe-49bf-9f33-51ff3133ca11",
   "metadata": {
    "tags": []
   },
   "outputs": [],
   "source": [
    "tomsk = (85.1974, 56.372)\n",
    "moscow = (37.929, 55.422)\n",
    "a = (85, 51)\n",
    "b = (85, 51.01)\n",
    "dist(a, b)"
   ]
  },
  {
   "cell_type": "code",
   "execution_count": null,
   "id": "a8fd2812-9357-4d17-b1d5-d5e9e65cf73a",
   "metadata": {
    "tags": []
   },
   "outputs": [],
   "source": [
    "nordPoint = (109.767, 55.751)\n",
    "sudPoint = (103.70917, 51.707917)"
   ]
  },
  {
   "cell_type": "code",
   "execution_count": null,
   "id": "b8aeada9-6ed2-4c42-9a61-78d63837380c",
   "metadata": {
    "tags": []
   },
   "outputs": [],
   "source": [
    "obrisWest['longr'] = np.radians(obrisWest['long'])\n",
    "obrisWest['latr'] = np.radians(obrisWest['lat'])\n",
    "obrisEast['longr'] = np.radians(obrisEast['long'])\n",
    "obrisEast['latr'] = np.radians(obrisEast['lat'])"
   ]
  },
  {
   "cell_type": "raw",
   "id": "a2634fa0-a7cb-4d90-9863-710e84d4cefd",
   "metadata": {
    "tags": []
   },
   "source": [
    "for i in range(len(res)):\n",
    "    argg = (float(res.loc[i, 'long']), float(res.loc[i, 'lat']))\n",
    "    print(argg)\n",
    "    res.at[i, 'toWest'] = obrisWest.apply(lambda x: dist((x['long'], x['lat']), argg), axis=1).min()\n",
    "    res.at[i, 'toEast'] = obrisEast.apply(lambda x: dist((x['long'], x['lat']), argg), axis=1).min()\n",
    "    res.at[i, 'toSud'] = dist(sudPoint, argg)\n",
    "    res.at[i, 'toNord'] = dist(nordPoint, argg)\n",
    "    print('*', end='')"
   ]
  },
  {
   "cell_type": "code",
   "execution_count": null,
   "id": "efedbdc8-34df-45db-9a0c-2e84f2baa235",
   "metadata": {
    "scrolled": true,
    "tags": []
   },
   "outputs": [],
   "source": [
    "ob = zip(list(obrisWest['long'])+(list(obrisEast['long'])) , list(obrisWest['lat'])+(list(obrisEast['lat'])))"
   ]
  },
  {
   "cell_type": "code",
   "execution_count": null,
   "id": "7b305456-b5b3-42ec-a775-cb8ab5409bec",
   "metadata": {
    "scrolled": true,
    "tags": []
   },
   "outputs": [],
   "source": [
    "obrisPolygon = Polygon(obris_olkhon)\n",
    "obrisPolygon"
   ]
  },
  {
   "cell_type": "code",
   "execution_count": null,
   "id": "92a196be-bcf0-47ec-b8be-8e1ded97e297",
   "metadata": {},
   "outputs": [],
   "source": [
    "dff = 0\n",
    "dff = pd.DataFrame(columns=['long', 'lat'])\n",
    "\n",
    "n=0\n",
    "for x in range(10350, 11000, round(longStep*100)):\n",
    "    print(f'long = {x/100}; ', end='')\n",
    "    for y in np.arange(5140, 5590, round(latStep*100)):\n",
    "        if obrisPolygon.contains(Point(x/100, y/100)):\n",
    "            dff.loc[len(dff), ['long', 'lat']] = [x/100, y/100]\n",
    "            n+=1\n",
    "            if n%100 == 0:\n",
    "                print(f\"n={n},\", end=' ')\n",
    "print(\"done!\")"
   ]
  },
  {
   "cell_type": "code",
   "execution_count": null,
   "id": "738dd0a1-7cbe-446b-b12f-7b8e5a9effae",
   "metadata": {},
   "outputs": [],
   "source": [
    "longStep = 0.02\n",
    "latStep = 0.01"
   ]
  },
  {
   "cell_type": "code",
   "execution_count": null,
   "id": "3aa9a6e0-5d90-403c-9c6d-4c2edad534f0",
   "metadata": {},
   "outputs": [],
   "source": [
    "dist((0, 51.5), (longStep, 51.5)),  dist((0, 55.9), (longStep, 55.9))"
   ]
  },
  {
   "cell_type": "code",
   "execution_count": null,
   "id": "d8f7c888-2a50-4728-a738-43d2a1fe4fe2",
   "metadata": {},
   "outputs": [],
   "source": [
    "dist((110, 51.5), (110, 51.5+latStep))"
   ]
  },
  {
   "cell_type": "code",
   "execution_count": null,
   "id": "291640b2-a0dd-4159-8fb3-c75d9cedb968",
   "metadata": {
    "tags": []
   },
   "outputs": [],
   "source": [
    "dff = 0\n",
    "dff = pd.DataFrame(columns=['long', 'lat'])\n",
    "\n",
    "n=0\n",
    "for x in range(10350, 11000, round(longStep*100)):\n",
    "    print(f'long = {x/100}; ', end='')\n",
    "    for y in np.arange(5140, 5590, round(latStep*100)):\n",
    "        if obrisPolygon.contains(Point(x/100, y/100)):\n",
    "            toWest = obrisWest.apply(lambda f: dist((f['long'], f['lat']), (x/100, y/100)), axis=1).min()\n",
    "            toEast = obrisEast.apply(lambda f: dist((f['long'], f['lat']), (x/100, y/100)), axis=1).min()\n",
    "            toSud = dist(sudPoint, (x/100, y/100))\n",
    "            toNord = dist(nordPoint, (x/100, y/100))\n",
    "            dff.loc[len(dff), ['long', 'lat', 'toWest', 'toEast', 'toSud', 'toNord']] = [x/100, y/100, toWest, toEast, toSud, toNord]\n",
    "            n+=1\n",
    "            if n%100 == 0:\n",
    "                print(f\"n={n},\", end=' ')\n",
    "print(\"done!\")"
   ]
  },
  {
   "cell_type": "code",
   "execution_count": null,
   "id": "c2a195e3-06a9-4c39-834f-d5de163bef99",
   "metadata": {},
   "outputs": [],
   "source": [
    "dff.loc[::-1,['lat']]"
   ]
  },
  {
   "cell_type": "code",
   "execution_count": null,
   "id": "3f98be08-1242-4003-8b9e-f69e897b6de6",
   "metadata": {
    "tags": []
   },
   "outputs": [],
   "source": [
    "dff.to_csv('wholeBaikalGridolkhon_.dat',\n",
    "           sep='\\t')"
   ]
  },
  {
   "cell_type": "code",
   "execution_count": null,
   "id": "e61487f2-954d-4f39-b229-0559df154d55",
   "metadata": {},
   "outputs": [],
   "source": [
    "dff"
   ]
  },
  {
   "cell_type": "code",
   "execution_count": null,
   "id": "4e986443-1b03-46bb-9148-644ee8df9b95",
   "metadata": {},
   "outputs": [],
   "source": [
    "plt.rcParams['figure.figsize'] = [15, 18]\n",
    "plt.scatter('long', 'lat', data=dff, s=1, alpha=0.5)"
   ]
  },
  {
   "cell_type": "code",
   "execution_count": null,
   "id": "4524a698-04d4-47a6-83ea-1178748e8130",
   "metadata": {},
   "outputs": [],
   "source": [
    "plt.scatter('norm_x', 'norm_xx', data=res, s=5, alpha=0.2)"
   ]
  },
  {
   "cell_type": "code",
   "execution_count": null,
   "id": "97c1d3ab-d229-4a8b-b817-b357c92b76a9",
   "metadata": {},
   "outputs": [],
   "source": [
    "# This solution by @denis is OK for small xy2\n",
    "res = pd.DataFrame(columns=['long', 'lat'])\n",
    "\n",
    "res['mindistWest'] = np.min(spatial.distance.cdist(res.loc[:, ['rlong', 'rlat']], obrisWest.loc[:, ['rlong', 'rlat']], metric=rdist), axis=1)\n",
    "res['mindistEast'] = np.min(spatial.distance.cdist(res.loc[:, ['rlong', 'rlat']], obrisEast.loc[:, ['rlong', 'rlat']], metric=rdist), axis=1)\n",
    "res['norm_x'] = res['mindistWest']/(res['mindistWest'] + res['mindistEast'])\n",
    "res['toNord'] = np.min(spatial.distance.pdist(res.loc[:, ['rlong', 'rlat']], obrisWest.loc[:, ['rlong', 'rlat']], metric=rdist), axis=1)\n",
    "res['mindistEast'] = np.min(spatial.distance.cdist(res.loc[:, ['rlong', 'rlat']], obrisEast.loc[:, ['rlong', 'rlat']], metric=rdist), axis=1)\n",
    "\n",
    "res['norm_y'] = res['toSud']/(res['toSud'] + res['toNord'])\n",
    "\n",
    "res"
   ]
  },
  {
   "cell_type": "code",
   "execution_count": null,
   "id": "0a55d0fc-7ac2-4b5c-b05f-85ab76e38a79",
   "metadata": {
    "tags": []
   },
   "outputs": [],
   "source": [
    "l = list(obrisWest['long']) + list(obrisEast['long'])"
   ]
  },
  {
   "cell_type": "code",
   "execution_count": null,
   "id": "e3495744-cee5-45c7-b461-d6faf4351405",
   "metadata": {
    "tags": []
   },
   "outputs": [],
   "source": [
    "point = Point(103, 55)"
   ]
  },
  {
   "cell_type": "code",
   "execution_count": null,
   "id": "6cb8df72-af2d-4d4a-81aa-cef3898b820f",
   "metadata": {
    "tags": []
   },
   "outputs": [],
   "source": [
    "obrisPolygon.contains(point)"
   ]
  },
  {
   "cell_type": "code",
   "execution_count": null,
   "id": "5cf63b66-2d15-4883-81b1-2c91f3a9ed10",
   "metadata": {
    "tags": []
   },
   "outputs": [],
   "source": [
    "dff = pd.DataFrame(columns=['long', 'lat'])\n",
    "dff"
   ]
  },
  {
   "cell_type": "markdown",
   "id": "253692b9-4e34-43ac-8a4d-da8269d18694",
   "metadata": {},
   "source": [
    "#### fill baikal obris with cells `longStep` * `latStep`  \n",
    "do it once. do no forget save to file"
   ]
  },
  {
   "cell_type": "code",
   "execution_count": null,
   "id": "b3bca902-1d92-47b0-b142-d913d2001077",
   "metadata": {
    "tags": []
   },
   "outputs": [],
   "source": [
    "dff['norm_x'] = np.int32(dff['toWest']/(dff['toWest'] + dff['toEast'])*100)\n",
    "dff['norm_y'] = np.int32(dff['toSud']/(dff['toSud'] + dff['toNord'])*100)\n",
    "dff"
   ]
  },
  {
   "cell_type": "code",
   "execution_count": null,
   "id": "d8eac222-235a-4bf1-9800-98b875af9b10",
   "metadata": {
    "tags": []
   },
   "outputs": [],
   "source": [
    "dff.plot('long', 'lat', c=dff['norm_x'], kind='scatter',)"
   ]
  }
 ],
 "metadata": {
  "kernelspec": {
   "display_name": "Python 3 (ipykernel)",
   "language": "python",
   "name": "python3"
  },
  "language_info": {
   "codemirror_mode": {
    "name": "ipython",
    "version": 3
   },
   "file_extension": ".py",
   "mimetype": "text/x-python",
   "name": "python",
   "nbconvert_exporter": "python",
   "pygments_lexer": "ipython3",
   "version": "3.11.2"
  }
 },
 "nbformat": 4,
 "nbformat_minor": 5
}
