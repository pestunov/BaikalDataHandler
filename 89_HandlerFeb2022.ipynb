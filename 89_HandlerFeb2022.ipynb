{
 "cells": [
  {
   "cell_type": "code",
   "execution_count": null,
   "id": "88a84ba4-0bec-44bb-9475-8b9bc3206461",
   "metadata": {
    "tags": []
   },
   "outputs": [],
   "source": [
    "import pandas as pd\n",
    "import numpy as np\n",
    "import matplotlib.pyplot as plt\n",
    "\n",
    "import baikalfunctions as bfunc\n",
    "import scheme_mar2023 as scheme\n",
    "import mysecure"
   ]
  },
  {
   "cell_type": "code",
   "execution_count": null,
   "id": "ad41cd73-1286-4453-bc5a-22be3e354d60",
   "metadata": {
    "tags": []
   },
   "outputs": [],
   "source": [
    "pd.options.display.max_columns = 100\n",
    "pd.options.display.max_rows = 100\n",
    "pd.__version__"
   ]
  },
  {
   "cell_type": "code",
   "execution_count": null,
   "id": "bbcb1581-1408-4c7c-982e-a0245a7e37e5",
   "metadata": {
    "tags": []
   },
   "outputs": [],
   "source": [
    "# pd.set_option('display.min_rows', 100)\n",
    "%matplotlib inline\n",
    "plt.style.use('dark_background')   # try another styles: 'classic'\n",
    "plt.rcParams['figure.figsize'] = [15, 5]\n",
    "#plt.subplots_adjust(top=1, left=0, right=1, bottom=0)"
   ]
  },
  {
   "cell_type": "code",
   "execution_count": null,
   "id": "5d425f27-5073-41ec-83a7-5de782187e10",
   "metadata": {
    "tags": []
   },
   "outputs": [],
   "source": [
    "pwd = 'G:\\\\1_Data1\\\\89_BaikalFeb2022\\\\'\n",
    "saveImgPath = 'G:\\\\1_Data1\\\\89_BaikalFeb2022\\\\'\n",
    "saveDataPath = 'G:\\\\1_Data1\\\\89_BaikalFeb2022\\\\'"
   ]
  },
  {
   "cell_type": "code",
   "execution_count": null,
   "id": "1458bdc4-1ce9-4427-bd34-df517d490a0c",
   "metadata": {
    "tags": []
   },
   "outputs": [],
   "source": [
    "names=['Date', 'Time', 'DateUTC', 'TimeUTC', 'latitude', 'longitude', 'speed', 'course', 'solar_altitude', 'solar-azimuth',\n",
    "       'temperature_air', 'pressure_air', 'relative-humidity_air', 'precipitation', 'solar_eye', 'solar_uv',\n",
    "       'co2_picarro', 'co2_picarro_max', 'co2_picarro_min', 'ch4_picarro', 'ch4_picarro_max', 'ch4_picarro_min', 'h2o_picarro', 'co2_licor', 'h2o_licor', 'o2_water', 'o2_water_temperature',\n",
    "       'ph', 'temperature_water', 'temperature_equ_1', 'temperature_equ_2', 'temperature_equ_3', 'temperature_equ_4', 'flow_water', 'flow_air', 'channel', 'flag',\n",
    "       'fluo_nx_red', 'fluo_nx_green', 'fluo_nx_blue', 'fluo_kfa_red', 'fluo_kfa_green', 'fluo_kfa_blue', # 'comment',\n",
    "       'water_flow_1', 'water_flow_2', 'water_flow_3', 'water_flow_4',\n",
    "       'temperature_ds_1', 'temperature_ds_2', 'temperature_ds_3', 'temperature_ds_4', 'temperature_ds_5', 'temperature_ds_6', 'temperature_ds_7'\n",
    "      ]"
   ]
  },
  {
   "cell_type": "code",
   "execution_count": null,
   "id": "34569aed-730e-4d47-ada0-2bc2d312af9b",
   "metadata": {
    "tags": []
   },
   "outputs": [],
   "source": [
    "df = pd.read_csv(pwd+'origin\\\\data.txt',\n",
    "                 sep='\\s+',\n",
    "                 header=None,\n",
    "                 names=names,\n",
    "                 index_col=False,\n",
    "                 parse_dates={'DateTime':['Date', 'Time']},\n",
    "                 dayfirst=True,\n",
    "                 na_values='-999999',\n",
    "                 decimal=',',\n",
    "                 nrows=1440*3*10)\n",
    "df.info()"
   ]
  },
  {
   "cell_type": "code",
   "execution_count": null,
   "id": "0097ccd0-8293-4f00-8e91-f08ad943509e",
   "metadata": {
    "tags": []
   },
   "outputs": [],
   "source": [
    "df.describe()"
   ]
  },
  {
   "cell_type": "markdown",
   "id": "1c429979-b67e-4c55-a7d7-aeb7b6e4fbe0",
   "metadata": {},
   "source": [
    "### refactor table. remove unused columns, rename columns"
   ]
  },
  {
   "cell_type": "code",
   "execution_count": null,
   "id": "5e9ee822-eefd-48bb-abc2-a9b14de681fb",
   "metadata": {
    "tags": []
   },
   "outputs": [],
   "source": [
    "df.drop([f'temperature_equ_{i}' for i in range(10)], axis='columns', inplace=True, errors='ignore')"
   ]
  },
  {
   "cell_type": "code",
   "execution_count": null,
   "id": "b75e9d5b-2129-4ae8-8eca-b0ad6f667a7b",
   "metadata": {
    "tags": []
   },
   "outputs": [],
   "source": [
    "df.rename(columns=scheme.NAME_CONV_BAS, inplace=True)\n",
    "df.sort_values(by='DateTime', inplace=True)\n",
    "df.reset_index(inplace=True, drop=True)\n",
    "df.describe()"
   ]
  },
  {
   "cell_type": "code",
   "execution_count": null,
   "id": "2f238a40-1287-4b59-a8b7-2b9aa8a7c81c",
   "metadata": {
    "tags": []
   },
   "outputs": [],
   "source": [
    "df.sort_values(by='DateTime', inplace=True)"
   ]
  },
  {
   "cell_type": "code",
   "execution_count": null,
   "id": "7f5c53a9-1426-4d90-bd36-db331ea33407",
   "metadata": {
    "tags": []
   },
   "outputs": [],
   "source": [
    "### remove service variables\n",
    "df.drop([x for x in df.columns if x.lower().endswith('err')], axis='columns', inplace=True, errors='ignore')\n",
    "df.drop([x for x in df.columns if x.lower().endswith('max')], axis='columns', inplace=True, errors='ignore')\n",
    "df.drop([x for x in df.columns if x.lower().endswith('min')], axis='columns', inplace=True, errors='ignore')\n",
    "df.drop([x for x in df.columns if x.lower().startswith('pump')], axis='columns', inplace=True, errors='ignore')\n",
    "df.drop(['HumidityAir', ], axis='columns', inplace=True, errors='ignore')\n"
   ]
  },
  {
   "cell_type": "code",
   "execution_count": null,
   "id": "586a1fc5-918c-4a33-aaa9-5d65f0887e9d",
   "metadata": {
    "tags": []
   },
   "outputs": [],
   "source": [
    "df.shape, df.columns"
   ]
  },
  {
   "cell_type": "code",
   "execution_count": null,
   "id": "47df79f6-6a82-4949-a3ff-38b73fe38f5d",
   "metadata": {
    "tags": []
   },
   "outputs": [],
   "source": [
    "plt.rcParams['figure.figsize'] = [15, 15]\n",
    "fig, axs = plt.subplots(7, 1)\n",
    "\n",
    "axs[0].set_title('vCO2, ppm')\n",
    "axs[0].plot(df.DateTime, df['vCO2'], '-', c='silver')\n",
    "\n",
    "axs[1].set_title('vCH4, ppm')\n",
    "axs[1].plot(df.DateTime, df['vCH4'], '-', c='silver')\n",
    "\n",
    "axs[2].set_title('Temp')\n",
    "axs[2].plot(df.DateTime, df['TempEqu1'], 'r-')\n",
    "axs[2].plot(df.DateTime, df['TempEqu2'], 'g-')\n",
    "axs[2].plot(df.DateTime, df['TempEqu3'], 'b-')\n",
    "axs[2].plot(df.DateTime, df['TempAir'], 'c-')\n",
    "axs[2].set_ylim(-2, 10)\n",
    "\n",
    "axs[3].set_title('WaterFlow')\n",
    "axs[3].plot(df.DateTime, df['WaterFlowEqu1'], 'r-')\n",
    "axs[3].plot(df.DateTime, df['WaterFlowEqu2'], 'g-')\n",
    "axs[3].plot(df.DateTime, df['WaterFlowEqu3'], 'b-')\n",
    "\n",
    "axs[4].set_title('Press')\n",
    "axs[4].plot(df.DateTime, df['PressAir'], 'c-')\n",
    "axs[5].set_title('Solar')\n",
    "axs[5].plot(df.DateTime, df['LightLX'], 'w-')\n",
    "axs[6].set_title('SolarUV')\n",
    "axs[6].plot(df.DateTime, df['LightUV'], 'b-')\n",
    "\n"
   ]
  },
  {
   "cell_type": "markdown",
   "id": "7a0c768d-907f-4b0d-9825-959a4b4f7178",
   "metadata": {},
   "source": [
    "### Correction data  \n",
    " ** Be carefull !!!  Make it ONCE !!! **\n"
   ]
  },
  {
   "cell_type": "code",
   "execution_count": null,
   "id": "0cd0aff6-6a6d-42dd-9409-941664733528",
   "metadata": {
    "tags": []
   },
   "outputs": [],
   "source": [
    "# gether/apply specific variables\n",
    "### data corrections\n",
    "# df['vCO2'] = df['vCO2'] * scheme.CO2PicarroScaut_cor[0] + scheme.CO2PicarroScaut_cor[1]\n",
    "# df['vCH4'] = df['vCH4'] * scheme.CH4PicarroScaut_cor[0] + scheme.CH4PicarroScaut_cor[1]\n",
    "# df['vCO2'] = df['CO2_dry']\n",
    "# df['vCH4'] = df['CH4_dry']\n",
    "df['LightLX'] = df['LightLX'] * scheme.solar_cor[0] + scheme.solar_cor[1]\n",
    "df['LightUV'] = df['LightUV'] * scheme.solar_uv_cor[0] + scheme.solar_uv_cor[1]\n",
    "df['PressAir'] = bfunc.pressConvert(df['PressAir'])\n",
    "df['PressAir'] = df['PressAir'] * scheme.press_cor[0] + scheme.press_cor[1]\n",
    "\n",
    "### servise data corrections\n",
    "df['TempEqu1'] = df['TempEqu1'] * scheme.tempEqu1_cor[0] + scheme.tempEqu1_cor[1]\n",
    "df['TempEqu2'] = df['TempEqu2'] * scheme.tempEqu2_cor[0] + scheme.tempEqu2_cor[1]\n",
    "df['TempEqu3'] = df['TempEqu3'] * scheme.tempEqu3_cor[0] + scheme.tempEqu3_cor[1]\n",
    "\n",
    "df['AirFlow'] = df['AirFlow'] * scheme.airflow_cor[0] + scheme.airflow_cor[1]\n",
    "df['WaterFlowEqu1'] = df['WaterFlowEqu1'] * scheme.waterflowEqu1_cor[0] + scheme.waterflowEqu1_cor[1]\n",
    "df['WaterFlowEqu2'] = df['WaterFlowEqu2'] * scheme.waterflowEqu2_cor[0] + scheme.waterflowEqu2_cor[1]\n",
    "df['WaterFlowEqu3'] = df['WaterFlowEqu3'] * scheme.waterflowEqu3_cor[0] + scheme.waterflowEqu3_cor[1]\n"
   ]
  },
  {
   "cell_type": "markdown",
   "id": "a3b6553d-e127-4b51-a5cd-06731ca8e85a",
   "metadata": {
    "tags": []
   },
   "source": [
    "###  Remove bad data   \n",
    "List of accidental cases to filter data (see notes)"
   ]
  },
  {
   "cell_type": "code",
   "execution_count": null,
   "id": "f0346dee-1a15-4474-ab4e-91ae5d62e562",
   "metadata": {
    "tags": []
   },
   "outputs": [],
   "source": [
    "filter_list = [{'date_start': '19.02.2022 13:00', 'date_stop': '19.02.2022 13:32', 'cols': ['vCO2', 'vCH4'], 'fill_with': np.NaN},   # Picarro is not ready\n",
    "               {'date_start': '20.02.2022 17:53', 'date_stop': '20.02.2022 17:55', 'cols': ['vCO2', 'vCH4'], 'fill_with': np.NaN},   # Picarro mulfunction\n",
    "               {'date_start': '21.02.2022 07:14', 'date_stop': '21.02.2022 11:52', 'cols': ['vCO2', 'vCH4'], 'fill_with': np.NaN},   # Picarro mulfunction\n",
    "               {'date_start': '20.02.2022 18:14', 'date_stop': '21.02.2022 02:30', 'cols': ['vCH4'], 'fill_with': np.NaN},   # Picarro mulfunction\n",
    "              ]\n",
    "\n",
    "for cycle in filter_list:\n",
    "    for col in cycle['cols']:\n",
    "        date_start = pd.to_datetime(cycle['date_start'], dayfirst=True)\n",
    "        date_stop = pd.to_datetime(cycle['date_stop'], dayfirst=True)\n",
    "        df.loc[(df['DateTime'] > date_start) & (df['DateTime'] < date_stop), col] = cycle['fill_with']"
   ]
  },
  {
   "cell_type": "code",
   "execution_count": null,
   "id": "31a119a7-52d0-4eff-b607-a99b0b049f8c",
   "metadata": {
    "tags": []
   },
   "outputs": [],
   "source": [
    "cols = ['FluoNxRed', 'FluoNxGrn', 'FluoNxBlu', 'FluoKfaRed', 'FluoKfaGrn', 'FluoKfaBlu']\n",
    "for col in cols:\n",
    "    df.loc[df[col] == 0, col] = np.NaN\n",
    "cols = ['WaterFlowEqu1', 'WaterFlowEqu2', 'WaterFlowEqu3', 'AirFlow']\n",
    "for col in cols:\n",
    "    df.loc[df[col] < 0, col] = np.NaN"
   ]
  },
  {
   "cell_type": "markdown",
   "id": "8b957a34-8aa5-4495-8414-9d28ad680657",
   "metadata": {},
   "source": [
    "### prepare data"
   ]
  },
  {
   "cell_type": "code",
   "execution_count": null,
   "id": "03748ac2-aa0c-4fa5-9af6-ca87be9b6bc8",
   "metadata": {
    "tags": []
   },
   "outputs": [],
   "source": [
    "v_state_list = list(scheme.CHANNEL_COLS.values())\n",
    "\n",
    "chnl = 'Channel'\n",
    "if not chnl in df.columns:\n",
    "    df[chnl] = 0\n",
    "if 'V1_state' in df.columns:\n",
    "    df.loc[df.V1_state == 1, chnl] = 1\n",
    "    df.loc[df.V2_state == 1, chnl] = 2\n",
    "    df.loc[df.V3_state == 1, chnl] = 3\n",
    "    df.loc[df.V4_state == 1, chnl] = 4\n",
    "    df.loc[df.V5_state == 1, chnl] = 5\n",
    "    df.loc[df.V6_state == 1, chnl] = 6\n",
    "df.drop(v_state_list, inplace=True, errors='ignore')"
   ]
  },
  {
   "cell_type": "markdown",
   "id": "adad2313-c4e2-4bd0-b58c-5bc60b56601a",
   "metadata": {},
   "source": [
    "#### split data on channel events\n",
    "separate `CH4air` from whole massive. take minimum from each cycle"
   ]
  },
  {
   "cell_type": "code",
   "execution_count": null,
   "id": "1c90108e-5f29-41c3-876f-fb12e88631c8",
   "metadata": {
    "tags": []
   },
   "outputs": [],
   "source": [
    "df['event'] = 0\n",
    "df.loc[df[chnl] != df[chnl].shift(1), ['event']] = 1\n",
    "df['event'] = df['event'].cumsum()\n",
    "df"
   ]
  },
  {
   "cell_type": "code",
   "execution_count": null,
   "id": "99d1f511-410b-41fa-a7ab-b7d70b9f30ac",
   "metadata": {
    "tags": []
   },
   "outputs": [],
   "source": [
    "dfr = df.groupby(by=['event']).min()\n",
    "dfr = dfr.loc[dfr[chnl] == 6,['DateTime', 'vCH4']]\n",
    "dfr"
   ]
  },
  {
   "cell_type": "code",
   "execution_count": null,
   "id": "28e5565d-3944-45bf-bedc-120358bdd045",
   "metadata": {
    "tags": []
   },
   "outputs": [],
   "source": [
    "df = pd.merge(left=df, right=dfr, left_on='DateTime', right_on='DateTime', how='left', suffixes=(None, 'air'))\n",
    "df"
   ]
  },
  {
   "cell_type": "code",
   "execution_count": null,
   "id": "4b656f81-b86e-44d0-8260-e6c2e3d06dce",
   "metadata": {
    "tags": []
   },
   "outputs": [],
   "source": [
    "ch_v = 'Chn_valid'\n",
    "df[ch_v] = 1\n",
    "for deep in range(1, 5):\n",
    "    df.loc[df[chnl] != df[chnl].shift(deep), ch_v] = 0"
   ]
  },
  {
   "cell_type": "code",
   "execution_count": null,
   "id": "3c4f6936-405f-40db-a185-30ee7ae6cc65",
   "metadata": {
    "tags": []
   },
   "outputs": [],
   "source": [
    "df['vCO2air'] = df['vCO2'][(df[chnl] == 6) & (df[ch_v] == 1)]\n",
    "# df['vCH4air'] = df['vCH4'][(df[chnl] == 6) & (df[ch_v] == 1)]\n",
    "for col in ['vCO2air',]:\n",
    "    df[col] = df[col].rolling(3).mean()\n",
    "\n",
    "df['vCO2air'].interpolate(method='values', inplace=True)\n",
    "df['vCH4air'].interpolate(method='values', inplace=True)  ## `time` method mb better\n",
    "df['pCO2air'] = df['vCO2air'] * df['PressAir']  # mkatm\n",
    "df['pCH4air'] = df['vCH4air'] * df['PressAir']  # mkatm"
   ]
  },
  {
   "cell_type": "code",
   "execution_count": null,
   "id": "1cdde8fa-51ef-4f6a-a6dd-ba41608894bd",
   "metadata": {
    "tags": []
   },
   "outputs": [],
   "source": [
    "df['vCH4air'].describe()"
   ]
  },
  {
   "cell_type": "code",
   "execution_count": null,
   "id": "4a329986-fdae-4031-9cb0-c27ad870072a",
   "metadata": {
    "tags": []
   },
   "outputs": [],
   "source": [
    "df"
   ]
  },
  {
   "cell_type": "code",
   "execution_count": null,
   "id": "ec5e7f5c-19ab-49a0-bda8-b83366dd62e3",
   "metadata": {
    "tags": []
   },
   "outputs": [],
   "source": [
    "## do not know why is it here\n",
    "df = df.resample('20S', on='DateTime').mean()\n",
    "df[chnl].fillna(method='ffill', inplace=True)"
   ]
  },
  {
   "cell_type": "code",
   "execution_count": null,
   "id": "6214dfef-7ffd-4c95-bb84-95c82817107e",
   "metadata": {
    "tags": []
   },
   "outputs": [],
   "source": [
    "df['DateTime'] = df.index"
   ]
  },
  {
   "cell_type": "code",
   "execution_count": null,
   "id": "c5b92229-8c3d-4f12-b213-915432e779df",
   "metadata": {
    "tags": []
   },
   "outputs": [],
   "source": [
    "df"
   ]
  },
  {
   "cell_type": "code",
   "execution_count": null,
   "id": "a003322e-b7bd-4326-b6d7-f2b6bf38b1f3",
   "metadata": {
    "tags": []
   },
   "outputs": [],
   "source": [
    "plt.rcParams['figure.figsize'] = [15, 5]\n",
    "fig, axs = plt.subplots(2, 1)\n",
    "\n",
    "axs[0].set_title('CO2 air, ppm')\n",
    "axs[0].set_ylim(400, 500)\n",
    "axs[0].plot(df.DateTime, df['vCO2'], '-', c='silver')\n",
    "axs[0].plot(df.DateTime, df['vCO2air'], 'r-', alpha=0.2)\n",
    "\n",
    "axs[1].set_title('CH4 air, ppm')\n",
    "axs[1].set_ylim(1.5, 3)\n",
    "# axs[1].set_xlim(pd.to_datetime('2022-02-25 12:00'), pd.to_datetime('2022-02-25 14:00'))\n",
    "axs[1].plot(df.DateTime, df['vCH4'], '-', c='silver')\n",
    "axs[1].plot(df.DateTime, df['vCH4air'], 'b-')\n",
    "fig.savefig(saveImgPath+'cAir_vs_time.png', transparent=False)"
   ]
  },
  {
   "cell_type": "code",
   "execution_count": null,
   "id": "29a5adc0-372d-4142-bd92-cea9e7130ac0",
   "metadata": {
    "tags": []
   },
   "outputs": [],
   "source": [
    "df.columns"
   ]
  },
  {
   "cell_type": "markdown",
   "id": "285e7fbc-779e-4a84-a277-667c705003a2",
   "metadata": {
    "tags": []
   },
   "source": [
    "## RECOVERY !!!"
   ]
  },
  {
   "cell_type": "code",
   "execution_count": null,
   "id": "c14bac6e-de93-4c91-add5-10a681806389",
   "metadata": {
    "tags": []
   },
   "outputs": [],
   "source": [
    "df['DateSec'] = df['DateTime'].astype('int64')//10**9\n",
    "df['dTSec'] = df['DateSec'] - df['DateSec'].shift(1)\n",
    "dt = df['dTSec'] / 60   ## delta time, min\n",
    "ch_v = 'Chn_valid'\n",
    "df[ch_v] = 1\n",
    "for deep in range(1, 7):\n",
    "    df.loc[df[chnl] != df[chnl].shift(deep), ch_v] = 0"
   ]
  },
  {
   "cell_type": "markdown",
   "id": "17f12b1e-1498-4845-9569-1024f304b70d",
   "metadata": {
    "tags": []
   },
   "source": [
    "#### recovery `CO2/CH4`, channel `1` (bottom in Feb 2022)"
   ]
  },
  {
   "cell_type": "code",
   "execution_count": null,
   "id": "16350b90-0a95-4c3b-9743-ba9922c5e41b",
   "metadata": {
    "tags": []
   },
   "outputs": [],
   "source": [
    "equ_vol = scheme.equ_walltube_param['equ_vol']  # equivalent equ volume, l\n",
    "equ_cap = scheme.equ_walltube_param['equ_cap']  # equilibrator capacity\n",
    "wtr_flow_min = scheme.equ_walltube_param['water_flow_min'] "
   ]
  },
  {
   "cell_type": "code",
   "execution_count": null,
   "id": "c039bf18-dc89-4ef9-b4d4-696881137b2f",
   "metadata": {
    "tags": []
   },
   "outputs": [],
   "source": [
    "t_wtr = df['TempEqu1']\n",
    "t_air = t_wtr\n",
    "wtr_flow = df['WaterFlowEqu1']\n",
    "air_flow = df['AirFlow']"
   ]
  },
  {
   "cell_type": "code",
   "execution_count": null,
   "id": "ddc76e3e-35a6-44e9-aa7f-c5741035f318",
   "metadata": {
    "tags": []
   },
   "outputs": [],
   "source": [
    "t_wtr"
   ]
  },
  {
   "cell_type": "code",
   "execution_count": null,
   "id": "d8f3a70c-aa0e-402e-9244-9d5aa90e6323",
   "metadata": {
    "tags": []
   },
   "outputs": [],
   "source": [
    "### CO2 water\n",
    "df['vCO2equ'] = df['vCO2'][(df[chnl] == 1) & (df[ch_v] == 1) & (wtr_flow > wtr_flow_min)]\n",
    "solubility = bfunc.getSolubility(t_wtr, 'CO2')\n",
    "\n",
    "density = bfunc.getDensity(t_air, df['PressAir'], 'CO2')\n",
    "cGasAir = df['pCO2air'] / 1000000 * density\n",
    "pGasEquAir = df['vCO2equ'] * df['PressAir']\n",
    "cGasEquAir = pGasEquAir * density / 1000000  # g/l\n",
    "\n",
    "tau = equ_vol/(air_flow+wtr_flow*equ_cap*solubility/density)\n",
    "eternal = (cGasEquAir-cGasEquAir.shift(1)*np.exp(-1*dt/tau))/(1-np.exp(-1*dt/tau))\n",
    "cGasWtr = (eternal*(wtr_flow*equ_cap*solubility/density+air_flow)-air_flow*cGasAir)/(wtr_flow*equ_cap)\n",
    "\n",
    "df['cCO2bot'] = cGasWtr * 1000     # mg/l\n",
    "df['pCO2bot'] = cGasWtr * 1000000 / solubility  # mkatm"
   ]
  },
  {
   "cell_type": "code",
   "execution_count": null,
   "id": "a9b96faf-3a40-4b78-9db2-f365ac3f8eb8",
   "metadata": {
    "tags": []
   },
   "outputs": [],
   "source": [
    "### CH4 water\n",
    "df['vCH4equ'] = df['vCH4'][(df[chnl] == 1) & (df[ch_v] == 1)]\n",
    "solubility = bfunc.getSolubility(t_wtr, 'CH4')\n",
    "\n",
    "density = bfunc.getDensity(t_air, df['PressAir'], 'CH4')\n",
    "cGasAir = df['pCH4air'] / 1000000 * density\n",
    "pGasEquAir = df['vCH4equ'] * df['PressAir']\n",
    "cGasEquAir = pGasEquAir * density / 1000000  # g/l\n",
    "\n",
    "tau = equ_vol/(air_flow+wtr_flow*equ_cap*solubility/density)\n",
    "eternal = (cGasEquAir-cGasEquAir.shift(1)*np.exp(-1*dt/tau))/(1-np.exp(-1*dt/tau))\n",
    "cGasWtr = (eternal*(wtr_flow*equ_cap*solubility/density+air_flow)-air_flow*cGasAir)/(wtr_flow*equ_cap)\n",
    "df['cCH4bot'] = cGasWtr * 1000000000    # ng/l\n",
    "df['pCH4bot'] = cGasWtr * 1000000 / solubility  # mkatm"
   ]
  },
  {
   "cell_type": "code",
   "execution_count": null,
   "id": "20191c9c-0ec9-4a3f-acfd-01e71022ceb9",
   "metadata": {
    "tags": []
   },
   "outputs": [],
   "source": [
    "df['pCH4bot'].describe()"
   ]
  },
  {
   "cell_type": "markdown",
   "id": "f515c5c1-a9d6-4a21-8845-99821799b2a4",
   "metadata": {
    "tags": []
   },
   "source": [
    "#### recovery `CO2/CH4`, channel `3` (surface in Feb 2022)"
   ]
  },
  {
   "cell_type": "code",
   "execution_count": null,
   "id": "45ddeb04-bf56-44ff-b706-5a77f765d0dd",
   "metadata": {
    "tags": []
   },
   "outputs": [],
   "source": [
    "t_wtr = df['TempEqu2']\n",
    "t_air = t_wtr\n",
    "wtr_flow = df['WaterFlowEqu2']  # waterflow sensor at channel #2 didn't work properly"
   ]
  },
  {
   "cell_type": "code",
   "execution_count": null,
   "id": "0ffbe4cd-8e95-4555-9dc4-6a47aa4a890b",
   "metadata": {
    "tags": []
   },
   "outputs": [],
   "source": [
    "t_wtr.describe()"
   ]
  },
  {
   "cell_type": "code",
   "execution_count": null,
   "id": "f48e853e-fb94-45cf-a5a6-465405eed91e",
   "metadata": {
    "tags": []
   },
   "outputs": [],
   "source": [
    "### CO2 water\n",
    "df['vCO2equ'] = df['vCO2'][(df[chnl] == 3) & (df[ch_v] == 1) & (wtr_flow > wtr_flow_min)]\n",
    "solubility = bfunc.getSolubility(t_wtr, 'CO2')\n",
    "\n",
    "density = bfunc.getDensity(t_air, df['PressAir'], 'CO2')\n",
    "cGasAir = df['pCO2air'] / 1000000 * density\n",
    "pGasEquAir = df['vCO2equ'] * df['PressAir']\n",
    "cGasEquAir = pGasEquAir * density / 1000000  # g/l\n",
    "\n",
    "tau = equ_vol/(air_flow+wtr_flow*equ_cap*solubility/density)\n",
    "eternal = (cGasEquAir-cGasEquAir.shift(1)*np.exp(-1*dt/tau))/(1-np.exp(-1*dt/tau))\n",
    "cGasWtr = (eternal*(wtr_flow*equ_cap*solubility/density+air_flow)-air_flow*cGasAir)/(wtr_flow*equ_cap)\n",
    "\n",
    "df['cCO2sur'] = cGasWtr * 1000     # mg/l\n",
    "df['pCO2sur'] = cGasWtr * 1000000 / solubility  # mkatm"
   ]
  },
  {
   "cell_type": "code",
   "execution_count": null,
   "id": "6b5b58ed-2fda-42ca-b428-de5b10bd378d",
   "metadata": {
    "tags": []
   },
   "outputs": [],
   "source": [
    "df['vCO2equ'].describe()"
   ]
  },
  {
   "cell_type": "code",
   "execution_count": null,
   "id": "368a189c-99d0-49d2-8a44-1e7fc015fa2f",
   "metadata": {
    "tags": []
   },
   "outputs": [],
   "source": [
    "### CH4 water\n",
    "df['vCH4equ'] = df['vCH4'][(df[chnl] == 3) & (df[ch_v] == 1)]\n",
    "solubility = bfunc.getSolubility(t_wtr, 'CH4')\n",
    "\n",
    "density = bfunc.getDensity(t_air, df['PressAir'], 'CH4')\n",
    "cGasAir = df['pCH4air'] / 1000000 * density\n",
    "pGasEquAir = df['vCH4equ'] * df['PressAir']\n",
    "cGasEquAir = pGasEquAir * density / 1000000  # g/l\n",
    "\n",
    "tau = equ_vol/(air_flow+wtr_flow*equ_cap*solubility/density)\n",
    "eternal = (cGasEquAir-cGasEquAir.shift(1)*np.exp(-1*dt/tau))/(1-np.exp(-1*dt/tau))\n",
    "cGasWtr = (eternal*(wtr_flow*equ_cap*solubility/density+air_flow)-air_flow*cGasAir)/(wtr_flow*equ_cap)\n",
    "df['cCH4sur'] = cGasWtr * 1000000000    # ng/l\n",
    "df['pCH4sur'] = cGasWtr * 1000000 / solubility  # mkatm"
   ]
  },
  {
   "cell_type": "code",
   "execution_count": null,
   "id": "7e76de3b-736f-456e-b19f-18c917a097fc",
   "metadata": {
    "tags": []
   },
   "outputs": [],
   "source": [
    "## rolling average is applied inplace. Be cafelly, run this cell **ONCE**\n",
    "\n",
    "for col in ['cCO2sur', 'cCO2bot', 'pCO2sur', 'pCO2bot', 'cCH4sur', 'pCH4sur', 'cCH4bot', 'pCH4bot']:\n",
    "    df.loc[df[col] == np.inf , col] = np.nan \n",
    "    df.loc[df[col] == -np.inf , col] = np.nan\n",
    "    df.loc[df[col] <= 0 , col] = np.nan\n",
    "    df[col] = df[col].rolling(3, center=True).mean()"
   ]
  },
  {
   "cell_type": "code",
   "execution_count": null,
   "id": "17f9b324-3250-497c-8ba0-7939aea2868b",
   "metadata": {
    "tags": []
   },
   "outputs": [],
   "source": [
    "df['pCH4bot'].describe()"
   ]
  },
  {
   "cell_type": "code",
   "execution_count": null,
   "id": "62fd2694-cc1a-441c-a4be-d0ad245a0e58",
   "metadata": {
    "tags": []
   },
   "outputs": [],
   "source": [
    "df['pCH4sur'].describe()"
   ]
  },
  {
   "cell_type": "code",
   "execution_count": null,
   "id": "1457e1c0-c3c9-420d-8668-fe3920dde42a",
   "metadata": {
    "tags": []
   },
   "outputs": [],
   "source": [
    "df['pCO2'] = df['vCO2'] * df['PressAir']\n",
    "\n",
    "plt.rcParams['figure.figsize'] = [18, 5]\n",
    "fig, ax = plt.subplots()\n",
    "## ax.set_xlim(pd.to_datetime('05.06.2023 18:00:00', dayfirst=True), pd.to_datetime('05.06.2023 19:00:00', dayfirst=True))\n",
    "ax.set_title('CO2 water, mkatm')\n",
    "ax.set_ylim(0, 1200)\n",
    "ax.plot(df.DateTime, df['pCO2'], '-', c='silver', alpha=0.2)\n",
    "ax.plot(df.DateTime, df['pCO2sur'], 'g-')\n",
    "ax.plot(df.DateTime, df['pCO2bot'], 'r-')\n",
    "ax.plot(df.DateTime, df['pCO2air'], 'c-')\n",
    "fig.savefig(saveImgPath+'pCO2wtr_vs_time.png')"
   ]
  },
  {
   "cell_type": "code",
   "execution_count": null,
   "id": "1059de88-2582-466e-bd76-30d3a52add19",
   "metadata": {
    "tags": []
   },
   "outputs": [],
   "source": [
    "count_recent = 30000\n",
    "df['pCH4'] = df['vCH4'] * df['PressAir']\n",
    "plt.rcParams['figure.figsize'] = [18, 5]\n",
    "fig, ax = plt.subplots()\n",
    "ax.set_title('CH4 water, mkatm')\n",
    "# ax.set_xlim(pd.to_datetime('06.06.2023 10:00:00', dayfirst=True), pd.to_datetime('06.06.2023 19:00:00', dayfirst=True))\n",
    "ax.set_ylim(0, 200)\n",
    "ax.plot(df.tail(count_recent).DateTime, df.tail(count_recent)['pCH4'], '-', c='silver')\n",
    "ax.plot(df.tail(count_recent).DateTime, df.tail(count_recent)['pCH4bot'], 'r.')\n",
    "ax.plot(df.tail(count_recent).DateTime, df.tail(count_recent)['pCH4sur'], 'g.')\n",
    "ax.plot(df.tail(count_recent).DateTime, df.tail(count_recent)['pCH4air'], 'c.')\n",
    "fig.savefig(saveImgPath+'pCH4wtr_vs_time.png')"
   ]
  },
  {
   "cell_type": "code",
   "execution_count": null,
   "id": "c8792563-e6e6-4db8-96f3-0f8a7aac1f9b",
   "metadata": {},
   "outputs": [],
   "source": [
    "df.columns"
   ]
  },
  {
   "cell_type": "code",
   "execution_count": null,
   "id": "3f07ee83-abe1-4f4d-95ed-817ff3e3903c",
   "metadata": {},
   "outputs": [],
   "source": [
    "df['hour'] = df['DateTime'].dt.hour # + df['DateTime'].dt.minute / 60\n",
    "df['hour']"
   ]
  },
  {
   "cell_type": "code",
   "execution_count": null,
   "id": "1a7a5dee-e270-4d97-90c1-a7bcbf6110fb",
   "metadata": {
    "tags": []
   },
   "outputs": [],
   "source": [
    "cols = ['DateTime', 'hour', 'DateSec', 'TempAir', 'PressAir', 'Precipitation', 'LightLX', 'LightUV',\n",
    "        'vCO2', 'vCH4', 'vH2O', 'AirFlow', 'Channel',\n",
    "        'FluoNxRed', 'FluoNxGrn', 'FluoNxBlu', 'FluoKfaRed', 'FluoKfaGrn', 'FluoKfaBlu',\n",
    "        'WaterFlowEqu1', 'WaterFlowEqu2', 'WaterFlowEqu3', 'WaterFlowEqu4',\n",
    "        'TempEqu1', 'TempEqu2', 'TempEqu3',\n",
    "        # 'cCO2chm', 'cCH4chm', 'CO2flux', 'CH4flux',\n",
    "        'vCO2air', 'vCH4air', 'pCO2air', 'pCH4air',\n",
    "        'cCO2sur', 'pCO2sur', 'cCH4sur', 'pCH4sur',\n",
    "        'cCO2bot', 'pCO2bot', 'cCH4bot', 'pCH4bot',\n",
    "       ]\n",
    "df = df.loc[:, cols]"
   ]
  },
  {
   "cell_type": "code",
   "execution_count": null,
   "id": "40de1548-a2bc-4e33-a26c-14118dbae32f",
   "metadata": {
    "tags": []
   },
   "outputs": [],
   "source": [
    "df.to_csv(f'{pwd}BaikalFeb22.dat',\n",
    "          columns=cols,\n",
    "          sep='\\t',\n",
    "         )"
   ]
  },
  {
   "cell_type": "code",
   "execution_count": null,
   "id": "8744c919-85d8-4b7d-b874-30ca04ed15a4",
   "metadata": {},
   "outputs": [],
   "source": [
    "func_list = ['mean', 'std']\n",
    "hourly = df.resample('1H', on='DateTime').agg(func_list)\n",
    "hourly.to_csv(f'{pwd}BaikalFeb22hourly.dat',\n",
    "              # columns=cols,\n",
    "              sep='\\t',\n",
    "             )"
   ]
  },
  {
   "cell_type": "code",
   "execution_count": null,
   "id": "d901e8d1-c197-40c8-9e80-4c4de81f2932",
   "metadata": {},
   "outputs": [],
   "source": []
  }
 ],
 "metadata": {
  "kernelspec": {
   "display_name": "Python 3 (ipykernel)",
   "language": "python",
   "name": "python3"
  },
  "language_info": {
   "codemirror_mode": {
    "name": "ipython",
    "version": 3
   },
   "file_extension": ".py",
   "mimetype": "text/x-python",
   "name": "python",
   "nbconvert_exporter": "python",
   "pygments_lexer": "ipython3",
   "version": "3.11.2"
  },
  "toc-autonumbering": true,
  "toc-showcode": true,
  "toc-showmarkdowntxt": true
 },
 "nbformat": 4,
 "nbformat_minor": 5
}
