{
 "cells": [
  {
   "cell_type": "code",
   "execution_count": null,
   "id": "0f55649f",
   "metadata": {
    "tags": []
   },
   "outputs": [],
   "source": [
    "import numpy as np\n",
    "import pandas as pd\n",
    "from matplotlib import pyplot as plt\n",
    "import glob"
   ]
  },
  {
   "cell_type": "code",
   "execution_count": null,
   "id": "6c3dff93",
   "metadata": {
    "tags": []
   },
   "outputs": [],
   "source": [
    "#data_dir = \"G:\\\\1_Data1\\\\93_BaikalJun2023Sea\\\\meteo\\\\\"\n",
    "#data_dir = \"G:\\\\1_Data1\\\\90_BaikalJun2022Sea\\\\Meteo\\\\\"\n",
    "#data_dir = \"G:\\\\1_Data1\\\\98_BaikalJul2024Sea\\\\origin\\\\\"\n",
    "#data_dir = r'c:\\Users\\redmi\\1_Data1\\sea\\meteo'\n",
    "data_dir = r'G:\\\\1_Data1\\\\sea\\\\meteo'\n",
    "pwd = data_dir\n",
    "data_files = glob.glob(pwd + r\"\\*.txt\")\n",
    "data_files"
   ]
  },
  {
   "cell_type": "code",
   "execution_count": null,
   "id": "a2966774-3546-459a-a372-6752b66ce019",
   "metadata": {
    "tags": []
   },
   "outputs": [],
   "source": [
    "f=data_files[1]\n",
    "df = pd.read_csv(f,\n",
    "                 encoding_errors='ignore',\n",
    "                 header=None,\n",
    "                 skiprows=[0],\n",
    "                 engine='python',\n",
    "                 skipfooter=1,\n",
    "                 sep=' ',\n",
    "                 names=['date', 'time', 'Temp', 'Wh', 'Wdir', 'vx', 'vy', 'vz', 'Press', 'RH'],\n",
    "                 #parse_dates={'DateTime':['date', 'time']},\n",
    "                 #dayfirst=True,\n",
    "                 on_bad_lines='skip',\n",
    "                )\n",
    "df['DateTime'] = pd.to_datetime(df['date'] + ' ' + df['time'], dayfirst=True, cache=True)\n",
    "\n",
    "df.resample('1min', on='DateTime').agg({'vx':'mean', 'vy':'mean', 'Temp':'mean', 'RH': 'mean', 'Press': 'mean', 'Wh':lambda x:x, 'Wdir':lambda x:x})"
   ]
  },
  {
   "cell_type": "code",
   "execution_count": null,
   "id": "a0b2fb05",
   "metadata": {
    "tags": []
   },
   "outputs": [],
   "source": [
    "dfl = []\n",
    "for f in data_files:\n",
    "    df = pd.read_csv(f,\n",
    "                     encoding_errors='ignore',\n",
    "                     header=None,\n",
    "                     skiprows=[0],\n",
    "                     engine='python',\n",
    "                     skipfooter=1,\n",
    "                     sep=' ',\n",
    "                     names=['date', 'time', 'Temp', 'Wh', 'Wdir', 'vx', 'vy', 'vz', 'Press', 'RH'],\n",
    "                     #parse_dates={'DateTime':['date', 'time']},\n",
    "                     #dayfirst=True,\n",
    "                     on_bad_lines='skip',\n",
    "                    )\n",
    "    df['DateTime'] = pd.to_datetime(df['date'] + ' ' + df['time'], dayfirst=True, cache=True)\n",
    "    df = df.resample('1min', on='DateTime').agg({'vx':'mean', 'vy':'mean', 'Temp':'mean', 'RH': 'mean', 'Press': 'mean', 'Wh':lambda x:x, 'Wdir':lambda x:x})\n",
    "    \n",
    "    dfl.append(df)\n",
    "    del(df)\n",
    "df = pd.concat(dfl)"
   ]
  },
  {
   "cell_type": "code",
   "execution_count": null,
   "id": "84fb4b44-918e-4424-8b8e-1f34e03a4148",
   "metadata": {
    "tags": []
   },
   "outputs": [],
   "source": [
    "df"
   ]
  },
  {
   "cell_type": "code",
   "execution_count": null,
   "id": "eb19e816-6e4c-4442-91d6-4f679c97c2a8",
   "metadata": {
    "tags": []
   },
   "outputs": [],
   "source": [
    "df.info()"
   ]
  },
  {
   "cell_type": "code",
   "execution_count": null,
   "id": "ca68d26e",
   "metadata": {
    "tags": []
   },
   "outputs": [],
   "source": [
    "df.sort_values(by='DateTime', inplace=True)\n",
    "df"
   ]
  },
  {
   "cell_type": "code",
   "execution_count": null,
   "id": "50037642",
   "metadata": {
    "tags": []
   },
   "outputs": [],
   "source": [
    "def filter_df(df):\n",
    "    pass"
   ]
  },
  {
   "cell_type": "code",
   "execution_count": null,
   "id": "2c95d90a-314a-4e3c-b36c-f60a69e80d33",
   "metadata": {
    "tags": []
   },
   "outputs": [],
   "source": [
    "df.columns"
   ]
  },
  {
   "cell_type": "code",
   "execution_count": null,
   "id": "4aa82186",
   "metadata": {
    "tags": []
   },
   "outputs": [],
   "source": [
    "df.plot(x=df.index, y=['Temp', 'RH'], subplots=True)"
   ]
  },
  {
   "cell_type": "code",
   "execution_count": null,
   "id": "60f391b1",
   "metadata": {
    "tags": []
   },
   "outputs": [],
   "source": [
    "df.plot(x='DateTime', y=['Wh', 'Wdir'], subplots=True)"
   ]
  },
  {
   "cell_type": "code",
   "execution_count": null,
   "id": "749b1a19",
   "metadata": {},
   "outputs": [],
   "source": [
    "df.to_csv(pwd+'//..//meteo.txt', sep='\\t')"
   ]
  },
  {
   "cell_type": "code",
   "execution_count": null,
   "id": "7a364a73-f718-4789-90d5-39201d51b2b7",
   "metadata": {
    "tags": []
   },
   "outputs": [],
   "source": [
    "plt.rcParams['figure.figsize']=[15, 5]\n",
    "plt.scatter('DateTime', 'Wh', data=df, s=1, alpha=0.1)\n",
    "plt.xlim(pd.to_datetime('2021-06-01 00:00'), pd.to_datetime('2021-06-15 00:00'))\n",
    "plt.legend()"
   ]
  },
  {
   "cell_type": "code",
   "execution_count": null,
   "id": "364a1f24-c778-4721-9dbf-146574029cc5",
   "metadata": {
    "tags": []
   },
   "outputs": [],
   "source": [
    "dfm=df.copy()"
   ]
  },
  {
   "cell_type": "code",
   "execution_count": null,
   "id": "7eba4556-d6f6-4431-b485-ff7738306471",
   "metadata": {
    "tags": []
   },
   "outputs": [],
   "source": [
    "df = pd.read_csv('G:/1_Data1/sea/AllSea.txt',\n",
    "                 header=0,\n",
    "                 # skip_blank_lines=True,\n",
    "                 skipinitialspace=True,\n",
    "                 #na_values='--',\n",
    "                 sep='\\t',\n",
    "                 decimal='.',\n",
    "                 # nrows=100000,\n",
    "                 parse_dates=['DateTime'],\n",
    "                 dayfirst=False\n",
    "                )\n"
   ]
  },
  {
   "cell_type": "code",
   "execution_count": null,
   "id": "39bcb456-eb4c-4016-b373-d8df6dfe8fc2",
   "metadata": {
    "tags": []
   },
   "outputs": [],
   "source": [
    "colstoleft = ['DateTime', 'Longitude', 'Latitude', 'Speed', 'Course']"
   ]
  },
  {
   "cell_type": "code",
   "execution_count": null,
   "id": "cbd9c2c8-bb1a-47a7-870c-f76cdf254c45",
   "metadata": {
    "tags": []
   },
   "outputs": [],
   "source": [
    "df.drop([i for i in df.columns if i not in colstoleft],axis='columns', errors='ignore', inplace=True)"
   ]
  },
  {
   "cell_type": "code",
   "execution_count": null,
   "id": "84252d6a-47d8-40b1-ba51-cbcdce61b637",
   "metadata": {
    "tags": []
   },
   "outputs": [],
   "source": [
    "df.info()"
   ]
  },
  {
   "cell_type": "code",
   "execution_count": null,
   "id": "1773e4d7-04ef-43c4-b628-39fc16b05573",
   "metadata": {
    "tags": []
   },
   "outputs": [],
   "source": [
    "df = pd.merge(left=df, right=dfm, left_on='DateTime', right_on='DateTime', how='outer')"
   ]
  },
  {
   "cell_type": "raw",
   "id": "6ca6bbe7-1e04-4ccc-be20-0955ebbd7434",
   "metadata": {
    "tags": []
   },
   "source": [
    "df = pd.concat([df, dfm])"
   ]
  },
  {
   "cell_type": "code",
   "execution_count": null,
   "id": "aa5fc107-3231-4eb0-9ecb-5dad13c4609f",
   "metadata": {
    "tags": []
   },
   "outputs": [],
   "source": [
    "df.sort_values(by='DateTime', inplace=True)\n",
    "df.reset_index(drop=True, inplace=True)"
   ]
  },
  {
   "cell_type": "code",
   "execution_count": null,
   "id": "c72a33e3-b742-43bb-8237-5d65209eafaf",
   "metadata": {
    "tags": []
   },
   "outputs": [],
   "source": [
    "df.dropna(subset=['DateTime'], axis='index')\n"
   ]
  },
  {
   "cell_type": "code",
   "execution_count": null,
   "id": "b98b4530-1e23-4913-9d84-0a5dc0cd0cb6",
   "metadata": {
    "tags": []
   },
   "outputs": [],
   "source": [
    "len(set(df['DateTime']))"
   ]
  },
  {
   "cell_type": "code",
   "execution_count": null,
   "id": "30cc272d-84ee-47f7-835c-89ecc0768c9c",
   "metadata": {
    "tags": []
   },
   "outputs": [],
   "source": [
    "df['Lat'] = df['Latitude']#.rolling(3, min_periods=1, center=True).mean()\n",
    "df['Long'] = df['Longitude']#.rolling(3, min_periods=1, center=True).mean()"
   ]
  },
  {
   "cell_type": "code",
   "execution_count": null,
   "id": "73a75952-b0dd-4fa5-9c0c-55dc084dce81",
   "metadata": {
    "tags": []
   },
   "outputs": [],
   "source": [
    "df.index = df['DateTime']\n",
    "df"
   ]
  },
  {
   "cell_type": "code",
   "execution_count": null,
   "id": "0d2dc133-4d53-4e37-968c-223d5b596b86",
   "metadata": {
    "tags": []
   },
   "outputs": [],
   "source": [
    "df['Lat'] = df['Lat'].interpolate(method='time')\n",
    "df['Long'] = df['Long'].interpolate(method='time')"
   ]
  },
  {
   "cell_type": "code",
   "execution_count": null,
   "id": "64ee44c9-75a3-477f-b985-04cb07aa9898",
   "metadata": {
    "tags": []
   },
   "outputs": [],
   "source": [
    "df.reset_index(drop=True)"
   ]
  },
  {
   "cell_type": "raw",
   "id": "5ba167c8-843b-403c-85ee-33fbe1b9cd14",
   "metadata": {
    "tags": []
   },
   "source": [
    "df.to_csv(pwd+'m1.dat', sep='\\t')"
   ]
  },
  {
   "cell_type": "raw",
   "id": "a23770ff-dbed-4995-af42-b9791dea3c36",
   "metadata": {
    "tags": []
   },
   "source": [
    "### takes a huge of memory ###\n",
    "df1 = df.resample('10s', on='DateTime').mean()\n",
    "df1.dropna(axis='index', subset=['Longitude', 'Latitude', 'vx', 'vy', 'Wh', 'Wdir'], inplace=True)\n",
    "df1.describe()"
   ]
  },
  {
   "cell_type": "code",
   "execution_count": null,
   "id": "788dffef-054e-4020-9eaa-10d993e2072b",
   "metadata": {
    "tags": []
   },
   "outputs": [],
   "source": [
    "df['mywindspeed'] = np.sqrt(np.power(df['vx'],2)+np.power(df['vy'],2))"
   ]
  },
  {
   "cell_type": "code",
   "execution_count": null,
   "id": "5b737389-8045-44a1-9003-9ee9102870fb",
   "metadata": {
    "tags": []
   },
   "outputs": [],
   "source": [
    "df['mywinddir'] = np.arctan2(-df['vy'], df['vx']) * 180 / np.pi + 180"
   ]
  },
  {
   "cell_type": "code",
   "execution_count": null,
   "id": "1b2f92ce-c5f6-4a4b-a64b-e261e8ba5a61",
   "metadata": {
    "tags": []
   },
   "outputs": [],
   "source": [
    "plt.rcParams['figure.figsize']=[15, 5]\n",
    "plt.scatter('DateTime', 'mywinddir', data=df, s=1, c='red')\n",
    "plt.scatter('DateTime', 'Wdir', data=df, s=1, alpha=0.1)\n",
    "plt.xlim(pd.to_datetime('2021-06-01 00:00'), pd.to_datetime('2021-06-15 00:00'))"
   ]
  },
  {
   "cell_type": "code",
   "execution_count": null,
   "id": "e14f9f87-75a2-4a2b-bb38-6fa00af8575a",
   "metadata": {
    "tags": []
   },
   "outputs": [],
   "source": [
    "df['DateSec'] = df['DateTime'].astype('int64')/10**9\n",
    "df['dt'] = df['DateSec'].shift(-1) - df['DateSec'].shift(1)"
   ]
  },
  {
   "cell_type": "code",
   "execution_count": null,
   "id": "dc2bf391-0143-4f51-84a6-bca751a1945e",
   "metadata": {
    "tags": []
   },
   "outputs": [],
   "source": [
    "R_EARTH = 6371000  #meters\n",
    "df['vesselvy'] = (df['Lat'].shift(-1) - df['Lat'].shift(1)) * 2 * np.pi * R_EARTH / 360\n",
    "df['vesselvx'] = (df['Long'].shift(-1) - df['Long'].shift(1)) * (np.cos(df['Lat'] * np.pi / 180 ) * 2 * np.pi * R_EARTH/360)\n",
    "df['vesselspeed'] = np.sqrt(np.power(df['vesselvy'],2) + np.power(df['vesselvx'],2))/df['dt']\n",
    "df.describe()"
   ]
  },
  {
   "cell_type": "code",
   "execution_count": null,
   "id": "bc5ff640-7fad-4501-ba50-60565bf5a020",
   "metadata": {
    "tags": []
   },
   "outputs": [],
   "source": [
    "plt.scatter('DateTime', 'Speed', data=df, c='red', s=20, alpha=0.5)\n",
    "plt.scatter('DateTime', 'vesselspeed', data=df, c='blue', s=5)\n",
    "plt.xlim(pd.to_datetime('2023-06-03 12:00'), pd.to_datetime('2023-06-04 0:00'))\n",
    "plt.xlim(pd.to_datetime('2023-06-03 17:45'), pd.to_datetime('2023-06-03 17:59'))\n",
    "\n",
    "plt.ylim(0, 8)\n",
    "plt.grid()"
   ]
  },
  {
   "cell_type": "code",
   "execution_count": null,
   "id": "a523ac03-8a62-4e89-8e89-6f60f9ca09a2",
   "metadata": {
    "tags": []
   },
   "outputs": [],
   "source": [
    "plt.scatter('DateTime', 'Latitude', data=df, c='red', s=15, alpha=0.4)\n",
    "plt.scatter('DateTime', 'Lat', data=df, c='blue', s=3, alpha=1)\n",
    "plt.xlim(pd.to_datetime('2023-06-03 17:25'), pd.to_datetime('2023-06-03 17:35'))\n",
    "plt.xlim(pd.to_datetime('2023-06-03 17:45'), pd.to_datetime('2023-06-03 17:59'))\n",
    "\n",
    "plt.ylim(52.43, 52.46)\n",
    "plt.grid()"
   ]
  },
  {
   "cell_type": "code",
   "execution_count": null,
   "id": "44d6b607-3a7b-477a-b307-75615551dce4",
   "metadata": {
    "tags": []
   },
   "outputs": [],
   "source": [
    "df.loc[(df['DateTime'] > pd.to_datetime('2023-06-03 17:45')) & (df['DateTime'] < pd.to_datetime('2023-06-03 17:59')), ['DateTime', 'Longitude', 'Latitude', 'Long', 'Lat', 'vesselspeed', 'dt', 'vx']]"
   ]
  },
  {
   "cell_type": "code",
   "execution_count": null,
   "id": "f7b16df4-9035-4728-b5d0-4a1fa29cae19",
   "metadata": {
    "tags": []
   },
   "outputs": [],
   "source": [
    "df.loc[(df['DateTime'] > pd.to_datetime('2023-06-03 17:30')) & (df['DateTime'] < pd.to_datetime('2023-06-03 17:35')), ['DateTime', 'vx', 'vy', 'Longitude', 'Latitude', 'Long', 'Lat', 'dt']]"
   ]
  },
  {
   "cell_type": "code",
   "execution_count": null,
   "id": "5159fad3-d8ce-400b-a26c-27db8cce6c2d",
   "metadata": {
    "tags": []
   },
   "outputs": [],
   "source": [
    "plt.scatter('DateTime', 'Longitude', data=df, c='red', s=15, alpha=0.4)\n",
    "plt.scatter('DateTime', 'Long', data=df, c='blue', s=3, alpha=1)\n",
    "plt.xlim(pd.to_datetime('2023-06-03 17:30'), pd.to_datetime('2023-06-03 17:35'))\n",
    "plt.ylim(105.95, 106.05)\n",
    "plt.grid()"
   ]
  },
  {
   "cell_type": "code",
   "execution_count": null,
   "id": "e18adc43-cccb-444d-ab6b-9e12c91b3b21",
   "metadata": {
    "tags": []
   },
   "outputs": [],
   "source": [
    "df.describe()"
   ]
  },
  {
   "cell_type": "code",
   "execution_count": null,
   "id": "1226e2ff-cfb9-47e6-b680-406a4f121765",
   "metadata": {
    "tags": []
   },
   "outputs": [],
   "source": [
    "df.interpolate(method ='linear', limit_direction ='forward', limit_area='inside').describe()"
   ]
  },
  {
   "cell_type": "code",
   "execution_count": null,
   "id": "fb739f53-ab62-4f94-bee1-c55b69111119",
   "metadata": {},
   "outputs": [],
   "source": [
    "df.describe()"
   ]
  },
  {
   "cell_type": "code",
   "execution_count": null,
   "id": "fe03fb8a-8b7a-46e0-8f8c-1db309b87937",
   "metadata": {},
   "outputs": [],
   "source": []
  }
 ],
 "metadata": {
  "kernelspec": {
   "display_name": "Python 3 (ipykernel)",
   "language": "python",
   "name": "python3"
  },
  "language_info": {
   "codemirror_mode": {
    "name": "ipython",
    "version": 3
   },
   "file_extension": ".py",
   "mimetype": "text/x-python",
   "name": "python",
   "nbconvert_exporter": "python",
   "pygments_lexer": "ipython3",
   "version": "3.11.2"
  }
 },
 "nbformat": 4,
 "nbformat_minor": 5
}
