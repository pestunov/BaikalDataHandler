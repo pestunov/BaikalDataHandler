{
 "cells": [
  {
   "cell_type": "code",
   "execution_count": null,
   "id": "0f55649f",
   "metadata": {
    "tags": []
   },
   "outputs": [],
   "source": [
    "import numpy as np\n",
    "import pandas as pd\n",
    "from matplotlib import pyplot as plt\n",
    "import glob"
   ]
  },
  {
   "cell_type": "code",
   "execution_count": null,
   "id": "6c3dff93",
   "metadata": {
    "tags": []
   },
   "outputs": [],
   "source": [
    "#data_dir = \"G:\\\\1_Data1\\\\93_BaikalJun2023Sea\\\\meteo\\\\\"\n",
    "#data_dir = \"G:\\\\1_Data1\\\\90_BaikalJun2022Sea\\\\Meteo\\\\\"\n",
    "#data_dir = \"G:\\\\1_Data1\\\\98_BaikalJul2024Sea\\\\origin\\\\\"\n",
    "data_dir = \"G:\\\\1_Data1\\\\sea\\\\meteo\\\\\"\n",
    "pwd = data_dir\n",
    "data_files = glob.glob(data_dir + \"*.txt\")\n",
    "data_files"
   ]
  },
  {
   "cell_type": "code",
   "execution_count": null,
   "id": "a0b2fb05",
   "metadata": {
    "tags": []
   },
   "outputs": [],
   "source": [
    "dfl = []\n",
    "for f in data_files:\n",
    "    df = pd.read_csv(f,\n",
    "                     encoding_errors='ignore',\n",
    "                     header=None,\n",
    "                     skiprows=[0],\n",
    "                     engine='python',\n",
    "                     skipfooter=1,\n",
    "                     sep=' ',\n",
    "                     names=['date', 'time', 'Temp', 'Wh', 'Wdir', 'vx', 'vy', 'vz', 'Press', 'RH'],\n",
    "                     #parse_dates={'DateTime':['date', 'time']},\n",
    "                     #dayfirst=True,\n",
    "                     on_bad_lines='skip',\n",
    "                    )\n",
    "    dfl.append(df)\n",
    "    del(df)\n",
    "df = pd.concat(dfl)"
   ]
  },
  {
   "cell_type": "code",
   "execution_count": null,
   "id": "84fb4b44-918e-4424-8b8e-1f34e03a4148",
   "metadata": {},
   "outputs": [],
   "source": [
    "df['DateTime'] = pd.to_datetime(df['date'] + ' ' + df['time'], dayfirst=True, cache=True)"
   ]
  },
  {
   "cell_type": "code",
   "execution_count": null,
   "id": "eb19e816-6e4c-4442-91d6-4f679c97c2a8",
   "metadata": {
    "tags": []
   },
   "outputs": [],
   "source": [
    "df.info()"
   ]
  },
  {
   "cell_type": "code",
   "execution_count": null,
   "id": "ca68d26e",
   "metadata": {},
   "outputs": [],
   "source": [
    "df.sort_values(by='DateTime', inplace=True)\n",
    "df"
   ]
  },
  {
   "cell_type": "code",
   "execution_count": null,
   "id": "50037642",
   "metadata": {},
   "outputs": [],
   "source": [
    "def filter_df(df):\n",
    "    pass"
   ]
  },
  {
   "cell_type": "code",
   "execution_count": null,
   "id": "4aa82186",
   "metadata": {},
   "outputs": [],
   "source": [
    "df.plot(x='DateTime', y=['Temp', 'RH'], subplots=True)"
   ]
  },
  {
   "cell_type": "code",
   "execution_count": null,
   "id": "60f391b1",
   "metadata": {},
   "outputs": [],
   "source": [
    "df.plot(x='DateTime', y=['Wh', 'Wdir'], subplots=True)"
   ]
  },
  {
   "cell_type": "code",
   "execution_count": null,
   "id": "749b1a19",
   "metadata": {},
   "outputs": [],
   "source": [
    "df.to_csv(pwd+'..//meteo.txt', sep='\\t')"
   ]
  },
  {
   "cell_type": "code",
   "execution_count": null,
   "id": "7a364a73-f718-4789-90d5-39201d51b2b7",
   "metadata": {
    "tags": []
   },
   "outputs": [],
   "source": [
    "plt.rcParams['figure.figsize']=[15, 5]\n",
    "plt.scatter('DateTime', 'Wh', data=df, s=1, alpha=0.1)\n",
    "plt.xlim(pd.to_datetime('2021-06-01 00:00'), pd.to_datetime('2021-06-15 00:00'))"
   ]
  },
  {
   "cell_type": "code",
   "execution_count": null,
   "id": "364a1f24-c778-4721-9dbf-146574029cc5",
   "metadata": {},
   "outputs": [],
   "source": [
    "dfm=df.copy()"
   ]
  },
  {
   "cell_type": "code",
   "execution_count": null,
   "id": "7eba4556-d6f6-4431-b485-ff7738306471",
   "metadata": {
    "tags": []
   },
   "outputs": [],
   "source": [
    "df = pd.read_csv('G:/1_Data1/sea/AllSea.txt',\n",
    "                 header=0,\n",
    "                 # skip_blank_lines=True,\n",
    "                 skipinitialspace=True,\n",
    "                 #na_values='--',\n",
    "                 sep='\\t',\n",
    "                 decimal='.',\n",
    "                 # nrows=100000,\n",
    "                 parse_dates=['DateTime'],\n",
    "                 dayfirst=False\n",
    "                )\n"
   ]
  },
  {
   "cell_type": "code",
   "execution_count": null,
   "id": "39bcb456-eb4c-4016-b373-d8df6dfe8fc2",
   "metadata": {
    "tags": []
   },
   "outputs": [],
   "source": [
    "colstoleft = ['DateTime', 'Longitude', 'Latitude', 'Speed', 'Course']"
   ]
  },
  {
   "cell_type": "code",
   "execution_count": null,
   "id": "cbd9c2c8-bb1a-47a7-870c-f76cdf254c45",
   "metadata": {
    "tags": []
   },
   "outputs": [],
   "source": [
    "df.drop([i for i in df.columns if i not in colstoleft],axis='columns', errors='ignore', inplace=True)"
   ]
  },
  {
   "cell_type": "code",
   "execution_count": null,
   "id": "84252d6a-47d8-40b1-ba51-cbcdce61b637",
   "metadata": {
    "tags": []
   },
   "outputs": [],
   "source": [
    "df.info()"
   ]
  },
  {
   "cell_type": "code",
   "execution_count": null,
   "id": "c190e3db-4c94-4311-a6d6-68d5d3ec47a6",
   "metadata": {
    "tags": []
   },
   "outputs": [],
   "source": [
    "df = pd.concat([df, dfm])"
   ]
  },
  {
   "cell_type": "code",
   "execution_count": null,
   "id": "aa5fc107-3231-4eb0-9ecb-5dad13c4609f",
   "metadata": {
    "tags": []
   },
   "outputs": [],
   "source": [
    "df.sort_values(by='DateTime', inplace=True)\n",
    "df.reset_index(drop=True, inplace=True)"
   ]
  },
  {
   "cell_type": "code",
   "execution_count": null,
   "id": "c72a33e3-b742-43bb-8237-5d65209eafaf",
   "metadata": {
    "tags": []
   },
   "outputs": [],
   "source": [
    "df"
   ]
  },
  {
   "cell_type": "code",
   "execution_count": null,
   "id": "dd86ecbf-47cf-4b54-8c1b-9b40288751e7",
   "metadata": {
    "tags": []
   },
   "outputs": [],
   "source": [
    "df['Latitude'].interpolate(method='linear', inplace=True)\n",
    "df['Longitude'].interpolate(method='linear', inplace=True)"
   ]
  },
  {
   "cell_type": "code",
   "execution_count": null,
   "id": "a63d419a-e378-4e0b-acd3-9c6c7d60146d",
   "metadata": {
    "tags": []
   },
   "outputs": [],
   "source": [
    "df.to_csv(pwd+'m1.dat', sep='\\t')"
   ]
  },
  {
   "cell_type": "raw",
   "id": "a23770ff-dbed-4995-af42-b9791dea3c36",
   "metadata": {
    "tags": []
   },
   "source": [
    "### takes a huge of memory ###\n",
    "df1 = df.resample('10s', on='DateTime').mean()\n",
    "df1.dropna(axis='index', subset=['Longitude', 'Latitude', 'vx', 'vy', 'Wh', 'Wdir'], inplace=True)\n",
    "df1.describe()"
   ]
  },
  {
   "cell_type": "code",
   "execution_count": null,
   "id": "788dffef-054e-4020-9eaa-10d993e2072b",
   "metadata": {
    "tags": []
   },
   "outputs": [],
   "source": [
    "df['mywindspeed'] = np.sqrt(np.power(df['vx'],2)+np.power(df['vy'],2))"
   ]
  },
  {
   "cell_type": "code",
   "execution_count": null,
   "id": "5b737389-8045-44a1-9003-9ee9102870fb",
   "metadata": {},
   "outputs": [],
   "source": [
    "df['mywinddir'] = np.arctan2(-df['vy'], df['vx']) * 180 / pi + 180"
   ]
  },
  {
   "cell_type": "code",
   "execution_count": null,
   "id": "1b2f92ce-c5f6-4a4b-a64b-e261e8ba5a61",
   "metadata": {
    "tags": []
   },
   "outputs": [],
   "source": [
    "plt.rcParams['figure.figsize']=[15, 5]\n",
    "plt.scatter('DateTime', 'mywinddir', data=df, s=1, c='red')\n",
    "plt.scatter('DateTime', 'Wdir', data=df, s=1, alpha=0.1)\n",
    "plt.xlim(pd.to_datetime('2021-06-01 00:00'), pd.to_datetime('2021-06-15 00:00'))"
   ]
  },
  {
   "cell_type": "code",
   "execution_count": null,
   "id": "dc2bf391-0143-4f51-84a6-bca751a1945e",
   "metadata": {
    "tags": []
   },
   "outputs": [],
   "source": [
    "R_EARTH = 6371000  #meters\n",
    "df['vesselvy'] = (df['Latitude'].shift(-1) - df['Latitude'].shift(1)) * 2 * np.pi * R_EARTH / 360\n",
    "df['vesselvx'] = (df['Longitude'].shift(-1) - df['Longitude'].shift(1)) * (np.cos(df['Latitude'] * np.pi / 180 ) * 2 * np.pi * R_EARTH/360)\n",
    "df"
   ]
  },
  {
   "cell_type": "code",
   "execution_count": null,
   "id": "bc5ff640-7fad-4501-ba50-60565bf5a020",
   "metadata": {
    "tags": []
   },
   "outputs": [],
   "source": [
    "plt.scatter('DateTime', 'vesselvx', data=df, c='red', s=1)\n",
    "plt.xlim(pd.to_datetime('2021-06-04 00:00'), pd.to_datetime('2021-06-04 06:00'))\n",
    "plt.ylim(0, 200)"
   ]
  },
  {
   "cell_type": "code",
   "execution_count": null,
   "id": "e18adc43-cccb-444d-ab6b-9e12c91b3b21",
   "metadata": {
    "tags": []
   },
   "outputs": [],
   "source": [
    "df.describe()"
   ]
  },
  {
   "cell_type": "code",
   "execution_count": null,
   "id": "e14f9f87-75a2-4a2b-bb38-6fa00af8575a",
   "metadata": {
    "tags": []
   },
   "outputs": [],
   "source": [
    "df['DateSec'] = df['DateTime'].astype('int64')/10**9\n",
    "df['dt'] = df['DateSec'].shift(-1) - df['DateSec'].shift(1)"
   ]
  },
  {
   "cell_type": "code",
   "execution_count": null,
   "id": "5b88aafe-a18c-438b-9d4e-145d59b4046c",
   "metadata": {},
   "outputs": [],
   "source": [
    "REarth = \n",
    "df['vesselvy'] = "
   ]
  },
  {
   "cell_type": "code",
   "execution_count": null,
   "id": "addcec5b-f50c-421b-b3a2-f94f5c4e599a",
   "metadata": {
    "tags": []
   },
   "outputs": [],
   "source": [
    "# importing pandas as pd \n",
    "import pandas as pd \n",
    "  \n",
    "# Creating the dataframe  \n",
    "df = pd.DataFrame({\"A\":[12, 4, 5, None, 1], \n",
    "                   \"B\":[None, 2, 54, 3, None], \n",
    "                   \"C\":[20, 16, None, 3, 8], \n",
    "                   \"D\":[14, 3, None, None, 6]}) \n",
    "  \n",
    "# Print the dataframe \n",
    "df \n"
   ]
  },
  {
   "cell_type": "code",
   "execution_count": null,
   "id": "1226e2ff-cfb9-47e6-b680-406a4f121765",
   "metadata": {
    "tags": []
   },
   "outputs": [],
   "source": [
    "df.interpolate(method ='linear', limit_direction ='forward') "
   ]
  },
  {
   "cell_type": "code",
   "execution_count": null,
   "id": "fb739f53-ab62-4f94-bee1-c55b69111119",
   "metadata": {},
   "outputs": [],
   "source": []
  }
 ],
 "metadata": {
  "kernelspec": {
   "display_name": "Python 3 (ipykernel)",
   "language": "python",
   "name": "python3"
  },
  "language_info": {
   "codemirror_mode": {
    "name": "ipython",
    "version": 3
   },
   "file_extension": ".py",
   "mimetype": "text/x-python",
   "name": "python",
   "nbconvert_exporter": "python",
   "pygments_lexer": "ipython3",
   "version": "3.11.2"
  }
 },
 "nbformat": 4,
 "nbformat_minor": 5
}
