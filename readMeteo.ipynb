{
 "cells": [
  {
   "cell_type": "code",
   "execution_count": null,
   "id": "0f55649f",
   "metadata": {},
   "outputs": [],
   "source": [
    "import numpy as np\n",
    "import pandas as pd\n",
    "\n",
    "import glob"
   ]
  },
  {
   "cell_type": "code",
   "execution_count": null,
   "id": "6c3dff93",
   "metadata": {},
   "outputs": [],
   "source": [
    "data_dir = \"meteoSea2022/\"\n",
    "data_files = glob.glob(data_dir + \"*.txt\")\n",
    "data_files[0]"
   ]
  },
  {
   "cell_type": "code",
   "execution_count": null,
   "id": "a0b2fb05",
   "metadata": {},
   "outputs": [],
   "source": [
    "dfl = []\n",
    "for f in data_files:\n",
    "    df = pd.read_csv(f,\n",
    "                     encoding_errors='ignore',\n",
    "                     header=None,\n",
    "                     skiprows=1,\n",
    "                     sep=' ',\n",
    "                     names=['date', 'time', 'Temp', 'Wh', 'Wdir', 'vx', 'vy', 'vz', 'Press', 'RH'],\n",
    "                    )\n",
    "    dfl.append(df)\n",
    "    del(df)\n",
    "df = pd.concat(dfl)"
   ]
  },
  {
   "cell_type": "code",
   "execution_count": null,
   "id": "eb36d883",
   "metadata": {},
   "outputs": [],
   "source": [
    "df['DateTime'] = pd.to_datetime(df['date'] + ' ' + df['time'], dayfirst=True, cache=True)"
   ]
  },
  {
   "cell_type": "code",
   "execution_count": null,
   "id": "ca68d26e",
   "metadata": {},
   "outputs": [],
   "source": [
    "df.sort_values(by='DateTime', inplace=True)\n",
    "df"
   ]
  },
  {
   "cell_type": "code",
   "execution_count": null,
   "id": "50037642",
   "metadata": {},
   "outputs": [],
   "source": [
    "def filter_df(df):\n",
    "    pass"
   ]
  },
  {
   "cell_type": "code",
   "execution_count": null,
   "id": "4aa82186",
   "metadata": {},
   "outputs": [],
   "source": [
    "df.plot(x='DateTime', y=['Temp', 'RH'], subplots=True)"
   ]
  },
  {
   "cell_type": "code",
   "execution_count": null,
   "id": "60f391b1",
   "metadata": {},
   "outputs": [],
   "source": [
    "filter_df(df)\n",
    "df.plot(x='DateTime', y=['Temp', 'RH'], subplots=True)"
   ]
  },
  {
   "cell_type": "code",
   "execution_count": null,
   "id": "749b1a19",
   "metadata": {},
   "outputs": [],
   "source": []
  }
 ],
 "metadata": {
  "kernelspec": {
   "display_name": "Python 3 (ipykernel)",
   "language": "python",
   "name": "python3"
  },
  "language_info": {
   "codemirror_mode": {
    "name": "ipython",
    "version": 3
   },
   "file_extension": ".py",
   "mimetype": "text/x-python",
   "name": "python",
   "nbconvert_exporter": "python",
   "pygments_lexer": "ipython3",
   "version": "3.11.2"
  }
 },
 "nbformat": 4,
 "nbformat_minor": 5
}
