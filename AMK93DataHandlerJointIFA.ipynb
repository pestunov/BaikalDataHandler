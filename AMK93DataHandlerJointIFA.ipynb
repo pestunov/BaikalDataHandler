{
 "cells": [
  {
   "cell_type": "code",
   "execution_count": null,
   "id": "bb14563e-ee56-4209-838c-44330b47fc83",
   "metadata": {
    "tags": []
   },
   "outputs": [],
   "source": [
    "import pandas as pd\n",
    "import numpy as np\n",
    "import matplotlib.pyplot as plt\n",
    "\n",
    "from sqlalchemy import create_engine\n",
    "from sqlalchemy.sql import text\n",
    "\n",
    "import baikalfunctions as bfunc\n",
    "import scheme_mar2023 as scheme\n",
    "import mytools\n",
    "\n",
    "import glob"
   ]
  },
  {
   "cell_type": "code",
   "execution_count": null,
   "id": "bbcb1581-1408-4c7c-982e-a0245a7e37e5",
   "metadata": {
    "tags": []
   },
   "outputs": [],
   "source": [
    "# pd.set_option('display.min_rows', 100)\n",
    "%matplotlib inline\n",
    "plt.style.use('dark_background')   # try another styles: 'classic'\n",
    "plt.rcParams['figure.figsize'] = [15, 3]\n",
    "#plt.subplots_adjust(top=1, left=0, right=1, bottom=0)"
   ]
  },
  {
   "cell_type": "code",
   "execution_count": null,
   "id": "af149f9c-4cc0-4525-8e26-50afc3732ba1",
   "metadata": {
    "tags": []
   },
   "outputs": [],
   "source": [
    "path=r'G:\\1_Data1\\!AMK93\\Jury'\n",
    "files=glob.glob(path+'\\*\\*\\*.dat')\n",
    "len(files)"
   ]
  },
  {
   "cell_type": "code",
   "execution_count": null,
   "id": "961e407b-01a3-452a-9f87-f2d2bfaa7656",
   "metadata": {
    "tags": []
   },
   "outputs": [],
   "source": [
    "df_meteo = pd.DataFrame()\n",
    "for f in files:\n",
    "    dft = pd.read_csv(f,\n",
    "                     encoding_errors='ignore',\n",
    "                     header=None,\n",
    "                     skiprows=0,\n",
    "                     sep='\\s+',\n",
    "                      na_values=['-'],\n",
    "                     names=['date',\n",
    "                            'time',\n",
    "                            'utc_cor',\n",
    "                            'c13_picarro',\n",
    "                            'ch4_picarro',\n",
    "                            'co2_picarro',\n",
    "                            'h2o_picarro?',\n",
    "                            'latitude', \n",
    "                            'longitude', \n",
    "                            'Altitude', 'RVCourse', 'RVCourseMgps', 'RVSpeed', 'x1', 'RVCourseMcom', 'Pitch', 'Roll',\n",
    "                            'x9', 'x10',\n",
    "                            'Press',\n",
    "                            'Tair',\n",
    "                            'RH',\n",
    "                            'WindSpeed', 'WindDir', 'WinDirM', 'WindSpeedRel', 'WindDirRel', 'x16', 'x17'],\n",
    "                     parse_dates=[['date', 'time']],\n",
    "                     # dtype={'ch4_picarro': np.float64} \n",
    "                      \n",
    "                    )\n",
    "    df_meteo = pd.concat([df_meteo, dft], ignore_index=True)\n",
    "    print(f)\n",
    "df_meteo"
   ]
  },
  {
   "cell_type": "code",
   "execution_count": null,
   "id": "d65c7ea4-e1b3-46d2-8709-736480c02e22",
   "metadata": {
    "tags": []
   },
   "outputs": [],
   "source": [
    "df_meteo.rename(columns=scheme.NAME_CONV_BAS, inplace=True)\n",
    "df_meteo.sort_values(by='DateTime', inplace=True)\n",
    "df_meteo.reset_index(inplace=True, drop=True)"
   ]
  },
  {
   "cell_type": "code",
   "execution_count": null,
   "id": "44f88d6f-0b2b-466c-aa6b-4cb8db8197ad",
   "metadata": {
    "tags": []
   },
   "outputs": [],
   "source": [
    "df_meteo.info()"
   ]
  },
  {
   "cell_type": "code",
   "execution_count": null,
   "id": "218a5857-52b7-46e5-aed6-dd8d5e71c883",
   "metadata": {
    "tags": []
   },
   "outputs": [],
   "source": [
    "columns_to_stay = ['DateTime', 'TempAir', 'Press', 'RH', 'Latitude', 'Longitude', 'RVCourse', 'RVCourseMgps', 'RVSpeed', 'Pitch', 'Roll', 'WindSpeed', 'WindDir']\n",
    "columns_to_drop = [x for x in df_meteo.columns if x not in columns_to_stay]\n",
    "print(columns_to_drop)\n",
    "df_meteo.drop(columns_to_drop, axis='columns', inplace=True, errors='ignore')\n",
    "df_meteo\n"
   ]
  },
  {
   "cell_type": "code",
   "execution_count": null,
   "id": "558faae6-528a-4453-8f57-47e92a820f61",
   "metadata": {
    "tags": []
   },
   "outputs": [],
   "source": [
    "df_meteo['DateTime'] = df_meteo['DateTime'] + pd.Timedelta(hours=3)\n",
    "df_meteo"
   ]
  },
  {
   "cell_type": "code",
   "execution_count": null,
   "id": "661f56a5-4df9-425c-a19d-c06fdf0c3113",
   "metadata": {
    "tags": []
   },
   "outputs": [],
   "source": [
    "datetime_start = pd.to_datetime('2023-11-08 00:00')\n",
    "datetime_stop = pd.to_datetime('2023-12-07 00:00')\n",
    "df_meteo = df_meteo.loc[(df_meteo['DateTime'] > datetime_start) & (df_meteo['DateTime'] < datetime_stop)]"
   ]
  },
  {
   "cell_type": "code",
   "execution_count": null,
   "id": "69ed119e-0d25-48ef-bb67-565148380166",
   "metadata": {
    "tags": []
   },
   "outputs": [],
   "source": [
    "plt.plot(df_meteo['DateTime'], df_meteo['TempAir'], 'r-')"
   ]
  },
  {
   "cell_type": "code",
   "execution_count": null,
   "id": "d374e142-1662-4aca-b76e-21d0a1902316",
   "metadata": {
    "tags": []
   },
   "outputs": [],
   "source": [
    "plt.plot(df_meteo['Longitude'], df_meteo['Latitude'], 'g.')\n",
    "plt.plot(35, 90, 'b.')"
   ]
  },
  {
   "cell_type": "code",
   "execution_count": null,
   "id": "2f238a40-1287-4b59-a8b7-2b9aa8a7c81c",
   "metadata": {
    "tags": []
   },
   "outputs": [],
   "source": [
    "df_picarro = pd.read_csv(r'G:\\1_Data1\\!AMK93\\picarro\\picarroCor.dat',\n",
    "                 sep='\\t',\n",
    "                 usecols=[1,2,4],\n",
    "                 parse_dates=['DateTime'],\n",
    "                 dayfirst=False,\n",
    "                )\n",
    "df_picarro.info()"
   ]
  },
  {
   "cell_type": "code",
   "execution_count": null,
   "id": "b7675572-130e-4503-a80d-191b31a2c589",
   "metadata": {
    "tags": []
   },
   "outputs": [],
   "source": [
    "df_picarro = df_picarro.resample('20S', on='DateTime').mean()"
   ]
  },
  {
   "cell_type": "code",
   "execution_count": null,
   "id": "424a89f5-3b17-492a-a414-5060f270e210",
   "metadata": {
    "tags": []
   },
   "outputs": [],
   "source": [
    "df = pd.merge(left=df_picarro, right=df_meteo, how='left', left_on='DateTime', right_on='DateTime', suffixes=['_p', '_m'])"
   ]
  },
  {
   "cell_type": "code",
   "execution_count": null,
   "id": "45887f28-2a1d-4215-b0d2-a4b6ce53aff6",
   "metadata": {
    "tags": []
   },
   "outputs": [],
   "source": [
    "df.sort_values(by='DateTime')\n",
    "df"
   ]
  },
  {
   "cell_type": "code",
   "execution_count": null,
   "id": "2764685d-6800-4698-8c26-b835c58010d9",
   "metadata": {
    "tags": []
   },
   "outputs": [],
   "source": [
    "cols = ['TempAir', 'Press', 'RH', 'Latitude', 'Longitude', 'RVCourse', 'RVCourseMgps', 'RVSpeed', 'Pitch', 'Roll', 'WindSpeed', 'WindDir']\n",
    "for col in cols:\n",
    "    df[col].interpolate(method='linear', axis='rows', inplace=True)\n"
   ]
  },
  {
   "cell_type": "code",
   "execution_count": null,
   "id": "0739cd28-36f4-4b12-8b58-c5b6b0a5e82b",
   "metadata": {
    "tags": []
   },
   "outputs": [],
   "source": [
    "df"
   ]
  },
  {
   "cell_type": "code",
   "execution_count": null,
   "id": "157340e0-539a-40be-a7e3-3676786ba1ee",
   "metadata": {
    "tags": []
   },
   "outputs": [],
   "source": [
    "df.loc[55000:60000, ['Longitude', 'Latitude']].plot(x='Longitude', y='Latitude')"
   ]
  },
  {
   "cell_type": "code",
   "execution_count": null,
   "id": "7793e65f-c656-4aa0-8a86-59ce979d8007",
   "metadata": {
    "tags": []
   },
   "outputs": [],
   "source": [
    "df.to_csv(r'G:\\1_Data1\\!AMK93\\amk93_all.dat',\n",
    "          sep='\\t',\n",
    "         )"
   ]
  },
  {
   "cell_type": "code",
   "execution_count": null,
   "id": "ae0333f1-3002-434f-9ec7-fcb3de63f4a1",
   "metadata": {},
   "outputs": [],
   "source": [
    "plt.rcParams['figure.figsize'] = [10, 12]\n",
    "fig, ax = plt.subplots()\n",
    "#ax.set_xlim(106.2, 109.4)\n",
    "#ax.set_ylim(52, 55)\n",
    "\n",
    "ax.plot(obris['long'], obris['lat'], 'b-')\n",
    "ax.scatter(x='long', y='lat', c=cCH4wtrlog_all, s=50, marker='o', linewidth=0, cmap='rainbow', alpha=0.02, data=allMethane_df, )\n",
    "ax.scatter(df['Longitude'], df['Latitude'], c=df['cCH4wtrlog'], s=30, marker='o', linewidth=0, cmap='rainbow', alpha=0.4,)\n",
    "fig.savefig(saveImgPath+'CH4wtrSpatialJun2023.png', transparent=True)"
   ]
  },
  {
   "cell_type": "code",
   "execution_count": null,
   "id": "d96bd022-12e4-4502-8088-54ce5f5afd68",
   "metadata": {},
   "outputs": [],
   "source": [
    "df"
   ]
  },
  {
   "cell_type": "code",
   "execution_count": null,
   "id": "7b2a8a18-7fc8-4ed5-b41b-402d12d9d8ec",
   "metadata": {},
   "outputs": [],
   "source": [
    "dft = pd.read_clipboard(header=None, names=['DateTime', 'Stations'], na_values='--', parse_dates=['DateTime'], dayfirst=True)\n",
    "dft.info()"
   ]
  },
  {
   "cell_type": "code",
   "execution_count": null,
   "id": "3c9e9147-2275-4922-86d1-441c7465677e",
   "metadata": {
    "tags": []
   },
   "outputs": [],
   "source": [
    "df = df.merge(dft, left_on='DateTime', right_on='DateTime', how='left')"
   ]
  },
  {
   "cell_type": "code",
   "execution_count": null,
   "id": "61005b6c-f890-4145-be17-a09289a9ad8a",
   "metadata": {
    "tags": []
   },
   "outputs": [],
   "source": [
    "dft['Stations'].fillna(method='ffill', inplace=True)\n",
    "dft"
   ]
  },
  {
   "cell_type": "code",
   "execution_count": null,
   "id": "9c737f30-005e-4905-9886-39eae94aa9a6",
   "metadata": {
    "tags": []
   },
   "outputs": [],
   "source": [
    "dft"
   ]
  },
  {
   "cell_type": "code",
   "execution_count": null,
   "id": "7ce5a380-db1d-42a3-959c-f323ecf0b410",
   "metadata": {
    "tags": []
   },
   "outputs": [],
   "source": [
    "df = pd.merge(left=df, right=dft, how='left', left_on='DateTime', right_on='DateTime')"
   ]
  },
  {
   "cell_type": "code",
   "execution_count": null,
   "id": "12dee537-7885-42dc-af2f-81786f7ffebf",
   "metadata": {
    "tags": []
   },
   "outputs": [],
   "source": [
    "df['Stations'] = df['Stations'].str.replace('_', '.')\n",
    "df.loc[(df['DateTime']==pd.to_datetime('2023-11-19 11:55:00'))]"
   ]
  },
  {
   "cell_type": "code",
   "execution_count": null,
   "id": "5cb166d8-e0af-458a-a742-0edddb9039ce",
   "metadata": {
    "tags": []
   },
   "outputs": [],
   "source": [
    "df = df.astype({'Stations': np.float32})\n",
    "df.dtypes"
   ]
  },
  {
   "cell_type": "code",
   "execution_count": null,
   "id": "86351a60-7257-4475-9b8d-ed0055da36e4",
   "metadata": {
    "tags": []
   },
   "outputs": [],
   "source": [
    "df.loc[(df.Stations)==7733.1]\n"
   ]
  },
  {
   "cell_type": "code",
   "execution_count": null,
   "id": "0aae0f43-6ca2-425d-afd6-c53ba0292ff1",
   "metadata": {
    "tags": []
   },
   "outputs": [],
   "source": [
    "df"
   ]
  },
  {
   "cell_type": "code",
   "execution_count": null,
   "id": "1c17a947-3d52-4dfc-9af8-00feee0a5c4c",
   "metadata": {
    "tags": []
   },
   "outputs": [],
   "source": [
    "import physic\n",
    "def get_speed_column(df):\n",
    "    torad = 2 * np.pi / 360\n",
    "    dt_sec = np.int16(df['DateTime'].astype(np.int64)/10**9 - df['DateTime'].shift(1).astype(np.int64)/10**9)\n",
    "    lat_rad = df['Latitude'] * torad\n",
    "    long_rad = df['Longitude'] * torad\n",
    "    dsigma = np.arccos(np.sin(lat_rad)*np.sin(lat_rad.shift(1)) + np.cos(lat_rad)*np.cos(lat_rad.shift(1))*np.cos(long_rad.shift(1)-long_rad))\n",
    "    df['mVSpeed'] = physic.R_EARTH * dsigma * 1000 / dt_sec\n",
    "get_speed_column(df)"
   ]
  },
  {
   "cell_type": "code",
   "execution_count": null,
   "id": "f45f6022-0642-4d47-bf02-95a0ee0f43b2",
   "metadata": {
    "tags": []
   },
   "outputs": [],
   "source": [
    "df.loc[80000:90000].plot('DateTime', 'mVSpeed')"
   ]
  },
  {
   "cell_type": "code",
   "execution_count": null,
   "id": "423a2bc3-571f-45e1-bfe2-e542cc32f0eb",
   "metadata": {},
   "outputs": [],
   "source": []
  },
  {
   "cell_type": "code",
   "execution_count": null,
   "id": "9e49f3c2-2aa1-4611-88d2-80b796d0c13c",
   "metadata": {
    "tags": []
   },
   "outputs": [],
   "source": [
    "get_speed_column(df)\n",
    "df"
   ]
  },
  {
   "cell_type": "code",
   "execution_count": null,
   "id": "a8d03995-04f7-4f72-8e4b-7907eef0cbb4",
   "metadata": {
    "tags": []
   },
   "outputs": [],
   "source": [
    "df.to_clipboard()"
   ]
  },
  {
   "cell_type": "code",
   "execution_count": null,
   "id": "bcd0311a-a2ea-44bc-8015-816f6c14451e",
   "metadata": {
    "tags": []
   },
   "outputs": [],
   "source": [
    "dff = pd.read_clipboard(header=None, names=['DateTime', 'cCH4', 'cCO2', 'FluxCH4', 'FluxCO2'], parse_dates=['DateTime'], dayfirst=True, na_values=np.nan)\n",
    "dff.info()"
   ]
  },
  {
   "cell_type": "code",
   "execution_count": null,
   "id": "2e22ec57-a168-4d10-affe-581b9f0ee4e8",
   "metadata": {
    "tags": []
   },
   "outputs": [],
   "source": [
    "dff"
   ]
  },
  {
   "cell_type": "code",
   "execution_count": null,
   "id": "54e61892-f8bd-4181-a952-9c264b86a263",
   "metadata": {
    "tags": []
   },
   "outputs": [],
   "source": [
    "dff = df.merge(dff, left_on='DateTime', right_on='DateTime', how='left')"
   ]
  },
  {
   "cell_type": "code",
   "execution_count": null,
   "id": "ca544215-f0c0-494d-9e77-d2fe0801b6ab",
   "metadata": {
    "tags": []
   },
   "outputs": [],
   "source": [
    "df['x'].describe()"
   ]
  },
  {
   "cell_type": "code",
   "execution_count": null,
   "id": "146d3db3-7bed-43f8-92b5-002034320415",
   "metadata": {
    "tags": []
   },
   "outputs": [],
   "source": [
    "dff.loc[:,['cCH4', 'cCO2', 'FluxCH4', 'FluxCO2']].to_clipboard()"
   ]
  },
  {
   "cell_type": "code",
   "execution_count": null,
   "id": "e373011b-d708-4588-838c-78528756edc5",
   "metadata": {},
   "outputs": [],
   "source": []
  }
 ],
 "metadata": {
  "kernelspec": {
   "display_name": "Python 3 (ipykernel)",
   "language": "python",
   "name": "python3"
  },
  "language_info": {
   "codemirror_mode": {
    "name": "ipython",
    "version": 3
   },
   "file_extension": ".py",
   "mimetype": "text/x-python",
   "name": "python",
   "nbconvert_exporter": "python",
   "pygments_lexer": "ipython3",
   "version": "3.11.2"
  },
  "toc-autonumbering": true,
  "toc-showcode": true,
  "toc-showmarkdowntxt": true
 },
 "nbformat": 4,
 "nbformat_minor": 5
}
