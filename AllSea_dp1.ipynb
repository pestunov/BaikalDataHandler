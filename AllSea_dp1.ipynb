{
 "cells": [
  {
   "cell_type": "code",
   "execution_count": null,
   "id": "2f6d2dd3-7936-4d9b-a57c-76c6b37028bb",
   "metadata": {
    "tags": []
   },
   "outputs": [],
   "source": [
    "import pandas as pd\n",
    "import numpy as np\n",
    "import matplotlib as mpl\n",
    "import matplotlib.pyplot as plt\n",
    "import datetime as dt\n",
    "import os\n",
    "\n",
    "import mytools as mt\n",
    "import baikalfunctions as bf\n",
    "import scheme_mar2023 as scheme"
   ]
  },
  {
   "cell_type": "code",
   "execution_count": null,
   "id": "2c5b1822-a104-48a5-b35e-092b989d793a",
   "metadata": {
    "tags": []
   },
   "outputs": [],
   "source": [
    "#plt.style.use('Solarize_Light2')   # try another styles: 'classic'\n",
    "plt.style.use('default')\n",
    "plt.rcParams['figure.figsize'] = [15, 15]\n",
    "#driver = 'C:/Users/redmi/'\n",
    "driver = 'G:/'\n",
    "pwd = os.path.join(driver, \"1_Data1/sea/\")\n",
    "destData = os.path.join(pwd, \"AllSeaGisOut.txt\")\n",
    "obrisData = os.path.join(driver, \"1_Data1/obris/obris.dat\")\n",
    "batimetrFile = os.path.join(driver, \"1_Data1/batimetria/b1.txt\")\n",
    "#os.listdir(pwd)"
   ]
  },
  {
   "cell_type": "code",
   "execution_count": null,
   "id": "a02b1bf3-928f-490d-9709-0f31e9105f22",
   "metadata": {
    "editable": true,
    "slideshow": {
     "slide_type": ""
    },
    "tags": []
   },
   "outputs": [],
   "source": [
    "obris = pd.read_csv(obrisData,\n",
    "                    header=0,\n",
    "                    na_values='--',\n",
    "                    sep='\\t',\n",
    "                    decimal=',',\n",
    "                    )\n",
    "obris.head(3)"
   ]
  },
  {
   "cell_type": "code",
   "execution_count": null,
   "id": "18fcc277-6828-40d9-aedd-7e084b8356d3",
   "metadata": {
    "tags": []
   },
   "outputs": [],
   "source": [
    "df = pd.read_csv(os.path.join(pwd, \"AllSeaO3.txt\"),\n",
    "                 skiprows=[1],\n",
    "                 header=0,\n",
    "                 # skip_blank_lines=True,\n",
    "                 skipinitialspace=True,\n",
    "                 na_values='',\n",
    "                 sep='\\t',\n",
    "                 decimal='.',\n",
    "                 # nrows=100000,\n",
    "                 parse_dates=['DateTime'],\n",
    "                 dayfirst=False,\n",
    "                 )\n",
    "df.info()"
   ]
  },
  {
   "cell_type": "code",
   "execution_count": null,
   "id": "97f658e3-cf09-44aa-9ad4-ea015996500c",
   "metadata": {},
   "outputs": [],
   "source": [
    "df"
   ]
  },
  {
   "cell_type": "code",
   "execution_count": null,
   "id": "67e30599-b381-4217-9bda-9692a84802ef",
   "metadata": {},
   "outputs": [],
   "source": [
    "df['CO2flux'] = 0.00485 * df['dpCO2'] * np.power(df['winSpeed_rolling'], 2)\n",
    "df['CH4flux'] = 0.0605 * df['dpCH4'] * np.power(df['winSpeed_rolling'], 2)"
   ]
  },
  {
   "cell_type": "code",
   "execution_count": null,
   "id": "1d13524d-b88d-4d90-97e9-a1761d790619",
   "metadata": {},
   "outputs": [],
   "source": [
    "param = 'dpCO2'"
   ]
  },
  {
   "cell_type": "code",
   "execution_count": null,
   "id": "f8b6d3b0-e915-4305-8a2f-f6009f45a331",
   "metadata": {},
   "outputs": [],
   "source": [
    "plt.rcParams['figure.figsize'] = [10,5]\n",
    "yr = 2016\n",
    "data=df.loc[(df['DateTime'] > pd.to_datetime(f'03.06.{yr} 00:00', dayfirst=True)) & (df['DateTime'] < pd.to_datetime(f'03.06.{yr} 10:00', dayfirst=True)), :]\n",
    "#plt.ylim(-450, -250)\n",
    "plt.scatter('DateTime', param, s=1, data=data, c='blue')\n",
    "plt.scatter('DateTime', 'pCO2Wtr', s=1, data=data, c='red')"
   ]
  },
  {
   "cell_type": "code",
   "execution_count": null,
   "id": "7b31525b-0ecc-424f-ba17-386ebc9bc07b",
   "metadata": {},
   "outputs": [],
   "source": [
    "central_stations = {}\n",
    "for key, coor in scheme.central.items():\n",
    "    central_stations[key] = scheme.get_center(coor)\n",
    "central_stations"
   ]
  },
  {
   "cell_type": "code",
   "execution_count": null,
   "id": "15f01a0b-a8ed-42aa-98d7-1b872dec68eb",
   "metadata": {},
   "outputs": [],
   "source": [
    "dfc = pd.DataFrame.from_dict(central_stations, orient='index')\n",
    "dfc.columns = ['Latitude', 'Longitude']\n",
    "dfp = pd.DataFrame.from_dict(scheme.points, orient='index')\n",
    "dfp.columns = ['Latitude', 'Longitude']\n",
    "dfp.reset_index(drop=False, inplace=True, names='place')"
   ]
  },
  {
   "cell_type": "code",
   "execution_count": null,
   "id": "2223a0e8-94e2-40ee-89ca-0ba1964cf21d",
   "metadata": {},
   "outputs": [],
   "source": [
    "KYA = scheme.points['KYA']\n",
    "KHR = scheme.points['KHR']\n",
    "south_middle_border_k = (KYA[0] - KHR[0]) / (KYA[1] - KHR[1])\n",
    "south_middle_border_b = KYA[0] - south_middle_border_k * KYA[1]"
   ]
  },
  {
   "cell_type": "code",
   "execution_count": null,
   "id": "92b98483-4864-4bba-b12c-c044eea99848",
   "metadata": {},
   "outputs": [],
   "source": [
    "df['region'] = 'middle'\n",
    "df.loc[(df['Longitude']*south_middle_border_k + south_middle_border_b) > df['Latitude'], 'region'] = 'south'\n",
    "df.loc[df['Latitude'] > scheme.points['mACR'][0], 'region'] = 'north'"
   ]
  },
  {
   "cell_type": "code",
   "execution_count": null,
   "id": "33ba6c7b-2841-467f-a8cd-53c687238bc2",
   "metadata": {},
   "outputs": [],
   "source": [
    "plt.rcParams['figure.figsize'] = [15, 15]\n",
    "plt.scatter('Longitude', 'Latitude', data=df.loc[df['year'] == 2013,:], s=1, alpha=0.1)\n",
    "plt.scatter('Longitude', 'Latitude', data=df.loc[df['region'] == 'south',:], c='r', s=1, alpha=0.03)\n",
    "plt.scatter('Longitude', 'Latitude', data=df.loc[df['region'] == 'middle',:], c='g', s=1, alpha=0.03)\n",
    "plt.scatter('Longitude', 'Latitude', data=df.loc[df['region'] == 'north',:], c='b', s=1, alpha=0.03)\n",
    "#plt.scatter('Longitude', 'Latitude', data=dfj, s=2, c='green', alpha=0.1)\n",
    "plt.scatter('Longitude', 'Latitude', data=dfc, s=20, c='red', alpha=1)\n",
    "plt.scatter('Longitude', 'Latitude', data=dfp, s=10, c='darkred', alpha=1)\n",
    "plt.plot('long', 'lat', 'b-', data=obris, alpha=1, linewidth=1)\n",
    "plt.plot([KYA[1], KHR[1]], [KYA[0], KHR[0]], 'g-', data=obris, alpha=1, linewidth=1)\n",
    "for name, coor in central_stations.items():\n",
    "    plt.annotate(name, (coor[1]+0.002, coor[0]+0.004))\n",
    "for name, coor in scheme.points.items():\n",
    "    plt.annotate(name, (coor[1]+0.001, coor[0]+0.002))\n",
    "plt.savefig('track_2_3.png')"
   ]
  },
  {
   "cell_type": "code",
   "execution_count": null,
   "id": "76d55d47-507d-4bae-9915-c4a7616ff8b3",
   "metadata": {},
   "outputs": [],
   "source": [
    "df['Station'] = ''\n",
    "DLAT = 0.01\n",
    "DLNG = 0.02\n",
    "\n",
    "for k, v in central_stations.items():\n",
    "    df.loc[(df['Latitude'].between(v[0]-DLAT, v[0]+DLAT) & df['Longitude'].between(v[1]-DLNG, v[1]+DLNG)), 'Station'] = k"
   ]
  },
  {
   "cell_type": "code",
   "execution_count": null,
   "id": "0f72a4e8-6a39-419c-86d9-b54e61525c3a",
   "metadata": {},
   "outputs": [],
   "source": [
    "dfg = df.groupby(by=['region'])[param].agg(['count', 'mean', 'std', 'median'])\n",
    "dfg"
   ]
  },
  {
   "cell_type": "code",
   "execution_count": null,
   "id": "74a2e826-d8aa-4b71-96bd-81f2bb15db0a",
   "metadata": {},
   "outputs": [],
   "source": [
    "dfg.to_csv(os.path.join(pwd, f'{param}RegionStationAllSpring.dat'), sep='\\t')"
   ]
  },
  {
   "cell_type": "code",
   "execution_count": null,
   "id": "9b79a2c0-9a96-467b-9074-fe5987c232dc",
   "metadata": {},
   "outputs": [],
   "source": [
    "## vesx: RV x offset along longitude, vesy: RV y offset along latitude (meters)\n",
    "df['dateSec'] = df['DateTime'].astype('int64')/10**9  ## seconds\n",
    "df['dt'] = (df['dateSec'] - df['dateSec'].shift(1))"
   ]
  },
  {
   "cell_type": "code",
   "execution_count": null,
   "id": "297787d6-1045-4164-8069-55a1945787d0",
   "metadata": {},
   "outputs": [],
   "source": [
    "plt.rcParams['figure.figsize'] = [15, 5]\n",
    "plt.scatter('DateTime', 'winSpeed_rolling', data=df, s=4, c='red')\n",
    "plt.xlim(pd.to_datetime('2021-06-02 06:10'), pd.to_datetime('2021-06-03 01:30'))\n",
    "plt.legend(loc='lower right')\n",
    "plt.grid()"
   ]
  },
  {
   "cell_type": "code",
   "execution_count": null,
   "id": "0c45aade-3cb1-48b0-afa5-d2427aa27926",
   "metadata": {
    "tags": []
   },
   "outputs": [],
   "source": [
    "plt.rcParams['figure.figsize'] = [10, 10]\n",
    "plt.scatter(df['Longitude'], df['Latitude'], s=10, c=df['depth'], marker='o', linewidth=0, alpha=0.5)\n",
    "plt.plot(obris['long'], obris['lat'], 'b-')\n",
    "plt.colorbar(alpha=1)"
   ]
  },
  {
   "cell_type": "code",
   "execution_count": null,
   "id": "98d1e5fb-ad15-45ea-87b8-8ce23caacac2",
   "metadata": {
    "tags": []
   },
   "outputs": [],
   "source": [
    "longStep = 0.02\n",
    "latStep = 0.01\n",
    "df['long'] = (df['Longitude']/longStep).round()*longStep\n",
    "df['lat'] = (df['Latitude']/latStep).round()*latStep"
   ]
  },
  {
   "cell_type": "code",
   "execution_count": null,
   "id": "724b1216-01d3-4bc5-a547-30078505aad9",
   "metadata": {},
   "outputs": [],
   "source": [
    "df.columns"
   ]
  },
  {
   "cell_type": "code",
   "execution_count": null,
   "id": "88b01d04-a887-4802-bd02-e2b58159233b",
   "metadata": {
    "tags": []
   },
   "outputs": [],
   "source": [
    "#func_list = ['mean', 'count']\n",
    "func_list = ['mean']\n",
    "cols_to_calc = { #'pCO2Wtr': func_list,\n",
    "                #'pCH4Wtr': func_list,\n",
    "                #'cCO2Wtr': func_list,\n",
    "                #'cCH4Wtr': func_list,\n",
    "                'dpCO2': func_list,\n",
    "                'dpCH4': func_list,\n",
    "                'CO2flux': func_list,\n",
    "                'CH4flux': func_list,\n",
    "                #'pCO2Air': func_list,\n",
    "                #'pCH4Air': func_list,\n",
    "                'depth': ['mean'],\n",
    "                'TempWtr': func_list,\n",
    "                'winSpeed_rolling': func_list,\n",
    "                param: func_list,}\n",
    "res = df.groupby(['year', 'long', 'lat'], as_index=False).agg(cols_to_calc)\n",
    "res.columns = res.columns.droplevel(1)\n",
    "#res = df.groupby(['long', 'lat'], as_index=False).agg(cols_to_calc)\n",
    "#res.columns = res.columns.droplevel(1)\n",
    "res"
   ]
  },
  {
   "cell_type": "code",
   "execution_count": null,
   "id": "adaa8f6a-09c3-46c4-9c85-a85560a7c396",
   "metadata": {
    "tags": []
   },
   "outputs": [],
   "source": [
    "for yr in range(2013, 2025):\n",
    "    t = res.loc[res['year'] == yr].shape\n",
    "    print(f'{yr}: {t[0]}')"
   ]
  },
  {
   "cell_type": "code",
   "execution_count": null,
   "id": "419419ed-2695-40ca-be75-4575e02e9eb0",
   "metadata": {},
   "outputs": [],
   "source": [
    "res['square'] = bf.dist((0, res['lat']), (0.02, res['lat']))*1.11"
   ]
  },
  {
   "cell_type": "code",
   "execution_count": null,
   "id": "abfacd56-8bed-41bf-af8f-3606b1444999",
   "metadata": {},
   "outputs": [],
   "source": [
    "res['region'] = '2middle'\n",
    "res.loc[(res['long']*south_middle_border_k + south_middle_border_b) > res['lat'], 'region'] = '1south'\n",
    "res.loc[res['lat'] > scheme.points['mACR'][0], 'region'] = '3north'"
   ]
  },
  {
   "cell_type": "code",
   "execution_count": null,
   "id": "9b0701a7-f313-490d-a519-a7fec6b02593",
   "metadata": {},
   "outputs": [],
   "source": [
    "res['depthLevel'] = ''\n",
    "res.loc[res['depth'].between(-100, 100), 'depthLevel'] = '0-100m'\n",
    "res.loc[res['depth'].between(-200, -100), 'depthLevel'] = '100-200m'\n",
    "res.loc[res['depth'].between(-400, -200), 'depthLevel'] = '200-400m'\n",
    "res.loc[res['depth'].between(-2000, -400), 'depthLevel'] = '400+'\n",
    "res"
   ]
  },
  {
   "cell_type": "code",
   "execution_count": null,
   "id": "78356bd7-0ac4-40bd-a65a-79af485471a7",
   "metadata": {},
   "outputs": [],
   "source": [
    "param = 'CH4flux'\n",
    "res.groupby(by=['depthLevel']).agg({param: ['count','mean', 'std', 'median']}).to_clipboard()"
   ]
  },
  {
   "cell_type": "code",
   "execution_count": null,
   "id": "55dfa4d2-1ddb-475c-a5fb-046963dbb5e5",
   "metadata": {},
   "outputs": [],
   "source": [
    "res.groupby(by=['year', 'depthLevel']).agg({param: ['count', 'mean', 'std', 'median']}).to_clipboard()"
   ]
  },
  {
   "cell_type": "raw",
   "id": "1f2c86ed-b0ba-4201-a417-4288ed4969c4",
   "metadata": {},
   "source": [
    "plt.boxplot('cCO2Wtr', data=res)\n",
    "plt.boxplot('TempWtr', data=res)"
   ]
  },
  {
   "cell_type": "code",
   "execution_count": null,
   "id": "ce2480bd-9d6d-48da-a2d0-d2ea9bfb8497",
   "metadata": {
    "editable": true,
    "slideshow": {
     "slide_type": ""
    },
    "tags": []
   },
   "outputs": [],
   "source": [
    "plt.rcParams['figure.figsize'] = [10,10]\n",
    "#plt.plot('long', 'lat', data=obris, markersize=1, alpha=1)\n",
    "#plt.scatter('long', 'lat', data=res, s=7, alpha=1, c=res[param], cmap='rainbow', marker='s', )\n",
    "#for yr in [2013, 2016, 2017, 2018, 2021, 2022, 2023, 2024]:\n",
    "for yr in [2022, 2023, 2024]:\n",
    "    plt.plot('long', 'lat', data=obris, markersize=1, alpha=1)\n",
    "    plt.scatter('long', 'lat', data=res.loc[res['year']==yr, :], s=20, alpha=0.8, c=res.loc[res['year']==yr, param], cmap='rainbow')\n",
    "    plt.xlim(105, 106.4)\n",
    "    plt.ylim(51.5, 52.5)\n",
    "    plt.clim(0,10)\n",
    "    plt.colorbar()\n",
    "    plt.title(f'{param} {yr} malenkiy')\n",
    "    plt.savefig(f'{param}Grid1_1km_malenkiy_{yr}.png')\n",
    "    plt.close()"
   ]
  },
  {
   "cell_type": "code",
   "execution_count": null,
   "id": "df15f102-00dc-4ef0-a745-a865eaf6ff2f",
   "metadata": {},
   "outputs": [],
   "source": [
    "plt.rcParams['figure.figsize'] = [10,10]\n",
    "#plt.plot('long', 'lat', data=obris, markersize=1, alpha=1)\n",
    "#plt.scatter('long', 'lat', data=res, s=7, alpha=1, c=res[param], cmap='rainbow', marker='s', )\n",
    "#for yr in [2013, 2016, 2017, 2018, 2021, 2022, 2023, 2024]:\n",
    "for yr in [2022, 2023, 2024]:\n",
    "    plt.plot('long', 'lat', data=obris, markersize=1, alpha=1)\n",
    "    plt.scatter('long', 'lat', data=res.loc[res['year']==yr, :], s=20, alpha=0.8, c=res.loc[res['year']==yr, param], cmap='rainbow')\n",
    "    plt.xlim(106.8, 108)\n",
    "    plt.ylim(52.5, 53.5)\n",
    "    plt.clim(0,10)\n",
    "    plt.colorbar()\n",
    "    plt.title(f'{param} {yr} olkhon')\n",
    "    plt.savefig(f'{param}Grid1_1km_olkhon_{yr}.png')\n",
    "    plt.close()"
   ]
  },
  {
   "cell_type": "code",
   "execution_count": null,
   "id": "d0df33d9-5fec-477d-a343-82651766b3ab",
   "metadata": {},
   "outputs": [],
   "source": [
    "res"
   ]
  },
  {
   "cell_type": "code",
   "execution_count": null,
   "id": "c70c7bbe-d5f5-403d-8ab9-7d175df734f6",
   "metadata": {},
   "outputs": [],
   "source": [
    "func_list = ['mean']\n",
    "cols_to_calc = { #'pCO2Wtr': func_list,\n",
    "                #'pCH4Wtr': func_list,\n",
    "                'cCO2Wtr': func_list,\n",
    "                #'cCH4Wtr': func_list,\n",
    "                #'dpCO2': func_list,\n",
    "                #'dpCH4': func_list,\n",
    "                #'pCO2Air': func_list,\n",
    "                #'pCH4Air': func_list,\n",
    "                'depth': ['mean'],\n",
    "                #'TempWtr': func_list,\n",
    "                param: func_list,}\n",
    "res1 = res.groupby(['long', 'lat'], as_index=False).agg(cols_to_calc)\n",
    "res1.columns = res1.columns.droplevel(1)\n",
    "res1"
   ]
  },
  {
   "cell_type": "code",
   "execution_count": null,
   "id": "17d7ffe5-ff2d-42c5-a7c0-a8252e69e024",
   "metadata": {},
   "outputs": [],
   "source": [
    "\n",
    "\n",
    "res1['square'] = mt.dist((0, res1['lat']), (0.02, res1['lat']))*1.11\n",
    "res1"
   ]
  },
  {
   "cell_type": "code",
   "execution_count": null,
   "id": "7e4e907a-2f17-4498-aca9-08b356e7c354",
   "metadata": {},
   "outputs": [],
   "source": [
    "grad=[-400, -200, -100, 0]\n",
    "data = df_whole.loc[df_whole['depth']<0,:]\n",
    "plt.rcParams['figure.figsize'] = [10, 10]\n",
    "plt.plot('long', 'lat', data=obris, markersize=0.1, alpha=1)\n",
    "cmap = plt.get_cmap('Blues_r', len(grad))\n",
    "plt.scatter('long', 'lat', data=data, s=5, alpha=1, c=data['depth'], cmap=cmap, marker='s')\n",
    "#plt.clim(-2000, 0)\n",
    "plt.clim(np.min(grad)-0, np.max(grad)+0)\n",
    "plt.colorbar(ticks=grad)\n",
    "plt.title('depth, m')\n",
    "#for yr in [2013, 2016, 2017, 2018, 2020, 2021, 2022, 2023, 2024]:\n",
    "#for yr in [2024]:\n",
    "#    plt.scatter('long', 'lat', data=res.loc[res['year']==yr, :], s=20, alpha=0.1, c=res.loc[res['year']==yr, ('dpCO2', 'mean')], cmap='Paired')\n",
    "    #plt.colorbar()\n",
    "plt.savefig(f'DepthGrid7080.png')"
   ]
  },
  {
   "cell_type": "code",
   "execution_count": null,
   "id": "ae9c5d5c-1df8-47b2-a9f9-e30c3ef66179",
   "metadata": {},
   "outputs": [],
   "source": [
    "res1[f'{param}Level'] = np.nan\n",
    "prev = 0\n",
    "grad = [0.5, 0.75, 1.0, 1.25, 1.5, 1.75, 2.0]\n",
    "for i in grad:\n",
    "    print(f'{prev} -- {i}')\n",
    "    res1.loc[res1[param].between(prev, i), f'{param}Level'] = i\n",
    "    prev = i\n",
    "    \n",
    "# res1.loc[res1[param].between(-100, 100), f'{param}Level'] = "
   ]
  },
  {
   "cell_type": "code",
   "execution_count": null,
   "id": "b5687eb4-92a9-4e82-a07e-073a27bcb230",
   "metadata": {},
   "outputs": [],
   "source": [
    "plt.rcParams['figure.figsize'] = [15, 15]\n",
    "plt.plot('long', 'lat', data=obris, markersize=1, alpha=1)\n",
    "#plt.scatter('long', 'lat', data=df_whole, s=30, alpha=0.01, c=df_whole['depthLevel'], cmap='winter')\n",
    "#plt.scatter('long', 'lat', data=df_whole.loc[df_whole['depth']<0], s=10, alpha=1, c='#eeeeff')\n",
    "#plt.clim(-100, 500)\n",
    "cmap = plt.get_cmap('rainbow', len(grad))\n",
    "plt.scatter('long', 'lat', data=res, s=55, alpha=1, c=res[f'{param}'], cmap=cmap, marker='s')\n",
    "plt.colorbar(ticks=grad, alpha=1)\n",
    "plt.clim(np.min(grad)-0.25/2, np.max(grad)+0.25/2)\n",
    "plt.title('CO2Wtr, мг/л')\n",
    "#for yr in [2013, 2016, 2017, 2018, 2020, 2021, 2022, 2023, 2024]:\n",
    "#for yr in [2024]:\n",
    "#    plt.scatter('long', 'lat', data=res.loc[res['year']==yr, :], s=20, alpha=0.1, c=res.loc[res['year']==yr, ('dpCO2', 'mean')], cmap='Paired')\n",
    "    #plt.colorbar()\n",
    "plt.grid(linewidth=1, alpha=0.5)\n",
    "plt.savefig(f'{param}Grid7080Legend5_5km.png')"
   ]
  },
  {
   "cell_type": "code",
   "execution_count": null,
   "id": "4f8f91e7-4511-4cd6-8af2-c3aab8fb5a91",
   "metadata": {
    "tags": []
   },
   "outputs": [],
   "source": [
    "func_list = ['count', 'mean', 'std', 'median']\n",
    "\n",
    "cols_to_calc = {param: func_list,\n",
    "                #'depth': func_list,\n",
    "                #param: 'mean',\n",
    "                'square': [sum],\n",
    "               }\n",
    "res2 = res1.groupby(['depthLevel'], as_index=False).agg(cols_to_calc)\n",
    "#res2 = res2.groupby([('cCO2Wtr', 'count')], as_index=False).count()\n",
    "res2.style.format(precision=3)\n"
   ]
  },
  {
   "cell_type": "code",
   "execution_count": null,
   "id": "b6917497-7628-4326-ab00-da30729f39e6",
   "metadata": {},
   "outputs": [],
   "source": [
    "res1['long']"
   ]
  },
  {
   "cell_type": "code",
   "execution_count": null,
   "id": "f898d670-cc68-44c9-aa19-ddc924d32b34",
   "metadata": {},
   "outputs": [],
   "source": [
    "res1['square'] = mt.dist((0, res1['lat']), (0.02, res1['lat']))*1.11\n",
    "res1.describe()"
   ]
  },
  {
   "cell_type": "code",
   "execution_count": null,
   "id": "a3c1fb6b-81f1-4882-a68c-74fec1d3bcf1",
   "metadata": {},
   "outputs": [],
   "source": [
    "res1['count'] = res1[('cCO2Wtr', 'count')]\n",
    "res1.groupby(['count'], as_index=False).agg(['count'])\n"
   ]
  },
  {
   "cell_type": "code",
   "execution_count": null,
   "id": "2c1db7a2-96f9-4295-ac85-64b317b1d0be",
   "metadata": {},
   "outputs": [],
   "source": []
  },
  {
   "cell_type": "code",
   "execution_count": null,
   "id": "16ef802e-afb2-4ba1-a461-40bd7264d7ef",
   "metadata": {},
   "outputs": [],
   "source": []
  },
  {
   "cell_type": "code",
   "execution_count": null,
   "id": "04ac369d-777d-471a-a0a2-0844027da371",
   "metadata": {},
   "outputs": [],
   "source": [
    "res = res.groupby(['depthLevel'], as_index=False).agg(cols_to_calc)\n",
    "res"
   ]
  },
  {
   "cell_type": "code",
   "execution_count": null,
   "id": "f1263886-5f3d-4f65-8716-c8bf717e3a95",
   "metadata": {},
   "outputs": [],
   "source": [
    "res.style.format(precision=2)"
   ]
  },
  {
   "cell_type": "raw",
   "id": "090d74d8-32a7-4425-8614-dd5ef8d9fe73",
   "metadata": {
    "tags": []
   },
   "source": [
    "res['toobris'] = 0\n",
    "\n",
    "for i in range(len(res)):\n",
    "    min_dist = 100\n",
    "    for j in range(len(obris)):\n",
    "        dista = dist((res['long'][i], res['lat'][i]), (obris['long'][j], obris['lat'][j]))\n",
    "        if (min_dist > dista):\n",
    "            min_dist = dista\n",
    "    res.at[i, 'toobris'] = min_dist"
   ]
  },
  {
   "cell_type": "code",
   "execution_count": null,
   "id": "63ebf1db-de73-41de-aa87-6f8a142c3cc9",
   "metadata": {
    "editable": true,
    "slideshow": {
     "slide_type": ""
    },
    "tags": []
   },
   "outputs": [],
   "source": [
    "destData"
   ]
  },
  {
   "cell_type": "code",
   "execution_count": null,
   "id": "8f347ca2-1317-4455-8166-0cd4bcd70087",
   "metadata": {
    "tags": []
   },
   "outputs": [],
   "source": [
    "res.to_csv(os.path.join(pwd, 'dpCO2CH4SeabySector.txt'),\n",
    "           sep='\\t',\n",
    "           )"
   ]
  },
  {
   "cell_type": "code",
   "execution_count": null,
   "id": "a5c2b38f-6fe7-4c8f-8a2a-eb07a919946e",
   "metadata": {
    "editable": true,
    "slideshow": {
     "slide_type": ""
    },
    "tags": []
   },
   "outputs": [],
   "source": [
    "df.to_csv(os.path.join(pwd, 'dpCO2CH4SeabyMinute.txt'),\n",
    "           sep='\\t'\n",
    "          )"
   ]
  },
  {
   "cell_type": "code",
   "execution_count": null,
   "id": "15034ddd-dd32-4a32-8269-8f812142faa4",
   "metadata": {
    "tags": []
   },
   "outputs": [],
   "source": [
    "%matplotlib inline\n",
    "valMax = res[('cCH4Wtr','mean')].max\n",
    "\n",
    "fig, ax = plt.subplots()\n",
    "ax.set_xlim(106.2, 107.8)\n",
    "ax.set_ylim(52, 53)\n",
    "\n",
    "# wether this or those\n",
    "ax.scatter(res['long'], res['lat'], c=res[('cCH4Wtr', 'mean', 'mean')], s=40, marker='s', linewidth=0, cmap='rainbow', alpha=0.1)\n",
    "ax.plot(obris['long'], obris['lat'], 'b-')\n",
    "\n",
    "fig.savefig('gis.png')"
   ]
  },
  {
   "cell_type": "code",
   "execution_count": null,
   "id": "27676ba8-c818-4ee3-9e18-e036bafa22fc",
   "metadata": {},
   "outputs": [],
   "source": [
    "df.info()"
   ]
  },
  {
   "cell_type": "code",
   "execution_count": null,
   "id": "2e30db09-4a16-4da4-87d0-9fae35e3c2d5",
   "metadata": {},
   "outputs": [],
   "source": [
    "df.to_csv(os.path.join(pwd, 'all.txt'), sep='\\t')"
   ]
  },
  {
   "cell_type": "code",
   "execution_count": null,
   "id": "698eedb1-30ad-4bbe-bdb4-f332c557bd3b",
   "metadata": {},
   "outputs": [],
   "source": [
    "pwd"
   ]
  },
  {
   "cell_type": "code",
   "execution_count": null,
   "id": "36250333-c3eb-48f4-8877-88ba3c2f8c1f",
   "metadata": {},
   "outputs": [],
   "source": [
    "import mytools"
   ]
  },
  {
   "cell_type": "code",
   "execution_count": null,
   "id": "a2afab6b-890a-41a0-a750-7666a58f8021",
   "metadata": {},
   "outputs": [],
   "source": [
    "mytools.dist((0,0), (1,0))"
   ]
  },
  {
   "cell_type": "code",
   "execution_count": null,
   "id": "53df6a95-11bb-4192-8ab1-5681ac6ff4f1",
   "metadata": {},
   "outputs": [],
   "source": [
    "import random\n",
    "for i in range(256):\n",
    "    a = random.randint(1, 10)\n",
    "    b = random.randint(1, 10)\n",
    "    c = a * b\n",
    "    if random.randint(0, 3):\n",
    "        print(f'{a} * {b} = ')\n",
    "    else:\n",
    "        print(f'{c} : {b} = ')\n"
   ]
  },
  {
   "cell_type": "code",
   "execution_count": null,
   "id": "e3fe152b-24b7-4710-8cc5-5990dd20c03a",
   "metadata": {},
   "outputs": [],
   "source": [
    "d = pd.DataFrame({'year': [2021, 2022, 2023, 2024],\n",
    "                  'a': [np.nan, 18.3, 21.4, 105],\n",
    "                  'b': [np.nan, 31, 37, 41],\n",
    "                  'c': [np.nan, 154.9, 257.3, 475.9],\n",
    "                  'd': [np.nan, 447, 404, 518],\n",
    "                  'e': [np.nan, 210, 193, 227],\n",
    "                  'f': [np.nan, 142, 165, 173],\n",
    "                  'h': [6, 10, 17, 20],\n",
    "                  'i': [4.1, 18.3, 21.4, 105.1],\n",
    "                 \n",
    "                 \n",
    "                 })\n",
    "d"
   ]
  },
  {
   "cell_type": "code",
   "execution_count": null,
   "id": "c584b982-de6c-4df3-87b7-726e4f88f72d",
   "metadata": {},
   "outputs": [],
   "source": [
    "col = 'i'\n",
    "plt.rcParams['figure.figsize'] = [15, 8]\n",
    "plt.plot('year', col, data=d, marker='o', markersize=30, linewidth=10)\n",
    "plt.xticks(ticks=d['year'], minor=False)\n",
    "plt.tick_params(axis='both', labelsize=40)\n",
    "plt.xlim(2020.5, 2024.5)\n",
    "plt.ylim(d[col].min()*0, d[col].max()*1.2)\n",
    "plt.savefig(f'1.png')"
   ]
  },
  {
   "cell_type": "code",
   "execution_count": null,
   "id": "e238d46f-3d7f-401f-ba2d-95a559905bb2",
   "metadata": {},
   "outputs": [],
   "source": [
    "df.columns"
   ]
  },
  {
   "cell_type": "code",
   "execution_count": null,
   "id": "44b9fe84-ad65-4448-ac68-e828fc2c376d",
   "metadata": {},
   "outputs": [],
   "source": [
    "df = df.loc[:, ['DateTime', 'Longitude', 'Latitude', 'TempAir', 'PressAir', 'TempWtr',\n",
    "                'pCO2Air', 'pCH4Air', 'pCO2Wtr', 'pCH4Wtr', 'depth', 'year', \n",
    "                'dateSec', 'dt', \n",
    "                'vesSpeed', 'winSpeed', 'dpCO2', 'dpCH4', 'region', 'Station', 'winSpeed_rolling']]"
   ]
  },
  {
   "cell_type": "code",
   "execution_count": null,
   "id": "ac376032-cfc7-441c-b8e4-2d99bf2e9d92",
   "metadata": {},
   "outputs": [],
   "source": []
  }
 ],
 "metadata": {
  "kernelspec": {
   "display_name": "Python 3 (ipykernel)",
   "language": "python",
   "name": "python3"
  },
  "language_info": {
   "codemirror_mode": {
    "name": "ipython",
    "version": 3
   },
   "file_extension": ".py",
   "mimetype": "text/x-python",
   "name": "python",
   "nbconvert_exporter": "python",
   "pygments_lexer": "ipython3",
   "version": "3.11.2"
  }
 },
 "nbformat": 4,
 "nbformat_minor": 5
}
