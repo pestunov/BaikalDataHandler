{
 "cells": [
  {
   "cell_type": "code",
   "execution_count": null,
   "id": "88a84ba4-0bec-44bb-9475-8b9bc3206461",
   "metadata": {
    "tags": []
   },
   "outputs": [],
   "source": [
    "import pandas as pd\n",
    "import numpy as np\n",
    "import matplotlib.pyplot as plt\n",
    "from matplotlib.dates import DateFormatter\n",
    "from sqlalchemy import create_engine\n",
    "from sqlalchemy.sql import text\n",
    "\n",
    "import baikalfunctions as bfunc\n",
    "import scheme_mar2023 as scheme\n",
    "import mytools\n",
    "import mysecure"
   ]
  },
  {
   "cell_type": "code",
   "execution_count": null,
   "id": "ad41cd73-1286-4453-bc5a-22be3e354d60",
   "metadata": {
    "tags": []
   },
   "outputs": [],
   "source": [
    "pd.options.display.max_columns = 100\n",
    "pd.options.display.max_rows = 100"
   ]
  },
  {
   "cell_type": "code",
   "execution_count": null,
   "id": "bbcb1581-1408-4c7c-982e-a0245a7e37e5",
   "metadata": {
    "tags": []
   },
   "outputs": [],
   "source": [
    "# pd.set_option('display.min_rows', 100)\n",
    "%matplotlib inline\n",
    "plt.style.use('dark_background')   # try another styles: 'classic'\n",
    "plt.rcParams['figure.figsize'] = [15, 5]\n",
    "#plt.subplots_adjust(top=1, left=0, right=1, bottom=0)"
   ]
  },
  {
   "cell_type": "code",
   "execution_count": null,
   "id": "5d425f27-5073-41ec-83a7-5de782187e10",
   "metadata": {
    "tags": []
   },
   "outputs": [],
   "source": [
    "pwd = 'G:\\\\1_Data1\\\\99_BaikalOct2024\\\\'\n",
    "saveImgPath = pwd\n",
    "saveDataPath = pwd\n",
    "serverPath = 'C:\\\\xampp\\\\htdocs\\\\img\\\\'"
   ]
  },
  {
   "cell_type": "code",
   "execution_count": null,
   "id": "29ed13cb-c006-475c-b844-6f95e2d15d1f",
   "metadata": {
    "tags": []
   },
   "outputs": [],
   "source": [
    "names=['Date', 'Time', 'DateUTC', 'TimeUTC', 'latitude', 'longitude', 'speed', 'course', 'solar_altitude', 'solar-azimuth',\n",
    "       'temperature_air', 'pressure_air', 'relative-humidity_air', 'precipitation', 'solar_eye', 'solar_uv',\n",
    "       'co2_picarro', 'co2_picarro_max', 'co2_picarro_min', 'ch4_picarro', 'ch4_picarro_max', 'ch4_picarro_min', 'h2o_picarro', 'co2_licor', 'h2o_licor', 'o2_water', 'o2_water_temperature',\n",
    "       'ph', 'temperature_water', 'temperature_equ_1', 'temperature_equ_2', 'temperature_equ_3', 'temperature_equ_4', 'flow_water', 'flow_air', 'channel', 'flag',\n",
    "       'fluo_nx_red', 'fluo_nx_green', 'fluo_nx_blue', 'fluo_kfa_red', 'fluo_kfa_green', 'fluo_kfa_blue', # 'comment',\n",
    "       'water_flow_1', 'water_flow_2', 'water_flow_3', 'water_flow_4',\n",
    "       'temperature_ds_1', 'temperature_ds_2', 'temperature_ds_3', 'temperature_ds_4', 'temperature_ds_5', 'temperature_ds_6', 'temperature_ds_7'\n",
    "      ]"
   ]
  },
  {
   "cell_type": "code",
   "execution_count": null,
   "id": "b428cbb5-d264-4691-9c70-d6e6c8aaee55",
   "metadata": {
    "tags": []
   },
   "outputs": [],
   "source": [
    "df = pd.read_csv(pwd+'origin\\\\data.txt',\n",
    "                 sep='\\s+',\n",
    "                 header=None,\n",
    "                 names=names,\n",
    "                 index_col=False,\n",
    "                 parse_dates={'DateTime':['Date', 'Time']},\n",
    "                 dayfirst=True,\n",
    "                 na_values='-999999',\n",
    "                 decimal=',',\n",
    "                 encoding_errors='ignore',\n",
    "                 #nrows=17820,\n",
    "                )\n",
    "# df['DateTime'] = pd.to_datetime([df['Date'], df['Time']])\n",
    "\n",
    "df.info()"
   ]
  },
  {
   "cell_type": "code",
   "execution_count": null,
   "id": "1d7a5f83-3ea1-49cf-bfa9-5d63672ad067",
   "metadata": {
    "tags": []
   },
   "outputs": [],
   "source": [
    "df.tail(5)"
   ]
  },
  {
   "cell_type": "code",
   "execution_count": null,
   "id": "2188712c-c38f-4d7e-872d-15a39599f983",
   "metadata": {
    "tags": []
   },
   "outputs": [],
   "source": [
    "colweneed = ['DateTime', 'temperature_air', 'pressure_air', 'precipitation', 'solar_eye', 'solar_uv',\n",
    "             'co2_picarro', 'ch4_picarro', 'h2o_picarro', 'flow_air', 'channel', 'flag',\n",
    "             'fluo_nx_red', 'fluo_nx_green', 'fluo_nx_blue', 'fluo_kfa_red',\n",
    "             'fluo_kfa_green', 'fluo_kfa_blue', 'water_flow_1', 'water_flow_2',\n",
    "             'water_flow_3', 'water_flow_4', 'temperature_ds_1', 'temperature_ds_2', 'temperature_ds_3']\n",
    "\n",
    "df.drop(axis='index', columns=[x for x in df.columns if x not in colweneed], inplace=True)\n",
    "df.columns"
   ]
  },
  {
   "cell_type": "code",
   "execution_count": null,
   "id": "b75e9d5b-2129-4ae8-8eca-b0ad6f667a7b",
   "metadata": {
    "tags": []
   },
   "outputs": [],
   "source": [
    "df.rename(columns=scheme.NAME_CONV_BAS, inplace=True)\n",
    "df.sort_values(by='DateTime', inplace=True)\n",
    "df.reset_index(inplace=True, drop=True)\n",
    "df.head(20)"
   ]
  },
  {
   "cell_type": "code",
   "execution_count": null,
   "id": "2f238a40-1287-4b59-a8b7-2b9aa8a7c81c",
   "metadata": {
    "tags": []
   },
   "outputs": [],
   "source": [
    "df.describe()"
   ]
  },
  {
   "cell_type": "code",
   "execution_count": null,
   "id": "47df79f6-6a82-4949-a3ff-38b73fe38f5d",
   "metadata": {
    "tags": []
   },
   "outputs": [],
   "source": [
    "plt.rcParams['figure.figsize'] = [15, 15]\n",
    "fig, axs = plt.subplots(8, 1)\n",
    "\n",
    "axs[0].set_title('vCO2, ppm')\n",
    "axs[0].plot(df.DateTime, df['vCO2'], '-', c='silver', linewidth=0.1)\n",
    "\n",
    "axs[1].set_title('vCH4, ppm')\n",
    "axs[1].plot(df.DateTime, df['vCH4'], '.', c='silver', markersize=1)\n",
    "\n",
    "axs[2].set_title('Temp')\n",
    "axs[2].plot(df.DateTime, df['TempEqu1'], 'r-')\n",
    "axs[2].plot(df.DateTime, df['TempEqu2'], 'g-')\n",
    "axs[2].plot(df.DateTime, df['TempEqu3'], 'b-')\n",
    "axs[2].plot(df.DateTime, df['TempAir'], 'c-')\n",
    "\n",
    "axs[3].set_title('WaterFlow')\n",
    "axs[3].plot(df.DateTime, df['WaterFlowEqu1'], 'r-')\n",
    "axs[3].plot(df.DateTime, df['WaterFlowEqu2'], 'g-')\n",
    "axs[3].plot(df.DateTime, df['WaterFlowEqu3'], 'b-')\n",
    "\n",
    "axs[4].set_title('Press')\n",
    "axs[4].plot(df.DateTime, df['PressAir'], 'c-')\n",
    "axs[5].set_title('Solar')\n",
    "axs[5].plot(df.DateTime, df['LightLX'], 'w-')\n",
    "axs[6].set_title('Fluo')\n",
    "axs[6].plot(df.DateTime, df['FluoKfaBlu'], 'b.')\n",
    "axs[6].plot(df.DateTime, df['FluoKfaGrn'], 'g.')\n",
    "axs[6].plot(df.DateTime, df['FluoKfaRed'], 'r.')\n",
    "axs[7].set_title('AirFlow')\n",
    "axs[7].plot(df.DateTime, df['AirFlow'], 'b-')\n",
    "\n"
   ]
  },
  {
   "cell_type": "markdown",
   "id": "7a0c768d-907f-4b0d-9825-959a4b4f7178",
   "metadata": {},
   "source": [
    "### Correction data"
   ]
  },
  {
   "cell_type": "code",
   "execution_count": null,
   "id": "c953534a-a7a8-40be-926e-5cd3c30ed5f3",
   "metadata": {
    "tags": []
   },
   "outputs": [],
   "source": [
    "## gether/apply specific variables\n",
    "### data corrections\n",
    "# df['vCO2'] = df['vCO2'] * scheme.CO2PicarroScaut_cor[0] + scheme.CO2PicarroScaut_cor[1]\n",
    "# df['vCH4'] = df['vCH4'] * scheme.CH4PicarroScaut_cor[0] + scheme.CH4PicarroScaut_cor[1]\n",
    "# df['vCO2'] = df['CO2_dry']\n",
    "# df['vCH4'] = df['CH4_dry']\n",
    "df['LightLX'] = df['LightLX'] * scheme.solar_cor[0] + scheme.solar_cor[1]\n",
    "df['LightUV'] = df['LightUV'] * scheme.solar_uv_cor[0] + scheme.solar_uv_cor[1]\n",
    "df['PressAir'] = bfunc.pressConvert(df['PressAir'])\n",
    "df['PressAir'] = df['PressAir'] * scheme.press_cor[0] + scheme.press_cor[1]\n",
    "\n",
    "### servise data corrections\n",
    "df['TempEqu1'] = df['TempEqu1'] * scheme.tempEqu1_cor[0] + scheme.tempEqu1_cor[1]\n",
    "df['TempEqu2'] = df['TempEqu2'] * scheme.tempEqu2_cor[0] + scheme.tempEqu2_cor[1]\n",
    "df['TempEqu3'] = df['TempEqu3'] * scheme.tempEqu3_cor[0] + scheme.tempEqu3_cor[1]\n",
    "\n",
    "df['AirFlow'] = df['AirFlow'] * scheme.airflow_cor[0] + scheme.airflow_cor[1]\n",
    "df['WaterFlowEqu1'] = df['WaterFlowEqu1'] * scheme.waterflowEqu1_cor[0] + scheme.waterflowEqu1_cor[1]\n",
    "df['WaterFlowEqu2'] = df['WaterFlowEqu2'] * scheme.waterflowEqu2_cor[0] + scheme.waterflowEqu2_cor[1]\n",
    "df['WaterFlowEqu3'] = df['WaterFlowEqu3'] * scheme.waterflowEqu3_cor[0] + scheme.waterflowEqu3_cor[1]"
   ]
  },
  {
   "cell_type": "code",
   "execution_count": null,
   "id": "e8b028ca-8ada-4b17-9c24-4cb0ed0fe84f",
   "metadata": {
    "tags": []
   },
   "outputs": [],
   "source": [
    "v_state_list = list(scheme.CHANNEL_COLS.values())\n",
    "v_state_list"
   ]
  },
  {
   "cell_type": "code",
   "execution_count": null,
   "id": "0b9da376-c3b6-43fc-9247-2cecf0cda107",
   "metadata": {
    "tags": []
   },
   "outputs": [],
   "source": [
    "chnl = 'Channel'\n",
    "if not chnl in df.columns:\n",
    "    df[chnl] = 0\n",
    "if 'V1_state' in df.columns:\n",
    "    df.loc[df.V1_state == 1, chnl] = 1\n",
    "    df.loc[df.V2_state == 1, chnl] = 2\n",
    "    df.loc[df.V3_state == 1, chnl] = 3\n",
    "    df.loc[df.V4_state == 1, chnl] = 4\n",
    "    df.loc[df.V5_state == 1, chnl] = 5\n",
    "    df.loc[df.V6_state == 1, chnl] = 6\n",
    "df.drop(v_state_list, inplace=True, errors='ignore')"
   ]
  },
  {
   "cell_type": "markdown",
   "id": "a3b6553d-e127-4b51-a5cd-06731ca8e85a",
   "metadata": {},
   "source": [
    "###  Remove bad data   \n",
    "List of accidental cases to filter data (see notes)"
   ]
  },
  {
   "cell_type": "code",
   "execution_count": null,
   "id": "dbc20abe-b5f8-4ade-8234-b72b763fa245",
   "metadata": {},
   "outputs": [],
   "source": [
    "pd.options.display.max_rows=100"
   ]
  },
  {
   "cell_type": "code",
   "execution_count": null,
   "id": "6a9313c1-20c3-45a3-a90e-540b40f5535b",
   "metadata": {},
   "outputs": [],
   "source": [
    "df.loc[(df['DateTime'] > pd.to_datetime('04.10.2024 08:42', dayfirst=True)) & (df['DateTime'] < pd.to_datetime('04.10.2024 08:45', dayfirst=True)), ['Channel', 'vCO2']]"
   ]
  },
  {
   "cell_type": "code",
   "execution_count": null,
   "id": "f0346dee-1a15-4474-ab4e-91ae5d62e562",
   "metadata": {
    "tags": []
   },
   "outputs": [],
   "source": [
    "filter_list = [{'date_start': '04.10.2024 08:43', 'date_stop': '04.10.2024 08:44', 'cols': ['Channel'], 'fill_with': 5},   # something wrong in the worls today\n",
    "               {'date_start': '11.10.2024 00:47', 'date_stop': '11.10.2024 00:48', 'cols': ['Channel'], 'fill_with': 5},   # something wrong in the worls today\n",
    "              ]\n",
    "\n",
    "for cycle in filter_list:\n",
    "    for col in cycle['cols']:\n",
    "        date_start = pd.to_datetime(cycle['date_start'], dayfirst=True)\n",
    "        date_stop = pd.to_datetime(cycle['date_stop'], dayfirst=True)\n",
    "        df.loc[(df['DateTime'] > date_start) & (df['DateTime'] < date_stop), col] = cycle['fill_with']"
   ]
  },
  {
   "cell_type": "code",
   "execution_count": null,
   "id": "bf702e9f-5829-442f-b0d6-139278222b2a",
   "metadata": {
    "tags": []
   },
   "outputs": [],
   "source": [
    "cols = ['FluoNxRed', 'FluoNxGrn', 'FluoNxBlu', 'FluoKfaRed', 'FluoKfaGrn', 'FluoKfaBlu']\n",
    "for col in cols:\n",
    "    df.loc[df[col] == 0, col] = np.nan"
   ]
  },
  {
   "cell_type": "code",
   "execution_count": null,
   "id": "6cfdc4f7-7e14-4278-9798-96d5e9135f3d",
   "metadata": {
    "tags": []
   },
   "outputs": [],
   "source": [
    "cols = ['WaterFlowEqu1', 'WaterFlowEqu2', 'WaterFlowEqu3', 'WaterFlowEqu4', 'AirFlow']\n",
    "for col in cols:\n",
    "    df.loc[df[col] < 0, col] = np.nan"
   ]
  },
  {
   "cell_type": "code",
   "execution_count": null,
   "id": "3e25ab39-3d24-44ae-b1c5-ee4cf2579fa8",
   "metadata": {
    "tags": []
   },
   "outputs": [],
   "source": [
    "df"
   ]
  },
  {
   "cell_type": "code",
   "execution_count": null,
   "id": "dc076035-8ad6-42c8-acc5-2e840109031e",
   "metadata": {
    "tags": []
   },
   "outputs": [],
   "source": [
    "df = df.resample('20s', on='DateTime').mean()\n",
    "df.reset_index(drop=False, inplace=True)"
   ]
  },
  {
   "cell_type": "code",
   "execution_count": null,
   "id": "3b877074-07d7-4f1e-bdb6-6eddead7a1f0",
   "metadata": {
    "tags": []
   },
   "outputs": [],
   "source": [
    "df['Channel'] = df['Channel'].fillna(0)\n",
    "df['event'] = 0\n",
    "df.loc[df['Channel'] != df['Channel'].shift(1), ['event']] = 1\n",
    "df['event'] = df['event'].cumsum()"
   ]
  },
  {
   "cell_type": "code",
   "execution_count": null,
   "id": "9f66cfb1-cee7-4ca1-a8dd-2e347f4cf296",
   "metadata": {
    "tags": []
   },
   "outputs": [],
   "source": [
    "plt.rcParams['figure.figsize'] = [15, 5]\n",
    "plt.scatter('DateTime', 'event', data=df, s=0.2, c='grey')"
   ]
  },
  {
   "cell_type": "code",
   "execution_count": null,
   "id": "b2185ec6-c165-4cb2-8561-2784a2f57294",
   "metadata": {
    "tags": []
   },
   "outputs": [],
   "source": [
    "df['valid'] = 1\n",
    "df.loc[(df['event'] != df['event'].shift(-2)), ['valid']] = 0\n",
    "df.loc[(df['event'] != df['event'].shift(10)), ['valid']] = 0\n",
    "df['vCO2air'] = df['vCO2'][(df['Channel'] == 6) & (df['valid'] != 0)]\n",
    "df['vCH4air'] = df['vCH4'][(df['Channel'] == 6) & (df['valid'] != 0)]"
   ]
  },
  {
   "cell_type": "code",
   "execution_count": null,
   "id": "3c4f6936-405f-40db-a185-30ee7ae6cc65",
   "metadata": {
    "tags": []
   },
   "outputs": [],
   "source": [
    "df.index = df['DateTime']\n",
    "for col in ['vCO2air', 'vCH4air',]:\n",
    "    df[col] = df[col].rolling(3).mean()\n",
    "    df[col] = df[col].interpolate(method='time')\n",
    "df['pCO2air'] = df['vCO2air'] * df['PressAir']  # mkatm\n",
    "df['pCH4air'] = df['vCH4air'] * df['PressAir']  # mkatm\n",
    "for col in ['vCO2air', 'vCH4air',]:\n",
    "    df[col] = df[col].rolling(200).mean()\n"
   ]
  },
  {
   "cell_type": "code",
   "execution_count": null,
   "id": "002e098f-1ffb-4e4c-add5-2156810ab6f9",
   "metadata": {
    "tags": []
   },
   "outputs": [],
   "source": [
    "plt.scatter('DateTime', 'vCO2air', c='lime', s=10, data=df)\n",
    "plt.scatter('DateTime', 'vCO2', c='grey', s=1, data=df, alpha=0.3)\n",
    "#plt.xlim(pd.to_datetime('2024-10-04 00:00'), pd.to_datetime('2024-10-06 10:00'))\n",
    "\n",
    "#plt.ylim(420, 460)"
   ]
  },
  {
   "cell_type": "code",
   "execution_count": null,
   "id": "a003322e-b7bd-4326-b6d7-f2b6bf38b1f3",
   "metadata": {
    "tags": []
   },
   "outputs": [],
   "source": [
    "plt.rcParams['figure.figsize'] = [15, 5]\n",
    "fig, axs = plt.subplots(2, 1)\n",
    "\n",
    "axs[0].set_title('CO2 air, ppm')\n",
    "axs[0].set_ylim(400, 500)\n",
    "axs[0].plot(df.DateTime, df['vCO2'], '-', c='silver')\n",
    "axs[0].plot(df.DateTime, df['vCO2air'], 'r-')\n",
    "\n",
    "axs[1].set_title('CH4 air, ppm')\n",
    "axs[1].set_ylim(0, 10)\n",
    "axs[1].plot(df.DateTime, df['vCH4'], '-', c='silver')\n",
    "axs[1].plot(df.DateTime, df['vCH4air'], 'b-')\n",
    "fig.savefig(saveImgPath+'cAir_vs_time.png', transparent=False)"
   ]
  },
  {
   "cell_type": "code",
   "execution_count": null,
   "id": "0416b420-70cf-4121-bdaf-0af9709b50c4",
   "metadata": {
    "tags": []
   },
   "outputs": [],
   "source": [
    "df['pCO2'] = df['vCO2'] * df['PressAir']\n",
    "df['pCH4'] = df['vCH4'] * df['PressAir']"
   ]
  },
  {
   "cell_type": "code",
   "execution_count": null,
   "id": "29a5adc0-372d-4142-bd92-cea9e7130ac0",
   "metadata": {
    "tags": []
   },
   "outputs": [],
   "source": [
    "df.columns"
   ]
  },
  {
   "cell_type": "code",
   "execution_count": null,
   "id": "c14bac6e-de93-4c91-add5-10a681806389",
   "metadata": {
    "tags": []
   },
   "outputs": [],
   "source": [
    "df['DateSec'] = df['DateTime'].astype('int64') //10**9\n",
    "df['dTSec'] = df['DateSec'] - df['DateSec'].shift(1)\n",
    "dt = df['dTSec'] / 60   ## delta time, min"
   ]
  },
  {
   "cell_type": "markdown",
   "id": "db5f156b-0ed1-4014-9577-f914f339a816",
   "metadata": {},
   "source": [
    "## Flux"
   ]
  },
  {
   "cell_type": "code",
   "execution_count": null,
   "id": "3b07aaaa-967e-4c03-b1b6-aae2e1c2e832",
   "metadata": {},
   "outputs": [],
   "source": [
    "### find the moments where flux is valid to calculate\n",
    "df['valid'] = (df['event'] == df['event'].shift(12)) & (df['event'] == df['event'].shift(-5))\n",
    "df['vCO2chm'] = df['vCO2'][(df['Channel'] == 5) & (df['valid'] == 1)]\n",
    "df['vCH4chm'] = df['vCH4'][(df['Channel'] == 5) & (df['valid'] == 1)]\n",
    "\n",
    "df['fluxEvent'] = (df['Channel'] == 5) & (df['valid'] == 1)"
   ]
  },
  {
   "cell_type": "code",
   "execution_count": null,
   "id": "342ecfa8-5caa-43dd-8f97-9b94fd613959",
   "metadata": {},
   "outputs": [],
   "source": [
    "plt.rcParams['figure.figsize'] = [15, 5]\n",
    "fig, axs = plt.subplots(1, 1)\n",
    "\n",
    "axs.set_title('vCO2, ppm')\n",
    "axs.scatter('DateTime', 'event', data=df.head(300), c='red', s=3)\n",
    "axs.scatter('DateTime', 'valid', data=df.head(300), c='blue', s=1)"
   ]
  },
  {
   "cell_type": "code",
   "execution_count": null,
   "id": "c5017e9c-2dda-4883-8941-ec5f59f8c2f1",
   "metadata": {},
   "outputs": [],
   "source": [
    "plt.rcParams['figure.figsize'] = [15, 5]\n",
    "fig, axs = plt.subplots(1, 1)\n",
    "\n",
    "axs.set_title('vCO2, ppm')\n",
    "axs.plot('DateTime', 'vCO2', '-', data=df.tail(1000), c='red')\n",
    "axs.plot('DateTime', 'vCO2chm', '-', data=df.tail(1000), c='blue')"
   ]
  },
  {
   "cell_type": "code",
   "execution_count": null,
   "id": "52e3da92-bc49-4271-9d89-88efd03870f2",
   "metadata": {},
   "outputs": [],
   "source": [
    "ch_v = 'fluxEvent'\n",
    "df['cCO2chm'] = df['vCO2chm'] * bfunc.pressConvert(df['PressAir']) * bfunc.getDensity(temp=0, press=1, gas='CO2') / 1000 # mg/l\n",
    "df['cCH4chm'] = df['vCH4chm'] * bfunc.pressConvert(df['PressAir']) * bfunc.getDensity(temp=0, press=1, gas='CH4') # mkg/l\n",
    "for col in ['cCO2chm', 'cCH4chm']:\n",
    "    df[col] = df[col].rolling(3).mean()"
   ]
  },
  {
   "cell_type": "code",
   "execution_count": null,
   "id": "62fec8df-04a5-4295-b94d-2b8638e09e49",
   "metadata": {},
   "outputs": [],
   "source": [
    "plt.scatter('DateTime', 'cCH4chm', data=df.tail(1000), c='red')"
   ]
  },
  {
   "cell_type": "code",
   "execution_count": null,
   "id": "af207923-72de-4646-96a4-905cd8fb0c53",
   "metadata": {},
   "outputs": [],
   "source": [
    "deep = 2\n",
    "df['CO2flux'] = (df['cCO2chm'].shift(-deep) - df['cCO2chm'].shift(deep)) / (df['DateSec'].shift(-deep) - df['DateSec'].shift(deep)) * 3600 / 0.81 * 320\n",
    "df['CH4flux'] = (df['cCH4chm'].shift(-deep) - df['cCH4chm'].shift(deep)) / (df['DateSec'].shift(-deep) - df['DateSec'].shift(deep)) * 3600 / 0.81 * 320"
   ]
  },
  {
   "cell_type": "code",
   "execution_count": null,
   "id": "85572b2a-d042-46cd-bed9-4671cdad7c1e",
   "metadata": {},
   "outputs": [],
   "source": [
    "plt.rcParams['figure.figsize'] = [17, 5]\n",
    "plt.plot('DateTime', 'CH4flux', 'ro', linewidth=1, alpha=0.2, data=df)\n",
    "# ax.set_xlim(pd.to_datetime('02.10.2023 14:00', dayfirst=True), pd.to_datetime('08.10.2023 18:00', dayfirst=True))\n",
    "plt.ylim(-50, 50)\n",
    "plt.grid(alpha=0.2)"
   ]
  },
  {
   "cell_type": "markdown",
   "id": "285e7fbc-779e-4a84-a277-667c705003a2",
   "metadata": {
    "tags": []
   },
   "source": [
    "## RECOVERY !!!"
   ]
  },
  {
   "cell_type": "markdown",
   "id": "17f12b1e-1498-4845-9569-1024f304b70d",
   "metadata": {
    "tags": []
   },
   "source": [
    "#### recovery `CO2/CH4`, channel `1` (bottom in oct 2024)"
   ]
  },
  {
   "cell_type": "code",
   "execution_count": null,
   "id": "16350b90-0a95-4c3b-9743-ba9922c5e41b",
   "metadata": {
    "tags": []
   },
   "outputs": [],
   "source": [
    "equ_vol = scheme.equ_walltube_param['equ_vol']  # equivalent equ volume, l\n",
    "equ_cap = scheme.equ_walltube_param['equ_cap']  # equilibrator capacity\n",
    "wtr_flow_min = scheme.equ_walltube_param['water_flow_min'] "
   ]
  },
  {
   "cell_type": "code",
   "execution_count": null,
   "id": "c039bf18-dc89-4ef9-b4d4-696881137b2f",
   "metadata": {
    "tags": []
   },
   "outputs": [],
   "source": [
    "t_wtr = df['TempEqu1']\n",
    "t_air = t_wtr\n",
    "wtr_flow = df['WaterFlowEqu1']\n",
    "air_flow = df['AirFlow']"
   ]
  },
  {
   "cell_type": "code",
   "execution_count": null,
   "id": "d8f3a70c-aa0e-402e-9244-9d5aa90e6323",
   "metadata": {
    "tags": []
   },
   "outputs": [],
   "source": [
    "### CO2 water\n",
    "vGasEqu = df['vCO2'][(df[chnl] == 1) & (df[ch_v] == 1) & (wtr_flow > wtr_flow_min)]\n",
    "solubility = bfunc.getSolubility(t_wtr, 'CO2')\n",
    "\n",
    "density = bfunc.getDensity(t_air, df['PressAir'], 'CO2')\n",
    "cGasAir = df['pCO2air'] / 1000000 * density\n",
    "pGasEquAir = vGasEqu * df['PressAir']  # uatm\n",
    "cGasEquAir = pGasEquAir * density / 1000000  # g/l\n",
    "\n",
    "tau = equ_vol/(air_flow+wtr_flow*equ_cap*solubility/density)\n",
    "eternal = (cGasEquAir-cGasEquAir.shift(1)*np.exp(-1*dt/tau))/(1-np.exp(-1*dt/tau))\n",
    "cGasWtr = (eternal*(wtr_flow*equ_cap*solubility/density+air_flow)-air_flow*cGasAir)/(wtr_flow*equ_cap)\n",
    "\n",
    "df['cCO2bot'] = cGasWtr * 1000     # mg/l\n",
    "df['pCO2bot'] = cGasWtr * 1000000 / solubility  # mkatm"
   ]
  },
  {
   "cell_type": "code",
   "execution_count": null,
   "id": "a9b96faf-3a40-4b78-9db2-f365ac3f8eb8",
   "metadata": {
    "tags": []
   },
   "outputs": [],
   "source": [
    "### CH4 water\n",
    "vGasEqu = df['vCH4'][(df[chnl] == 1) & (df[ch_v] == 1) & (wtr_flow > wtr_flow_min)]\n",
    "solubility = bfunc.getSolubility(t_wtr, 'CH4')\n",
    "\n",
    "density = bfunc.getDensity(t_air, df['PressAir'], 'CH4')\n",
    "cGasAir = df['pCH4air'] / 1000000 * density\n",
    "pGasEquAir = vGasEqu * df['PressAir']\n",
    "cGasEquAir = pGasEquAir * density / 1000000  # g/l\n",
    "\n",
    "tau = equ_vol/(air_flow+wtr_flow*equ_cap*solubility/density)\n",
    "eternal = (cGasEquAir-cGasEquAir.shift(1)*np.exp(-1*dt/tau))/(1-np.exp(-1*dt/tau))\n",
    "cGasWtr = (eternal*(wtr_flow*equ_cap*solubility/density+air_flow)-air_flow*cGasAir)/(wtr_flow*equ_cap)\n",
    "df['cCH4bot'] = cGasWtr * 1000000000    # ng/l\n",
    "df['pCH4bot'] = cGasWtr * 1000000 / solubility  # mkatm"
   ]
  },
  {
   "cell_type": "markdown",
   "id": "f515c5c1-a9d6-4a21-8845-99821799b2a4",
   "metadata": {
    "tags": []
   },
   "source": [
    "#### recovery `CO2/CH4`, channel `2` (surface in mar 2024)"
   ]
  },
  {
   "cell_type": "code",
   "execution_count": null,
   "id": "45ddeb04-bf56-44ff-b706-5a77f765d0dd",
   "metadata": {
    "tags": []
   },
   "outputs": [],
   "source": [
    "t_wtr = df['TempEqu2']\n",
    "t_air = t_wtr\n",
    "wtr_flow = df['WaterFlowEqu2']"
   ]
  },
  {
   "cell_type": "code",
   "execution_count": null,
   "id": "f48e853e-fb94-45cf-a5a6-465405eed91e",
   "metadata": {
    "tags": []
   },
   "outputs": [],
   "source": [
    "### CO2 water\n",
    "vGasEqu = df['vCO2'][(df[chnl] == 2) & (df[ch_v] == 1) & (wtr_flow > wtr_flow_min)]\n",
    "solubility = bfunc.getSolubility(t_wtr, 'CO2')\n",
    "\n",
    "density = bfunc.getDensity(t_air, df['PressAir'], 'CO2')\n",
    "cGasAir = df['pCO2air'] / 1000000 * density\n",
    "pGasEquAir = vGasEqu * df['PressAir']\n",
    "cGasEquAir = pGasEquAir * density / 1000000  # g/l\n",
    "\n",
    "tau = equ_vol/(air_flow+wtr_flow*equ_cap*solubility/density)\n",
    "eternal = (cGasEquAir-cGasEquAir.shift(1)*np.exp(-1*dt/tau))/(1-np.exp(-1*dt/tau))\n",
    "cGasWtr = (eternal*(wtr_flow*equ_cap*solubility/density+air_flow)-air_flow*cGasAir)/(wtr_flow*equ_cap)\n",
    "\n",
    "df['cCO2sur'] = cGasWtr * 1000     # mg/l\n",
    "df['pCO2sur'] = cGasWtr * 1000000 / solubility  # mkatm"
   ]
  },
  {
   "cell_type": "code",
   "execution_count": null,
   "id": "368a189c-99d0-49d2-8a44-1e7fc015fa2f",
   "metadata": {
    "tags": []
   },
   "outputs": [],
   "source": [
    "### CH4 water\n",
    "vGasEqu = df['vCH4'][(df[chnl] == 2) & (df[ch_v] == 1) & (wtr_flow > wtr_flow_min)]\n",
    "solubility = bfunc.getSolubility(t_wtr, 'CH4')\n",
    "\n",
    "density = bfunc.getDensity(t_air, df['PressAir'], 'CH4')\n",
    "cGasAir = df['pCH4air'] / 1000000 * density\n",
    "pGasEquAir = vGasEqu * df['PressAir']\n",
    "cGasEquAir = pGasEquAir * density / 1000000  # g/l\n",
    "\n",
    "tau = equ_vol/(air_flow+wtr_flow*equ_cap*solubility/density)\n",
    "eternal = (cGasEquAir-cGasEquAir.shift(1)*np.exp(-1*dt/tau))/(1-np.exp(-1*dt/tau))\n",
    "cGasWtr = (eternal*(wtr_flow*equ_cap*solubility/density+air_flow)-air_flow*cGasAir)/(wtr_flow*equ_cap)\n",
    "df['cCH4sur'] = cGasWtr * 1000000000    # ng/l\n",
    "df['pCH4sur'] = cGasWtr * 1000000 / solubility  # mkatm"
   ]
  },
  {
   "cell_type": "code",
   "execution_count": null,
   "id": "c665e9c8-8671-4d29-902c-b192c657becc",
   "metadata": {
    "tags": []
   },
   "outputs": [],
   "source": [
    "## rolling average is applied inplace. Be cafelly, run this cell **ONCE**\n",
    "\n",
    "for col in ['cCO2sur', 'cCO2bot', 'pCO2sur', 'pCO2bot', 'cCH4sur', 'pCH4sur', 'cCH4bot', 'pCH4bot']:\n",
    "    df.loc[df[col] == np.inf , col] = np.nan \n",
    "    df.loc[df[col] == -np.inf , col] = np.nan\n",
    "    df.loc[df[col] <= 0 , col] = np.nan\n",
    "    df[col] = df[col].rolling(4, center=True).mean()\n",
    "\n",
    "df['cCH4bot'].describe()"
   ]
  },
  {
   "cell_type": "markdown",
   "id": "1628fe1d-0ec3-4f04-a7cd-ce5d1f5bb8b3",
   "metadata": {},
   "source": [
    "## Generate charts for server"
   ]
  },
  {
   "cell_type": "code",
   "execution_count": null,
   "id": "160f80aa-dfc1-43f2-8cd6-33e47f960a40",
   "metadata": {
    "tags": []
   },
   "outputs": [],
   "source": [
    "count_recent = 30000\n",
    "\n",
    "plt.rcParams['figure.figsize'] = [15, 5]\n",
    "fig, ax = plt.subplots()\n",
    "## ax.set_xlim(pd.to_datetime('05.06.2023 18:00:00', dayfirst=True), pd.to_datetime('05.06.2023 19:00:00', dayfirst=True))\n",
    "ax.set_title('CO2 water, mkatm')\n",
    "ax.set_ylim(100, 600)\n",
    "ax.plot(df.tail(count_recent).DateTime, df.tail(count_recent)['pCO2'], '-', c='#444', alpha=0.3)\n",
    "ax.plot(df.tail(count_recent).DateTime, df.tail(count_recent)['pCO2sur'], 'g.', alpha=0.3)\n",
    "ax.plot(df.tail(count_recent).DateTime, df.tail(count_recent)['pCO2bot'], 'r.', alpha=0.3)\n",
    "ax.plot(df.tail(count_recent).DateTime, df.tail(count_recent)['pCO2air'], 'c.', alpha=0.1)\n",
    "\n",
    "ax.grid(True, c='#555', alpha=0.8, linewidth=1, linestyle='--')\n",
    "ax.xaxis.set_major_formatter(DateFormatter('%d.%m %H:%M'))\n",
    "\n",
    "fig.savefig(serverPath+'pCO2wtr_vs_time.png', bbox_inches='tight')"
   ]
  },
  {
   "cell_type": "code",
   "execution_count": null,
   "id": "082f6298-e97a-45e6-8240-9f39dea67ec3",
   "metadata": {
    "tags": []
   },
   "outputs": [],
   "source": [
    "count_recent = 960\n",
    "\n",
    "plt.rcParams['figure.figsize'] = [5, 5]\n",
    "fig, ax = plt.subplots()\n",
    "## ax.set_xlim(pd.to_datetime('05.06.2023 18:00:00', dayfirst=True), pd.to_datetime('05.06.2023 19:00:00', dayfirst=True))\n",
    "ax.set_title('CO2 water, mkatm')\n",
    "ax.plot(df.tail(count_recent).DateTime, df.tail(count_recent)['pCO2'], '-', c='#888', alpha=0.3)\n",
    "ax.plot(df.tail(count_recent).DateTime, df.tail(count_recent)['pCO2sur'], 'g.', alpha=0.5, markersize=3)\n",
    "ax.plot(df.tail(count_recent).DateTime, df.tail(count_recent)['pCO2bot'], 'r.', alpha=0.5, markersize=3)\n",
    "ax.plot(df.tail(count_recent).DateTime, df.tail(count_recent)['pCO2air'], 'c.', alpha=0.3, markersize=1)\n",
    "\n",
    "ax.grid(True, c='#555', alpha=0.8, linewidth=1, linestyle='--')\n",
    "ax.xaxis.set_major_formatter(DateFormatter('%H:%M'))\n",
    "\n",
    "fig.savefig(serverPath+'pCO2wtr_vs_time_3h.png', bbox_inches='tight')"
   ]
  },
  {
   "cell_type": "code",
   "execution_count": null,
   "id": "1059de88-2582-466e-bd76-30d3a52add19",
   "metadata": {
    "tags": []
   },
   "outputs": [],
   "source": [
    "count_recent = 30000\n",
    "\n",
    "plt.rcParams['figure.figsize'] = [15, 5]\n",
    "fig, ax = plt.subplots()\n",
    "ax.set_title('CH4 water, mkatm')\n",
    "# ax.set_xlim(pd.to_datetime('06.06.2023 10:00:00', dayfirst=True), pd.to_datetime('06.06.2023 19:00:00', dayfirst=True))\n",
    "# ax.set_ylim(0, 20)\n",
    "ax.plot(df.tail(count_recent).DateTime, df.tail(count_recent)['pCH4'], '-', c='#444', alpha=0.3)\n",
    "ax.plot(df.tail(count_recent).DateTime, df.tail(count_recent)['pCH4bot'], 'r.', alpha=0.2, markersize=3)\n",
    "ax.plot(df.tail(count_recent).DateTime, df.tail(count_recent)['pCH4sur'], 'g.', alpha=0.2, markersize=3)\n",
    "ax.plot(df.tail(count_recent).DateTime, df.tail(count_recent)['pCH4air'], 'c.', alpha=0.2, markersize=3)\n",
    "ax.grid(True, c='#555', alpha=0.8, linewidth=1, linestyle='--')\n",
    "ax.xaxis.set_major_formatter(DateFormatter('%d.%m %H:%M'))\n",
    "fig.savefig(serverPath+'pCH4wtr_vs_time.png', bbox_inches='tight')"
   ]
  },
  {
   "cell_type": "code",
   "execution_count": null,
   "id": "0cce08d5-9be4-4a36-b095-0bcda5584a22",
   "metadata": {
    "tags": []
   },
   "outputs": [],
   "source": [
    "count_recent = 960\n",
    "\n",
    "fig, ax = plt.subplots()\n",
    "ax.set_title('CH4 water, mkatm')\n",
    "ax.plot(df.tail(count_recent).DateTime, df.tail(count_recent)['pCH4'], '-', c='#888', alpha=0.3)\n",
    "ax.plot(df.tail(count_recent).DateTime, df.tail(count_recent)['pCH4bot'], 'r.', alpha=0.3, markersize = 3)\n",
    "ax.plot(df.tail(count_recent).DateTime, df.tail(count_recent)['pCH4sur'], 'g.', alpha=0.3)\n",
    "ax.plot(df.tail(count_recent).DateTime, df.tail(count_recent)['pCH4air'], 'c.', alpha=0.3)\n",
    "ax.grid(True, c='#555', alpha=0.8, linewidth=1, linestyle='--')\n",
    "ax.xaxis.set_major_formatter(DateFormatter('%H:%M'))\n",
    "fig.savefig(serverPath+'pCH4wtr_vs_time_3h.png', bbox_inches='tight')"
   ]
  },
  {
   "cell_type": "code",
   "execution_count": null,
   "id": "ece16c1f-9a79-4a62-bd44-c80db9bff9dd",
   "metadata": {
    "tags": []
   },
   "outputs": [],
   "source": [
    "count_recent = 30000\n",
    "\n",
    "plt.rcParams['figure.figsize'] = [20, 5]\n",
    "fig, ax = plt.subplots()\n",
    "ax.set_title('temp water, grad C')\n",
    "ax.plot(df.tail(count_recent).DateTime, df.tail(count_recent)['TempEqu1'], 'r.', alpha=0.3)\n",
    "ax.plot(df.tail(count_recent).DateTime, df.tail(count_recent)['TempEqu2'], 'g.', alpha=0.3)\n",
    "ax.grid(True, c='#555', alpha=0.8, linewidth=1, linestyle='--')\n",
    "ax.xaxis.set_major_formatter(DateFormatter('%d.%m %H:%M'))\n",
    "fig.savefig(serverPath+'tempWtr_vs_time.png', bbox_inches='tight')"
   ]
  },
  {
   "cell_type": "code",
   "execution_count": null,
   "id": "dded0df3-0dc4-4788-9062-fff78676799f",
   "metadata": {
    "tags": []
   },
   "outputs": [],
   "source": [
    "count_recent = 30000\n",
    "\n",
    "plt.rcParams['figure.figsize'] = [20, 5]\n",
    "fig, ax = plt.subplots()\n",
    "ax.set_title('Water flow, l/min')\n",
    "ax.plot(df.tail(count_recent).DateTime, df.tail(count_recent)['WaterFlowEqu1'], 'r.', alpha=0.3)\n",
    "ax.plot(df.tail(count_recent).DateTime, df.tail(count_recent)['WaterFlowEqu2'], 'g.', alpha=0.3)\n",
    "ax.grid(True, c='#555', alpha=0.8, linewidth=1, linestyle='--')\n",
    "ax.xaxis.set_major_formatter(DateFormatter('%d.%m %H:%M'))\n",
    "fig.savefig(serverPath+'waterFlow_vs_time.png', bbox_inches='tight')"
   ]
  },
  {
   "cell_type": "code",
   "execution_count": null,
   "id": "b315c5b5-4ec0-4dae-93dd-f6cc7c08ec75",
   "metadata": {
    "tags": []
   },
   "outputs": [],
   "source": [
    "count_recent = 30000\n",
    "\n",
    "plt.rcParams['figure.figsize'] = [20, 5]\n",
    "fig, ax = plt.subplots()\n",
    "ax.set_title('AirTemp, l/min')\n",
    "ax.plot(df.tail(count_recent).DateTime, df.tail(count_recent)['TempAir'], 'r.', alpha=0.3)\n",
    "ax.grid(True, c='#555', alpha=0.8, linewidth=1, linestyle='--')\n",
    "ax.xaxis.set_major_formatter(DateFormatter('%d.%m %H:%M'))\n",
    "fig.savefig(serverPath+'TempAir_vs_time.png', bbox_inches='tight')"
   ]
  },
  {
   "cell_type": "code",
   "execution_count": null,
   "id": "c8792563-e6e6-4db8-96f3-0f8a7aac1f9b",
   "metadata": {},
   "outputs": [],
   "source": [
    "df.columns"
   ]
  },
  {
   "cell_type": "code",
   "execution_count": null,
   "id": "3f07ee83-abe1-4f4d-95ed-817ff3e3903c",
   "metadata": {},
   "outputs": [],
   "source": [
    "df['hour'] = df['DateTime'].dt.hour # + df['DateTime'].dt.minute / 60 # discomment for \n",
    "df['hour']"
   ]
  },
  {
   "cell_type": "code",
   "execution_count": null,
   "id": "7793e65f-c656-4aa0-8a86-59ce979d8007",
   "metadata": {
    "tags": []
   },
   "outputs": [],
   "source": [
    "cols = ['hour', 'DateSec', 'TempAir', 'PressAir', 'Precipitation', 'LightLX', 'LightUV',\n",
    "        # 'METEO_LEVEL', 'METEO_PRESS', 'METEO_TEMP', 'METEO_HUM', 'METEO_SOLAR', 'METEO_WIND_DIR', 'METEO_WIND_SPEED', 'METEO_RAIN',\n",
    "        'vCO2', 'vCH4', 'vH2O', 'AirFlow', 'Channel',\n",
    "        'FluoNxRed', 'FluoNxGrn', 'FluoNxBlu', 'FluoKfaRed', 'FluoKfaGrn', 'FluoKfaBlu', 'WaterFlowEqu1',\n",
    "        'WaterFlowEqu2', 'WaterFlowEqu3', 'WaterFlowEqu4',\n",
    "        'TempEqu1', 'TempEqu2', 'TempEqu3',\n",
    "        'cCO2chm', 'cCH4chm', 'CO2flux', 'CH4flux',\n",
    "        'vCO2air', 'vCH4air',\n",
    "        'pCO2air', 'pCH4air', 'cCO2sur', 'pCO2sur',\n",
    "        'cCH4sur', 'pCH4sur', 'cCO2bot', 'pCO2bot', 'cCH4bot', 'pCH4bot',]\n",
    "df.to_csv(f'{saveDataPath}origin.txt',\n",
    "          columns=cols,\n",
    "          sep='\\t',\n",
    "         )"
   ]
  },
  {
   "cell_type": "code",
   "execution_count": null,
   "id": "dc7c28f2-1aa6-4a23-b0b1-5cc5d82b0aa9",
   "metadata": {},
   "outputs": [],
   "source": [
    "hourly = df.resample('60min', on='DateTime', offset='30min').mean()\n",
    "hourly.index = hourly.index + pd.to_timedelta('30min')\n",
    "hourly.to_csv(f'{saveDataPath}hourly.txt',\n",
    "              columns=cols,\n",
    "              sep='\\t',\n",
    "             )"
   ]
  },
  {
   "cell_type": "code",
   "execution_count": null,
   "id": "224815d6-5b94-4d31-b831-0434b98ec96b",
   "metadata": {
    "tags": []
   },
   "outputs": [],
   "source": [
    "df"
   ]
  },
  {
   "cell_type": "code",
   "execution_count": null,
   "id": "3e4db8a2-d3a7-409f-ae74-4ee705293fad",
   "metadata": {},
   "outputs": [],
   "source": [
    "func_list = ['mean', 'std']\n",
    "cols_to_calc = {'cCO2sur': func_list,\n",
    "                'cCO2bot': func_list,\n",
    "               }\n",
    "\n",
    "daily = df.groupby(by='hour', as_index=False).agg(cols_to_calc)\n",
    "daily.to_csv(f'{saveDataPath}daily.txt',\n",
    "             # columns=cols,\n",
    "             sep='\\t',\n",
    "            )"
   ]
  }
 ],
 "metadata": {
  "kernelspec": {
   "display_name": "Python 3 (ipykernel)",
   "language": "python",
   "name": "python3"
  },
  "language_info": {
   "codemirror_mode": {
    "name": "ipython",
    "version": 3
   },
   "file_extension": ".py",
   "mimetype": "text/x-python",
   "name": "python",
   "nbconvert_exporter": "python",
   "pygments_lexer": "ipython3",
   "version": "3.11.2"
  },
  "toc-autonumbering": true,
  "toc-showcode": true,
  "toc-showmarkdowntxt": true
 },
 "nbformat": 4,
 "nbformat_minor": 5
}
