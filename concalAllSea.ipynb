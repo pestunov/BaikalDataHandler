{
 "cells": [
  {
   "cell_type": "code",
   "execution_count": null,
   "id": "a5c4f158-540b-4951-89b4-9406226cf141",
   "metadata": {},
   "outputs": [],
   "source": [
    "import pandas as pd\n",
    "import numpy as np\n",
    "from matplotlib import pyplot as plt\n",
    "import datetime as dt\n",
    "import scheme_mar2023 as scheme"
   ]
  },
  {
   "cell_type": "code",
   "execution_count": null,
   "id": "810b766d-0dd5-45fd-8b89-12efce36f5aa",
   "metadata": {},
   "outputs": [],
   "source": [
    "plt.style.use('default')   # try another styles: 'classic', Solarize_Light2"
   ]
  },
  {
   "cell_type": "code",
   "execution_count": null,
   "id": "e9096737-7d42-4f4e-b9b8-774f3a1ee3dd",
   "metadata": {},
   "outputs": [],
   "source": [
    "df18 = pd.read_csv('G:/1_Data1/sea/BaikalJun2018Sea.dat',\n",
    "                 sep='\\t',\n",
    "                 decimal=',',\n",
    "                 na_values='--',\n",
    "                 skiprows=[0,2],\n",
    "                 #nrows=1000,\n",
    "                 parse_dates=['DateTime'],\n",
    "                 dayfirst=True,\n",
    "                )\n",
    "df18.columns = scheme.convert_names(df18.columns)"
   ]
  },
  {
   "cell_type": "code",
   "execution_count": null,
   "id": "b8962614-9ec0-41ce-bec7-d8b82a25af92",
   "metadata": {},
   "outputs": [],
   "source": [
    "df21 = pd.read_csv('G:/1_Data1/sea/BaikalJun2021Sea.dat',\n",
    "                    sep='\\t',\n",
    "                    decimal=',',\n",
    "                    na_values='--',\n",
    "                    skiprows=[0,2,3],\n",
    "                    #nrows=1000,\n",
    "                    parse_dates=['DateTime'],\n",
    "                    dayfirst=True,\n",
    "                  )\n",
    "df21.columns = scheme.convert_names(df21.columns)"
   ]
  },
  {
   "cell_type": "code",
   "execution_count": null,
   "id": "c58fa91b-d950-4a2c-8437-a01ed58d07f0",
   "metadata": {},
   "outputs": [],
   "source": [
    "df22 = pd.read_csv('G:/1_Data1/sea/BaikalJun2022Sea.dat',\n",
    "                    sep='\\t',\n",
    "                    decimal=',',\n",
    "                    na_values='--',\n",
    "                    skiprows=[0,2,3],\n",
    "                    #nrows=1000,\n",
    "                    parse_dates=['DateTime'],\n",
    "                    dayfirst=True,\n",
    "                  )\n",
    "df22.columns = scheme.convert_names(df22.columns)"
   ]
  },
  {
   "cell_type": "code",
   "execution_count": null,
   "id": "e9d6f0cc-1ffb-4a0d-b16d-86c85391519d",
   "metadata": {},
   "outputs": [],
   "source": [
    "df23 = pd.read_csv('G:/1_Data1/sea/BaikalJun2023Sea.dat',\n",
    "                    sep='\\t',\n",
    "                    decimal=',',\n",
    "                    na_values='--',\n",
    "                    skiprows=[0,2,3],\n",
    "                    #nrows=1000,\n",
    "                    parse_dates=['DateTime'],\n",
    "                    dayfirst=True,\n",
    "                  )\n",
    "df23.columns = scheme.convert_names(df23.columns)"
   ]
  },
  {
   "cell_type": "code",
   "execution_count": null,
   "id": "2953d156-f28f-4cd5-80b2-ee56ebfb75d7",
   "metadata": {},
   "outputs": [],
   "source": [
    "df24 = pd.read_csv('G:/1_Data1/sea/BaikalJun2024Sea.dat',\n",
    "                    sep='\\t',\n",
    "                    decimal='.',\n",
    "                    na_values='--',\n",
    "                    skiprows=[1,2,3],\n",
    "                    #nrows=1000,\n",
    "                    parse_dates=['DateTime'],\n",
    "                    dayfirst=False,  # carefully about date format\n",
    "                  )\n",
    "df24.columns = scheme.convert_names(df24.columns)"
   ]
  },
  {
   "cell_type": "code",
   "execution_count": null,
   "id": "f37bab9a-b6b4-4ba7-8638-4505e27cdcdf",
   "metadata": {},
   "outputs": [],
   "source": [
    "df = pd.concat([df18, df21, df22, df23, df24], ignore_index=True, axis='index')\n",
    "df"
   ]
  },
  {
   "cell_type": "code",
   "execution_count": null,
   "id": "2ddc9b0a-9b4e-4a5b-b192-b423acb46187",
   "metadata": {},
   "outputs": [],
   "source": [
    "cols = df.columns\n",
    "import collections\n",
    "[item for item, count in collections.Counter(cols).items() if count > 1]"
   ]
  },
  {
   "cell_type": "code",
   "execution_count": null,
   "id": "34198af3-8870-45c2-a736-f50ca7bf7521",
   "metadata": {},
   "outputs": [],
   "source": [
    "cols_we_need = ['DateTime', 'Longitude', 'Latitude',\n",
    "                'pCO2wtr', 'cCO2wtr', 'pCH4wtr', 'cCH4wtr', 'pCO2air', 'pCH4air',\n",
    "                'dpCO2', 'dpCH4',\n",
    "                'vCO2air', 'vCH4air', \n",
    "                'ChnN', 'Channel',\n",
    "                'PressAir',\n",
    "                'Piro', 'PiroUV', 'LightLX', 'LightUV', 'PiroVisio',\n",
    "                'Wnd', 'WindSpeed', \n",
    "                'TempAir',\n",
    "                'Precipi', 'Precipitation',\n",
    "                'AirFlow',\n",
    "                'TempEqu1', 'TempEqu2', 'TempEqu3', 'Twtr',\n",
    "                'WaterFlow1', 'WaterFlow2', 'WaterFlow3',\n",
    "               ]\n",
    "df = df.loc[:, cols_we_need]"
   ]
  },
  {
   "cell_type": "code",
   "execution_count": null,
   "id": "81118e66-c73e-4f5c-8f91-e39af903e93a",
   "metadata": {},
   "outputs": [],
   "source": [
    "df.dropna(subset=['DateTime', 'Longitude', 'Latitude'], axis='index', inplace=True)\n",
    "df.reset_index(drop=True, inplace=True)\n",
    "df"
   ]
  },
  {
   "cell_type": "code",
   "execution_count": null,
   "id": "e66234c1-5921-46fd-9bd3-e21bb60d5903",
   "metadata": {},
   "outputs": [],
   "source": [
    "## DateTime \n",
    "df.sort_values(by='DateTime', inplace=True)\n",
    "df['year'] = df['DateTime'].dt.year\n",
    "df['DateTimeSec'] = df['DateTime'].astype('int64')/10**9\n",
    "df['DateTimeSec'].astype('int32')\n",
    "df['dt'] = df['DateTimeSec'] - df['DateTimeSec'].shift(1)"
   ]
  },
  {
   "cell_type": "code",
   "execution_count": null,
   "id": "90c81af3-178b-482e-a897-b902c1086681",
   "metadata": {},
   "outputs": [],
   "source": [
    "df"
   ]
  },
  {
   "cell_type": "code",
   "execution_count": null,
   "id": "65c7bc4d-e61c-4756-ac38-f5b6f5ecad7e",
   "metadata": {},
   "outputs": [],
   "source": [
    "df['DateTime'].describe()"
   ]
  },
  {
   "cell_type": "code",
   "execution_count": null,
   "id": "5fb240f3-4afc-4f16-b8bc-5d134d20b318",
   "metadata": {},
   "outputs": [],
   "source": [
    "_df = df\n",
    "plt.rcParams['figure.figsize'] = [17, 5]\n",
    "plt.scatter('DateTime', 'WaterFlow2', data=_df, s=2, alpha=0.1)\n",
    "plt.scatter('DateTime', 'WaterFlow3', data=_df, s=2, alpha=0.1)\n",
    "plt.scatter('DateTime', 'WaterFlow1', data=_df, s=2, alpha=0.1, c='red')"
   ]
  },
  {
   "cell_type": "code",
   "execution_count": null,
   "id": "9ff01adc-f827-468e-9a8c-ba07c8963840",
   "metadata": {},
   "outputs": [],
   "source": [
    "df['_WaterFlow'] = df['WaterFlow1'].rolling(20).mean()\n",
    "df['dWaterFlow'] = (df['_WaterFlow'] - df['_WaterFlow'].shift(1))/df['dt']"
   ]
  },
  {
   "cell_type": "code",
   "execution_count": null,
   "id": "eca3dc2f-86e5-4394-8691-4af189087d1d",
   "metadata": {},
   "outputs": [],
   "source": [
    "_df = df.loc[df['year']==2018, :]\n",
    "plt.rcParams['figure.figsize'] = [17, 5]\n",
    "plt.scatter('DateTime', 'dWaterFlow', data=_df, s=2, alpha=0.1)"
   ]
  },
  {
   "cell_type": "code",
   "execution_count": null,
   "id": "8a398b49-b298-4710-9f82-6aafca721662",
   "metadata": {},
   "outputs": [],
   "source": []
  }
 ],
 "metadata": {
  "kernelspec": {
   "display_name": "Python 3 (ipykernel)",
   "language": "python",
   "name": "python3"
  },
  "language_info": {
   "codemirror_mode": {
    "name": "ipython",
    "version": 3
   },
   "file_extension": ".py",
   "mimetype": "text/x-python",
   "name": "python",
   "nbconvert_exporter": "python",
   "pygments_lexer": "ipython3",
   "version": "3.11.2"
  }
 },
 "nbformat": 4,
 "nbformat_minor": 5
}
