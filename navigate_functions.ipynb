{
 "cells": [
  {
   "cell_type": "code",
   "execution_count": null,
   "id": "aad58b36-901d-43ad-9e55-aad307e60dfc",
   "metadata": {
    "tags": []
   },
   "outputs": [],
   "source": [
    "import pandas as pd\n",
    "import math\n",
    "\n",
    "R_EARTH =v  # km"
   ]
  },
  {
   "cell_type": "code",
   "execution_count": null,
   "id": "2ec65f4d-c81e-4daf-9bb6-e2ed7b833285",
   "metadata": {
    "tags": []
   },
   "outputs": [],
   "source": [
    "def txt2coor(inn: str) -> float:\n",
    "    infloat = float(inn)\n",
    "    infloat /= 100\n",
    "    infloat = int(infloat) + (infloat - int(infloat))/60*100\n",
    "    return infloat\n",
    "\n",
    "def coor(s_lat, s_long):\n",
    "    return txt2coor(s_lat), txt2coor(s_long), \n",
    "\n",
    "long1 = '105.037609'\n",
    "lat1 = '5154.0058'\n",
    "\n",
    "print(txt2coor(lat1))\n",
    "print(txt2coor(long1))\n",
    "print(coor(lat1, long1))\n"
   ]
  },
  {
   "cell_type": "code",
   "execution_count": null,
   "id": "a6905ca3-587c-4c88-9e1a-6e3a8064629c",
   "metadata": {
    "tags": []
   },
   "outputs": [],
   "source": [
    "from math import sqrt, atan2, pi\n",
    "def get_len(x, y):\n",
    "    return sqrt(x * x + y * y)\n",
    "\n",
    "def get_ang(x, y):\n",
    "    lenght = get_len (x, y)\n",
    "    if lenght == 0:\n",
    "        return None\n",
    "    ang = atan2(x, -y) * 180 / pi\n",
    "    return (ang + 270) % 360 \n",
    "\n",
    "x1 = 10\n",
    "y1 = 10\n",
    "\n",
    "print(get_ang(0, 0))\n",
    "print(get_ang(1, 0))\n",
    "print(get_ang(1, 1))\n",
    "print(get_ang(0, 1))\n",
    "print(get_ang(-1, 1))\n",
    "print(get_ang(-1, 0))\n",
    "print(get_ang(-1, -1))\n",
    "print(get_ang(0, -1))\n",
    "print(get_ang(1, -1))\n",
    "print(get_ang(1, 0))"
   ]
  },
  {
   "cell_type": "code",
   "execution_count": null,
   "id": "25a81fd4-f154-471a-be04-d9056d7340a8",
   "metadata": {
    "tags": []
   },
   "outputs": [],
   "source": [
    "r_earth = 6378.1 # km\n",
    "dist_1deg = 2 * 3.1415 * r_earth / 360"
   ]
  },
  {
   "cell_type": "code",
   "execution_count": null,
   "id": "7265d4ad-ab8d-44c0-8b8e-c18456f06c1c",
   "metadata": {
    "tags": []
   },
   "outputs": [],
   "source": [
    "lat_cur = 51.9000\n",
    "long_cur = 105.0628\n",
    "lat_goal = 51.899367\n",
    "long_goal = 105.06323"
   ]
  },
  {
   "cell_type": "code",
   "execution_count": null,
   "id": "48dc1d78-f17f-4ad1-9b3c-1d03a6d16966",
   "metadata": {
    "tags": []
   },
   "outputs": [],
   "source": [
    "d_lat = lat_goal - lat_cur\n",
    "d_long = long_goal - long_cur\n",
    "lat_dist = d_lat * dist_1deg\n",
    "long_dist = d_long * dist_1deg * math.cos(lat_cur)\n",
    "dist = get_len(lat_dist, long_dist)\n",
    "direct = get_ang(lat_dist, long_dist)\n",
    "print(lat_dist, long_dist, dist, direct)\n"
   ]
  },
  {
   "cell_type": "code",
   "execution_count": null,
   "id": "bd1a5bfd-a88c-4958-a70b-146303bff39b",
   "metadata": {},
   "outputs": [],
   "source": [
    "from math import * \n",
    "\n",
    "def dist(a, b):\n",
    "    \"\"\"\n",
    "    Calculate the great circle distance between two points\n",
    "    on the earth (specified in decimal degrees)\n",
    "    \"\"\"\n",
    "    x1, y1, x2, y2 = map(radians, [a[0], a[1], b[0], b[1]])\n",
    "    dx = x2 - x1\n",
    "    dy = y2 - y1\n",
    "    a = sin(dy/2)**2 + cos(y1) * cos(y2) * sin(dx/2)**2\n",
    "    c = 2 * asin(sqrt(a))\n",
    "    # Radius of earth in kilometers\n",
    "    km = R_EARTH * c\n",
    "    return km\n",
    "\n",
    "def dist_my(a, b) -> float:\n",
    "    \"\"\"\n",
    "    Calculate the great circle distance between two points\n",
    "    on the earth (specified in decimal degrees)\n",
    "    \"\"\"\n",
    "    x1, y1, x2, y2 = a[0], a[1], b[0], b[1]\n",
    "    dx = x2 - x1\n",
    "    dy = y2 - y1\n",
    "    xx = 2 * pi * R_EARTH * dx / 360\n",
    "    yy = 2 * pi * R_EARTH * cos(radians(x1)) * dy / 360\n",
    "    return sqrt(xx * xx + yy * yy)\n",
    "\n",
    "def haversine(lat1, lon1, lat2, lon2):\n",
    "    \"\"\"\n",
    "    Calculate the great circle distance between two points\n",
    "    on the earth (specified in decimal degrees)\n",
    "    \"\"\"\n",
    "    # convert decimal degrees to radians\n",
    "    lon1_rad, lat1_rad, lon2_rad, lat2_rad = map(radians, [lon1, lat1, lon2, lat2])\n",
    "    # haversine formula\n",
    "    dlon = lon2 - lon1\n",
    "    dlat = lat2 - lat1\n",
    "    dlon_rad = lon2_rad - lon1_rad\n",
    "    dlat_rad = lat2_rad - lat1_rad\n",
    "    a = sin(dlat_rad/2)**2 + cos(lat1_rad) * cos(lat2_rad) * sin(dlon_rad/2)**2\n",
    "    c = 2 * asin(sqrt(a))\n",
    "    # Radius of earth in kilometers is 6371\n",
    "    km = R_EARTH * c\n",
    "    return {'dist':km, 'p1_1km': (lat1+dlat/km*1, lon1+dlon/km*1),\n",
    "                       'p1_3km': (lat1+dlat/km*3, lon1+dlon/km*3),\n",
    "                       'p1_5km': (lat1+dlat/km*5, lon1+dlon/km*5),\n",
    "                       'p1_7km': (lat1+dlat/km*7, lon1+dlon/km*7),\n",
    "                       'mid': (lat1+dlat/2, lon1+dlon/2),\n",
    "                       'p2_1km': (lat2-dlat/km*1, lon2-dlon/km*1),\n",
    "                       'p2_3km': (lat2-dlat/km*3, lon2-dlon/km*3),\n",
    "                       'p2_5km': (lat2-dlat/km*5, lon2-dlon/km*5),\n",
    "                       'p2_7km': (lat2-dlat/km*7, lon2-dlon/km*7),\n",
    "           }\n",
    "\n",
    "dist0 = dist((51.673141, 103.891572),  (51.666953, 103.906962))\n",
    "dist1 = haversine( 51.673141, 103.891572,  51.666953, 103.906962)\n",
    "\n",
    "print(dist0)\n"
   ]
  },
  {
   "cell_type": "code",
   "execution_count": null,
   "id": "7ab8abc4-e335-4db0-88da-c0518efe46f8",
   "metadata": {},
   "outputs": [],
   "source": [
    "longStep = 0.01\n",
    "latStep = 0.005\n",
    "\n",
    "start = (56.0, 103.0)\n",
    "stop = (56+latStep, 103.0)\n",
    "dist(start, stop), dist_my(start, stop)"
   ]
  },
  {
   "cell_type": "code",
   "execution_count": null,
   "id": "b51e6728-6fc5-46a4-9d34-c1943f30c7ea",
   "metadata": {
    "tags": []
   },
   "outputs": [],
   "source": [
    "pi"
   ]
  }
 ],
 "metadata": {
  "kernelspec": {
   "display_name": "Python 3 (ipykernel)",
   "language": "python",
   "name": "python3"
  },
  "language_info": {
   "codemirror_mode": {
    "name": "ipython",
    "version": 3
   },
   "file_extension": ".py",
   "mimetype": "text/x-python",
   "name": "python",
   "nbconvert_exporter": "python",
   "pygments_lexer": "ipython3",
   "version": "3.11.2"
  }
 },
 "nbformat": 4,
 "nbformat_minor": 5
}
