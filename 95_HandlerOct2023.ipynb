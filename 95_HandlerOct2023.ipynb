{
 "cells": [
  {
   "cell_type": "code",
   "execution_count": null,
   "id": "88a84ba4-0bec-44bb-9475-8b9bc3206461",
   "metadata": {
    "tags": []
   },
   "outputs": [],
   "source": [
    "import pandas as pd\n",
    "import numpy as np\n",
    "import matplotlib.pyplot as plt\n",
    "\n",
    "import baikalfunctions as bfunc\n",
    "import scheme_mar2023 as scheme\n",
    "import mysecure"
   ]
  },
  {
   "cell_type": "code",
   "execution_count": null,
   "id": "ad41cd73-1286-4453-bc5a-22be3e354d60",
   "metadata": {
    "tags": []
   },
   "outputs": [],
   "source": [
    "pd.options.display.max_columns = 100\n",
    "pd.options.display.max_rows = 100"
   ]
  },
  {
   "cell_type": "code",
   "execution_count": null,
   "id": "bbcb1581-1408-4c7c-982e-a0245a7e37e5",
   "metadata": {
    "tags": []
   },
   "outputs": [],
   "source": [
    "# pd.set_option('display.min_rows', 100)\n",
    "%matplotlib inline\n",
    "plt.style.use('dark_background')   # try another styles: 'classic'\n",
    "plt.rcParams['figure.figsize'] = [15, 5]\n",
    "#plt.subplots_adjust(top=1, left=0, right=1, bottom=0)"
   ]
  },
  {
   "cell_type": "code",
   "execution_count": null,
   "id": "5d425f27-5073-41ec-83a7-5de782187e10",
   "metadata": {
    "tags": []
   },
   "outputs": [],
   "source": [
    "pwd = 'G:\\\\1_Data1\\\\95_BaikalOct2023\\\\'\n",
    "saveImgPath = 'G:\\\\1_Data1\\\\95_BaikalOct2023\\\\'\n",
    "saveDataPath = 'G:\\\\1_Data1\\\\95_BaikalOct2023\\\\'"
   ]
  },
  {
   "cell_type": "code",
   "execution_count": null,
   "id": "34569aed-730e-4d47-ada0-2bc2d312af9b",
   "metadata": {
    "tags": []
   },
   "outputs": [],
   "source": [
    "df = pd.read_csv(pwd+'origin.dat', sep='\\t', parse_dates=['date_time'], dayfirst=True, header=[0], na_values='--', decimal=',')\n",
    "df.info()"
   ]
  },
  {
   "cell_type": "code",
   "execution_count": null,
   "id": "1d7a5f83-3ea1-49cf-bfa9-5d63672ad067",
   "metadata": {
    "tags": []
   },
   "outputs": [],
   "source": [
    "df.head(500).tail(200).sample(5)"
   ]
  },
  {
   "cell_type": "code",
   "execution_count": null,
   "id": "2188712c-c38f-4d7e-872d-15a39599f983",
   "metadata": {
    "tags": []
   },
   "outputs": [],
   "source": [
    "list(df.columns)"
   ]
  },
  {
   "cell_type": "code",
   "execution_count": null,
   "id": "b75e9d5b-2129-4ae8-8eca-b0ad6f667a7b",
   "metadata": {
    "tags": []
   },
   "outputs": [],
   "source": [
    "df.rename(columns=scheme.NAME_CONV_BAS, inplace=True)\n",
    "df.sort_values(by='DateTime', inplace=True)\n",
    "df.reset_index(inplace=True, drop=True)\n",
    "df.head(2)"
   ]
  },
  {
   "cell_type": "code",
   "execution_count": null,
   "id": "2f238a40-1287-4b59-a8b7-2b9aa8a7c81c",
   "metadata": {
    "tags": []
   },
   "outputs": [],
   "source": [
    "df.sort_values(by='DateTime', inplace=True)"
   ]
  },
  {
   "cell_type": "code",
   "execution_count": null,
   "id": "7f5c53a9-1426-4d90-bd36-db331ea33407",
   "metadata": {
    "tags": []
   },
   "outputs": [],
   "source": [
    "### remove service variables\n",
    "df.drop([x for x in df.columns if x.lower().endswith('err')], axis='columns', inplace=True, errors='ignore')\n",
    "df.drop([x for x in df.columns if x.lower().endswith('max')], axis='columns', inplace=True, errors='ignore')\n",
    "df.drop([x for x in df.columns if x.lower().endswith('min')], axis='columns', inplace=True, errors='ignore')\n",
    "df.drop([x for x in df.columns if x.lower().startswith('pump')], axis='columns', inplace=True, errors='ignore')\n",
    "df.drop(['HumidityAir', ], axis='columns', inplace=True, errors='ignore')\n"
   ]
  },
  {
   "cell_type": "code",
   "execution_count": null,
   "id": "586a1fc5-918c-4a33-aaa9-5d65f0887e9d",
   "metadata": {
    "tags": []
   },
   "outputs": [],
   "source": [
    "df.shape, df.columns"
   ]
  },
  {
   "cell_type": "code",
   "execution_count": null,
   "id": "47df79f6-6a82-4949-a3ff-38b73fe38f5d",
   "metadata": {
    "tags": []
   },
   "outputs": [],
   "source": [
    "plt.rcParams['figure.figsize'] = [15, 15]\n",
    "fig, axs = plt.subplots(7, 1)\n",
    "\n",
    "axs[0].set_title('vCO2, ppm')\n",
    "axs[0].plot(df.DateTime, df['vCO2'], '-', c='silver')\n",
    "\n",
    "axs[1].set_title('vCH4, ppm')\n",
    "axs[1].plot(df.DateTime, df['vCH4'], '-', c='silver')\n",
    "\n",
    "axs[2].set_title('Temp')\n",
    "axs[2].plot(df.DateTime, df['TempEqu1'], 'r-')\n",
    "axs[2].plot(df.DateTime, df['TempEqu2'], 'g-')\n",
    "axs[2].plot(df.DateTime, df['TempAir'], 'c-')\n",
    "\n",
    "axs[3].set_title('WaterFlow')\n",
    "axs[3].plot(df.DateTime, df['WaterFlowEqu1'], 'r-')\n",
    "axs[3].plot(df.DateTime, df['WaterFlowEqu2'], 'g-')\n",
    "\n",
    "axs[4].set_title('Press')\n",
    "axs[4].plot(df.DateTime, df['PressAir'], 'c-')\n",
    "axs[5].set_title('Solar')\n",
    "axs[5].plot(df.DateTime, df['LightLX'], 'w-')\n",
    "axs[6].set_title('SolarUV')\n",
    "axs[6].plot(df.DateTime, df['LightUV'], 'b-')\n",
    "\n"
   ]
  },
  {
   "cell_type": "markdown",
   "id": "7a0c768d-907f-4b0d-9825-959a4b4f7178",
   "metadata": {},
   "source": [
    "### Correction data  \n",
    " ** Be carefull !!!  Make it ONCE !!! **\n"
   ]
  },
  {
   "cell_type": "code",
   "execution_count": null,
   "id": "c953534a-a7a8-40be-926e-5cd3c30ed5f3",
   "metadata": {
    "tags": []
   },
   "outputs": [],
   "source": [
    "## gether/apply specific variables\n",
    "### data corrections\n",
    "# df['vCO2'] = df['CO2_dry']\n",
    "# df['vCH4'] = df['CH4_dry']\n",
    "df['LightLX'] = df['LightLX'] * scheme.solar_cor[0] + scheme.solar_cor[1]\n",
    "df['LightUV'] = df['LightUV'] * scheme.solar_uv_cor[0] + scheme.solar_uv_cor[1]\n",
    "df['PressAir'] = bfunc.pressConvert(df['PressAir'])\n",
    "df['PressAir'] = df['PressAir'] * scheme.press_cor[0] + scheme.press_cor[1]\n",
    "\n",
    "### servise data corrections\n",
    "df['TempEqu1'] = df['TempEqu1'] * scheme.tempEqu1_cor[0] + scheme.tempEqu1_cor[1]\n",
    "df['TempEqu2'] = df['TempEqu2'] * scheme.tempEqu2_cor[0] + scheme.tempEqu2_cor[1]\n",
    "\n",
    "df['AirFlow'] = df['AirFlow'] * scheme.airflow_cor[0] + scheme.airflow_cor[1]\n",
    "df['WaterFlowEqu1'] = df['WaterFlowEqu1'] * scheme.waterflowEqu1_cor[0] + scheme.waterflowEqu1_cor[1]\n",
    "df['WaterFlowEqu2'] = df['WaterFlowEqu2'] * scheme.waterflowEqu2_cor[0] + scheme.waterflowEqu2_cor[1]\n"
   ]
  },
  {
   "cell_type": "code",
   "execution_count": null,
   "id": "546f09ab-d7c1-47de-93d5-964b61d8b5df",
   "metadata": {
    "tags": []
   },
   "outputs": [],
   "source": [
    "df.plot('DateTime', 'LightLX')"
   ]
  },
  {
   "cell_type": "code",
   "execution_count": null,
   "id": "03748ac2-aa0c-4fa5-9af6-ca87be9b6bc8",
   "metadata": {
    "tags": []
   },
   "outputs": [],
   "source": [
    "v_state_list = list(scheme.CHANNEL_COLS.values())\n",
    "\n",
    "chnl = 'Channel'\n",
    "if not chnl in df.columns:\n",
    "    df[chnl] = 0\n",
    "if 'V1_state' in df.columns:\n",
    "    df.loc[df.V1_state == 1, chnl] = 1\n",
    "    df.loc[df.V2_state == 1, chnl] = 2\n",
    "    df.loc[df.V3_state == 1, chnl] = 3\n",
    "    df.loc[df.V4_state == 1, chnl] = 4\n",
    "    df.loc[df.V5_state == 1, chnl] = 5\n",
    "    df.loc[df.V6_state == 1, chnl] = 6\n",
    "df.drop(v_state_list, inplace=True, errors='ignore')"
   ]
  },
  {
   "cell_type": "markdown",
   "id": "a3b6553d-e127-4b51-a5cd-06731ca8e85a",
   "metadata": {},
   "source": [
    "###  Remove bad data   \n",
    "List of accidental cases to filter data (see notes)"
   ]
  },
  {
   "cell_type": "code",
   "execution_count": null,
   "id": "f0346dee-1a15-4474-ab4e-91ae5d62e562",
   "metadata": {
    "tags": []
   },
   "outputs": [],
   "source": [
    "filter_list = [{'date_start': '01.08.2023 00:00', 'date_stop': '01.08.2023 13:00', 'cols': ['vCO2', 'vCH4'], 'fill_with': np.NaN},   # Picarro is not ready\n",
    "               {'date_start': '01.08.2023 13:32', 'date_stop': '01.08.2023 13:35', 'cols': ['vCO2', 'vCH4'], 'fill_with': np.NaN},   # Picarro data is zero\n",
    "               {'date_start': '01.08.2023 17:00', 'date_stop': '01.08.2023 17:20', 'cols': ['vCO2', 'vCH4'], 'fill_with': np.NaN},   # Picarro gas pipe fault\n",
    "               {'date_start': '01.08.2023 17:19', 'date_stop': '01.08.2023 17:25', 'cols': ['vCO2', 'vCH4'], 'fill_with': np.NaN},   # Picarro gas pipe fault\n",
    "               {'date_start': '02.08.2023 10:54', 'date_stop': '02.08.2023 10:59', 'cols': ['vCO2', 'vCH4'], 'fill_with': np.NaN},   # gas pipe fault, change of desiccant\n",
    "               {'date_start': '04.08.2023 11:05', 'date_stop': '04.08.2023 11:10', 'cols': ['vCO2', 'vCH4'], 'fill_with': np.NaN},   # gas pipe fault, change of desiccant\n",
    "               {'date_start': '04.08.2023 12:26', 'date_stop': '04.08.2023 14:39', 'cols': ['WaterFlowEqu1'], 'fill_with': 0},       # water flow unstable\n",
    "               {'date_start': '04.08.2023 14:30', 'date_stop': '04.08.2023 14:37', 'cols': ['vCO2', 'vCH4'], 'fill_with': np.NaN},   # pump 'surface' disconnected\n",
    "               {'date_start': '05.08.2023 02:30', 'date_stop': '05.08.2023 08:06', 'cols': ['TempEqu2'], 'fill_with': np.NaN},       # temperature sensor pulled out\n",
    "               {'date_start': '06.08.2023 16:55', 'date_stop': '06.08.2023 16:59', 'cols': ['TempEqu2'], 'fill_with': np.NaN},       # temperature sensor pulled out\n",
    "               {'date_start': '07.08.2023 13:23', 'date_stop': '07.08.2023 16:06', 'cols': ['vCO2', 'vCH4'], 'fill_with': np.NaN},   # channel selector unit disfunction\n",
    "               {'date_start': '07.08.2023 13:42', 'date_stop': '07.08.2023 16:56', 'cols': ['WaterFlowEqu1', 'WaterFlowEqu2'], 'fill_with': 0},  # water flow unstable\n",
    "               {'date_start': '07.08.2023 16:19', 'date_stop': '07.08.2023 16:44', 'cols': ['TempEqu2'], 'fill_with': np.NaN},       # temperature sensor pulled out\n",
    "               {'date_start': '08.08.2023 06:56', 'date_stop': '08.08.2023 10:56', 'cols': ['WaterFlowEqu1'], 'fill_with': 0},       # water flow unstable\n",
    "               {'date_start': '08.08.2023 02:30', 'date_stop': '08.08.2023 10:00', 'cols': ['TempEqu2'], 'fill_with': np.NaN},\n",
    "               {'date_start': '08.08.2023 10:43', 'date_stop': '08.08.2023 10:51', 'cols': ['TempEqu1'], 'fill_with': np.NaN},       # water flow unstable\n",
    "               {'date_start': '08.08.2023 11:22', 'date_stop': '08.08.2023 11:30', 'cols': ['WaterFlowEqu2'], 'fill_with': 0},       # water flow unstable\n",
    "               {'date_start': '08.08.2023 11:22', 'date_stop': '08.08.2023 11:30', 'cols': ['TempEqu2'], 'fill_with': np.NaN},\n",
    "               {'date_start': '08.08.2023 14:51', 'date_stop': '08.08.2023 14:59', 'cols': ['TempEqu1'], 'fill_with': np.NaN},\n",
    "              ]\n",
    "\n",
    "for cycle in filter_list:\n",
    "    for col in cycle['cols']:\n",
    "        date_start = pd.to_datetime(cycle['date_start'], dayfirst=True)\n",
    "        date_stop = pd.to_datetime(cycle['date_stop'], dayfirst=True)\n",
    "        df.loc[(df['DateTime'] > date_start) & (df['DateTime'] < date_stop), col] = cycle['fill_with']"
   ]
  },
  {
   "cell_type": "code",
   "execution_count": null,
   "id": "31a119a7-52d0-4eff-b607-a99b0b049f8c",
   "metadata": {
    "tags": []
   },
   "outputs": [],
   "source": [
    "cols = ['FluoNxRed', 'FluoNxGrn', 'FluoNxBlu', 'FluoKfaRed', 'FluoKfaGrn', 'FluoKfaBlu']\n",
    "for col in cols:\n",
    "    df.loc[df[col] == 0, col] = np.NaN\n",
    "cols = ['WaterFlowEqu1', 'WaterFlowEqu2', 'AirFlow']\n",
    "for col in cols:\n",
    "    df.loc[df[col] < 0, col] = np.NaN"
   ]
  },
  {
   "cell_type": "markdown",
   "id": "e87f6905-a602-4a75-b86f-d8b6184b3e83",
   "metadata": {
    "tags": []
   },
   "source": [
    "## Flux calc"
   ]
  },
  {
   "cell_type": "code",
   "execution_count": null,
   "id": "4a329986-fdae-4031-9cb0-c27ad870072a",
   "metadata": {
    "tags": []
   },
   "outputs": [],
   "source": [
    "df"
   ]
  },
  {
   "cell_type": "code",
   "execution_count": null,
   "id": "2ac29682-e927-4963-9922-cdc3f346c717",
   "metadata": {},
   "outputs": [],
   "source": [
    "### find the moments where flux is valid to calculate\n",
    "### before 02.10.2023 15:30 there was long cycle flux measure\n",
    "### after this time a short cycle took place\n",
    "\n",
    "t = pd.to_datetime('02.10.2023 15:30', dayfirst=True)\n",
    "df['flag'] = (df['Channel'] == 5) \n",
    "for deep in range(50):\n",
    "    df['flag'] &= (df['Channel'] == df['Channel'].shift(deep))\n",
    "\n",
    "tempflag = (df['Channel'] == 5) & (df['DateTime'] > t) \n",
    "\n",
    "for deep in range(10):\n",
    "    tempflag &= (df['Channel'] == df['Channel'].shift(deep))\n",
    "\n",
    "df['flag'] |= tempflag\n",
    "# set flag for 50 points skipping first 10 points  \n",
    "df['flag'] = df['flag'].astype('int8')\n",
    "# count flux cycles for grouping\n",
    "df['fluxEvent'] = (df['flag']==0) & (df['flag'].shift(-1)!=0)\n",
    "df['fluxCount'] = df['fluxEvent'].cumsum() * df['flag']\n",
    "#df['flag'] |= (df['Channel'] == 5) & (df['DateTime'] > t)"
   ]
  },
  {
   "cell_type": "code",
   "execution_count": null,
   "id": "7f04ebf9-f666-4a9c-9897-934e0c942bcb",
   "metadata": {
    "tags": []
   },
   "outputs": [],
   "source": [
    "plt.rcParams['figure.figsize'] = [15, 5]\n",
    "fig, axs = plt.subplots(1, 1)\n",
    "\n",
    "axs.set_title('vCO2, ppm')\n",
    "axs.plot('DateTime', 'flag', '-', data=df.tail(200), c='silver')\n",
    "axs.plot('DateTime', 'fluxEvent', '-', data=df.tail(200), c='red')\n",
    "axs.plot('DateTime', 'fluxCount', '-', data=df.tail(200), c='blue')"
   ]
  },
  {
   "cell_type": "code",
   "execution_count": null,
   "id": "88f60024-895f-4799-86e4-00ca190cd120",
   "metadata": {},
   "outputs": [],
   "source": [
    "ch_v = 'flag'\n",
    "df['cCO2chm'] = df['vCO2'][(df[chnl] == 5) & (df[ch_v] == 1)] * df['PressAir'] * bfunc.getDensity(temp=0, press=1, gas='CO2') / 1000\n",
    "df['cCH4chm'] = df['vCH4'][(df[chnl] == 5) & (df[ch_v] == 1)] * df['PressAir'] * bfunc.getDensity(temp=0, press=1, gas='CH4') \n",
    "df['DateSec'] = df['DateTime'].astype('int64')//10**9\n",
    "for col in ['cCO2chm', 'cCH4chm']:\n",
    "    df[col] = df[col].rolling(3).mean()"
   ]
  },
  {
   "cell_type": "code",
   "execution_count": null,
   "id": "0f501580-69a9-4aa8-8fb5-d9c2ce683afd",
   "metadata": {
    "tags": []
   },
   "outputs": [],
   "source": [
    "plt.rcParams['figure.figsize'] = [15, 5]\n",
    "fig, ax = plt.subplots(1)\n",
    "ax.plot('DateTime', 'cCH4chm', 'ro', linewidth=1, alpha=0.2, data=df )\n",
    "ax.plot('DateTime', 'flag', 'c-', linewidth=1, alpha=0.8, data=df)\n",
    "ax.set_xlim(pd.to_datetime('02.10.2023 14:00', dayfirst=True), pd.to_datetime('02.10.2023 18:00', dayfirst=True))"
   ]
  },
  {
   "cell_type": "code",
   "execution_count": null,
   "id": "c4fb845e-5150-4704-b75f-f494824cdc0b",
   "metadata": {
    "tags": []
   },
   "outputs": [],
   "source": [
    "deep = 2\n",
    "df['CO2flux'] = (df['cCO2chm'].shift(-deep) - df['cCO2chm'].shift(deep)) / (df['DateSec'].shift(-deep) - df['DateSec'].shift(deep)) * 3600 / 0.81 * 320\n",
    "df['CH4flux'] = (df['cCH4chm'].shift(-deep) - df['cCH4chm'].shift(deep)) / (df['DateSec'].shift(-deep) - df['DateSec'].shift(deep)) * 3600 / 0.81 * 320"
   ]
  },
  {
   "cell_type": "code",
   "execution_count": null,
   "id": "4dad3e9d-4477-4dc7-a143-7960d75cdbf4",
   "metadata": {
    "tags": []
   },
   "outputs": [],
   "source": [
    "dft = df.copy()"
   ]
  },
  {
   "cell_type": "code",
   "execution_count": null,
   "id": "d60e08b4-82d7-4b23-94c7-41f385f40edd",
   "metadata": {
    "tags": []
   },
   "outputs": [],
   "source": [
    "def ff(dff):\n",
    "    dff.dropna(inplace=True)\n",
    "    l = int(len(dff)/2)  # point to the middle of array\n",
    "    return dff.sort_values()[l-2:l+2].mean()\n",
    "    \n",
    "dfr = dft['CO2flux'].groupby(dft['fluxCount']).apply(ff)\n",
    "dft=dft.merge(dfr, how='left', right_on='fluxCount', left_on='fluxCount')\n",
    "dfr = dft['CH4flux'].groupby(dft['fluxCount']).apply(ff)\n",
    "dft=dft.merge(dfr, how='left', right_on='fluxCount', left_on='fluxCount')\n",
    "dft"
   ]
  },
  {
   "cell_type": "code",
   "execution_count": null,
   "id": "53e5bf7a-595b-4a72-9715-3f10cde98ac8",
   "metadata": {},
   "outputs": [],
   "source": [
    "plt.rcParams['figure.figsize'] = [17, 5]\n",
    "fig, ax = plt.subplots(1)\n",
    "ax.plot('DateTime', 'CO2flux_x', 'ro', linewidth=1, alpha=0.2, data=dft)\n",
    "ax.plot('DateTime', 'CO2flux_y', 'go', linewidth=1, alpha=0.2, data=dft, markersize=3)\n",
    "# ax.set_xlim(pd.to_datetime('02.10.2023 14:00', dayfirst=True), pd.to_datetime('08.10.2023 18:00', dayfirst=True))\n",
    "ax.set_ylim(-50, 50)\n",
    "ax.grid(alpha=0.2)"
   ]
  },
  {
   "cell_type": "code",
   "execution_count": null,
   "id": "46f6ce1b-8e19-4c1b-a5c1-99d66619ff8c",
   "metadata": {},
   "outputs": [],
   "source": [
    "plt.rcParams['figure.figsize'] = [17, 5]\n",
    "fig, ax = plt.subplots(1)\n",
    "ax.plot('DateTime', 'CH4flux_x', 'ro', linewidth=1, alpha=0.2, data=dft)\n",
    "ax.plot('DateTime', 'CH4flux_y', 'go', linewidth=1, alpha=0.2, data=dft, markersize=3)\n",
    "# ax.set_xlim(pd.to_datetime('02.10.2023 14:00', dayfirst=True), pd.to_datetime('08.10.2023 18:00', dayfirst=True))\n",
    "ax.set_ylim(-50, 50)\n",
    "ax.grid(alpha=0.2)"
   ]
  },
  {
   "cell_type": "code",
   "execution_count": null,
   "id": "8935d478-b09a-4069-8d73-d8e84163a71f",
   "metadata": {},
   "outputs": [],
   "source": [
    "plt.rcParams['figure.figsize'] = [15, 5]\n",
    "fig, ax = plt.subplots(1)\n",
    "ax.plot('DateTime', 'CH4flux_x', 'ro', linewidth=1, alpha=0.2, data=dft)\n",
    "ax.plot('DateTime', 'CH4flux_y', 'go', linewidth=1, alpha=0.2, data=dft)\n",
    "ax.set_xlim(pd.to_datetime('02.10.2023 14:00', dayfirst=True), pd.to_datetime('03.10.2023 18:00', dayfirst=True))\n",
    "ax.set_ylim(-200, 200)"
   ]
  },
  {
   "cell_type": "code",
   "execution_count": null,
   "id": "5ce65b40-dd47-4274-a7b9-83405852c2de",
   "metadata": {
    "tags": []
   },
   "outputs": [],
   "source": [
    "df = dft.copy()"
   ]
  },
  {
   "cell_type": "code",
   "execution_count": null,
   "id": "56909b4b-ff4e-40ef-be5d-5b6d02a37b83",
   "metadata": {
    "tags": []
   },
   "outputs": [],
   "source": [
    "filter_list = [{'date_start': '07.08.2023 17:00', 'date_stop': '07.08.2023 17:10', 'cols': ['CO2flux', 'CH4flux'], 'fill_with': np.NaN},   # Wrench is blocked\n",
    "               {'date_start': '08.08.2023 01:30', 'date_stop': '08.08.2023 11:20', 'cols': ['CO2flux', 'CH4flux'], 'fill_with': np.NaN},   # Wrench is blocked\n",
    "              ]\n",
    "\n",
    "for cycle in filter_list:\n",
    "    date_start = pd.to_datetime(cycle['date_start'], dayfirst=True)\n",
    "    date_stop = pd.to_datetime(cycle['date_stop'], dayfirst=True)\n",
    "    for col in cycle['cols']:\n",
    "        df.loc[(df['DateTime'] > date_start) & (df['DateTime'] < date_stop), col] = cycle['fill_with']"
   ]
  },
  {
   "cell_type": "code",
   "execution_count": null,
   "id": "ec5e7f5c-19ab-49a0-bda8-b83366dd62e3",
   "metadata": {
    "tags": []
   },
   "outputs": [],
   "source": [
    "## do not know why is it here\n",
    "df = df.resample('20S', on='DateTime').mean()\n",
    "df[chnl].fillna(method='ffill', inplace=True)"
   ]
  },
  {
   "cell_type": "code",
   "execution_count": null,
   "id": "6214dfef-7ffd-4c95-bb84-95c82817107e",
   "metadata": {
    "tags": []
   },
   "outputs": [],
   "source": [
    "df['DateTime'] = df.index\n"
   ]
  },
  {
   "cell_type": "code",
   "execution_count": null,
   "id": "2e66a100-041c-4972-b05a-f7ba1e69a724",
   "metadata": {
    "tags": []
   },
   "outputs": [],
   "source": [
    "df['reff'] = 1\n",
    "ch_v = 'Chn_valid'\n",
    "df[ch_v] = 1\n",
    "for deep in range(1, 7):\n",
    "    df.loc[df[chnl] != df[chnl].shift(deep), ch_v] = 0\n",
    "df.dropna(axis='index', subset=['reff'], inplace=True)"
   ]
  },
  {
   "cell_type": "code",
   "execution_count": null,
   "id": "c5b92229-8c3d-4f12-b213-915432e779df",
   "metadata": {
    "tags": []
   },
   "outputs": [],
   "source": [
    "df"
   ]
  },
  {
   "cell_type": "code",
   "execution_count": null,
   "id": "3c4f6936-405f-40db-a185-30ee7ae6cc65",
   "metadata": {
    "tags": []
   },
   "outputs": [],
   "source": [
    "df['vCO2air'] = df['vCO2'][(df[chnl] == 6) & (df[ch_v] == 1)]\n",
    "df['vCH4air'] = df['vCH4'][(df[chnl] == 6) & (df[ch_v] == 1)]\n",
    "for col in ['vCO2air', 'vCH4air',]:\n",
    "    df[col] = df[col].rolling(3).mean()\n",
    "\n",
    "df['vCO2air'].interpolate(method='values', inplace=True)\n",
    "df['vCH4air'].interpolate(method='values', inplace=True)  ## `time` method mb better\n",
    "df['pCO2air'] = df['vCO2air'] * df['PressAir']  # mkatm\n",
    "df['pCH4air'] = df['vCH4air'] * df['PressAir']  # mkatm"
   ]
  },
  {
   "cell_type": "code",
   "execution_count": null,
   "id": "a003322e-b7bd-4326-b6d7-f2b6bf38b1f3",
   "metadata": {
    "tags": []
   },
   "outputs": [],
   "source": [
    "plt.rcParams['figure.figsize'] = [15, 5]\n",
    "fig, axs = plt.subplots(2, 1)\n",
    "\n",
    "axs[0].set_title('CO2 air, ppm')\n",
    "axs[0].set_ylim(150, 650)\n",
    "axs[0].plot(df.DateTime, df['vCO2'], '-', c='silver')\n",
    "axs[0].plot(df.DateTime, df['vCO2air'], 'r-')\n",
    "\n",
    "axs[1].set_title('CH4 air, ppm')\n",
    "axs[1].set_ylim(0, 20)\n",
    "axs[1].plot(df.DateTime, df['vCH4'], '-', c='silver')\n",
    "axs[1].plot(df.DateTime, df['vCH4air'], 'b-')\n",
    "fig.savefig(saveImgPath+'cAir_vs_time.png', transparent=False)"
   ]
  },
  {
   "cell_type": "code",
   "execution_count": null,
   "id": "29a5adc0-372d-4142-bd92-cea9e7130ac0",
   "metadata": {
    "tags": []
   },
   "outputs": [],
   "source": [
    "df.columns"
   ]
  },
  {
   "cell_type": "markdown",
   "id": "285e7fbc-779e-4a84-a277-667c705003a2",
   "metadata": {
    "tags": []
   },
   "source": [
    "## RECOVERY !!!"
   ]
  },
  {
   "cell_type": "code",
   "execution_count": null,
   "id": "c14bac6e-de93-4c91-add5-10a681806389",
   "metadata": {
    "tags": []
   },
   "outputs": [],
   "source": [
    "df['DateSec'] = df['DateTime'].astype('int64')//10**9\n",
    "df['dTSec'] = df['DateSec'] - df['DateSec'].shift(1)\n",
    "dt = df['dTSec'] / 60   ## delta time, min\n",
    "ch_v = 'Chn_valid'"
   ]
  },
  {
   "cell_type": "markdown",
   "id": "17f12b1e-1498-4845-9569-1024f304b70d",
   "metadata": {
    "tags": []
   },
   "source": [
    "#### recovery `CO2/CH4`, channel `1` (bottom in Oct 2023)"
   ]
  },
  {
   "cell_type": "code",
   "execution_count": null,
   "id": "16350b90-0a95-4c3b-9743-ba9922c5e41b",
   "metadata": {
    "tags": []
   },
   "outputs": [],
   "source": [
    "equ_vol = scheme.equ_walltube_param['equ_vol']  # equivalent equ volume, l\n",
    "equ_cap = scheme.equ_walltube_param['equ_cap']  # equilibrator capacity\n",
    "wtr_flow_min = scheme.equ_walltube_param['water_flow_min'] "
   ]
  },
  {
   "cell_type": "code",
   "execution_count": null,
   "id": "c039bf18-dc89-4ef9-b4d4-696881137b2f",
   "metadata": {
    "tags": []
   },
   "outputs": [],
   "source": [
    "t_wtr = df['TempEqu1']\n",
    "t_air = t_wtr\n",
    "wtr_flow = df['WaterFlowEqu1']\n",
    "air_flow = df['AirFlow']"
   ]
  },
  {
   "cell_type": "code",
   "execution_count": null,
   "id": "d8f3a70c-aa0e-402e-9244-9d5aa90e6323",
   "metadata": {
    "tags": []
   },
   "outputs": [],
   "source": [
    "### CO2 water\n",
    "df['vCO2equ'] = df['vCO2'][(df[chnl] == 1) & (df[ch_v] == 1) & (wtr_flow > wtr_flow_min)]\n",
    "solubility = bfunc.getSolubility(t_wtr, 'CO2')\n",
    "\n",
    "density = bfunc.getDensity(t_air, df['PressAir'], 'CO2')\n",
    "cGasAir = df['pCO2air'] / 1000000 * density\n",
    "pGasEquAir = df['vCO2equ'] * df['PressAir']\n",
    "cGasEquAir = pGasEquAir * density / 1000000  # g/l\n",
    "\n",
    "tau = equ_vol/(air_flow+wtr_flow*equ_cap*solubility/density)\n",
    "eternal = (cGasEquAir-cGasEquAir.shift(1)*np.exp(-1*dt/tau))/(1-np.exp(-1*dt/tau))\n",
    "cGasWtr = (eternal*(wtr_flow*equ_cap*solubility/density+air_flow)-air_flow*cGasAir)/(wtr_flow*equ_cap)\n",
    "\n",
    "df['cCO2bot'] = cGasWtr * 1000     # mg/l\n",
    "df['pCO2bot'] = cGasWtr * 1000000 / solubility  # mkatm"
   ]
  },
  {
   "cell_type": "code",
   "execution_count": null,
   "id": "a9b96faf-3a40-4b78-9db2-f365ac3f8eb8",
   "metadata": {
    "tags": []
   },
   "outputs": [],
   "source": [
    "### CH4 water\n",
    "df['vCH4equ'] = df['vCH4'][(df[chnl] == 1) & (df[ch_v] == 1)]\n",
    "solubility = bfunc.getSolubility(t_wtr, 'CH4')\n",
    "\n",
    "density = bfunc.getDensity(t_air, df['PressAir'], 'CH4')\n",
    "cGasAir = df['pCH4air'] / 1000000 * density\n",
    "pGasEquAir = df['vCH4equ'] * df['PressAir']\n",
    "cGasEquAir = pGasEquAir * density / 1000000  # g/l\n",
    "\n",
    "tau = equ_vol/(air_flow+wtr_flow*equ_cap*solubility/density)\n",
    "eternal = (cGasEquAir-cGasEquAir.shift(1)*np.exp(-1*dt/tau))/(1-np.exp(-1*dt/tau))\n",
    "cGasWtr = (eternal*(wtr_flow*equ_cap*solubility/density+air_flow)-air_flow*cGasAir)/(wtr_flow*equ_cap)\n",
    "df['cCH4bot'] = cGasWtr * 1000000000    # ng/l\n",
    "df['pCH4bot'] = cGasWtr * 1000000 / solubility  # mkatm"
   ]
  },
  {
   "cell_type": "markdown",
   "id": "f515c5c1-a9d6-4a21-8845-99821799b2a4",
   "metadata": {
    "tags": []
   },
   "source": [
    "#### recovery `CO2/CH4`, channel `2` (surface in oct 2023)"
   ]
  },
  {
   "cell_type": "code",
   "execution_count": null,
   "id": "45ddeb04-bf56-44ff-b706-5a77f765d0dd",
   "metadata": {
    "tags": []
   },
   "outputs": [],
   "source": [
    "t_wtr = df['TempEqu2']\n",
    "t_air = t_wtr\n",
    "wtr_flow = df['WaterFlowEqu1']  # waterflow sensor at channel #2 didn't work properly"
   ]
  },
  {
   "cell_type": "code",
   "execution_count": null,
   "id": "f48e853e-fb94-45cf-a5a6-465405eed91e",
   "metadata": {
    "tags": []
   },
   "outputs": [],
   "source": [
    "### CO2 water\n",
    "df['vCO2equ'] = df['vCO2'][(df[chnl] == 2) & (df[ch_v] == 1) & (wtr_flow > wtr_flow_min)]\n",
    "solubility = bfunc.getSolubility(t_wtr, 'CO2')\n",
    "\n",
    "density = bfunc.getDensity(t_air, df['PressAir'], 'CO2')\n",
    "cGasAir = df['pCO2air'] / 1000000 * density\n",
    "pGasEquAir = df['vCO2equ'] * df['PressAir']\n",
    "cGasEquAir = pGasEquAir * density / 1000000  # g/l\n",
    "\n",
    "tau = equ_vol/(air_flow+wtr_flow*equ_cap*solubility/density)\n",
    "eternal = (cGasEquAir-cGasEquAir.shift(1)*np.exp(-1*dt/tau))/(1-np.exp(-1*dt/tau))\n",
    "cGasWtr = (eternal*(wtr_flow*equ_cap*solubility/density+air_flow)-air_flow*cGasAir)/(wtr_flow*equ_cap)\n",
    "\n",
    "df['cCO2sur'] = cGasWtr * 1000     # mg/l\n",
    "df['pCO2sur'] = cGasWtr * 1000000 / solubility  # mkatm"
   ]
  },
  {
   "cell_type": "code",
   "execution_count": null,
   "id": "368a189c-99d0-49d2-8a44-1e7fc015fa2f",
   "metadata": {
    "tags": []
   },
   "outputs": [],
   "source": [
    "### CH4 water\n",
    "df['vCH4equ'] = df['vCH4'][(df[chnl] == 2) & (df[ch_v] == 1)]\n",
    "solubility = bfunc.getSolubility(df['TempEqu1'], 'CH4')\n",
    "\n",
    "density = bfunc.getDensity(t_air, df['PressAir'], 'CH4')\n",
    "cGasAir = df['pCH4air'] / 1000000 * density\n",
    "pGasEquAir = df['vCH4equ'] * df['PressAir']\n",
    "cGasEquAir = pGasEquAir * density / 1000000  # g/l\n",
    "\n",
    "tau = equ_vol/(air_flow+wtr_flow*equ_cap*solubility/density)\n",
    "eternal = (cGasEquAir-cGasEquAir.shift(1)*np.exp(-1*dt/tau))/(1-np.exp(-1*dt/tau))\n",
    "cGasWtr = (eternal*(wtr_flow*equ_cap*solubility/density+air_flow)-air_flow*cGasAir)/(wtr_flow*equ_cap)\n",
    "df['cCH4sur'] = cGasWtr * 1000000000    # ng/l\n",
    "df['pCH4sur'] = cGasWtr * 1000000 / solubility  # mkatm"
   ]
  },
  {
   "cell_type": "code",
   "execution_count": null,
   "id": "7e76de3b-736f-456e-b19f-18c917a097fc",
   "metadata": {
    "tags": []
   },
   "outputs": [],
   "source": [
    "## rolling average is applied inplace. Be cafelly, run this cell **ONCE**\n",
    "\n",
    "for col in ['cCO2sur', 'cCO2bot', 'pCO2sur', 'pCO2bot', 'cCH4sur', 'pCH4sur', 'cCH4bot', 'pCH4bot']:\n",
    "    df.loc[df[col] == np.inf , col] = np.nan \n",
    "    df.loc[df[col] == -np.inf , col] = np.nan\n",
    "    df.loc[df[col] <= 0 , col] = np.nan\n",
    "    df[col] = df[col].rolling(3, center=True).mean()"
   ]
  },
  {
   "cell_type": "code",
   "execution_count": null,
   "id": "17f9b324-3250-497c-8ba0-7939aea2868b",
   "metadata": {
    "tags": []
   },
   "outputs": [],
   "source": [
    "df['pCH4bot'].describe()"
   ]
  },
  {
   "cell_type": "code",
   "execution_count": null,
   "id": "62fd2694-cc1a-441c-a4be-d0ad245a0e58",
   "metadata": {
    "tags": []
   },
   "outputs": [],
   "source": [
    "df['pCH4sur'].describe()"
   ]
  },
  {
   "cell_type": "code",
   "execution_count": null,
   "id": "1457e1c0-c3c9-420d-8668-fe3920dde42a",
   "metadata": {
    "tags": []
   },
   "outputs": [],
   "source": [
    "df['pCO2'] = df['vCO2'] * df['PressAir']\n",
    "\n",
    "plt.rcParams['figure.figsize'] = [18, 5]\n",
    "fig, ax = plt.subplots()\n",
    "## ax.set_xlim(pd.to_datetime('05.06.2023 18:00:00', dayfirst=True), pd.to_datetime('05.06.2023 19:00:00', dayfirst=True))\n",
    "ax.set_title('CO2 water, mkatm')\n",
    "ax.set_ylim(0, 800)\n",
    "ax.plot(df.DateTime, df['pCO2'], '-', c='silver')\n",
    "ax.plot(df.DateTime, df['pCO2sur'], 'g-')\n",
    "ax.plot(df.DateTime, df['pCO2bot'], 'r-')\n",
    "ax.plot(df.DateTime, df['pCO2air'], 'c-')\n",
    "fig.savefig(saveImgPath+'pCO2wtr_vs_time.png')"
   ]
  },
  {
   "cell_type": "code",
   "execution_count": null,
   "id": "1059de88-2582-466e-bd76-30d3a52add19",
   "metadata": {
    "tags": []
   },
   "outputs": [],
   "source": [
    "count_recent = 30000\n",
    "df['pCH4'] = df['vCH4'] * df['PressAir']\n",
    "plt.rcParams['figure.figsize'] = [18, 5]\n",
    "fig, ax = plt.subplots()\n",
    "ax.set_title('CH4 water, mkatm')\n",
    "# ax.set_xlim(pd.to_datetime('06.06.2023 10:00:00', dayfirst=True), pd.to_datetime('06.06.2023 19:00:00', dayfirst=True))\n",
    "# ax.set_ylim(0, 20)\n",
    "ax.plot(df.tail(count_recent).DateTime, df.tail(count_recent)['pCH4'], '-', c='silver')\n",
    "ax.plot(df.tail(count_recent).DateTime, df.tail(count_recent)['pCH4bot'], 'r.')\n",
    "ax.plot(df.tail(count_recent).DateTime, df.tail(count_recent)['pCH4sur'], 'g.')\n",
    "fig.savefig(saveImgPath+'pCH4wtr_vs_time.png')"
   ]
  },
  {
   "cell_type": "code",
   "execution_count": null,
   "id": "c8792563-e6e6-4db8-96f3-0f8a7aac1f9b",
   "metadata": {},
   "outputs": [],
   "source": [
    "df.columns"
   ]
  },
  {
   "cell_type": "code",
   "execution_count": null,
   "id": "3f07ee83-abe1-4f4d-95ed-817ff3e3903c",
   "metadata": {},
   "outputs": [],
   "source": [
    "df['hour'] = df['DateTime'].dt.hour # + df['DateTime'].dt.minute / 60\n",
    "df['hour']"
   ]
  },
  {
   "cell_type": "code",
   "execution_count": null,
   "id": "e98d7863-3d2f-4dd9-a655-ed9851858e3a",
   "metadata": {
    "tags": []
   },
   "outputs": [],
   "source": [
    "plt.rcParams['figure.figsize'] = [15, 5]\n",
    "fig, ax = plt.subplots(1)\n",
    "ax.plot(df['hour'], df['CO2flux_y'], 'ro', linewidth=1, alpha=0.2, data=df )\n",
    "ax.grid(alpha=.2)\n",
    "# ax.set_ylim(-100, 10)"
   ]
  },
  {
   "cell_type": "code",
   "execution_count": null,
   "id": "7793e65f-c656-4aa0-8a86-59ce979d8007",
   "metadata": {
    "tags": []
   },
   "outputs": [],
   "source": [
    "cols = ['hour', 'DateSec', 'TempAir', 'PressAir', 'Precipitation', 'LightLX', 'LightUV',\n",
    "        'vCO2', 'vCH4', 'vH2O', 'AirFlow', 'Channel',\n",
    "        'FluoNxRed', 'FluoNxGrn', 'FluoNxBlu', 'FluoKfaRed', 'FluoKfaGrn', 'FluoKfaBlu', 'WaterFlowEqu1',\n",
    "        'WaterFlowEqu2', 'WaterFlowEqu3', 'WaterFlowEqu4',\n",
    "        'TempEqu1', 'TempEqu2', 'TempEqu3', 'cCO2chm', 'cCH4chm',\n",
    "        'CO2flux', 'CH4flux', 'vCO2air', 'vCH4air',\n",
    "        'pCO2air', 'pCH4air', 'cCO2sur', 'pCO2sur',\n",
    "        'cCH4sur', 'pCH4sur', 'cCO2bot', 'pCO2bot', 'cCH4bot', 'pCH4bot',]\n",
    "df.to_csv(f'{saveDataPath}BaikalOct2023.dat',\n",
    "          # columns=cols,\n",
    "          sep='\\t',\n",
    "         )"
   ]
  },
  {
   "cell_type": "code",
   "execution_count": null,
   "id": "8744c919-85d8-4b7d-b874-30ca04ed15a4",
   "metadata": {},
   "outputs": [],
   "source": [
    "func_list = ['mean', 'std']\n",
    "hourly = df.resample('1H', on='DateTime').agg(func_list)\n",
    "\n",
    "cols = ['hour', 'DateSec', 'TempAir', 'PressAir', 'Precipitation', 'LightLX', 'LightUV',\n",
    "        'vCO2', 'vCH4', 'vH2O',\n",
    "        'FluoNxRed', 'FluoNxGrn', 'FluoNxBlu', 'FluoKfaRed', 'FluoKfaGrn', 'FluoKfaBlu', 'WaterFlowEqu1',\n",
    "        'TempEqu1', 'TempEqu2', 'TempEqu3', 'cCO2chm', 'cCH4chm',\n",
    "        'CO2flux', 'CH4flux', 'vCO2air', 'vCH4air',\n",
    "        'pCO2air', 'pCH4air', 'cCO2sur', 'pCO2sur',\n",
    "        'cCH4sur', 'pCH4sur', 'cCO2bot', 'pCO2bot', 'cCH4bot', 'pCH4bot',]\n",
    "hourly.to_csv(f'{saveDataPath}BaikalOct2023hourly.dat',\n",
    "              # columns=cols,\n",
    "              sep='\\t',\n",
    "             )"
   ]
  },
  {
   "cell_type": "code",
   "execution_count": null,
   "id": "d901e8d1-c197-40c8-9e80-4c4de81f2932",
   "metadata": {},
   "outputs": [],
   "source": []
  }
 ],
 "metadata": {
  "kernelspec": {
   "display_name": "Python 3 (ipykernel)",
   "language": "python",
   "name": "python3"
  },
  "language_info": {
   "codemirror_mode": {
    "name": "ipython",
    "version": 3
   },
   "file_extension": ".py",
   "mimetype": "text/x-python",
   "name": "python",
   "nbconvert_exporter": "python",
   "pygments_lexer": "ipython3",
   "version": "3.11.2"
  },
  "toc-autonumbering": true,
  "toc-showcode": true,
  "toc-showmarkdowntxt": true
 },
 "nbformat": 4,
 "nbformat_minor": 5
}
