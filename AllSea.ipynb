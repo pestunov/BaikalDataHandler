{
 "cells": [
  {
   "cell_type": "code",
   "execution_count": 1,
   "id": "2f6d2dd3-7936-4d9b-a57c-76c6b37028bb",
   "metadata": {
    "tags": []
   },
   "outputs": [],
   "source": [
    "import pandas as pd\n",
    "import numpy as np\n",
    "import matplotlib as mpl\n",
    "import matplotlib.pyplot as plt\n",
    "import datetime as dt\n",
    "import os\n",
    "\n",
    "import scheme_mar2023 as scheme\n"
   ]
  },
  {
   "cell_type": "code",
   "execution_count": 2,
   "id": "2c5b1822-a104-48a5-b35e-092b989d793a",
   "metadata": {
    "tags": []
   },
   "outputs": [
    {
     "data": {
      "text/plain": [
       "'G:/1_Data1/sea/'"
      ]
     },
     "execution_count": 2,
     "metadata": {},
     "output_type": "execute_result"
    }
   ],
   "source": [
    "plt.style.use('Solarize_Light2')   # try another styles: 'classic'\n",
    "plt.rcParams['figure.figsize'] = [15, 15]\n",
    "driver = 'G:/'  # '~/'\n",
    "pwd = os.path.join(driver, \"1_Data1/sea/\")\n",
    "destData = os.path.join(pwd, \"AllSeaGisOut.txt\")\n",
    "obrisData = os.path.join(driver, \"1_Data1/obris/obris.dat\")\n",
    "batimetrFile = os.path.join(driver, \"1_Data1/batimetria/b1.txt\")\n",
    "pwd"
   ]
  },
  {
   "cell_type": "code",
   "execution_count": 3,
   "id": "a02b1bf3-928f-490d-9709-0f31e9105f22",
   "metadata": {
    "editable": true,
    "slideshow": {
     "slide_type": ""
    },
    "tags": []
   },
   "outputs": [
    {
     "data": {
      "text/html": [
       "<div>\n",
       "<style scoped>\n",
       "    .dataframe tbody tr th:only-of-type {\n",
       "        vertical-align: middle;\n",
       "    }\n",
       "\n",
       "    .dataframe tbody tr th {\n",
       "        vertical-align: top;\n",
       "    }\n",
       "\n",
       "    .dataframe thead th {\n",
       "        text-align: right;\n",
       "    }\n",
       "</style>\n",
       "<table border=\"1\" class=\"dataframe\">\n",
       "  <thead>\n",
       "    <tr style=\"text-align: right;\">\n",
       "      <th></th>\n",
       "      <th>i</th>\n",
       "      <th>long</th>\n",
       "      <th>lat</th>\n",
       "    </tr>\n",
       "  </thead>\n",
       "  <tbody>\n",
       "    <tr>\n",
       "      <th>0</th>\n",
       "      <td>1</td>\n",
       "      <td>NaN</td>\n",
       "      <td>NaN</td>\n",
       "    </tr>\n",
       "    <tr>\n",
       "      <th>1</th>\n",
       "      <td>2</td>\n",
       "      <td>109.004</td>\n",
       "      <td>53.667</td>\n",
       "    </tr>\n",
       "    <tr>\n",
       "      <th>2</th>\n",
       "      <td>3</td>\n",
       "      <td>109.008</td>\n",
       "      <td>53.665</td>\n",
       "    </tr>\n",
       "  </tbody>\n",
       "</table>\n",
       "</div>"
      ],
      "text/plain": [
       "   i     long     lat\n",
       "0  1      NaN     NaN\n",
       "1  2  109.004  53.667\n",
       "2  3  109.008  53.665"
      ]
     },
     "execution_count": 3,
     "metadata": {},
     "output_type": "execute_result"
    }
   ],
   "source": [
    "obris = pd.read_csv(obrisData,\n",
    "                    header=0,\n",
    "                    na_values='--',\n",
    "                    sep='\\t',\n",
    "                    decimal=',',\n",
    "                    )\n",
    "obris.head(3)"
   ]
  },
  {
   "cell_type": "code",
   "execution_count": 37,
   "id": "18fcc277-6828-40d9-aedd-7e084b8356d3",
   "metadata": {
    "tags": []
   },
   "outputs": [],
   "source": [
    "df = pd.read_csv(os.path.join(pwd, \"all.txt\"),\n",
    "                 header=0,\n",
    "                 # skip_blank_lines=True,\n",
    "                 skipinitialspace=True,\n",
    "                 na_values='--',\n",
    "                 sep='\\t',\n",
    "                 decimal='.',\n",
    "                 # nrows=100000,\n",
    "                 parse_dates=['DateTime'],\n",
    "                 dayfirst=False,\n",
    "                 )\n"
   ]
  },
  {
   "cell_type": "code",
   "execution_count": 38,
   "id": "df42356a-805c-40aa-a210-503b38f1ca2d",
   "metadata": {},
   "outputs": [],
   "source": [
    "dff = pd.read_csv(os.path.join(pwd, \"AllSeaO.dat\"),\n",
    "                 header=0,\n",
    "                 # skip_blank_lines=True,\n",
    "                 skipinitialspace=True,\n",
    "                 na_values='--',\n",
    "                 sep='\\t',\n",
    "                 decimal=',',\n",
    "                 #nrows=10000,\n",
    "                 parse_dates=['DateTime'],\n",
    "                 dayfirst=True,\n",
    "                 )"
   ]
  },
  {
   "cell_type": "code",
   "execution_count": 39,
   "id": "edf54fb2-e1df-45af-ab29-5b2ecf56556b",
   "metadata": {
    "tags": []
   },
   "outputs": [
    {
     "data": {
      "text/plain": [
       "Index(['Unnamed: 0', 'DateTime', 'Longitude', 'Latitude', 'TempAir',\n",
       "       'PressAir', 'TempWtr', 'pCO2Air', 'pCH4Air', 'pCO2Wtr', 'pCH4Wtr',\n",
       "       'dpCO2', 'dpCH4', 'cCO2Wtr', 'cCH4Wtr', 'Speed', 'Course',\n",
       "       'Precipitation', 'LightLX', 'LightUV', 'TempEqu1', 'TempEqu2',\n",
       "       'TempEqu3', 'vCO2', 'vCH4', 'CH4_dry', 'CO2_dry', 'vCO2Air', 'vCH4Air',\n",
       "       'pCO2', 'pCH4', 'depth', 'year', 'batiy', 'batix', 'long', 'lat', 'Wh',\n",
       "       'Wdir', 'vx', 'vy', 'vesx', 'vesy', 'dateSec', 'dt', 'vesSpeed',\n",
       "       'winSpeed'],\n",
       "      dtype='object')"
      ]
     },
     "execution_count": 39,
     "metadata": {},
     "output_type": "execute_result"
    }
   ],
   "source": [
    "df['year'] = df['DateTime'].dt.year\n",
    "df.columns"
   ]
  },
  {
   "cell_type": "code",
   "execution_count": 62,
   "id": "2717a93d-6187-4e96-a464-5b64aff6cd6f",
   "metadata": {},
   "outputs": [
    {
     "data": {
      "text/plain": [
       "count    8569.000000\n",
       "mean        0.941973\n",
       "std         0.003493\n",
       "min         0.932826\n",
       "25%         0.940352\n",
       "50%         0.941839\n",
       "75%         0.944957\n",
       "max         0.948312\n",
       "Name: PressAir, dtype: float64"
      ]
     },
     "execution_count": 62,
     "metadata": {},
     "output_type": "execute_result"
    }
   ],
   "source": [
    "df.loc[df['year']==2013, 'PressAir'].describe()"
   ]
  },
  {
   "cell_type": "code",
   "execution_count": 63,
   "id": "dd889f81-3c9a-49ec-98c4-562fc3660119",
   "metadata": {},
   "outputs": [],
   "source": [
    "# df.loc[df['year']==2013, 'PressAir'] = df.loc[df['year']==2013, 'PressAir']/101325\n",
    "df.loc[df['year']==2016, 'PressAir'] = df.loc[df['year']==2016, 'PressAir']/101325\n",
    "df.loc[df['year']==2017, 'PressAir'] = df.loc[df['year']==2017, 'PressAir']/101325\n",
    "df.loc[df['year']==2018, 'PressAir'] = df.loc[df['year']==2018, 'PressAir']/101325\n",
    "df.loc[df['year']==2021, 'PressAir'] = df.loc[df['year']==2021, 'PressAir']/101325\n",
    "df.loc[df['year']==2022, 'PressAir'] = df.loc[df['year']==2022, 'PressAir']/101325"
   ]
  },
  {
   "cell_type": "code",
   "execution_count": 44,
   "id": "6f1ce587-5c01-4d3a-a7ed-22adc96bb0b9",
   "metadata": {},
   "outputs": [],
   "source": [
    "df.loc[df['year']==2023, 'TempWtr'] = df.loc[df['year']==2023, 'TempEqu1']\n",
    "df.loc[df['year']==2024, 'TempWtr'] = df.loc[df['year']==2024, 'TempEqu1']"
   ]
  },
  {
   "cell_type": "code",
   "execution_count": 46,
   "id": "739e5905-9912-44db-9bdc-87ebf989326b",
   "metadata": {},
   "outputs": [
    {
     "name": "stdout",
     "output_type": "stream",
     "text": [
      "<class 'pandas.core.series.Series'>\n",
      "Index: 21391 entries, 90489 to 111879\n",
      "Series name: TempWtr\n",
      "Non-Null Count  Dtype  \n",
      "--------------  -----  \n",
      "21391 non-null  float64\n",
      "dtypes: float64(1)\n",
      "memory usage: 334.2 KB\n"
     ]
    }
   ],
   "source": [
    "df.loc[df['year']==2023,'TempWtr'].info()"
   ]
  },
  {
   "cell_type": "code",
   "execution_count": 47,
   "id": "cf569d38-f003-4dd8-81cf-20a7b2aaa2fc",
   "metadata": {},
   "outputs": [],
   "source": [
    "df = pd.merge(left=df, right=dff.loc[:,['DateTime', 'WaterFlow1']], how='left', left_on='DateTime', right_on='DateTime')"
   ]
  },
  {
   "cell_type": "code",
   "execution_count": 48,
   "id": "04b0cd51-fc7e-4770-9258-0981fd16a346",
   "metadata": {},
   "outputs": [],
   "source": [
    "df = df.resample('1min', on='DateTime').mean()\n",
    "df = df.dropna(axis='index', subset=['Longitude', 'Latitude'], inplace=False)\n",
    "df.reset_index(drop=False, inplace=True)"
   ]
  },
  {
   "cell_type": "code",
   "execution_count": 49,
   "id": "d501110a-a6da-446a-944f-ae35c680ace4",
   "metadata": {},
   "outputs": [
    {
     "data": {
      "text/html": [
       "<div>\n",
       "<style scoped>\n",
       "    .dataframe tbody tr th:only-of-type {\n",
       "        vertical-align: middle;\n",
       "    }\n",
       "\n",
       "    .dataframe tbody tr th {\n",
       "        vertical-align: top;\n",
       "    }\n",
       "\n",
       "    .dataframe thead th {\n",
       "        text-align: right;\n",
       "    }\n",
       "</style>\n",
       "<table border=\"1\" class=\"dataframe\">\n",
       "  <thead>\n",
       "    <tr style=\"text-align: right;\">\n",
       "      <th></th>\n",
       "      <th>DateTime</th>\n",
       "      <th>Unnamed: 0</th>\n",
       "      <th>Longitude</th>\n",
       "      <th>Latitude</th>\n",
       "      <th>TempAir</th>\n",
       "      <th>PressAir</th>\n",
       "      <th>TempWtr</th>\n",
       "      <th>pCO2Air</th>\n",
       "      <th>pCH4Air</th>\n",
       "      <th>pCO2Wtr</th>\n",
       "      <th>...</th>\n",
       "      <th>Wdir</th>\n",
       "      <th>vx</th>\n",
       "      <th>vy</th>\n",
       "      <th>vesx</th>\n",
       "      <th>vesy</th>\n",
       "      <th>dateSec</th>\n",
       "      <th>dt</th>\n",
       "      <th>vesSpeed</th>\n",
       "      <th>winSpeed</th>\n",
       "      <th>WaterFlow1</th>\n",
       "    </tr>\n",
       "  </thead>\n",
       "  <tbody>\n",
       "    <tr>\n",
       "      <th>0</th>\n",
       "      <td>2013-05-28 22:00:00</td>\n",
       "      <td>0.0</td>\n",
       "      <td>104.649879</td>\n",
       "      <td>51.781395</td>\n",
       "      <td>NaN</td>\n",
       "      <td>NaN</td>\n",
       "      <td>3.000000</td>\n",
       "      <td>402.425575</td>\n",
       "      <td>NaN</td>\n",
       "      <td>464.0</td>\n",
       "      <td>...</td>\n",
       "      <td>NaN</td>\n",
       "      <td>NaN</td>\n",
       "      <td>NaN</td>\n",
       "      <td>NaN</td>\n",
       "      <td>NaN</td>\n",
       "      <td>1369778400</td>\n",
       "      <td>NaN</td>\n",
       "      <td>NaN</td>\n",
       "      <td>NaN</td>\n",
       "      <td>NaN</td>\n",
       "    </tr>\n",
       "    <tr>\n",
       "      <th>1</th>\n",
       "      <td>2013-05-28 22:01:00</td>\n",
       "      <td>1.0</td>\n",
       "      <td>104.649879</td>\n",
       "      <td>51.781395</td>\n",
       "      <td>NaN</td>\n",
       "      <td>NaN</td>\n",
       "      <td>3.000000</td>\n",
       "      <td>402.425706</td>\n",
       "      <td>NaN</td>\n",
       "      <td>NaN</td>\n",
       "      <td>...</td>\n",
       "      <td>NaN</td>\n",
       "      <td>NaN</td>\n",
       "      <td>NaN</td>\n",
       "      <td>0.000000</td>\n",
       "      <td>0.000000</td>\n",
       "      <td>1369778460</td>\n",
       "      <td>60.0</td>\n",
       "      <td>0.000000</td>\n",
       "      <td>NaN</td>\n",
       "      <td>NaN</td>\n",
       "    </tr>\n",
       "    <tr>\n",
       "      <th>2</th>\n",
       "      <td>2013-05-28 22:02:00</td>\n",
       "      <td>2.0</td>\n",
       "      <td>104.649879</td>\n",
       "      <td>51.781395</td>\n",
       "      <td>NaN</td>\n",
       "      <td>NaN</td>\n",
       "      <td>3.000000</td>\n",
       "      <td>402.425837</td>\n",
       "      <td>NaN</td>\n",
       "      <td>NaN</td>\n",
       "      <td>...</td>\n",
       "      <td>NaN</td>\n",
       "      <td>NaN</td>\n",
       "      <td>NaN</td>\n",
       "      <td>0.000000</td>\n",
       "      <td>0.000000</td>\n",
       "      <td>1369778520</td>\n",
       "      <td>60.0</td>\n",
       "      <td>0.000000</td>\n",
       "      <td>NaN</td>\n",
       "      <td>NaN</td>\n",
       "    </tr>\n",
       "    <tr>\n",
       "      <th>3</th>\n",
       "      <td>2013-05-28 22:03:00</td>\n",
       "      <td>3.0</td>\n",
       "      <td>104.649879</td>\n",
       "      <td>51.781395</td>\n",
       "      <td>NaN</td>\n",
       "      <td>NaN</td>\n",
       "      <td>3.000000</td>\n",
       "      <td>402.425968</td>\n",
       "      <td>NaN</td>\n",
       "      <td>NaN</td>\n",
       "      <td>...</td>\n",
       "      <td>NaN</td>\n",
       "      <td>NaN</td>\n",
       "      <td>NaN</td>\n",
       "      <td>0.000000</td>\n",
       "      <td>0.000000</td>\n",
       "      <td>1369778580</td>\n",
       "      <td>60.0</td>\n",
       "      <td>0.000000</td>\n",
       "      <td>NaN</td>\n",
       "      <td>NaN</td>\n",
       "    </tr>\n",
       "    <tr>\n",
       "      <th>4</th>\n",
       "      <td>2013-05-28 22:04:00</td>\n",
       "      <td>4.0</td>\n",
       "      <td>104.649879</td>\n",
       "      <td>51.781395</td>\n",
       "      <td>NaN</td>\n",
       "      <td>NaN</td>\n",
       "      <td>3.000000</td>\n",
       "      <td>402.426099</td>\n",
       "      <td>NaN</td>\n",
       "      <td>NaN</td>\n",
       "      <td>...</td>\n",
       "      <td>NaN</td>\n",
       "      <td>NaN</td>\n",
       "      <td>NaN</td>\n",
       "      <td>0.000000</td>\n",
       "      <td>0.000000</td>\n",
       "      <td>1369778640</td>\n",
       "      <td>60.0</td>\n",
       "      <td>0.000000</td>\n",
       "      <td>NaN</td>\n",
       "      <td>NaN</td>\n",
       "    </tr>\n",
       "    <tr>\n",
       "      <th>...</th>\n",
       "      <td>...</td>\n",
       "      <td>...</td>\n",
       "      <td>...</td>\n",
       "      <td>...</td>\n",
       "      <td>...</td>\n",
       "      <td>...</td>\n",
       "      <td>...</td>\n",
       "      <td>...</td>\n",
       "      <td>...</td>\n",
       "      <td>...</td>\n",
       "      <td>...</td>\n",
       "      <td>...</td>\n",
       "      <td>...</td>\n",
       "      <td>...</td>\n",
       "      <td>...</td>\n",
       "      <td>...</td>\n",
       "      <td>...</td>\n",
       "      <td>...</td>\n",
       "      <td>...</td>\n",
       "      <td>...</td>\n",
       "      <td>...</td>\n",
       "    </tr>\n",
       "    <tr>\n",
       "      <th>134016</th>\n",
       "      <td>2024-06-12 19:13:00</td>\n",
       "      <td>137074.0</td>\n",
       "      <td>105.052843</td>\n",
       "      <td>51.883392</td>\n",
       "      <td>18.580000</td>\n",
       "      <td>0.944953</td>\n",
       "      <td>8.186667</td>\n",
       "      <td>396.295438</td>\n",
       "      <td>1.896152</td>\n",
       "      <td>NaN</td>\n",
       "      <td>...</td>\n",
       "      <td>NaN</td>\n",
       "      <td>NaN</td>\n",
       "      <td>NaN</td>\n",
       "      <td>-201.413694</td>\n",
       "      <td>-166.913534</td>\n",
       "      <td>1718219580</td>\n",
       "      <td>60.0</td>\n",
       "      <td>4.359778</td>\n",
       "      <td>NaN</td>\n",
       "      <td>0.0</td>\n",
       "    </tr>\n",
       "    <tr>\n",
       "      <th>134017</th>\n",
       "      <td>2024-06-12 19:14:00</td>\n",
       "      <td>137075.0</td>\n",
       "      <td>105.049948</td>\n",
       "      <td>51.881922</td>\n",
       "      <td>18.813333</td>\n",
       "      <td>0.944955</td>\n",
       "      <td>8.280000</td>\n",
       "      <td>396.148017</td>\n",
       "      <td>1.896157</td>\n",
       "      <td>NaN</td>\n",
       "      <td>...</td>\n",
       "      <td>NaN</td>\n",
       "      <td>NaN</td>\n",
       "      <td>NaN</td>\n",
       "      <td>-198.742611</td>\n",
       "      <td>-163.502595</td>\n",
       "      <td>1718219640</td>\n",
       "      <td>60.0</td>\n",
       "      <td>4.289254</td>\n",
       "      <td>NaN</td>\n",
       "      <td>0.0</td>\n",
       "    </tr>\n",
       "    <tr>\n",
       "      <th>134018</th>\n",
       "      <td>2024-06-12 19:15:00</td>\n",
       "      <td>137076.0</td>\n",
       "      <td>105.047066</td>\n",
       "      <td>51.880385</td>\n",
       "      <td>18.346667</td>\n",
       "      <td>0.945151</td>\n",
       "      <td>8.360000</td>\n",
       "      <td>396.611509</td>\n",
       "      <td>1.896550</td>\n",
       "      <td>NaN</td>\n",
       "      <td>...</td>\n",
       "      <td>NaN</td>\n",
       "      <td>NaN</td>\n",
       "      <td>NaN</td>\n",
       "      <td>-197.902595</td>\n",
       "      <td>-171.028905</td>\n",
       "      <td>1718219700</td>\n",
       "      <td>60.0</td>\n",
       "      <td>4.359419</td>\n",
       "      <td>NaN</td>\n",
       "      <td>0.0</td>\n",
       "    </tr>\n",
       "    <tr>\n",
       "      <th>134019</th>\n",
       "      <td>2024-06-12 19:16:00</td>\n",
       "      <td>137077.0</td>\n",
       "      <td>105.044177</td>\n",
       "      <td>51.878924</td>\n",
       "      <td>18.060000</td>\n",
       "      <td>0.945170</td>\n",
       "      <td>8.430000</td>\n",
       "      <td>398.280181</td>\n",
       "      <td>1.896589</td>\n",
       "      <td>NaN</td>\n",
       "      <td>...</td>\n",
       "      <td>NaN</td>\n",
       "      <td>NaN</td>\n",
       "      <td>NaN</td>\n",
       "      <td>-198.343888</td>\n",
       "      <td>-162.427408</td>\n",
       "      <td>1718219760</td>\n",
       "      <td>60.0</td>\n",
       "      <td>4.272748</td>\n",
       "      <td>NaN</td>\n",
       "      <td>0.0</td>\n",
       "    </tr>\n",
       "    <tr>\n",
       "      <th>134020</th>\n",
       "      <td>2024-06-12 19:17:00</td>\n",
       "      <td>137078.0</td>\n",
       "      <td>105.041165</td>\n",
       "      <td>51.877515</td>\n",
       "      <td>18.086667</td>\n",
       "      <td>0.945110</td>\n",
       "      <td>8.496667</td>\n",
       "      <td>398.200430</td>\n",
       "      <td>1.896468</td>\n",
       "      <td>NaN</td>\n",
       "      <td>...</td>\n",
       "      <td>NaN</td>\n",
       "      <td>NaN</td>\n",
       "      <td>NaN</td>\n",
       "      <td>-206.818782</td>\n",
       "      <td>-156.791945</td>\n",
       "      <td>1718219820</td>\n",
       "      <td>60.0</td>\n",
       "      <td>4.325561</td>\n",
       "      <td>NaN</td>\n",
       "      <td>0.0</td>\n",
       "    </tr>\n",
       "  </tbody>\n",
       "</table>\n",
       "<p>134021 rows × 48 columns</p>\n",
       "</div>"
      ],
      "text/plain": [
       "                  DateTime  Unnamed: 0   Longitude   Latitude    TempAir  \\\n",
       "0      2013-05-28 22:00:00         0.0  104.649879  51.781395        NaN   \n",
       "1      2013-05-28 22:01:00         1.0  104.649879  51.781395        NaN   \n",
       "2      2013-05-28 22:02:00         2.0  104.649879  51.781395        NaN   \n",
       "3      2013-05-28 22:03:00         3.0  104.649879  51.781395        NaN   \n",
       "4      2013-05-28 22:04:00         4.0  104.649879  51.781395        NaN   \n",
       "...                    ...         ...         ...        ...        ...   \n",
       "134016 2024-06-12 19:13:00    137074.0  105.052843  51.883392  18.580000   \n",
       "134017 2024-06-12 19:14:00    137075.0  105.049948  51.881922  18.813333   \n",
       "134018 2024-06-12 19:15:00    137076.0  105.047066  51.880385  18.346667   \n",
       "134019 2024-06-12 19:16:00    137077.0  105.044177  51.878924  18.060000   \n",
       "134020 2024-06-12 19:17:00    137078.0  105.041165  51.877515  18.086667   \n",
       "\n",
       "        PressAir   TempWtr     pCO2Air   pCH4Air  pCO2Wtr  ...  Wdir  vx  vy  \\\n",
       "0            NaN  3.000000  402.425575       NaN    464.0  ...   NaN NaN NaN   \n",
       "1            NaN  3.000000  402.425706       NaN      NaN  ...   NaN NaN NaN   \n",
       "2            NaN  3.000000  402.425837       NaN      NaN  ...   NaN NaN NaN   \n",
       "3            NaN  3.000000  402.425968       NaN      NaN  ...   NaN NaN NaN   \n",
       "4            NaN  3.000000  402.426099       NaN      NaN  ...   NaN NaN NaN   \n",
       "...          ...       ...         ...       ...      ...  ...   ...  ..  ..   \n",
       "134016  0.944953  8.186667  396.295438  1.896152      NaN  ...   NaN NaN NaN   \n",
       "134017  0.944955  8.280000  396.148017  1.896157      NaN  ...   NaN NaN NaN   \n",
       "134018  0.945151  8.360000  396.611509  1.896550      NaN  ...   NaN NaN NaN   \n",
       "134019  0.945170  8.430000  398.280181  1.896589      NaN  ...   NaN NaN NaN   \n",
       "134020  0.945110  8.496667  398.200430  1.896468      NaN  ...   NaN NaN NaN   \n",
       "\n",
       "              vesx        vesy     dateSec    dt  vesSpeed  winSpeed  \\\n",
       "0              NaN         NaN  1369778400   NaN       NaN       NaN   \n",
       "1         0.000000    0.000000  1369778460  60.0  0.000000       NaN   \n",
       "2         0.000000    0.000000  1369778520  60.0  0.000000       NaN   \n",
       "3         0.000000    0.000000  1369778580  60.0  0.000000       NaN   \n",
       "4         0.000000    0.000000  1369778640  60.0  0.000000       NaN   \n",
       "...            ...         ...         ...   ...       ...       ...   \n",
       "134016 -201.413694 -166.913534  1718219580  60.0  4.359778       NaN   \n",
       "134017 -198.742611 -163.502595  1718219640  60.0  4.289254       NaN   \n",
       "134018 -197.902595 -171.028905  1718219700  60.0  4.359419       NaN   \n",
       "134019 -198.343888 -162.427408  1718219760  60.0  4.272748       NaN   \n",
       "134020 -206.818782 -156.791945  1718219820  60.0  4.325561       NaN   \n",
       "\n",
       "        WaterFlow1  \n",
       "0              NaN  \n",
       "1              NaN  \n",
       "2              NaN  \n",
       "3              NaN  \n",
       "4              NaN  \n",
       "...            ...  \n",
       "134016         0.0  \n",
       "134017         0.0  \n",
       "134018         0.0  \n",
       "134019         0.0  \n",
       "134020         0.0  \n",
       "\n",
       "[134021 rows x 48 columns]"
      ]
     },
     "execution_count": 49,
     "metadata": {},
     "output_type": "execute_result"
    }
   ],
   "source": [
    "df['year'] = df['DateTime'].dt.year\n",
    "df['dateSec'] = df['DateTime'].astype('int64')/10**9  ## seconds\n",
    "df['dateSec'] = df['dateSec'].astype('int64')\n",
    "df"
   ]
  },
  {
   "cell_type": "raw",
   "id": "3a7a2166-d51a-4b87-b223-197b7e6148c4",
   "metadata": {},
   "source": [
    "df = pd.read_csv(os.path.join(pwd+'BaikalJul2024Sea.dat'),\n",
    "                 sep='\\t',\n",
    "                 skiprows=[1],\n",
    "                 parse_dates=['DateTime'],\n",
    "                 dayfirst=False,\n",
    "                 na_values='',\n",
    "                 decimal='.',\n",
    "                )"
   ]
  },
  {
   "cell_type": "code",
   "execution_count": 51,
   "id": "53826e91-72da-40c3-90a1-6a45a38021ad",
   "metadata": {
    "tags": []
   },
   "outputs": [
    {
     "data": {
      "text/plain": [
       "((134021, 48),\n",
       " Index(['DateTime', 'Unnamed: 0', 'Longitude', 'Latitude', 'TempAir',\n",
       "        'PressAir', 'TempWtr', 'pCO2Air', 'pCH4Air', 'pCO2Wtr', 'pCH4Wtr',\n",
       "        'dpCO2', 'dpCH4', 'cCO2Wtr', 'cCH4Wtr', 'Speed', 'Course',\n",
       "        'Precipitation', 'LightLX', 'LightUV', 'TempEqu1', 'TempEqu2',\n",
       "        'TempEqu3', 'vCO2', 'vCH4', 'CH4_dry', 'CO2_dry', 'vCO2Air', 'vCH4Air',\n",
       "        'pCO2', 'pCH4', 'depth', 'year', 'batiy', 'batix', 'long', 'lat', 'Wh',\n",
       "        'Wdir', 'vx', 'vy', 'vesx', 'vesy', 'dateSec', 'dt', 'vesSpeed',\n",
       "        'winSpeed', 'WaterFlow1'],\n",
       "       dtype='object'))"
      ]
     },
     "execution_count": 51,
     "metadata": {},
     "output_type": "execute_result"
    }
   ],
   "source": [
    "df.shape, df.columns"
   ]
  },
  {
   "cell_type": "code",
   "execution_count": null,
   "id": "f56b18de-ae74-4ad4-abfc-70dc4680c78b",
   "metadata": {},
   "outputs": [],
   "source": [
    "## Work with few coloumns\n",
    "cols_stay = ['DateTime', 'Longitude', 'Latitude', 'pCO2Air', 'pCH4Air', 'pCO2Wtr', 'pCH4Wtr', 'cCO2Wtr', 'cCH4Wtr', 'TempWtr']\n",
    "df.drop(columns=[x for x in df.columns if x not in cols_stay], inplace=True)"
   ]
  },
  {
   "cell_type": "code",
   "execution_count": 53,
   "id": "21a750b3-d585-4001-a975-a03a3d0bfb41",
   "metadata": {},
   "outputs": [],
   "source": [
    "param = 'cCO2Wtr'\n",
    "param = 'TempWtr'\n",
    "#param = 'WaterFlow1'"
   ]
  },
  {
   "cell_type": "code",
   "execution_count": 54,
   "id": "e577e998-f9a9-49ad-a3ec-c3c19dfe989d",
   "metadata": {
    "tags": []
   },
   "outputs": [
    {
     "name": "stdout",
     "output_type": "stream",
     "text": [
      "2013: 11449\n",
      "2014: 0\n",
      "2015: 0\n",
      "2016: 10726\n",
      "2017: 15170\n",
      "2018: 16201\n",
      "2019: 0\n",
      "2020: 0\n",
      "2021: 16880\n",
      "2022: 17702\n",
      "2023: 21391\n",
      "2024: 22140\n",
      "2025: 0\n"
     ]
    }
   ],
   "source": [
    "for yr in range(2013, 2026):\n",
    "    t = df.loc[(df['year'] == yr), param].dropna().shape\n",
    "    print(f'{yr}: {t[0]}')"
   ]
  },
  {
   "cell_type": "raw",
   "id": "d8c189c8-1ed9-4da8-9028-e8b01f786bb0",
   "metadata": {},
   "source": [
    "df.loc[:,param].to_clipboard()"
   ]
  },
  {
   "cell_type": "code",
   "execution_count": 55,
   "id": "4bc51e48-37cf-4379-b493-70044b1aab9f",
   "metadata": {},
   "outputs": [],
   "source": [
    "year = 2024\n",
    "# df.loc[df['year']==year,param] = df.loc[df['year']==year,param]/101325"
   ]
  },
  {
   "cell_type": "code",
   "execution_count": 56,
   "id": "d1e067e9-63ed-4d44-9f67-2ab563e9e93e",
   "metadata": {},
   "outputs": [
    {
     "data": {
      "text/plain": [
       "<matplotlib.collections.PathCollection at 0x1f8aaabc110>"
      ]
     },
     "execution_count": 56,
     "metadata": {},
     "output_type": "execute_result"
    },
    {
     "data": {
      "image/png": "[encoded data removed]",
      "text/plain": [
       "<Figure size 1500x500 with 1 Axes>"
      ]
     },
     "metadata": {},
     "output_type": "display_data"
    }
   ],
   "source": [
    "plt.rcParams['figure.figsize'] = [15, 5]\n",
    "plt.scatter('DateTime', param, data=df)"
   ]
  },
  {
   "cell_type": "code",
   "execution_count": 57,
   "id": "b3675f39-1bff-49db-8177-9203f675fca9",
   "metadata": {},
   "outputs": [
    {
     "data": {
      "text/html": [
       "<div>\n",
       "<style scoped>\n",
       "    .dataframe tbody tr th:only-of-type {\n",
       "        vertical-align: middle;\n",
       "    }\n",
       "\n",
       "    .dataframe tbody tr th {\n",
       "        vertical-align: top;\n",
       "    }\n",
       "\n",
       "    .dataframe thead th {\n",
       "        text-align: right;\n",
       "    }\n",
       "</style>\n",
       "<table border=\"1\" class=\"dataframe\">\n",
       "  <thead>\n",
       "    <tr style=\"text-align: right;\">\n",
       "      <th></th>\n",
       "      <th>DateTime</th>\n",
       "      <th>Unnamed: 0</th>\n",
       "      <th>Longitude</th>\n",
       "      <th>Latitude</th>\n",
       "      <th>TempAir</th>\n",
       "      <th>PressAir</th>\n",
       "      <th>TempWtr</th>\n",
       "      <th>pCO2Air</th>\n",
       "      <th>pCH4Air</th>\n",
       "      <th>pCO2Wtr</th>\n",
       "      <th>...</th>\n",
       "      <th>Wdir</th>\n",
       "      <th>vx</th>\n",
       "      <th>vy</th>\n",
       "      <th>vesx</th>\n",
       "      <th>vesy</th>\n",
       "      <th>dateSec</th>\n",
       "      <th>dt</th>\n",
       "      <th>vesSpeed</th>\n",
       "      <th>winSpeed</th>\n",
       "      <th>WaterFlow1</th>\n",
       "    </tr>\n",
       "  </thead>\n",
       "  <tbody>\n",
       "    <tr>\n",
       "      <th>112719</th>\n",
       "      <td>2024-05-27 10:26:00</td>\n",
       "      <td>115775.0</td>\n",
       "      <td>105.063845</td>\n",
       "      <td>51.899614</td>\n",
       "      <td>16.836667</td>\n",
       "      <td>0.945564</td>\n",
       "      <td>25.070000</td>\n",
       "      <td>NaN</td>\n",
       "      <td>1.919055</td>\n",
       "      <td>NaN</td>\n",
       "      <td>...</td>\n",
       "      <td>NaN</td>\n",
       "      <td>NaN</td>\n",
       "      <td>NaN</td>\n",
       "      <td>0.388910</td>\n",
       "      <td>0.222453</td>\n",
       "      <td>1716805560</td>\n",
       "      <td>60.0</td>\n",
       "      <td>0.007467</td>\n",
       "      <td>NaN</td>\n",
       "      <td>0.0</td>\n",
       "    </tr>\n",
       "    <tr>\n",
       "      <th>112728</th>\n",
       "      <td>2024-05-27 10:35:00</td>\n",
       "      <td>115784.0</td>\n",
       "      <td>105.063830</td>\n",
       "      <td>51.899619</td>\n",
       "      <td>17.943333</td>\n",
       "      <td>0.945445</td>\n",
       "      <td>25.073333</td>\n",
       "      <td>NaN</td>\n",
       "      <td>1.918997</td>\n",
       "      <td>NaN</td>\n",
       "      <td>...</td>\n",
       "      <td>NaN</td>\n",
       "      <td>NaN</td>\n",
       "      <td>NaN</td>\n",
       "      <td>-1.258238</td>\n",
       "      <td>-0.593207</td>\n",
       "      <td>1716806100</td>\n",
       "      <td>60.0</td>\n",
       "      <td>0.023184</td>\n",
       "      <td>NaN</td>\n",
       "      <td>0.0</td>\n",
       "    </tr>\n",
       "    <tr>\n",
       "      <th>112720</th>\n",
       "      <td>2024-05-27 10:27:00</td>\n",
       "      <td>115776.0</td>\n",
       "      <td>105.063867</td>\n",
       "      <td>51.899617</td>\n",
       "      <td>17.123333</td>\n",
       "      <td>0.945491</td>\n",
       "      <td>25.133333</td>\n",
       "      <td>NaN</td>\n",
       "      <td>1.918926</td>\n",
       "      <td>NaN</td>\n",
       "      <td>...</td>\n",
       "      <td>NaN</td>\n",
       "      <td>NaN</td>\n",
       "      <td>NaN</td>\n",
       "      <td>1.487009</td>\n",
       "      <td>0.370754</td>\n",
       "      <td>1716805620</td>\n",
       "      <td>60.0</td>\n",
       "      <td>0.025542</td>\n",
       "      <td>NaN</td>\n",
       "      <td>0.0</td>\n",
       "    </tr>\n",
       "    <tr>\n",
       "      <th>112727</th>\n",
       "      <td>2024-05-27 10:34:00</td>\n",
       "      <td>115783.0</td>\n",
       "      <td>105.063849</td>\n",
       "      <td>51.899625</td>\n",
       "      <td>17.496667</td>\n",
       "      <td>0.945451</td>\n",
       "      <td>25.140000</td>\n",
       "      <td>NaN</td>\n",
       "      <td>1.918990</td>\n",
       "      <td>NaN</td>\n",
       "      <td>...</td>\n",
       "      <td>NaN</td>\n",
       "      <td>NaN</td>\n",
       "      <td>NaN</td>\n",
       "      <td>0.183016</td>\n",
       "      <td>-0.556131</td>\n",
       "      <td>1716806040</td>\n",
       "      <td>60.0</td>\n",
       "      <td>0.009758</td>\n",
       "      <td>NaN</td>\n",
       "      <td>0.0</td>\n",
       "    </tr>\n",
       "    <tr>\n",
       "      <th>112721</th>\n",
       "      <td>2024-05-27 10:28:00</td>\n",
       "      <td>115777.0</td>\n",
       "      <td>105.063830</td>\n",
       "      <td>51.899606</td>\n",
       "      <td>17.133333</td>\n",
       "      <td>0.945475</td>\n",
       "      <td>25.160000</td>\n",
       "      <td>NaN</td>\n",
       "      <td>1.918916</td>\n",
       "      <td>NaN</td>\n",
       "      <td>...</td>\n",
       "      <td>NaN</td>\n",
       "      <td>NaN</td>\n",
       "      <td>NaN</td>\n",
       "      <td>-2.562231</td>\n",
       "      <td>-1.223489</td>\n",
       "      <td>1716805680</td>\n",
       "      <td>60.0</td>\n",
       "      <td>0.047323</td>\n",
       "      <td>NaN</td>\n",
       "      <td>0.0</td>\n",
       "    </tr>\n",
       "    <tr>\n",
       "      <th>112726</th>\n",
       "      <td>2024-05-27 10:33:00</td>\n",
       "      <td>115782.0</td>\n",
       "      <td>105.063846</td>\n",
       "      <td>51.899630</td>\n",
       "      <td>17.340000</td>\n",
       "      <td>0.945439</td>\n",
       "      <td>25.180000</td>\n",
       "      <td>NaN</td>\n",
       "      <td>1.918945</td>\n",
       "      <td>NaN</td>\n",
       "      <td>...</td>\n",
       "      <td>NaN</td>\n",
       "      <td>NaN</td>\n",
       "      <td>NaN</td>\n",
       "      <td>0.800697</td>\n",
       "      <td>2.558204</td>\n",
       "      <td>1716805980</td>\n",
       "      <td>60.0</td>\n",
       "      <td>0.044676</td>\n",
       "      <td>NaN</td>\n",
       "      <td>0.0</td>\n",
       "    </tr>\n",
       "    <tr>\n",
       "      <th>112725</th>\n",
       "      <td>2024-05-27 10:32:00</td>\n",
       "      <td>115781.0</td>\n",
       "      <td>105.063834</td>\n",
       "      <td>51.899607</td>\n",
       "      <td>17.270000</td>\n",
       "      <td>0.945447</td>\n",
       "      <td>25.200000</td>\n",
       "      <td>NaN</td>\n",
       "      <td>1.918940</td>\n",
       "      <td>NaN</td>\n",
       "      <td>...</td>\n",
       "      <td>NaN</td>\n",
       "      <td>NaN</td>\n",
       "      <td>NaN</td>\n",
       "      <td>-0.388910</td>\n",
       "      <td>-1.149338</td>\n",
       "      <td>1716805920</td>\n",
       "      <td>60.0</td>\n",
       "      <td>0.020223</td>\n",
       "      <td>NaN</td>\n",
       "      <td>0.0</td>\n",
       "    </tr>\n",
       "    <tr>\n",
       "      <th>112722</th>\n",
       "      <td>2024-05-27 10:29:00</td>\n",
       "      <td>115778.0</td>\n",
       "      <td>105.063823</td>\n",
       "      <td>51.899622</td>\n",
       "      <td>17.183333</td>\n",
       "      <td>0.945458</td>\n",
       "      <td>25.200000</td>\n",
       "      <td>NaN</td>\n",
       "      <td>1.918902</td>\n",
       "      <td>NaN</td>\n",
       "      <td>...</td>\n",
       "      <td>NaN</td>\n",
       "      <td>NaN</td>\n",
       "      <td>NaN</td>\n",
       "      <td>-0.434664</td>\n",
       "      <td>1.816696</td>\n",
       "      <td>1716805740</td>\n",
       "      <td>60.0</td>\n",
       "      <td>0.031133</td>\n",
       "      <td>NaN</td>\n",
       "      <td>0.0</td>\n",
       "    </tr>\n",
       "    <tr>\n",
       "      <th>112724</th>\n",
       "      <td>2024-05-27 10:31:00</td>\n",
       "      <td>115780.0</td>\n",
       "      <td>105.063840</td>\n",
       "      <td>51.899617</td>\n",
       "      <td>16.733333</td>\n",
       "      <td>0.945490</td>\n",
       "      <td>25.200000</td>\n",
       "      <td>NaN</td>\n",
       "      <td>1.919006</td>\n",
       "      <td>NaN</td>\n",
       "      <td>...</td>\n",
       "      <td>NaN</td>\n",
       "      <td>NaN</td>\n",
       "      <td>NaN</td>\n",
       "      <td>-0.068631</td>\n",
       "      <td>1.038112</td>\n",
       "      <td>1716805860</td>\n",
       "      <td>60.0</td>\n",
       "      <td>0.017340</td>\n",
       "      <td>NaN</td>\n",
       "      <td>0.0</td>\n",
       "    </tr>\n",
       "    <tr>\n",
       "      <th>112723</th>\n",
       "      <td>2024-05-27 10:30:00</td>\n",
       "      <td>115779.0</td>\n",
       "      <td>105.063841</td>\n",
       "      <td>51.899608</td>\n",
       "      <td>16.910000</td>\n",
       "      <td>0.945460</td>\n",
       "      <td>25.200000</td>\n",
       "      <td>NaN</td>\n",
       "      <td>1.918925</td>\n",
       "      <td>NaN</td>\n",
       "      <td>...</td>\n",
       "      <td>NaN</td>\n",
       "      <td>NaN</td>\n",
       "      <td>NaN</td>\n",
       "      <td>1.212484</td>\n",
       "      <td>-1.631318</td>\n",
       "      <td>1716805800</td>\n",
       "      <td>60.0</td>\n",
       "      <td>0.033876</td>\n",
       "      <td>NaN</td>\n",
       "      <td>0.0</td>\n",
       "    </tr>\n",
       "  </tbody>\n",
       "</table>\n",
       "<p>10 rows × 48 columns</p>\n",
       "</div>"
      ],
      "text/plain": [
       "                  DateTime  Unnamed: 0   Longitude   Latitude    TempAir  \\\n",
       "112719 2024-05-27 10:26:00    115775.0  105.063845  51.899614  16.836667   \n",
       "112728 2024-05-27 10:35:00    115784.0  105.063830  51.899619  17.943333   \n",
       "112720 2024-05-27 10:27:00    115776.0  105.063867  51.899617  17.123333   \n",
       "112727 2024-05-27 10:34:00    115783.0  105.063849  51.899625  17.496667   \n",
       "112721 2024-05-27 10:28:00    115777.0  105.063830  51.899606  17.133333   \n",
       "112726 2024-05-27 10:33:00    115782.0  105.063846  51.899630  17.340000   \n",
       "112725 2024-05-27 10:32:00    115781.0  105.063834  51.899607  17.270000   \n",
       "112722 2024-05-27 10:29:00    115778.0  105.063823  51.899622  17.183333   \n",
       "112724 2024-05-27 10:31:00    115780.0  105.063840  51.899617  16.733333   \n",
       "112723 2024-05-27 10:30:00    115779.0  105.063841  51.899608  16.910000   \n",
       "\n",
       "        PressAir    TempWtr  pCO2Air   pCH4Air  pCO2Wtr  ...  Wdir  vx  vy  \\\n",
       "112719  0.945564  25.070000      NaN  1.919055      NaN  ...   NaN NaN NaN   \n",
       "112728  0.945445  25.073333      NaN  1.918997      NaN  ...   NaN NaN NaN   \n",
       "112720  0.945491  25.133333      NaN  1.918926      NaN  ...   NaN NaN NaN   \n",
       "112727  0.945451  25.140000      NaN  1.918990      NaN  ...   NaN NaN NaN   \n",
       "112721  0.945475  25.160000      NaN  1.918916      NaN  ...   NaN NaN NaN   \n",
       "112726  0.945439  25.180000      NaN  1.918945      NaN  ...   NaN NaN NaN   \n",
       "112725  0.945447  25.200000      NaN  1.918940      NaN  ...   NaN NaN NaN   \n",
       "112722  0.945458  25.200000      NaN  1.918902      NaN  ...   NaN NaN NaN   \n",
       "112724  0.945490  25.200000      NaN  1.919006      NaN  ...   NaN NaN NaN   \n",
       "112723  0.945460  25.200000      NaN  1.918925      NaN  ...   NaN NaN NaN   \n",
       "\n",
       "            vesx      vesy     dateSec    dt  vesSpeed  winSpeed  WaterFlow1  \n",
       "112719  0.388910  0.222453  1716805560  60.0  0.007467       NaN         0.0  \n",
       "112728 -1.258238 -0.593207  1716806100  60.0  0.023184       NaN         0.0  \n",
       "112720  1.487009  0.370754  1716805620  60.0  0.025542       NaN         0.0  \n",
       "112727  0.183016 -0.556131  1716806040  60.0  0.009758       NaN         0.0  \n",
       "112721 -2.562231 -1.223489  1716805680  60.0  0.047323       NaN         0.0  \n",
       "112726  0.800697  2.558204  1716805980  60.0  0.044676       NaN         0.0  \n",
       "112725 -0.388910 -1.149338  1716805920  60.0  0.020223       NaN         0.0  \n",
       "112722 -0.434664  1.816696  1716805740  60.0  0.031133       NaN         0.0  \n",
       "112724 -0.068631  1.038112  1716805860  60.0  0.017340       NaN         0.0  \n",
       "112723  1.212484 -1.631318  1716805800  60.0  0.033876       NaN         0.0  \n",
       "\n",
       "[10 rows x 48 columns]"
      ]
     },
     "execution_count": 57,
     "metadata": {},
     "output_type": "execute_result"
    }
   ],
   "source": [
    "df.dropna(subset=param).sort_values(by=param).tail(10)"
   ]
  },
  {
   "cell_type": "code",
   "execution_count": null,
   "id": "4128c464-6a93-4790-87af-e78360998144",
   "metadata": {},
   "outputs": [],
   "source": [
    "## wrong data while starting measurements\n",
    "filter_list = [{'date_start': '2024-05-20 00:00', 'date_stop': '2024-05-30 04:48', 'cols': ['pCO2Air', 'pCH4Air'], 'fill_with': np.NaN},   # Wrong data\n",
    "               {'date_start': '2021-06-02 18:50', 'date_stop': '2021-06-02 18:54', 'cols': ['pCO2Wtr', 'dpCO2'], 'fill_with': np.NaN},   # Wrong data\n",
    "               {'date_start': '2021-06-02 20:56', 'date_stop': '2021-06-02 20:57', 'cols': ['pCO2Wtr', 'dpCO2'], 'fill_with': np.NaN},   # Wrong data\n",
    "               {'date_start': '2021-06-12 07:41', 'date_stop': '2021-06-12 07:41', 'cols': ['pCO2Wtr', 'dpCO2'], 'fill_with': np.NaN},   # Wrong data\n",
    "               {'date_start': '2024-06-03 03:33', 'date_stop': '2024-06-03 03:33', 'cols': ['pCO2Wtr', 'dpCO2'], 'fill_with': np.NaN},   # Wrong data\n",
    "              ]\n",
    "\n",
    "for cycle in filter_list:\n",
    "    for col in cycle['cols']:\n",
    "        date_start = pd.to_datetime(cycle['date_start'])\n",
    "        date_stop = pd.to_datetime(cycle['date_stop'])\n",
    "        df.loc[(df['DateTime'] >= date_start) & (df['DateTime'] <= date_stop), col] = cycle['fill_with']\n",
    "\n",
    "df.loc[(df['year'] == 2018) & (df['dpCO2'] >= 600), ['dpCO2', 'cCO2Wtr', 'pCO2Wtr']] = np.NaN\n",
    "df.loc[(df['year'] == 2021) & (df['dpCO2'] <= -350), ['dpCO2', 'cCO2Wtr', 'pCO2Wtr']] = np.NaN\n",
    "df.loc[(df['year'] == 2023) & (df['dpCO2'] >= 600), ['dpCO2', 'cCO2Wtr', 'pCO2Wtr']] = np.NaN\n",
    "df.loc[(df['year'] == 2024) & (df['dpCO2'] >= 600), ['dpCO2', 'cCO2Wtr', 'pCO2Wtr']] = np.NaN\n",
    "df.loc[df['cCO2Wtr'] >= 3.25, ['dpCO2', 'cCO2Wtr', 'pCO2Wtr']] = np.NaN\n"
   ]
  },
  {
   "cell_type": "code",
   "execution_count": null,
   "id": "f8b6d3b0-e915-4305-8a2f-f6009f45a331",
   "metadata": {},
   "outputs": [],
   "source": [
    "plt.rcParams['figure.figsize'] = [10,5]\n",
    "#plt.ylim(-450, -250)\n",
    "plt.scatter('DateTime', 'cCO2Wtr', s=1, data=df.loc[df['year']==2024, :], c='red')\n",
    "plt.scatter('DateTime', 'cCO2Wtr', s=1, data=df)\n",
    "\n",
    "#plt.scatter('DateTime', 'vCO2Air', s=1, data=df.loc[(df['DateTime'] > pd.to_datetime('30.05.2024 00:00', dayfirst=True)) & (df['DateTime'] < pd.to_datetime('30.05.2024 07:00', dayfirst=True)), :])"
   ]
  },
  {
   "cell_type": "code",
   "execution_count": null,
   "id": "7b31525b-0ecc-424f-ba17-386ebc9bc07b",
   "metadata": {},
   "outputs": [],
   "source": [
    "central_stations = {}\n",
    "for key, coor in scheme.central.items():\n",
    "    central_stations[key] = scheme.get_center(coor)\n",
    "central_stations"
   ]
  },
  {
   "cell_type": "code",
   "execution_count": null,
   "id": "15f01a0b-a8ed-42aa-98d7-1b872dec68eb",
   "metadata": {},
   "outputs": [],
   "source": [
    "dfc = pd.DataFrame.from_dict(central_stations, orient='index')\n",
    "dfc.columns = ['Latitude', 'Longitude']\n",
    "dfp = pd.DataFrame.from_dict(scheme.points, orient='index')\n",
    "dfp.columns = ['Latitude', 'Longitude']\n",
    "dfp.reset_index(drop=False, inplace=True, names='place')"
   ]
  },
  {
   "cell_type": "code",
   "execution_count": null,
   "id": "33ba6c7b-2841-467f-a8cd-53c687238bc2",
   "metadata": {},
   "outputs": [],
   "source": [
    "plt.rcParams['figure.figsize'] = [30, 30]\n",
    "plt.scatter('Longitude', 'Latitude', data=df.loc[df['year'] == 2013,:], s=2, alpha=0.1)\n",
    "#plt.scatter('Longitude', 'Latitude', data=dfj, s=2, c='green', alpha=0.1)\n",
    "plt.scatter('Longitude', 'Latitude', data=dfc, s=20, c='red', alpha=1)\n",
    "plt.scatter('Longitude', 'Latitude', data=dfp, s=10, c='darkred', alpha=1)\n",
    "plt.plot('long', 'lat', 'b-', data=obris, alpha=1)\n",
    "#plt.xlim(106.8, 107)\n",
    "#plt.ylim(52.6, 52.8)\n",
    "#plt.xlim(104, 105)\n",
    "#plt.ylim(51.4, 52)\n",
    "for name, coor in central_stations.items():\n",
    "    plt.annotate(name, (coor[1]+0.001, coor[0]+0.002))\n",
    "for name, coor in scheme.points.items():\n",
    "    plt.annotate(name, (coor[1]+0.001, coor[0]+0.002))\n",
    "plt.savefig('track_2_3.png')"
   ]
  },
  {
   "cell_type": "code",
   "execution_count": null,
   "id": "76d55d47-507d-4bae-9915-c4a7616ff8b3",
   "metadata": {},
   "outputs": [],
   "source": [
    "df['Station'] = ''\n",
    "DLAT = 0.01\n",
    "DLNG = 0.02\n",
    "\n",
    "for k, v in central_stations.items():\n",
    "    df.loc[(df['Latitude'].between(v[0]-DLAT, v[0]+DLAT) & df['Longitude'].between(v[1]-DLNG, v[1]+DLNG)), 'Station'] = k"
   ]
  },
  {
   "cell_type": "code",
   "execution_count": null,
   "id": "0f72a4e8-6a39-419c-86d9-b54e61525c3a",
   "metadata": {},
   "outputs": [],
   "source": [
    "dfg = df.groupby(by=['year', 'Station'])['cCO2Wtr'].agg(['count', 'mean', 'median', 'std'])\n",
    "dfg"
   ]
  },
  {
   "cell_type": "code",
   "execution_count": null,
   "id": "74a2e826-d8aa-4b71-96bd-81f2bb15db0a",
   "metadata": {},
   "outputs": [],
   "source": [
    "dfg.to_csv('CO2CentralStationAllSpring.dat', sep='\\t')"
   ]
  },
  {
   "cell_type": "code",
   "execution_count": null,
   "id": "8f329846-c0f0-460c-a1e9-a07f485521d7",
   "metadata": {},
   "outputs": [],
   "source": [
    "meteo = pd.read_csv(os.path.join(pwd, 'meteo.txt'),\n",
    "                    sep='\\t',\n",
    "                    decimal='.',\n",
    "                    parse_dates=['DateTime'],\n",
    "                    dayfirst=False,\n",
    "                   )\n",
    "\n",
    "colsneeded = ['DateTime', 'vx', 'vy', 'Wh', 'Wdir']\n",
    "meteo.drop(columns=[col for col in meteo.columns if col not in colsneeded], axis='columns', inplace=True)\n",
    "# meteo = meteo.loc[meteo['DateTime'] < pd.to_datetime('2024-07-01'), :]\n",
    "meteo"
   ]
  },
  {
   "cell_type": "code",
   "execution_count": null,
   "id": "51471e69-5427-42b7-902a-42be7d2cfadd",
   "metadata": {},
   "outputs": [],
   "source": [
    "## some wrong data while severe wind unsyncronized the UltraSonic threshold \n",
    "meteo.loc[meteo['vy'] > 20, 'vy'] = np.nan"
   ]
  },
  {
   "cell_type": "code",
   "execution_count": null,
   "id": "295a5803-d064-4334-a67a-97fd2d4dc6a0",
   "metadata": {},
   "outputs": [],
   "source": [
    "plt.rcParams['figure.figsize'] = [12,5]\n",
    "plt.scatter('DateTime', 'vx', data=meteo, alpha=0.4, s=1, c='red')\n",
    "plt.scatter('DateTime', 'vy', data=meteo, alpha=0.4, s=1, c='blue')\n",
    "plt.xlim(pd.to_datetime('2021-06-06 12:00'), pd.to_datetime('2021-06-07'))"
   ]
  },
  {
   "cell_type": "code",
   "execution_count": null,
   "id": "62222c26-f773-4cc3-9462-8819d5db5c74",
   "metadata": {},
   "outputs": [],
   "source": [
    "meteo = meteo.resample('1min', on='DateTime').mean()\n",
    "meteo.reset_index(drop=False, inplace=True)\n",
    "meteo"
   ]
  },
  {
   "cell_type": "code",
   "execution_count": null,
   "id": "71f50f32-f3ce-4194-b4e7-207dec447842",
   "metadata": {},
   "outputs": [],
   "source": [
    "meteo.dropna(axis='index', subset=['vx', 'vy'], inplace=True)"
   ]
  },
  {
   "cell_type": "code",
   "execution_count": null,
   "id": "5ff509ba-ec25-4ee4-8a20-47313c562dfe",
   "metadata": {},
   "outputs": [],
   "source": [
    "meteo"
   ]
  },
  {
   "cell_type": "code",
   "execution_count": null,
   "id": "76e22663-4fa5-4396-bac8-76fd3bee919b",
   "metadata": {},
   "outputs": [],
   "source": [
    "df = pd.merge(left=df, right=meteo, left_on='DateTime', right_on='DateTime', how='outer').sort_values(by='DateTime')"
   ]
  },
  {
   "cell_type": "code",
   "execution_count": null,
   "id": "8308dc56-bd91-4c9e-966d-9fa5f6ae0dad",
   "metadata": {},
   "outputs": [],
   "source": [
    "df"
   ]
  },
  {
   "cell_type": "code",
   "execution_count": null,
   "id": "9b79a2c0-9a96-467b-9074-fe5987c232dc",
   "metadata": {},
   "outputs": [],
   "source": [
    "## vesx: RV x offset along longitude, vesy: RV y offset along latitude (meters)\n",
    "df['vesx'] = dist((df['Longitude'], df['Latitude']), (df['Longitude'].shift(1), df['Latitude'])) * np.sign(df['Longitude']-df['Longitude'].shift(1)) * 1000  ## meters per sec\n",
    "df['vesy'] = dist((df['Longitude'], df['Latitude']), (df['Longitude'], df['Latitude'].shift(1))) * np.sign(df['Latitude']-df['Latitude'].shift(1)) * 1000\n",
    "df['dateSec'] = df['DateTime'].astype('int64')/10**9  ## seconds\n",
    "df['dt'] = (df['dateSec'] - df['dateSec'].shift(1))\n",
    "df['vesSpeed'] = np.sqrt(np.power(df['vesx'], 2) + np.power(df['vesy'], 2)) / df['dt']"
   ]
  },
  {
   "cell_type": "code",
   "execution_count": null,
   "id": "50192bc8-b0d9-4add-b8e7-360766cec2fe",
   "metadata": {},
   "outputs": [],
   "source": [
    "df['winSpeed'] = np.sqrt(np.power(df['vx'],2) + np.power((df['vy'] - df['vesy']/df['dt']),2))"
   ]
  },
  {
   "cell_type": "code",
   "execution_count": null,
   "id": "8a7825e2-14f5-4d3f-ae84-f33f6cac67d9",
   "metadata": {},
   "outputs": [],
   "source": [
    "df.loc[(df['DateTime'] > pd.to_datetime('2023-06-01 01:10')) & (df['DateTime'] < pd.to_datetime('2023-06-01 01:30')), ['DateTime', 'Longitude', 'vesx', 'Latitude', 'vesy', 'Speed', 'vesSpeed', 'vx', 'vy', 'winSpeed', 'Wh']]"
   ]
  },
  {
   "cell_type": "code",
   "execution_count": null,
   "id": "538ad720-e56e-4c98-bf6f-7b642465a801",
   "metadata": {
    "editable": true,
    "slideshow": {
     "slide_type": ""
    },
    "tags": []
   },
   "outputs": [],
   "source": [
    "plt.rcParams['figure.figsize'] = [25, 10]\n",
    "#plt.scatter('DateTime', 'vesSpeed', data=df.loc[df['year']==2023,:], s=1, alpha=0.5)\n",
    "plt.scatter('DateTime', 'Speed', data=df.loc[df['year']==2023,:], s=1, alpha=0.5, c='red')\n",
    "plt.scatter('DateTime', 'winSpeed', data=df.loc[df['year']==2023,:], s=6, alpha=0.5, c='green')\n",
    "plt.scatter('DateTime', 'Wh', data=df.loc[df['year']==2023,:], s=3, alpha=0.2, c='blue')\n",
    "plt.plot('DateTime', 'winSpeed', data=df.loc[df['year']==2023,:], c='green')\n",
    "plt.legend()\n",
    "plt.ylim(0, 10)\n",
    "#plt.xlim(pd.to_datetime('2023-06-01 00:00'), pd.to_datetime('2023-06-02 15:00'))"
   ]
  },
  {
   "cell_type": "code",
   "execution_count": null,
   "id": "494bda26-0676-46cf-973b-d5e9df759a9f",
   "metadata": {
    "tags": []
   },
   "outputs": [],
   "source": [
    "batlegend = pd.read_csv(batimetrFile,\n",
    "                         nrows=6,\n",
    "                         decimal='.',\n",
    "                         sep=r'\\s+',\n",
    "                         index_col=0,\n",
    "                         header=None,\n",
    "                        )\n",
    "batlegend = batlegend.T\n",
    "na_val = batlegend['nodata_value']"
   ]
  },
  {
   "cell_type": "code",
   "execution_count": null,
   "id": "c276fdd5-6914-46b7-90ba-49a9844bf1ad",
   "metadata": {
    "tags": []
   },
   "outputs": [],
   "source": [
    "batimetria = pd.read_csv(batimetrFile,\n",
    "                         skiprows=6,\n",
    "                         decimal='.',\n",
    "                         sep=r'\\s+',\n",
    "                         na_values=na_val,\n",
    "                         index_col=False,\n",
    "                         header=None,\n",
    "                        )\n",
    "\n",
    "# batimetria.dtypes\\\n",
    "xllcorner = batlegend.loc[1, 'xllcorner']\n",
    "yllcorner = batlegend.loc[1, 'yllcorner']\n",
    "cellsize = batlegend.loc[1, 'cellsize']"
   ]
  },
  {
   "cell_type": "code",
   "execution_count": null,
   "id": "79df8a0f-c840-43dd-bd3e-7f007a3156e4",
   "metadata": {},
   "outputs": [],
   "source": [
    "yllcorner"
   ]
  },
  {
   "cell_type": "code",
   "execution_count": null,
   "id": "1fc01b09-b3c4-44a4-9ee4-d4f485913ec1",
   "metadata": {
    "tags": []
   },
   "outputs": [],
   "source": [
    "batimetria"
   ]
  },
  {
   "cell_type": "code",
   "execution_count": null,
   "id": "15b740cd-b744-4ad6-b003-69ae73b78787",
   "metadata": {
    "tags": []
   },
   "outputs": [],
   "source": [
    "## plt.rcParams['figure.figsize'] = [4, 4]\n",
    "plt.imshow(batimetria)"
   ]
  },
  {
   "cell_type": "code",
   "execution_count": null,
   "id": "5b72f284-7e37-49f2-bae8-1a0473d56a45",
   "metadata": {
    "tags": []
   },
   "outputs": [],
   "source": [
    "#df['depth'] = batimetria.iloc[((df['Latitude'] - yllcorner) / cellsize).astype('int32'),((df['Longitude'] - xllcorner) / cellsize).astype('int32')]\n",
    "yllcorner_m = yllcorner + batimetria.shape[0] * cellsize\n",
    "yllcorner_m"
   ]
  },
  {
   "cell_type": "code",
   "execution_count": null,
   "id": "c0a900df-a8d7-416e-b47d-d4a6cd241a29",
   "metadata": {
    "tags": []
   },
   "outputs": [],
   "source": [
    "df = df.dropna(axis='index', subset=['Longitude', 'Latitude'], inplace=False)"
   ]
  },
  {
   "cell_type": "code",
   "execution_count": null,
   "id": "c1793eb5-b772-4b11-89ab-d254468f791e",
   "metadata": {
    "tags": []
   },
   "outputs": [],
   "source": [
    "df['batix'] = ((df['Longitude'] - xllcorner) / cellsize).astype('int32')\n",
    "df['batiy'] = ((yllcorner_m - df['Latitude']) / cellsize).astype('int32')\n",
    "df.columns"
   ]
  },
  {
   "cell_type": "code",
   "execution_count": null,
   "id": "c0ef5a3d-8cd3-4097-a2bf-ae3e9799c408",
   "metadata": {
    "tags": []
   },
   "outputs": [],
   "source": [
    "#df = (pd.merge(df, batimetria.stack().rename(\"depth\"), left_on=[\"batiy\", \"batix\"], right_index=True, how=\"left\"))\n",
    "df['depth'] = batimetria.to_numpy()[df['batiy'], df['batix']]\n",
    "df"
   ]
  },
  {
   "cell_type": "code",
   "execution_count": null,
   "id": "0c45aade-3cb1-48b0-afa5-d2427aa27926",
   "metadata": {
    "tags": []
   },
   "outputs": [],
   "source": [
    "plt.rcParams['figure.figsize'] = [10, 10]\n",
    "plt.scatter(df['Longitude'], df['Latitude'], s=10, c=df['year'], marker='o', linewidth=0, alpha=0.5)\n",
    "plt.plot(obris['long'], obris['lat'], 'b-')\n",
    "plt.colorbar()"
   ]
  },
  {
   "cell_type": "code",
   "execution_count": null,
   "id": "98d1e5fb-ad15-45ea-87b8-8ce23caacac2",
   "metadata": {
    "tags": []
   },
   "outputs": [],
   "source": [
    "longStep = 0.01\n",
    "latStep = 0.005\n",
    "\n",
    "df['long'] = (df['Longitude']/longStep).round()*longStep\n",
    "df['lat'] = (df['Latitude']/latStep).round()*latStep"
   ]
  },
  {
   "cell_type": "code",
   "execution_count": null,
   "id": "2b551630-05fb-4d11-b462-326407ce8bdf",
   "metadata": {
    "tags": []
   },
   "outputs": [],
   "source": [
    "#func_list = ['mean', 'count']\n",
    "func_list = ['mean']\n",
    "cols_to_calc = {'pCO2Wtr': func_list,\n",
    "                'pCH4Wtr': func_list,\n",
    "                'cCO2Wtr': func_list,\n",
    "                'cCH4Wtr': func_list,\n",
    "                'dpCO2': func_list,\n",
    "                'dpCH4': func_list,\n",
    "                'pCO2Air': func_list,\n",
    "                'pCH4Air': func_list,\n",
    "                'depth': ['mean']}\n",
    "res = df.groupby(['year', 'long', 'lat'], as_index=False).agg(cols_to_calc)\n",
    "res"
   ]
  },
  {
   "cell_type": "code",
   "execution_count": null,
   "id": "adaa8f6a-09c3-46c4-9c85-a85560a7c396",
   "metadata": {
    "tags": []
   },
   "outputs": [],
   "source": [
    "for yr in range(2013, 2024):\n",
    "    t = res.loc[res['year'] == yr].shape\n",
    "    print(f'{yr}: {t[0]}')"
   ]
  },
  {
   "cell_type": "code",
   "execution_count": null,
   "id": "ce2480bd-9d6d-48da-a2d0-d2ea9bfb8497",
   "metadata": {
    "editable": true,
    "slideshow": {
     "slide_type": ""
    },
    "tags": []
   },
   "outputs": [],
   "source": [
    "plt.rcParams['figure.figsize'] = [8,10]\n",
    "plt.plot('long', 'lat', data=obris, markersize=1, alpha=1)\n",
    "plt.scatter('long', 'lat', data=res, s=20, alpha=0.1, c=res[('dpCO2', 'mean')], cmap='rainbow')\n",
    "plt.colorbar()\n",
    "plt.clim(-200,200)\n",
    "#for yr in [2013, 2016, 2017, 2018, 2020, 2021, 2022, 2023, 2024]:\n",
    "#for yr in [2024]:\n",
    "#    plt.scatter('long', 'lat', data=res.loc[res['year']==yr, :], s=20, alpha=0.1, c=res.loc[res['year']==yr, ('dpCO2', 'mean')], cmap='Paired')\n",
    "    #plt.colorbar()"
   ]
  },
  {
   "cell_type": "code",
   "execution_count": null,
   "id": "f8555e13-d9d6-4f79-b3e1-e9007535cb98",
   "metadata": {},
   "outputs": [],
   "source": [
    "res.describe()"
   ]
  },
  {
   "cell_type": "raw",
   "id": "8f30717d-3cc8-4d2e-8bc4-e23fc1dabd8e",
   "metadata": {},
   "source": [
    "supported values are 'Accent', 'Accent_r', 'Blues', 'Blues_r', 'BrBG', 'BrBG_r', 'BuGn', 'BuGn_r', 'BuPu', 'BuPu_r', 'CMRmap', 'CMRmap_r', 'Dark2', 'Dark2_r', 'GnBu', 'GnBu_r', 'Grays', 'Greens', 'Greens_r', 'Greys', 'Greys_r', 'OrRd', 'OrRd_r', 'Oranges', 'Oranges_r', 'PRGn', 'PRGn_r', 'Paired', 'Paired_r', 'Pastel1', 'Pastel1_r', 'Pastel2', 'Pastel2_r', 'PiYG', 'PiYG_r', 'PuBu', 'PuBuGn', 'PuBuGn_r', 'PuBu_r', 'PuOr', 'PuOr_r', 'PuRd', 'PuRd_r', 'Purples', 'Purples_r', 'RdBu', 'RdBu_r', 'RdGy', 'RdGy_r', 'RdPu', 'RdPu_r', 'RdYlBu', 'RdYlBu_r', 'RdYlGn', 'RdYlGn_r', 'Reds', 'Reds_r', 'Set1', 'Set1_r', 'Set2', 'Set2_r', 'Set3', 'Set3_r', 'Spectral', 'Spectral_r', 'Wistia', 'Wistia_r', 'YlGn', 'YlGnBu', 'YlGnBu_r', 'YlGn_r', 'YlOrBr', 'YlOrBr_r', 'YlOrRd', 'YlOrRd_r', 'afmhot', 'afmhot_r', 'autumn', 'autumn_r', 'binary', 'binary_r', 'bone', 'bone_r', 'brg', 'brg_r', 'bwr', 'bwr_r', 'cividis', 'cividis_r', 'cool', 'cool_r', 'coolwarm', 'coolwarm_r', 'copper', 'copper_r', 'cubehelix', 'cubehelix_r', 'flag', 'flag_r', 'gist_earth', 'gist_earth_r', 'gist_gray', 'gist_gray_r', 'gist_grey', 'gist_heat', 'gist_heat_r', 'gist_ncar', 'gist_ncar_r', 'gist_rainbow', 'gist_rainbow_r', 'gist_stern', 'gist_stern_r', 'gist_yarg', 'gist_yarg_r', 'gist_yerg', 'gnuplot', 'gnuplot2', 'gnuplot2_r', 'gnuplot_r', 'gray', 'gray_r', 'grey', 'hot', 'hot_r', 'hsv', 'hsv_r', 'inferno', 'inferno_r', 'jet', 'jet_r', 'magma', 'magma_r', 'nipy_spectral', 'nipy_spectral_r', 'ocean', 'ocean_r', 'pink', 'pink_r', 'plasma', 'plasma_r', 'prism', 'prism_r', 'rainbow', 'rainbow_r', 'seismic', 'seismic_r', 'spring', 'spring_r', 'summer', 'summer_r', 'tab10', 'tab10_r', 'tab20', 'tab20_r', 'tab20b', 'tab20b_r', 'tab20c', 'tab20c_r', 'terrain', 'terrain_r', 'turbo', 'turbo_r', 'twilight', 'twilight_r', 'twilight_shifted', 'twilight_shifted_r', 'viridis', 'viridis_r', 'winter', 'winter_r'\n",
    "\n"
   ]
  },
  {
   "cell_type": "code",
   "execution_count": null,
   "id": "4f8f91e7-4511-4cd6-8af2-c3aab8fb5a91",
   "metadata": {
    "tags": []
   },
   "outputs": [],
   "source": [
    "func_list = ['mean', 'std', 'count']\n",
    "\n",
    "cols_to_calc = {('cCH4Wtr', 'mean'): func_list,\n",
    "                ('depth', 'mean'): func_list,\n",
    "               }\n",
    "res = res.groupby(['long', 'lat'], as_index=False).agg(cols_to_calc)\n",
    "res"
   ]
  },
  {
   "cell_type": "raw",
   "id": "090d74d8-32a7-4425-8614-dd5ef8d9fe73",
   "metadata": {
    "tags": []
   },
   "source": [
    "res['toobris'] = 0\n",
    "\n",
    "for i in range(len(res)):\n",
    "    min_dist = 100\n",
    "    for j in range(len(obris)):\n",
    "        dista = dist((res['long'][i], res['lat'][i]), (obris['long'][j], obris['lat'][j]))\n",
    "        if (min_dist > dista):\n",
    "            min_dist = dista\n",
    "    res.at[i, 'toobris'] = min_dist"
   ]
  },
  {
   "cell_type": "code",
   "execution_count": null,
   "id": "63ebf1db-de73-41de-aa87-6f8a142c3cc9",
   "metadata": {
    "editable": true,
    "slideshow": {
     "slide_type": ""
    },
    "tags": []
   },
   "outputs": [],
   "source": [
    "destData"
   ]
  },
  {
   "cell_type": "code",
   "execution_count": null,
   "id": "8f347ca2-1317-4455-8166-0cd4bcd70087",
   "metadata": {
    "tags": []
   },
   "outputs": [],
   "source": [
    "res.to_csv(destData,\n",
    "res.to_csv(destData,\n",
    "           sep='\\t',\n",
    "           )"
   ]
  },
  {
   "cell_type": "code",
   "execution_count": 64,
   "id": "a5c2b38f-6fe7-4c8f-8a2a-eb07a919946e",
   "metadata": {
    "editable": true,
    "slideshow": {
     "slide_type": ""
    },
    "tags": []
   },
   "outputs": [],
   "source": [
    "df.to_csv(os.path.join(pwd, 'AllSea_.txt'),\n",
    "           sep='\\t'\n",
    "          )"
   ]
  },
  {
   "cell_type": "code",
   "execution_count": null,
   "id": "15034ddd-dd32-4a32-8269-8f812142faa4",
   "metadata": {
    "tags": []
   },
   "outputs": [],
   "source": [
    "%matplotlib inline\n",
    "valMax = res[('cCH4Wtr','mean')].max\n",
    "\n",
    "fig, ax = plt.subplots()\n",
    "ax.set_xlim(106.2, 107.8)\n",
    "ax.set_ylim(52, 53)\n",
    "\n",
    "# wether this or those\n",
    "ax.scatter(res['long'], res['lat'], c=res[('cCH4Wtr', 'mean', 'mean')], s=40, marker='s', linewidth=0, cmap='rainbow', alpha=0.1)\n",
    "ax.plot(obris['long'], obris['lat'], 'b-')\n",
    "\n",
    "fig.savefig('gis.png')"
   ]
  },
  {
   "cell_type": "code",
   "execution_count": null,
   "id": "27676ba8-c818-4ee3-9e18-e036bafa22fc",
   "metadata": {},
   "outputs": [],
   "source": [
    "df.info()"
   ]
  },
  {
   "cell_type": "code",
   "execution_count": null,
   "id": "2e30db09-4a16-4da4-87d0-9fae35e3c2d5",
   "metadata": {},
   "outputs": [],
   "source": [
    "df.to_csv(os.path.join(pwd, 'all_.txt'), sep='\\t')"
   ]
  },
  {
   "cell_type": "code",
   "execution_count": null,
   "id": "698eedb1-30ad-4bbe-bdb4-f332c557bd3b",
   "metadata": {},
   "outputs": [],
   "source": [
    "pwd"
   ]
  },
  {
   "cell_type": "code",
   "execution_count": null,
   "id": "36250333-c3eb-48f4-8877-88ba3c2f8c1f",
   "metadata": {},
   "outputs": [],
   "source": []
  }
 ],
 "metadata": {
  "kernelspec": {
   "display_name": "Python 3 (ipykernel)",
   "language": "python",
   "name": "python3"
  },
  "language_info": {
   "codemirror_mode": {
    "name": "ipython",
    "version": 3
   },
   "file_extension": ".py",
   "mimetype": "text/x-python",
   "name": "python",
   "nbconvert_exporter": "python",
   "pygments_lexer": "ipython3",
   "version": "3.11.2"
  }
 },
 "nbformat": 4,
 "nbformat_minor": 5
}
