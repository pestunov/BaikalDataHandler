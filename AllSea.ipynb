{
 "cells": [
  {
   "cell_type": "code",
   "execution_count": null,
   "id": "2f6d2dd3-7936-4d9b-a57c-76c6b37028bb",
   "metadata": {
    "tags": []
   },
   "outputs": [],
   "source": [
    "import pandas as pd\n",
    "import numpy as np\n",
    "import matplotlib as mpl\n",
    "import matplotlib.pyplot as plt\n",
    "import datetime as dt\n",
    "import os\n",
    "\n",
    "import scheme_mar2023 as scheme\n",
    "import mytools as mt\n",
    "import baikalfunctions as bf"
   ]
  },
  {
   "cell_type": "code",
   "execution_count": null,
   "id": "2c5b1822-a104-48a5-b35e-092b989d793a",
   "metadata": {
    "tags": []
   },
   "outputs": [],
   "source": [
    "plt.style.use('Solarize_Light2')   # try another styles: 'classic'\n",
    "plt.rcParams['figure.figsize'] = [15, 15]\n",
    "driver = 'G:/'  # '~/'\n",
    "pwd = os.path.join(driver, \"1_Data1/sea/\")\n",
    "destData = os.path.join(pwd, \"AllSeaGisOut.txt\")\n",
    "obrisData = os.path.join(driver, \"1_Data1/obris/obris.dat\")\n",
    "batimetrFile = os.path.join(driver, \"1_Data1/batimetria/b1.txt\")\n",
    "pwd"
   ]
  },
  {
   "cell_type": "code",
   "execution_count": null,
   "id": "a02b1bf3-928f-490d-9709-0f31e9105f22",
   "metadata": {
    "editable": true,
    "slideshow": {
     "slide_type": ""
    },
    "tags": []
   },
   "outputs": [],
   "source": [
    "obris = pd.read_csv(obrisData,\n",
    "                    header=0,\n",
    "                    na_values='--',\n",
    "                    sep='\\t',\n",
    "                    decimal=',',\n",
    "                    )\n",
    "obris.head(3)"
   ]
  },
  {
   "cell_type": "code",
   "execution_count": null,
   "id": "6b17f67d-b402-494f-86a4-00b29b3ee558",
   "metadata": {},
   "outputs": [],
   "source": [
    "DLAT = 0.01  # 0.01 => 1.11km\n",
    "DLNG = 0.02  # 0.02 => 1.4km.. 1.24km (@ lat = 51.. 56)\n"
   ]
  },
  {
   "cell_type": "code",
   "execution_count": null,
   "id": "7d9eb5f6-f0c5-4458-9f2c-70d453ba4db0",
   "metadata": {},
   "outputs": [],
   "source": [
    "gdf = pd.read_csv('wholeBaikalGrid001002.dat', sep='\\t')\n",
    "gdf['Longitude'] = gdf['long']/1000\n",
    "gdf['Latitude'] = gdf['lat']/1000\n",
    "gdf['norm_x'] = (gdf['toWest']/(gdf['toWest'] + gdf['toEast'])*25).astype('int')\n",
    "gdf['norm_y'] = (gdf['toSud']/(gdf['toSud'] + gdf['toNord'])*400).astype('int')\n",
    "\n",
    "gdf.loc[(gdf['long']==106000) & (gdf['lat']==52000), :]"
   ]
  },
  {
   "cell_type": "code",
   "execution_count": null,
   "id": "df42356a-805c-40aa-a210-503b38f1ca2d",
   "metadata": {},
   "outputs": [],
   "source": [
    "df = pd.read_csv(os.path.join(pwd, \"AllSeaO1.txt\"),\n",
    "                 header=0,\n",
    "                 # skip_blank_lines=True,\n",
    "                 skipinitialspace=True,\n",
    "                 na_values='--',\n",
    "                 sep='\\t',\n",
    "                 decimal=',',\n",
    "                 #nrows=10000,\n",
    "                 parse_dates=['DateTime'],\n",
    "                 dayfirst=False,\n",
    "                 )"
   ]
  },
  {
   "cell_type": "code",
   "execution_count": null,
   "id": "cfdc6aa3-c5cf-496f-b06a-3b16c613672d",
   "metadata": {},
   "outputs": [],
   "source": [
    "df.loc[df['WaterFlow1'] < 1.5, 'TempWtr'] = np.nan"
   ]
  },
  {
   "cell_type": "code",
   "execution_count": null,
   "id": "53826e91-72da-40c3-90a1-6a45a38021ad",
   "metadata": {
    "tags": []
   },
   "outputs": [],
   "source": [
    "df.shape, df.columns"
   ]
  },
  {
   "cell_type": "code",
   "execution_count": null,
   "id": "f56b18de-ae74-4ad4-abfc-70dc4680c78b",
   "metadata": {},
   "outputs": [],
   "source": [
    "## Work with few coloumns\n",
    "cols_stay = ['DateTime', 'Longitude', 'Latitude', 'pCO2Air', 'pCH4Air', 'pCO2Wtr', 'pCH4Wtr', 'cCO2Wtr', 'cCH4Wtr', 'TempWtr', 'WaterFlow1']\n",
    "df.drop(columns=[x for x in df.columns if x not in cols_stay], inplace=True)"
   ]
  },
  {
   "cell_type": "code",
   "execution_count": null,
   "id": "d501110a-a6da-446a-944f-ae35c680ace4",
   "metadata": {},
   "outputs": [],
   "source": [
    "df['year'] = df['DateTime'].dt.year\n",
    "df['dateSec'] = df['DateTime'].astype('int64')/10**9  ## seconds\n",
    "df['dateSec'] = df['dateSec'].astype('int64')\n",
    "df"
   ]
  },
  {
   "cell_type": "code",
   "execution_count": null,
   "id": "21a750b3-d585-4001-a975-a03a3d0bfb41",
   "metadata": {},
   "outputs": [],
   "source": [
    "param = 'cCO2Wtr'\n",
    "#param = 'TempWtr'\n",
    "#param = 'WaterFlow1'"
   ]
  },
  {
   "cell_type": "code",
   "execution_count": null,
   "id": "e9f6799b-3d22-424c-adeb-3d79a798403d",
   "metadata": {},
   "outputs": [],
   "source": [
    "df.dropna(subset=param)"
   ]
  },
  {
   "cell_type": "code",
   "execution_count": null,
   "id": "4cc83b55-ff8c-40b7-a7ef-00b8a5f74197",
   "metadata": {},
   "outputs": [],
   "source": [
    "bloome_time = [['2021-06-09 13:40:00', '2021-06-12 16:50:00'],\n",
    "              ['2022-06-03 07:30:00', '2022-06-04 22:45:00'],\n",
    "              ['2022-06-05 16:50:00', '2022-06-05 23:30:00'],\n",
    "              ['2022-06-09 12:40:00', '2022-06-09 21:30:00'],\n",
    "              ['2022-06-13 15:00:00', '2022-06-14 03:20:00'],\n",
    "              ['2023-06-05 03:40:00', '2023-06-07 20:00:00'],\n",
    "              ['2024-06-04 16:40:00', '2024-06-07 02:30:00'],\n",
    "              ['2024-06-11 13:50:00', '2024-06-12 18:40:00'],]\n",
    "\n",
    "df.loc[:, 'blooming'] = 0\n",
    "for event in bloome_time:\n",
    "    df.loc[df['DateTime'].between(pd.to_datetime(event[0], yearfirst=True), pd.to_datetime(event[1], yearfirst=True)),'blooming'] = 1\n",
    "df.loc[:,'blooming_an'] = ((df['WaterFlow1'].shift(-1).rolling(5).mean() - df['WaterFlow1'].shift(1).rolling(5).mean())*10)**2\n",
    "\n",
    "df['blooming_an'].describe()"
   ]
  },
  {
   "cell_type": "code",
   "execution_count": null,
   "id": "e577e998-f9a9-49ad-a3ec-c3c19dfe989d",
   "metadata": {
    "tags": []
   },
   "outputs": [],
   "source": [
    "for yr in range(2013, 2026):\n",
    "    t = df.loc[(df['year'] == yr), param].dropna().shape\n",
    "    print(f'{yr}: {t[0]}')"
   ]
  },
  {
   "cell_type": "code",
   "execution_count": null,
   "id": "d1e067e9-63ed-4d44-9f67-2ab563e9e93e",
   "metadata": {},
   "outputs": [],
   "source": [
    "plt.rcParams['figure.figsize'] = [15, 5]\n",
    "plt.scatter('DateTime', param, data=df, s=1)\n",
    "plt.grid(True)"
   ]
  },
  {
   "cell_type": "code",
   "execution_count": null,
   "id": "b3675f39-1bff-49db-8177-9203f675fca9",
   "metadata": {},
   "outputs": [],
   "source": [
    "df.dropna(subset=param).sort_values(by=param).tail(10)"
   ]
  },
  {
   "cell_type": "markdown",
   "id": "c9d69ede-ade9-4421-8c96-6aa21393aa0b",
   "metadata": {},
   "source": [
    "## Bloooming test"
   ]
  },
  {
   "cell_type": "code",
   "execution_count": null,
   "id": "350407dd-36a9-4dee-ad52-1b27f00e68f2",
   "metadata": {},
   "outputs": [],
   "source": [
    "years = [2013, 2016, 2017, 2018, 2021, 2022, 2023, 2024]\n",
    "plt.style.use('default')   # try another styles: 'classic'\n",
    "plt.rcParams['figure.figsize'] = [15, 15]\n",
    "for y in years:\n",
    "    data=df.loc[df['year']==y,:]\n",
    "    plt.plot('long', 'lat', '-', data=obris, alpha=1)\n",
    "    plt.scatter('Longitude', 'Latitude', data=data, c=data[param], s=10, alpha=1, cmap='rainbow')\n",
    "    plt.clim(0.2, 2.0)\n",
    "    plt.colorbar()\n",
    "    plt.title(f'{param}_{y}')\n",
    "    plt.savefig(f'{param}_{y}.png')\n",
    "    plt.close()"
   ]
  },
  {
   "cell_type": "markdown",
   "id": "7dfaa11a-83f6-4d19-858b-6f44e8eeabdf",
   "metadata": {},
   "source": [
    "## ensuit"
   ]
  },
  {
   "cell_type": "code",
   "execution_count": null,
   "id": "7b31525b-0ecc-424f-ba17-386ebc9bc07b",
   "metadata": {},
   "outputs": [],
   "source": [
    "central_stations = {}\n",
    "for key, coor in scheme.central.items():\n",
    "    central_stations[key] = scheme.get_center(coor)\n",
    "central_stations"
   ]
  },
  {
   "cell_type": "code",
   "execution_count": null,
   "id": "15f01a0b-a8ed-42aa-98d7-1b872dec68eb",
   "metadata": {},
   "outputs": [],
   "source": [
    "dfc = pd.DataFrame.from_dict(central_stations, orient='index')\n",
    "dfc.columns = ['Latitude', 'Longitude']\n",
    "dfp = pd.DataFrame.from_dict(scheme.points, orient='index')\n",
    "dfp.columns = ['Latitude', 'Longitude']\n",
    "dfp.reset_index(drop=False, inplace=True, names='place')"
   ]
  },
  {
   "cell_type": "code",
   "execution_count": null,
   "id": "33ba6c7b-2841-467f-a8cd-53c687238bc2",
   "metadata": {},
   "outputs": [],
   "source": [
    "plt.rcParams['figure.figsize'] = [15, 17]\n",
    "plt.plot('long', 'lat', 'b-', data=obris, alpha=1)\n",
    "plt.scatter('Longitude', 'Latitude', data=df.loc[df['year'] == 2013,:], s=2, alpha=0.1)\n",
    "#plt.scatter('Longitude', 'Latitude', data=dfj, s=2, c='green', alpha=0.1)\n",
    "plt.scatter('Longitude', 'Latitude', data=dfc, s=30, c='red', alpha=1)\n",
    "plt.scatter('Longitude', 'Latitude', data=dfp, s=20, c='red', alpha=1)\n",
    "#plt.xlim(106.8, 107)\n",
    "#plt.ylim(52.6, 52.8)\n",
    "#plt.xlim(104, 105)\n",
    "#plt.ylim(51.4, 52)\n",
    "for name, coor in central_stations.items():\n",
    "    plt.annotate(name, (coor[1]+0.001, coor[0]+0.002))\n",
    "for name, coor in scheme.points.items():\n",
    "    plt.annotate(name, (coor[1]+0.001, coor[0]+0.002))\n",
    "plt.savefig('track_2_3.png')"
   ]
  },
  {
   "cell_type": "code",
   "execution_count": null,
   "id": "c1dc700e-dca3-476c-8754-5077a3bf6779",
   "metadata": {},
   "outputs": [],
   "source": [
    "##  distance routines"
   ]
  },
  {
   "cell_type": "code",
   "execution_count": null,
   "id": "76d55d47-507d-4bae-9915-c4a7616ff8b3",
   "metadata": {},
   "outputs": [],
   "source": [
    "df['Station'] = ''\n",
    "DLAT = 0.01  # 0.01 => 1.11km\n",
    "DLNG = 0.02  # 0.02 => 1.4km.. 1.24km (@ lat = 51.. 56)\n",
    "print(bf.dist((82, 51), (82, 51.01)))\n",
    "for k, v in central_stations.items():\n",
    "    df.loc[(df['Latitude'].between(v[0]-DLAT, v[0]+DLAT) & df['Longitude'].between(v[1]-DLNG, v[1]+DLNG)), 'Station'] = k"
   ]
  },
  {
   "cell_type": "code",
   "execution_count": null,
   "id": "0f72a4e8-6a39-419c-86d9-b54e61525c3a",
   "metadata": {},
   "outputs": [],
   "source": [
    "dfg = df.groupby(by=['year', 'Station'])[param].agg(['count', 'mean', 'median', 'std', 'min', 'max'])\n",
    "dfg"
   ]
  },
  {
   "cell_type": "code",
   "execution_count": null,
   "id": "74a2e826-d8aa-4b71-96bd-81f2bb15db0a",
   "metadata": {},
   "outputs": [],
   "source": [
    "dfg.to_csv(os.path.join(pwd, f'{param}CentralStation.dat'), sep='\\t')"
   ]
  },
  {
   "cell_type": "code",
   "execution_count": null,
   "id": "8f329846-c0f0-460c-a1e9-a07f485521d7",
   "metadata": {},
   "outputs": [],
   "source": [
    "meteo = pd.read_csv(os.path.join(pwd, 'meteo.txt'),\n",
    "                    sep='\\t',\n",
    "                    decimal='.',\n",
    "                    parse_dates=['DateTime'],\n",
    "                    dayfirst=False,\n",
    "                   )\n",
    "\n",
    "colsneeded = ['DateTime', 'vx', 'vy', 'Wh', 'Wdir']\n",
    "meteo.drop(columns=[col for col in meteo.columns if col not in colsneeded], axis='columns', inplace=True)\n",
    "meteo = meteo.loc[meteo['DateTime'] < pd.to_datetime('2024-07-01'), :]\n"
   ]
  },
  {
   "cell_type": "code",
   "execution_count": null,
   "id": "51471e69-5427-42b7-902a-42be7d2cfadd",
   "metadata": {},
   "outputs": [],
   "source": [
    "## some wrong data while severe wind unsyncronized the UltraSonic threshold \n",
    "meteo.loc[meteo['vy'] > 20, 'vy'] = np.nan"
   ]
  },
  {
   "cell_type": "code",
   "execution_count": null,
   "id": "295a5803-d064-4334-a67a-97fd2d4dc6a0",
   "metadata": {},
   "outputs": [],
   "source": [
    "plt.rcParams['figure.figsize'] = [12,5]\n",
    "plt.scatter('DateTime', 'vx', data=meteo, alpha=0.4, s=1, c='red')\n",
    "plt.scatter('DateTime', 'vy', data=meteo, alpha=0.4, s=1, c='blue')\n",
    "plt.xlim(pd.to_datetime('2021-06-06 12:00'), pd.to_datetime('2021-06-07'))"
   ]
  },
  {
   "cell_type": "code",
   "execution_count": null,
   "id": "62222c26-f773-4cc3-9462-8819d5db5c74",
   "metadata": {},
   "outputs": [],
   "source": [
    "meteo = meteo.resample('1min', on='DateTime').mean()\n",
    "meteo.reset_index(drop=False, inplace=True)\n",
    "meteo"
   ]
  },
  {
   "cell_type": "code",
   "execution_count": null,
   "id": "71f50f32-f3ce-4194-b4e7-207dec447842",
   "metadata": {},
   "outputs": [],
   "source": [
    "meteo.dropna(axis='index', subset=['vx', 'vy'], inplace=True)"
   ]
  },
  {
   "cell_type": "code",
   "execution_count": null,
   "id": "381a9355-72d2-4b88-a854-49de46810352",
   "metadata": {},
   "outputs": [],
   "source": [
    "meteo"
   ]
  },
  {
   "cell_type": "code",
   "execution_count": null,
   "id": "4d81758f-ac2b-41d1-ae05-b020082280e0",
   "metadata": {
    "scrolled": true
   },
   "outputs": [],
   "source": [
    "meteo['dateSec'] = meteo['DateTime'].astype('int')/10**9  ## seconds\n",
    "meteo['dateSec'] = meteo['dateSec'].astype('int64')\n",
    "meteo = meteo.drop(['DateTime'], axis='columns', errors='ignore')\n",
    "meteo"
   ]
  },
  {
   "cell_type": "code",
   "execution_count": null,
   "id": "5ff509ba-ec25-4ee4-8a20-47313c562dfe",
   "metadata": {},
   "outputs": [],
   "source": [
    "df"
   ]
  },
  {
   "cell_type": "code",
   "execution_count": null,
   "id": "76e22663-4fa5-4396-bac8-76fd3bee919b",
   "metadata": {},
   "outputs": [],
   "source": [
    "df = pd.merge(left=df, right=meteo, left_on='dateSec', right_on='dateSec', how='outer').sort_values(by='dateSec')"
   ]
  },
  {
   "cell_type": "code",
   "execution_count": null,
   "id": "8308dc56-bd91-4c9e-966d-9fa5f6ae0dad",
   "metadata": {},
   "outputs": [],
   "source": [
    "df"
   ]
  },
  {
   "cell_type": "code",
   "execution_count": null,
   "id": "9b79a2c0-9a96-467b-9074-fe5987c232dc",
   "metadata": {},
   "outputs": [],
   "source": [
    "## vesx: RV x offset along longitude, vesy: RV y offset along latitude (meters)\n",
    "df['vesx'] = bf.dist((df['Longitude'], df['Latitude']), (df['Longitude'].shift(1), df['Latitude'])) * np.sign(df['Longitude']-df['Longitude'].shift(1)) * 1000  ## meters per sec\n",
    "df['vesy'] = bf.dist((df['Longitude'], df['Latitude']), (df['Longitude'], df['Latitude'].shift(1))) * np.sign(df['Latitude']-df['Latitude'].shift(1)) * 1000\n",
    "df['dt'] = (df['dateSec'] - df['dateSec'].shift(1))\n",
    "df['vesSpeed'] = np.sqrt(np.power(df['vesx'], 2) + np.power(df['vesy'], 2)) / df['dt']"
   ]
  },
  {
   "cell_type": "code",
   "execution_count": null,
   "id": "50192bc8-b0d9-4add-b8e7-360766cec2fe",
   "metadata": {},
   "outputs": [],
   "source": [
    "df['winSpeed'] = np.sqrt(np.power(df['vx'],2) + np.power((df['vy'] - df['vesy']/df['dt']),2))"
   ]
  },
  {
   "cell_type": "code",
   "execution_count": null,
   "id": "8a7825e2-14f5-4d3f-ae84-f33f6cac67d9",
   "metadata": {},
   "outputs": [],
   "source": [
    "df.loc[(df['DateTime'] > pd.to_datetime('2023-06-01 01:10')) & (df['DateTime'] < pd.to_datetime('2023-06-01 01:30')), ['DateTime', 'Longitude', 'vesx', 'Latitude', 'vesy', 'vesSpeed', 'vx', 'vy', 'winSpeed', 'Wh']]"
   ]
  },
  {
   "cell_type": "code",
   "execution_count": null,
   "id": "538ad720-e56e-4c98-bf6f-7b642465a801",
   "metadata": {
    "editable": true,
    "slideshow": {
     "slide_type": ""
    },
    "tags": []
   },
   "outputs": [],
   "source": [
    "plt.rcParams['figure.figsize'] = [25, 10]\n",
    "plt.scatter('DateTime', 'vesSpeed', data=df.loc[df['year']==2023,:], s=1, alpha=0.5)\n",
    "plt.scatter('DateTime', 'winSpeed', data=df.loc[df['year']==2023,:], s=6, alpha=0.5, c='green')\n",
    "plt.scatter('DateTime', 'Wh', data=df.loc[df['year']==2023,:], s=3, alpha=0.2, c='blue')\n",
    "#plt.plot('DateTime', 'winSpeed', data=df.loc[df['year']==2023,:], c='green')\n",
    "plt.legend()\n",
    "plt.ylim(0, 10)\n",
    "plt.xlim(pd.to_datetime('2023-06-01 00:00'), pd.to_datetime('2023-06-02 15:00'))"
   ]
  },
  {
   "cell_type": "code",
   "execution_count": null,
   "id": "c0a900df-a8d7-416e-b47d-d4a6cd241a29",
   "metadata": {
    "tags": []
   },
   "outputs": [],
   "source": [
    "df = df.dropna(axis='index', subset=['Longitude', 'Latitude'], inplace=False)"
   ]
  },
  {
   "cell_type": "code",
   "execution_count": null,
   "id": "106be440-473b-432c-baf4-802e44436670",
   "metadata": {},
   "outputs": [],
   "source": [
    "plt.rcParams['figure.figsize'] = [8, 10]\n",
    "plt.scatter('Longitude', 'Latitude', data=gdf, c='green', s=0.1)\n",
    "plt.plot('long', 'lat', 'b-', data=obris, linewidth=1)\n",
    "plt.grid(alpha=0.1)"
   ]
  },
  {
   "cell_type": "code",
   "execution_count": null,
   "id": "b19a89d0-0f2c-4f34-9eb5-c18eb33cfcec",
   "metadata": {},
   "outputs": [],
   "source": [
    "df.loc[:,'TimeMinute'] = df['DateTime'].dt.hour * 60 + df['DateTime'].dt.minute\n",
    "df.loc[:,'TimeHour'] = df['DateTime'].dt.hour\n",
    "df"
   ]
  },
  {
   "cell_type": "code",
   "execution_count": null,
   "id": "850e0a61-8d46-469b-a916-386c934b769a",
   "metadata": {},
   "outputs": [],
   "source": [
    "res=df.loc[df['depth'].between(-100, 0),:].groupby(['year', 'blooming'], as_index=False).agg({'cCO2Wtr': ['mean','std', 'median', 'var', 'min', 'max']})\n",
    "#res.columns = res.columns.get_level_values(0)\n",
    "#res=res.groupby(['TimeHour'], as_index=False).agg({'cCO2Wtr': 'mean'})\n",
    "res.to_clipboard()\n",
    "res"
   ]
  },
  {
   "cell_type": "code",
   "execution_count": null,
   "id": "29c08d7f-0ac9-4431-8869-df36092d880f",
   "metadata": {},
   "outputs": [],
   "source": [
    "res=df.loc[df['depth'].between(-2000, -400),['cCO2Wtr']]\n",
    "res.to_clipboard()\n",
    "res"
   ]
  },
  {
   "cell_type": "code",
   "execution_count": null,
   "id": "693b0009-1cf0-4598-af0e-465fdfcff322",
   "metadata": {},
   "outputs": [],
   "source": [
    "df.loc[:,['year', 'depth']]"
   ]
  },
  {
   "cell_type": "code",
   "execution_count": null,
   "id": "3ecf2e70-81a3-48e5-8301-e4ef9bb89757",
   "metadata": {},
   "outputs": [],
   "source": [
    "plt.scatter('TimeHour', 'cCO2Wtr', data=res, s=10, alpha=1)"
   ]
  },
  {
   "cell_type": "code",
   "execution_count": null,
   "id": "0c45aade-3cb1-48b0-afa5-d2427aa27926",
   "metadata": {
    "tags": []
   },
   "outputs": [],
   "source": [
    "longt = [105.02, 105.04, 105.06, 105.08, ]\n",
    "\n",
    "plt.style.use('default')   # try another styles: 'classic'\n",
    "plt.rcParams['figure.figsize'] = [7, 7]\n",
    "plt.fill('long', 'lat', data=obris, alpha=0.1)\n",
    "plt.scatter('Longitude', 'Latitude', data=df, s=10, c=df['year'], cmap='Grays', marker='o', linewidth=0, alpha=0.5)\n",
    "plt.plot([105.05, 105.07, 105.07, 105.05, 105.05], [51.905, 51.905, 51.895, 51.895, 51.905], 'g--', alpha=0.5)\n",
    "plt.scatter([105.06], [51.9], s=100, c='g', alpha=0.5)\n",
    "plt.plot([105.07, 105.09, 105.09, 105.07, 105.07], [51.895, 51.895, 51.885, 51.885, 51.895], 'g--', alpha=0.5)\n",
    "plt.scatter([105.08], [51.89], s=100, c='g', alpha=0.5)\n",
    "plt.plot(obris['long'], obris['lat'], 'b-')\n",
    "\n",
    "plt.xlim(105.02, 105.12)\n",
    "plt.ylim(51.86, 51.91)\n",
    "plt.grid(True, 'major', 'both', c='lightgrey', linestyle='dotted')\n",
    "plt.savefig('howtoaveraged.png')\n",
    "# plt.colorbar()"
   ]
  },
  {
   "cell_type": "code",
   "execution_count": null,
   "id": "98d1e5fb-ad15-45ea-87b8-8ce23caacac2",
   "metadata": {
    "tags": []
   },
   "outputs": [],
   "source": [
    "longStep = 0.02\n",
    "latStep = 0.01\n",
    "\n",
    "df.loc[:, 'long'] = (df['Longitude']/longStep).round()*longStep\n",
    "df.loc[:, 'lat'] = (df['Latitude']/latStep).round()*latStep"
   ]
  },
  {
   "cell_type": "code",
   "execution_count": null,
   "id": "2b551630-05fb-4d11-b462-326407ce8bdf",
   "metadata": {
    "tags": []
   },
   "outputs": [],
   "source": [
    "#func_list = ['mean', 'count']\n",
    "func_list = ['mean']\n",
    "cols_to_calc = {\n",
    "                #'pCO2Wtr': func_list,\n",
    "                #'pCH4Wtr': func_list,\n",
    "                'cCO2Wtr': func_list,\n",
    "                #'cCH4Wtr': func_list,\n",
    "                #'pCO2Air': func_list,\n",
    "                #'pCH4Air': func_list,\n",
    "                #'TempWtr': func_list,\n",
    "                #'depth': ['mean']\n",
    "                }\n",
    "res = df.groupby(['year', 'long', 'lat'], as_index=False).agg(cols_to_calc)\n",
    "res"
   ]
  },
  {
   "cell_type": "code",
   "execution_count": null,
   "id": "ed45b022-923b-4f43-ad27-dd018ac9a1c4",
   "metadata": {},
   "outputs": [],
   "source": [
    "res.info()"
   ]
  },
  {
   "cell_type": "code",
   "execution_count": null,
   "id": "adaa8f6a-09c3-46c4-9c85-a85560a7c396",
   "metadata": {
    "tags": []
   },
   "outputs": [],
   "source": [
    "for yr in range(2013, 2025):\n",
    "    t = res.loc[res['year'] == yr].dropna(subset=[(param, 'mean')]).shape\n",
    "    print(f'{yr}: {t[0]}')"
   ]
  },
  {
   "cell_type": "code",
   "execution_count": null,
   "id": "ce2480bd-9d6d-48da-a2d0-d2ea9bfb8497",
   "metadata": {
    "editable": true,
    "slideshow": {
     "slide_type": ""
    },
    "tags": []
   },
   "outputs": [],
   "source": [
    "plt.rcParams['figure.figsize'] = [9,10]\n",
    "plt.plot('long', 'lat', data=obris, markersize=1, alpha=1)\n",
    "plt.scatter('long', 'lat', data=res, s=20, alpha=0.1, c=res[(param, 'mean')], cmap='rainbow')\n",
    "plt.colorbar()\n",
    "plt.clim(0,2)\n",
    "#for yr in [2013, 2016, 2017, 2018, 2020, 2021, 2022, 2023, 2024]:\n",
    "#for yr in [2024]:\n",
    "#    plt.scatter('long', 'lat', data=res.loc[res['year']==yr, :], s=20, alpha=0.1, c=res.loc[res['year']==yr, ('dpCO2', 'mean')], cmap='Paired')\n",
    "    #plt.colorbar()"
   ]
  },
  {
   "cell_type": "code",
   "execution_count": null,
   "id": "f8555e13-d9d6-4f79-b3e1-e9007535cb98",
   "metadata": {},
   "outputs": [],
   "source": [
    "res['Time'] = res"
   ]
  },
  {
   "cell_type": "raw",
   "id": "8f30717d-3cc8-4d2e-8bc4-e23fc1dabd8e",
   "metadata": {},
   "source": [
    "supported values are 'Accent', 'Accent_r', 'Blues', 'Blues_r', 'BrBG', 'BrBG_r', 'BuGn', 'BuGn_r', 'BuPu', 'BuPu_r', 'CMRmap', 'CMRmap_r', 'Dark2', 'Dark2_r', 'GnBu', 'GnBu_r', 'Grays', 'Greens', 'Greens_r', 'Greys', 'Greys_r', 'OrRd', 'OrRd_r', 'Oranges', 'Oranges_r', 'PRGn', 'PRGn_r', 'Paired', 'Paired_r', 'Pastel1', 'Pastel1_r', 'Pastel2', 'Pastel2_r', 'PiYG', 'PiYG_r', 'PuBu', 'PuBuGn', 'PuBuGn_r', 'PuBu_r', 'PuOr', 'PuOr_r', 'PuRd', 'PuRd_r', 'Purples', 'Purples_r', 'RdBu', 'RdBu_r', 'RdGy', 'RdGy_r', 'RdPu', 'RdPu_r', 'RdYlBu', 'RdYlBu_r', 'RdYlGn', 'RdYlGn_r', 'Reds', 'Reds_r', 'Set1', 'Set1_r', 'Set2', 'Set2_r', 'Set3', 'Set3_r', 'Spectral', 'Spectral_r', 'Wistia', 'Wistia_r', 'YlGn', 'YlGnBu', 'YlGnBu_r', 'YlGn_r', 'YlOrBr', 'YlOrBr_r', 'YlOrRd', 'YlOrRd_r', 'afmhot', 'afmhot_r', 'autumn', 'autumn_r', 'binary', 'binary_r', 'bone', 'bone_r', 'brg', 'brg_r', 'bwr', 'bwr_r', 'cividis', 'cividis_r', 'cool', 'cool_r', 'coolwarm', 'coolwarm_r', 'copper', 'copper_r', 'cubehelix', 'cubehelix_r', 'flag', 'flag_r', 'gist_earth', 'gist_earth_r', 'gist_gray', 'gist_gray_r', 'gist_grey', 'gist_heat', 'gist_heat_r', 'gist_ncar', 'gist_ncar_r', 'gist_rainbow', 'gist_rainbow_r', 'gist_stern', 'gist_stern_r', 'gist_yarg', 'gist_yarg_r', 'gist_yerg', 'gnuplot', 'gnuplot2', 'gnuplot2_r', 'gnuplot_r', 'gray', 'gray_r', 'grey', 'hot', 'hot_r', 'hsv', 'hsv_r', 'inferno', 'inferno_r', 'jet', 'jet_r', 'magma', 'magma_r', 'nipy_spectral', 'nipy_spectral_r', 'ocean', 'ocean_r', 'pink', 'pink_r', 'plasma', 'plasma_r', 'prism', 'prism_r', 'rainbow', 'rainbow_r', 'seismic', 'seismic_r', 'spring', 'spring_r', 'summer', 'summer_r', 'tab10', 'tab10_r', 'tab20', 'tab20_r', 'tab20b', 'tab20b_r', 'tab20c', 'tab20c_r', 'terrain', 'terrain_r', 'turbo', 'turbo_r', 'twilight', 'twilight_r', 'twilight_shifted', 'twilight_shifted_r', 'viridis', 'viridis_r', 'winter', 'winter_r'"
   ]
  },
  {
   "cell_type": "code",
   "execution_count": null,
   "id": "4f8f91e7-4511-4cd6-8af2-c3aab8fb5a91",
   "metadata": {
    "tags": []
   },
   "outputs": [],
   "source": [
    "func_list = ['mean', 'std', 'count']\n",
    "cols_to_calc = {(param, 'mean'): func_list,\n",
    "                ('depth', 'mean'): func_list,\n",
    "               }\n",
    "res1 = res.groupby(['long', 'lat'], as_index=False).agg(cols_to_calc)\n",
    "res1"
   ]
  },
  {
   "cell_type": "raw",
   "id": "090d74d8-32a7-4425-8614-dd5ef8d9fe73",
   "metadata": {
    "tags": []
   },
   "source": [
    "res['toobris'] = 0\n",
    "\n",
    "for i in range(len(res)):\n",
    "    min_dist = 100\n",
    "    for j in range(len(obris)):\n",
    "        dista = dist((res['long'][i], res['lat'][i]), (obris['long'][j], obris['lat'][j]))\n",
    "        if (min_dist > dista):\n",
    "            min_dist = dista\n",
    "    res.at[i, 'toobris'] = min_dist"
   ]
  },
  {
   "cell_type": "code",
   "execution_count": null,
   "id": "63ebf1db-de73-41de-aa87-6f8a142c3cc9",
   "metadata": {
    "editable": true,
    "slideshow": {
     "slide_type": ""
    },
    "tags": []
   },
   "outputs": [],
   "source": [
    "destData"
   ]
  },
  {
   "cell_type": "code",
   "execution_count": null,
   "id": "8f347ca2-1317-4455-8166-0cd4bcd70087",
   "metadata": {
    "tags": []
   },
   "outputs": [],
   "source": [
    "res.to_csv(destData,\n",
    "           sep='\\t',\n",
    "           )"
   ]
  },
  {
   "cell_type": "code",
   "execution_count": null,
   "id": "a5c2b38f-6fe7-4c8f-8a2a-eb07a919946e",
   "metadata": {
    "editable": true,
    "slideshow": {
     "slide_type": ""
    },
    "tags": []
   },
   "outputs": [],
   "source": [
    "df.to_csv(os.path.join(pwd, 'AllSeaO1.txt'),\n",
    "          sep='\\t',\n",
    "          decimal=',',\n",
    "          )"
   ]
  },
  {
   "cell_type": "code",
   "execution_count": null,
   "id": "15034ddd-dd32-4a32-8269-8f812142faa4",
   "metadata": {
    "tags": []
   },
   "outputs": [],
   "source": [
    "%matplotlib inline\n",
    "valMax = res[(param, 'mean')].max\n",
    "\n",
    "fig, ax = plt.subplots()\n",
    "ax.set_xlim(106.2, 107.8)\n",
    "ax.set_ylim(52, 53)\n",
    "\n",
    "# wether this or those\n",
    "ax.scatter(res['long'], res['lat'], c=res[('cCH4Wtr', 'mean', 'mean')], s=40, marker='s', linewidth=0, cmap='rainbow', alpha=0.1)\n",
    "ax.plot(obris['long'], obris['lat'], 'b-')\n",
    "\n",
    "fig.savefig('gis.png')"
   ]
  },
  {
   "cell_type": "code",
   "execution_count": null,
   "id": "27676ba8-c818-4ee3-9e18-e036bafa22fc",
   "metadata": {},
   "outputs": [],
   "source": [
    "df.info()"
   ]
  },
  {
   "cell_type": "code",
   "execution_count": null,
   "id": "2e30db09-4a16-4da4-87d0-9fae35e3c2d5",
   "metadata": {},
   "outputs": [],
   "source": [
    "df.to_csv(os.path.join(pwd, 'all_.txt'), sep='\\t')"
   ]
  },
  {
   "cell_type": "code",
   "execution_count": null,
   "id": "698eedb1-30ad-4bbe-bdb4-f332c557bd3b",
   "metadata": {},
   "outputs": [],
   "source": [
    "pwd"
   ]
  },
  {
   "cell_type": "code",
   "execution_count": null,
   "id": "36250333-c3eb-48f4-8877-88ba3c2f8c1f",
   "metadata": {},
   "outputs": [],
   "source": []
  }
 ],
 "metadata": {
  "kernelspec": {
   "display_name": "Python 3 (ipykernel)",
   "language": "python",
   "name": "python3"
  },
  "language_info": {
   "codemirror_mode": {
    "name": "ipython",
    "version": 3
   },
   "file_extension": ".py",
   "mimetype": "text/x-python",
   "name": "python",
   "nbconvert_exporter": "python",
   "pygments_lexer": "ipython3",
   "version": "3.11.2"
  }
 },
 "nbformat": 4,
 "nbformat_minor": 5
}
