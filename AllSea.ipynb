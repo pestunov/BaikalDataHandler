{
 "cells": [
  {
   "cell_type": "code",
   "execution_count": null,
   "id": "2f6d2dd3-7936-4d9b-a57c-76c6b37028bb",
   "metadata": {
    "tags": []
   },
   "outputs": [],
   "source": [
    "import pandas as pd\n",
    "import numpy as np\n",
    "import matplotlib as mpl\n",
    "import matplotlib.pyplot as plt\n",
    "import datetime as dt"
   ]
  },
  {
   "cell_type": "code",
   "execution_count": null,
   "id": "4e77b902-5852-4cb1-85df-835eb5ae6041",
   "metadata": {
    "tags": []
   },
   "outputs": [],
   "source": [
    "from numpy import radians, sin, cos, arcsin, sqrt\n",
    "def dist(a, b):\n",
    "    \"\"\"\n",
    "    Calculate the great circle distance between two points\n",
    "    on the earth (specified in decimal degrees)\n",
    "    \"\"\"\n",
    "    x1, y1, x2, y2 = map(radians, [a[0], a[1], b[0], b[1]])\n",
    "    dx = x2 - x1\n",
    "    dy = y2 - y1\n",
    "    a = sin(dy/2)**2 + cos(y1) * cos(y2) * sin(dx/2)**2\n",
    "    c = 2 * arcsin(sqrt(a))\n",
    "    # Earth`s radius in kilometers\n",
    "    km = 6372.795 * c\n",
    "    return km"
   ]
  },
  {
   "cell_type": "code",
   "execution_count": null,
   "id": "2c5b1822-a104-48a5-b35e-092b989d793a",
   "metadata": {
    "tags": []
   },
   "outputs": [],
   "source": [
    "plt.style.use('classic')   # try another styles: 'classic'\n",
    "plt.rcParams['figure.figsize'] = [15, 15]\n",
    "\n",
    "srcData = \"G:/1_Data1/sea/AllSea.txt\"\n",
    "destData = \"G:/1_Data1/sea/AllSeaGisOut.txt\"\n",
    "obrisData = \"G:/1_Data1/obris/obris.dat\"\n",
    "batimetrFile = \"G:/1_Data1/batimetria/b2.txt\"\n",
    "# srcData = \"~/methaneSea.dat"
   ]
  },
  {
   "cell_type": "code",
   "execution_count": null,
   "id": "18fcc277-6828-40d9-aedd-7e084b8356d3",
   "metadata": {
    "tags": []
   },
   "outputs": [],
   "source": [
    "df = pd.read_csv(srcData,\n",
    "                 header=0,\n",
    "                 # skip_blank_lines=True,\n",
    "                 skipinitialspace=True,\n",
    "                 na_values='--',\n",
    "                 skiprows=[1,2,3,4],\n",
    "                 sep='\\t',\n",
    "                 decimal=',',\n",
    "                 # nrows=100000,\n",
    "                 parse_dates=['DateTime'],\n",
    "                 dayfirst=True\n",
    "                 )"
   ]
  },
  {
   "cell_type": "code",
   "execution_count": null,
   "id": "53826e91-72da-40c3-90a1-6a45a38021ad",
   "metadata": {
    "tags": []
   },
   "outputs": [],
   "source": [
    "df.shape"
   ]
  },
  {
   "cell_type": "code",
   "execution_count": null,
   "id": "de2bd8f2-45dd-4df9-b4fe-8fd3da97a1e2",
   "metadata": {
    "tags": []
   },
   "outputs": [],
   "source": [
    "df.dropna(axis='index', subset=['Longitude', 'Latitude', 'cCH4Wtr'], inplace=True)\n",
    "df.shape"
   ]
  },
  {
   "cell_type": "code",
   "execution_count": null,
   "id": "edf54fb2-e1df-45af-ab29-5b2ecf56556b",
   "metadata": {
    "tags": []
   },
   "outputs": [],
   "source": [
    "df['year'] = df['DateTime'].dt.year"
   ]
  },
  {
   "cell_type": "code",
   "execution_count": null,
   "id": "b71bb47f-84fe-4a4f-82b2-78177114ece8",
   "metadata": {
    "tags": []
   },
   "outputs": [],
   "source": [
    "df.reset_index(drop=True, inplace=True)\n",
    "df"
   ]
  },
  {
   "cell_type": "code",
   "execution_count": null,
   "id": "e577e998-f9a9-49ad-a3ec-c3c19dfe989d",
   "metadata": {
    "tags": []
   },
   "outputs": [],
   "source": [
    "for yr in range(2013, 2024):\n",
    "    t = df.loc[(df['year'] == yr) & df['cCH4Wtr']].shape\n",
    "    print(f'{yr}: {t[0]}')"
   ]
  },
  {
   "cell_type": "code",
   "execution_count": null,
   "id": "a02b1bf3-928f-490d-9709-0f31e9105f22",
   "metadata": {
    "tags": []
   },
   "outputs": [],
   "source": [
    "obris = pd.read_csv(obrisData,\n",
    "                    header=0,\n",
    "                    na_values='--',\n",
    "                    sep='\\t',\n",
    "                    decimal=',',\n",
    "                    )\n",
    "obris.head(3)"
   ]
  },
  {
   "cell_type": "code",
   "execution_count": null,
   "id": "494bda26-0676-46cf-973b-d5e9df759a9f",
   "metadata": {
    "tags": []
   },
   "outputs": [],
   "source": [
    "batlegend = pd.read_csv(batimetrFile,\n",
    "                         nrows=6,\n",
    "                         decimal='.',\n",
    "                         sep='\\s+',\n",
    "                         index_col=0,\n",
    "                         header=None,\n",
    "                        )\n",
    "batlegend= batlegend.T\n",
    "na_val = batlegend['nodata_value']"
   ]
  },
  {
   "cell_type": "code",
   "execution_count": null,
   "id": "c276fdd5-6914-46b7-90ba-49a9844bf1ad",
   "metadata": {
    "tags": []
   },
   "outputs": [],
   "source": [
    "batimetria = pd.read_csv(batimetrFile,\n",
    "                         skiprows=6,\n",
    "                         decimal='.',\n",
    "                         sep='\\s+',\n",
    "                         na_values=na_val,\n",
    "                         index_col=False,\n",
    "                         header=None,\n",
    "                        )\n",
    "\n",
    "# batimetria.dtypes\\\n",
    "xllcorner = batlegend.loc[1, 'xllcorner']\n",
    "yllcorner = batlegend.loc[1, 'yllcorner']\n",
    "cellsize = batlegend.loc[1, 'cellsize']"
   ]
  },
  {
   "cell_type": "code",
   "execution_count": null,
   "id": "1fc01b09-b3c4-44a4-9ee4-d4f485913ec1",
   "metadata": {
    "tags": []
   },
   "outputs": [],
   "source": [
    "batimetria"
   ]
  },
  {
   "cell_type": "code",
   "execution_count": null,
   "id": "15b740cd-b744-4ad6-b003-69ae73b78787",
   "metadata": {
    "tags": []
   },
   "outputs": [],
   "source": [
    "plt.imshow(batimetria)"
   ]
  },
  {
   "cell_type": "code",
   "execution_count": null,
   "id": "5b72f284-7e37-49f2-bae8-1a0473d56a45",
   "metadata": {
    "tags": []
   },
   "outputs": [],
   "source": [
    "#df['depth'] = batimetria.iloc[((df['Latitude'] - yllcorner) / cellsize).astype('int32'),((df['Longitude'] - xllcorner) / cellsize).astype('int32')]\n",
    "yllcorner_m = yllcorner + batimetria.shape[0] * cellsize\n",
    "yllcorner_m"
   ]
  },
  {
   "cell_type": "code",
   "execution_count": null,
   "id": "ecd7ef83-4874-4b3e-be2e-95f931f99305",
   "metadata": {
    "tags": []
   },
   "outputs": [],
   "source": [
    "df['batiy'] = ((yllcorner_m - df['Latitude']) / cellsize).astype('int32')\n",
    "df['batix'] = ((df['Longitude'] - xllcorner) / cellsize).astype('int32')\n",
    "df"
   ]
  },
  {
   "cell_type": "code",
   "execution_count": null,
   "id": "c0ef5a3d-8cd3-4097-a2bf-ae3e9799c408",
   "metadata": {
    "tags": []
   },
   "outputs": [],
   "source": [
    "#df = (pd.merge(df, batimetria.stack().rename(\"depth\"), left_on=[\"batiy\", \"batix\"], right_index=True, how=\"left\"))\n",
    "df['depth'] = batimetria.to_numpy()[df['batiy'], df['batix']]\n",
    "df"
   ]
  },
  {
   "cell_type": "code",
   "execution_count": null,
   "id": "0c45aade-3cb1-48b0-afa5-d2427aa27926",
   "metadata": {
    "tags": []
   },
   "outputs": [],
   "source": [
    "plt.scatter(df['Longitude'], df['Latitude'], s=30, c=df['depth'], marker='o', linewidth=0, alpha=0.1)\n",
    "plt.plot(obris['long'], obris['lat'], 'b-')"
   ]
  },
  {
   "cell_type": "code",
   "execution_count": null,
   "id": "98d1e5fb-ad15-45ea-87b8-8ce23caacac2",
   "metadata": {
    "tags": []
   },
   "outputs": [],
   "source": [
    "longStep = 0.01\n",
    "latStep = 0.005\n",
    "\n",
    "df['long'] = (df['Longitude']/longStep).round()*longStep\n",
    "df['lat'] = (df['Latitude']/latStep).round()*latStep\n",
    "df['year'] = df['DateTime'].dt.year"
   ]
  },
  {
   "cell_type": "code",
   "execution_count": null,
   "id": "2b551630-05fb-4d11-b462-326407ce8bdf",
   "metadata": {
    "tags": []
   },
   "outputs": [],
   "source": [
    "#func_list = ['mean', 'count']\n",
    "func_list = ['mean']\n",
    "cols_to_calc = {'pCO2Wtr': func_list,\n",
    "                'pCH4Wtr': func_list,\n",
    "                'cCO2Wtr': func_list,\n",
    "                'cCH4Wtr': func_list,\n",
    "                'dpCO2': func_list,\n",
    "                'dpCH4': func_list,\n",
    "                'pCO2Air': func_list,\n",
    "                'pCH4Air': func_list,\n",
    "                'depth': ['mean']}\n",
    "res = df.groupby(['year', 'long', 'lat'], as_index=False).agg(cols_to_calc)\n",
    "res"
   ]
  },
  {
   "cell_type": "code",
   "execution_count": null,
   "id": "adaa8f6a-09c3-46c4-9c85-a85560a7c396",
   "metadata": {
    "tags": []
   },
   "outputs": [],
   "source": [
    "for yr in range(2013, 2024):\n",
    "    t = res.loc[res['year'] == yr].shape\n",
    "    print(f'{yr}: {t[0]}')"
   ]
  },
  {
   "cell_type": "code",
   "execution_count": null,
   "id": "4f8f91e7-4511-4cd6-8af2-c3aab8fb5a91",
   "metadata": {
    "tags": []
   },
   "outputs": [],
   "source": [
    "func_list = ['mean', 'std', 'count']\n",
    "\n",
    "cols_to_calc = {('cCH4Wtr', 'mean'): func_list,\n",
    "                ('depth', 'mean'): func_list,\n",
    "               }\n",
    "res = res.groupby(['long', 'lat'], as_index=False).agg(cols_to_calc)\n",
    "res"
   ]
  },
  {
   "cell_type": "raw",
   "id": "090d74d8-32a7-4425-8614-dd5ef8d9fe73",
   "metadata": {
    "tags": []
   },
   "source": [
    "res['toobris'] = 0\n",
    "\n",
    "for i in range(len(res)):\n",
    "    min_dist = 100\n",
    "    for j in range(len(obris)):\n",
    "        dista = dist((res['long'][i], res['lat'][i]), (obris['long'][j], obris['lat'][j]))\n",
    "        if (min_dist > dista):\n",
    "            min_dist = dista\n",
    "    res.at[i, 'toobris'] = min_dist"
   ]
  },
  {
   "cell_type": "code",
   "execution_count": null,
   "id": "8f347ca2-1317-4455-8166-0cd4bcd70087",
   "metadata": {
    "tags": []
   },
   "outputs": [],
   "source": [
    "res.to_csv(destData,\n",
    "           sep='\\t',\n",
    "           )"
   ]
  },
  {
   "cell_type": "code",
   "execution_count": null,
   "id": "a5c2b38f-6fe7-4c8f-8a2a-eb07a919946e",
   "metadata": {
    "tags": []
   },
   "outputs": [],
   "source": [
    "res"
   ]
  },
  {
   "cell_type": "code",
   "execution_count": null,
   "id": "e01b12fd-01d1-4f33-9517-49d3eeab5581",
   "metadata": {
    "tags": []
   },
   "outputs": [],
   "source": [
    "plt.style.available"
   ]
  },
  {
   "cell_type": "code",
   "execution_count": null,
   "id": "15034ddd-dd32-4a32-8269-8f812142faa4",
   "metadata": {
    "tags": []
   },
   "outputs": [],
   "source": [
    "%matplotlib inline\n",
    "plt.style.use('bmh')   # try another styles: 'classic'\n",
    "valMax = res[('cCH4Wtr','mean')].max\n",
    "\n",
    "fig = plt.figure()\n",
    "\n",
    "# wether this or those\n",
    "plt.scatter(res['long'], res['lat'], c=res[('cCH4Wtr', 'mean', 'mean')], s=10, marker='s', linewidth=0)\n",
    "plt.plot(obris['long'], obris['lat'], 'b-')\n",
    "\n",
    "fig.savefig('gis.png')"
   ]
  },
  {
   "cell_type": "code",
   "execution_count": null,
   "id": "9125c522-aafb-4c3f-9e37-c322478f2298",
   "metadata": {},
   "outputs": [],
   "source": []
  }
 ],
 "metadata": {
  "kernelspec": {
   "display_name": "Python 3 (ipykernel)",
   "language": "python",
   "name": "python3"
  },
  "language_info": {
   "codemirror_mode": {
    "name": "ipython",
    "version": 3
   },
   "file_extension": ".py",
   "mimetype": "text/x-python",
   "name": "python",
   "nbconvert_exporter": "python",
   "pygments_lexer": "ipython3",
   "version": "3.11.2"
  }
 },
 "nbformat": 4,
 "nbformat_minor": 5
}
