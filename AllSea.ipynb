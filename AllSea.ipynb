{
 "cells": [
  {
   "cell_type": "code",
   "execution_count": null,
   "id": "2f6d2dd3-7936-4d9b-a57c-76c6b37028bb",
   "metadata": {
    "tags": []
   },
   "outputs": [],
   "source": [
    "import pandas as pd\n",
    "import numpy as np\n",
    "import matplotlib as mpl\n",
    "import matplotlib.pyplot as plt\n",
    "import datetime as dt"
   ]
  },
  {
   "cell_type": "code",
   "execution_count": null,
   "id": "4e77b902-5852-4cb1-85df-835eb5ae6041",
   "metadata": {
    "tags": []
   },
   "outputs": [],
   "source": [
    "from numpy import radians, sin, cos, arcsin, sqrt\n",
    "def dist(a, b):\n",
    "    \"\"\"\n",
    "    Calculate the great circle distance between two points\n",
    "    on the earth (specified in decimal degrees)\n",
    "    \"\"\"\n",
    "    x1, y1, x2, y2 = map(radians, [a[0], a[1], b[0], b[1]])\n",
    "    dx = x2 - x1\n",
    "    dy = y2 - y1\n",
    "    a = sin(dy/2)**2 + cos(y1) * cos(y2) * sin(dx/2)**2\n",
    "    c = 2 * arcsin(sqrt(a))\n",
    "    # Earth`s radius in kilometers\n",
    "    km = 6372.795 * c\n",
    "    return km"
   ]
  },
  {
   "cell_type": "code",
   "execution_count": null,
   "id": "2c5b1822-a104-48a5-b35e-092b989d793a",
   "metadata": {
    "tags": []
   },
   "outputs": [],
   "source": [
    "plt.style.use('classic')   # try another styles: 'classic'\n",
    "\n",
    "srcData = \"G:/1_Data1/sea/AllSea.txt\"\n",
    "destData = \"G:/1_Data1/sea/AllSeaGisOut.txt\"\n",
    "obrisData = \"G:/1_Data1/obris/obris.dat\"\n",
    "batimetrFile = \"G:/1_Data1/batimetria/b1.txt\"\n",
    "# srcData = \"~/methaneSea.dat"
   ]
  },
  {
   "cell_type": "code",
   "execution_count": null,
   "id": "66ed44d5-1b7f-4dcd-a950-6d32a325cb70",
   "metadata": {
    "tags": []
   },
   "outputs": [],
   "source": [
    "df = pd.read_csv(srcData,\n",
    "                 header=0,\n",
    "                 # skip_blank_lines=True,\n",
    "                 skipinitialspace=True,\n",
    "                 na_values='--',\n",
    "                 skiprows=[1,2,3,4],\n",
    "                 sep='\\t',\n",
    "                 decimal=',',\n",
    "                 # nrows=100000,\n",
    "                 parse_dates=['DateTime'],\n",
    "                 dayfirst=True\n",
    "                 )"
   ]
  },
  {
   "cell_type": "code",
   "execution_count": null,
   "id": "edf54fb2-e1df-45af-ab29-5b2ecf56556b",
   "metadata": {
    "tags": []
   },
   "outputs": [],
   "source": [
    "df['year'] = df['DateTime'].dt.year"
   ]
  },
  {
   "cell_type": "code",
   "execution_count": null,
   "id": "eee838a1-b736-4f46-ac92-26ba59d6f19e",
   "metadata": {
    "tags": []
   },
   "outputs": [],
   "source": [
    "df22 = pd.read_csv(\"G:/1_Data1/90_BaikalJun2022Sea/jun2022sea.dat\",\n",
    "                  header=0,\n",
    "                  na_values='--',\n",
    "                  skiprows=[0],\n",
    "                  sep='\\t',\n",
    "                  decimal=',',\n",
    "                  parse_dates=['DateTime'],\n",
    "                  dayfirst=True\n",
    "                  )\n",
    "df22['cCH4Wtr'] = df22['cCH4Wtr'] * 1e9"
   ]
  },
  {
   "cell_type": "code",
   "execution_count": null,
   "id": "e577e998-f9a9-49ad-a3ec-c3c19dfe989d",
   "metadata": {
    "tags": []
   },
   "outputs": [],
   "source": [
    "for yr in range(2013, 2024):\n",
    "    t = df.loc[(df['year'] == yr) & df['cCH4Wtr']].shape\n",
    "    print(f'{yr}: {t[0]}')"
   ]
  },
  {
   "cell_type": "code",
   "execution_count": null,
   "id": "f2a3f0df-4795-4fb5-9174-fd513f184b8b",
   "metadata": {
    "tags": []
   },
   "outputs": [],
   "source": [
    "df.sample(100)"
   ]
  },
  {
   "cell_type": "code",
   "execution_count": null,
   "id": "a02b1bf3-928f-490d-9709-0f31e9105f22",
   "metadata": {
    "tags": []
   },
   "outputs": [],
   "source": [
    "obris = pd.read_csv(obrisData,\n",
    "                    header=0,\n",
    "                    na_values='--',\n",
    "                    sep='\\t',\n",
    "                    decimal=',',\n",
    "                    )"
   ]
  },
  {
   "cell_type": "code",
   "execution_count": null,
   "id": "a7f00261-9f74-484e-907a-28bdd12f02aa",
   "metadata": {
    "tags": []
   },
   "outputs": [],
   "source": [
    "batlegend = pd.read_csv(batimetrFile,\n",
    "                         nrows=6,\n",
    "                         decimal='.',\n",
    "                         sep='\\s+',\n",
    "                         index_col=0,\n",
    "                         header=None,\n",
    "                        )\n",
    "batlegend= batlegend.T\n",
    "na_val = batlegend['nodata_value']\n",
    "batimetria = pd.read_csv(batimetrFile,\n",
    "                         skiprows=6,\n",
    "                         decimal='.',\n",
    "                         sep='\\s+',\n",
    "                         na_values=na_val,\n",
    "                         index_col=False,\n",
    "                         header=None,\n",
    "                        )\n",
    "\n",
    "# batimetria.dtypes\\\n",
    "xllcorner = batlegend['xllcorner']\n",
    "yllcorner = batlegend['yllcorner']\n",
    "cellsize = batlegend['cellsize']"
   ]
  },
  {
   "cell_type": "code",
   "execution_count": null,
   "id": "15b740cd-b744-4ad6-b003-69ae73b78787",
   "metadata": {
    "tags": []
   },
   "outputs": [],
   "source": [
    "batimetria"
   ]
  },
  {
   "cell_type": "code",
   "execution_count": null,
   "id": "52b36ac3-5896-442d-9bc8-ed725c92771c",
   "metadata": {
    "tags": []
   },
   "outputs": [],
   "source": [
    "# def coor2index(x, y):\n",
    "x, y = 110.5, 56\n",
    "ix = int((x - xllcorner) / cellsize)\n",
    "iy = int((y - yllcorner) / cellsize)\n",
    "ix, iy\n",
    "l = ((df['Longitude'] - xllcorner) / cellsize)\n",
    "l"
   ]
  },
  {
   "cell_type": "code",
   "execution_count": null,
   "id": "d764723e-6ece-4606-b56d-9fffb58b430c",
   "metadata": {
    "tags": []
   },
   "outputs": [],
   "source": [
    "df['depth'] = 0\n",
    "df['depth'] = batimetria.iloc[1,3]\n",
    "df"
   ]
  },
  {
   "cell_type": "code",
   "execution_count": null,
   "id": "98d1e5fb-ad15-45ea-87b8-8ce23caacac2",
   "metadata": {
    "tags": []
   },
   "outputs": [],
   "source": [
    "longStep = 0.01\n",
    "latStep = 0.005\n",
    "\n",
    "df['long'] = (df['Longitude']/longStep).round()*longStep\n",
    "df['lat'] = (df['Latitude']/latStep).round()*latStep\n",
    "df['year'] = df['DateTime'].dt.year"
   ]
  },
  {
   "cell_type": "code",
   "execution_count": null,
   "id": "2b551630-05fb-4d11-b462-326407ce8bdf",
   "metadata": {
    "tags": []
   },
   "outputs": [],
   "source": [
    "func_list = ['mean', 'count']\n",
    "cols_to_calc = {'pCO2Wtr': func_list,\n",
    "                'pCH4Wtr': func_list,\n",
    "                'cCO2Wtr': func_list,\n",
    "                'cCH4Wtr': func_list,\n",
    "                'dpCO2': func_list,\n",
    "                'dpCH4': func_list,\n",
    "                'pCO2Air': func_list,\n",
    "                'pCH4Air': func_list,}\n",
    "res = df.groupby(['year', 'long', 'lat'], as_index=False).agg(cols_to_calc)\n",
    "res.columns"
   ]
  },
  {
   "cell_type": "code",
   "execution_count": null,
   "id": "4f8f91e7-4511-4cd6-8af2-c3aab8fb5a91",
   "metadata": {
    "tags": []
   },
   "outputs": [],
   "source": [
    "cols_to_calc = {('cCH4Wtr', 'mean'): ['mean', 'count']}\n",
    "res = res.groupby(['long', 'lat'], as_index=False).agg(cols_to_calc)\n",
    "res"
   ]
  },
  {
   "cell_type": "code",
   "execution_count": null,
   "id": "344755a2-0914-4741-99be-7d867a7d41ac",
   "metadata": {
    "tags": []
   },
   "outputs": [],
   "source": [
    "# df = df.loc[df['year'] < 2022]\n",
    "for yr in range(2013, 2024):\n",
    "    t = res.loc[res['year'] == yr].shape\n",
    "    print(f'{yr}: {t[0]}')"
   ]
  },
  {
   "cell_type": "code",
   "execution_count": null,
   "id": "52163e4b-48a2-453a-83c8-ec3e8c60f11d",
   "metadata": {
    "tags": []
   },
   "outputs": [],
   "source": [
    "res['toobris'] = 0\n",
    "\n",
    "for i in range(len(res)):\n",
    "    min_dist = 100\n",
    "    for j in range(len(obris)):\n",
    "        dista = dist((res['long'][i], res['lat'][i]), (obris['long'][j], obris['lat'][j]))\n",
    "        if (min_dist > dista):\n",
    "            min_dist = dista\n",
    "    res.at[i, 'toobris'] = min_dist"
   ]
  },
  {
   "cell_type": "code",
   "execution_count": null,
   "id": "8f347ca2-1317-4455-8166-0cd4bcd70087",
   "metadata": {
    "tags": []
   },
   "outputs": [],
   "source": [
    "res.to_csv(destData,\n",
    "           sep='\\t',\n",
    "           )"
   ]
  },
  {
   "cell_type": "code",
   "execution_count": null,
   "id": "15034ddd-dd32-4a32-8269-8f812142faa4",
   "metadata": {
    "tags": []
   },
   "outputs": [],
   "source": [
    "%matplotlib inline\n",
    "valMax = res['pCH4Wtr'].max\n",
    "\n",
    "fig = plt.figure()\n",
    "\n",
    "# wether this or those\n",
    "plt.scatter(res['long'], res['lat'], c='r', s=10, marker='s')\n",
    "plt.plot(obris['long'], obris['lat'], 'b-')\n",
    "\n",
    "fig.savefig('gis.png')\n",
    "\n",
    "print(df)\n",
    "print(res)"
   ]
  },
  {
   "cell_type": "code",
   "execution_count": null,
   "id": "9125c522-aafb-4c3f-9e37-c322478f2298",
   "metadata": {},
   "outputs": [],
   "source": []
  }
 ],
 "metadata": {
  "kernelspec": {
   "display_name": "Python 3 (ipykernel)",
   "language": "python",
   "name": "python3"
  },
  "language_info": {
   "codemirror_mode": {
    "name": "ipython",
    "version": 3
   },
   "file_extension": ".py",
   "mimetype": "text/x-python",
   "name": "python",
   "nbconvert_exporter": "python",
   "pygments_lexer": "ipython3",
   "version": "3.11.2"
  }
 },
 "nbformat": 4,
 "nbformat_minor": 5
}
