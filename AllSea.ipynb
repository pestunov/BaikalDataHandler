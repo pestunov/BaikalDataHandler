{
 "cells": [
  {
   "cell_type": "code",
   "execution_count": null,
   "id": "2f6d2dd3-7936-4d9b-a57c-76c6b37028bb",
   "metadata": {
    "tags": []
   },
   "outputs": [],
   "source": [
    "import pandas as pd\n",
    "import numpy as np\n",
    "import matplotlib as mpl\n",
    "import matplotlib.pyplot as plt\n",
    "import datetime as dt\n",
    "import os\n",
    "\n",
    "import baikalfunctions as bfunc\n",
    "import scheme_mar2023 as scheme\n"
   ]
  },
  {
   "cell_type": "code",
   "execution_count": null,
   "id": "2c5b1822-a104-48a5-b35e-092b989d793a",
   "metadata": {
    "tags": []
   },
   "outputs": [],
   "source": [
    "plt.style.use('Solarize_Light2')   # try another styles: 'classic'\n",
    "plt.rcParams['figure.figsize'] = [15, 15]\n",
    "driver = '~/'\n",
    "pwd = os.path.join(driver, \"1_Data1/sea/\")\n",
    "destData = os.path.join(pwd, \"AllSeaGisOut.txt\")\n",
    "obrisData = os.path.join(driver, \"1_Data1/obris/obris.dat\")\n",
    "batimetrFile = os.path.join(driver, \"1_Data1/batimetria/b1.txt\")"
   ]
  },
  {
   "cell_type": "code",
   "execution_count": null,
   "id": "a02b1bf3-928f-490d-9709-0f31e9105f22",
   "metadata": {
    "editable": true,
    "slideshow": {
     "slide_type": ""
    },
    "tags": []
   },
   "outputs": [],
   "source": [
    "obris = pd.read_csv(obrisData,\n",
    "                    header=0,\n",
    "                    na_values='--',\n",
    "                    sep='\\t',\n",
    "                    decimal=',',\n",
    "                    )\n",
    "obris.head(3)"
   ]
  },
  {
   "cell_type": "code",
   "execution_count": null,
   "id": "18fcc277-6828-40d9-aedd-7e084b8356d3",
   "metadata": {
    "tags": []
   },
   "outputs": [],
   "source": [
    "df = pd.read_csv(os.path.join(pwd, \"AllSea.txt\"),\n",
    "                 header=0,\n",
    "                 # skip_blank_lines=True,\n",
    "                 skipinitialspace=True,\n",
    "                 na_values='',\n",
    "                 sep='\\t',\n",
    "                 decimal='.',\n",
    "                 # nrows=100000,\n",
    "                 parse_dates=['DateTime'],\n",
    "                 dayfirst=False,\n",
    "                 )\n",
    "df.drop(['Unnamed: 0'], axis='columns', inplace=True)"
   ]
  },
  {
   "cell_type": "code",
   "execution_count": null,
   "id": "21b27394-b470-47a1-b01f-ba5c1de573e1",
   "metadata": {},
   "outputs": [],
   "source": [
    "df = pd.read_csv(os.path.join(pwd+'BaikalJul2024Sea.dat'),\n",
    "                 sep='\\t',\n",
    "                 skiprows=[1],\n",
    "                 parse_dates=['DateTime'],\n",
    "                 dayfirst=False,\n",
    "                 na_values='',\n",
    "                 decimal='.',\n",
    "                )"
   ]
  },
  {
   "cell_type": "code",
   "execution_count": null,
   "id": "53826e91-72da-40c3-90a1-6a45a38021ad",
   "metadata": {
    "tags": []
   },
   "outputs": [],
   "source": [
    "df.shape, df.columns"
   ]
  },
  {
   "cell_type": "code",
   "execution_count": null,
   "id": "f56b18de-ae74-4ad4-abfc-70dc4680c78b",
   "metadata": {},
   "outputs": [],
   "source": [
    "## Work with few coloumns\n",
    "cols_stay = ['DateTime', 'Longitude', 'Latitude', 'pCO2Air', 'pCH4Air', 'pCO2Wtr', 'pCH4Wtr', 'dpCO2', 'dpCH4', 'cCO2Wtr', 'cCH4Wtr']\n",
    "df.drop(columns=[x for x in df.columns if x not in cols_stay], inplace=True)"
   ]
  },
  {
   "cell_type": "code",
   "execution_count": null,
   "id": "012618b1-cb48-46ba-92d6-1772020fe1f1",
   "metadata": {},
   "outputs": [],
   "source": [
    "df.info()"
   ]
  },
  {
   "cell_type": "code",
   "execution_count": null,
   "id": "e9086403-8552-40e0-9d4c-fb84878871b4",
   "metadata": {},
   "outputs": [],
   "source": [
    "df = df.resample('1min', on='DateTime').mean()"
   ]
  },
  {
   "cell_type": "code",
   "execution_count": null,
   "id": "de2bd8f2-45dd-4df9-b4fe-8fd3da97a1e2",
   "metadata": {
    "tags": []
   },
   "outputs": [],
   "source": [
    "#df = df.dropna(axis='index', subset=['Longitude', 'Latitude', 'cCO2Wtr', 'cCH4Wtr'], inplace=False)\n",
    "df = df.dropna(axis='index', subset=['Longitude', 'Latitude'], inplace=False)\n",
    "#dfco2 = df.dropna(axis='index', subset=['Longitude', 'Latitude', 'cCO2Wtr'], inplace=False)\n",
    "#dfch4 = df.dropna(axis='index', subset=['Longitude', 'Latitude', 'cCH4Wtr'], inplace=False)\n",
    "#dfco2.shape, dfch4.shape"
   ]
  },
  {
   "cell_type": "code",
   "execution_count": null,
   "id": "b71bb47f-84fe-4a4f-82b2-78177114ece8",
   "metadata": {
    "tags": []
   },
   "outputs": [],
   "source": [
    "df.reset_index(drop=False, inplace=True)\n",
    "df"
   ]
  },
  {
   "cell_type": "code",
   "execution_count": null,
   "id": "edf54fb2-e1df-45af-ab29-5b2ecf56556b",
   "metadata": {
    "tags": []
   },
   "outputs": [],
   "source": [
    "df['year'] = df['DateTime'].dt.year"
   ]
  },
  {
   "cell_type": "code",
   "execution_count": null,
   "id": "429dc443-5905-4c8a-ab19-bdcff8ac6365",
   "metadata": {},
   "outputs": [],
   "source": [
    "df"
   ]
  },
  {
   "cell_type": "code",
   "execution_count": null,
   "id": "e577e998-f9a9-49ad-a3ec-c3c19dfe989d",
   "metadata": {
    "tags": []
   },
   "outputs": [],
   "source": [
    "for yr in range(2013, 2026):\n",
    "    t = df.loc[(df['year'] == yr), ['cCO2Wtr']].shape\n",
    "    print(f'{yr}: {t[0]}')"
   ]
  },
  {
   "cell_type": "code",
   "execution_count": null,
   "id": "b3675f39-1bff-49db-8177-9203f675fca9",
   "metadata": {},
   "outputs": [],
   "source": [
    "df.dropna(subset='cCO2Wtr').sort_values(by='cCO2Wtr').tail(10)"
   ]
  },
  {
   "cell_type": "code",
   "execution_count": null,
   "id": "4128c464-6a93-4790-87af-e78360998144",
   "metadata": {},
   "outputs": [],
   "source": [
    "## wrong data while starting measurements\n",
    "filter_list = [{'date_start': '2024-05-20 00:00', 'date_stop': '2024-05-30 04:48', 'cols': ['pCO2Air', 'pCH4Air'], 'fill_with': np.NaN},   # Wrong data\n",
    "               {'date_start': '2021-06-02 18:50', 'date_stop': '2021-06-02 18:54', 'cols': ['pCO2Wtr', 'dpCO2'], 'fill_with': np.NaN},   # Wrong data\n",
    "               {'date_start': '2021-06-02 20:56', 'date_stop': '2021-06-02 20:57', 'cols': ['pCO2Wtr', 'dpCO2'], 'fill_with': np.NaN},   # Wrong data\n",
    "               {'date_start': '2021-06-12 07:41', 'date_stop': '2021-06-12 07:41', 'cols': ['pCO2Wtr', 'dpCO2'], 'fill_with': np.NaN},   # Wrong data\n",
    "               {'date_start': '2024-06-03 03:33', 'date_stop': '2024-06-03 03:33', 'cols': ['pCO2Wtr', 'dpCO2'], 'fill_with': np.NaN},   # Wrong data\n",
    "              ]\n",
    "\n",
    "for cycle in filter_list:\n",
    "    for col in cycle['cols']:\n",
    "        date_start = pd.to_datetime(cycle['date_start'])\n",
    "        date_stop = pd.to_datetime(cycle['date_stop'])\n",
    "        df.loc[(df['DateTime'] >= date_start) & (df['DateTime'] <= date_stop), col] = cycle['fill_with']\n",
    "\n",
    "df.loc[(df['year'] == 2018) & (df['dpCO2'] >= 600), ['dpCO2', 'cCO2Wtr', 'pCO2Wtr']] = np.NaN\n",
    "df.loc[(df['year'] == 2021) & (df['dpCO2'] <= -350), ['dpCO2', 'cCO2Wtr', 'pCO2Wtr']] = np.NaN\n",
    "df.loc[(df['year'] == 2023) & (df['dpCO2'] >= 600), ['dpCO2', 'cCO2Wtr', 'pCO2Wtr']] = np.NaN\n",
    "df.loc[(df['year'] == 2024) & (df['dpCO2'] >= 600), ['dpCO2', 'cCO2Wtr', 'pCO2Wtr']] = np.NaN\n",
    "df.loc[df['cCO2Wtr'] >= 3.25, ['dpCO2', 'cCO2Wtr', 'pCO2Wtr']] = np.NaN\n"
   ]
  },
  {
   "cell_type": "code",
   "execution_count": null,
   "id": "f8b6d3b0-e915-4305-8a2f-f6009f45a331",
   "metadata": {},
   "outputs": [],
   "source": [
    "plt.rcParams['figure.figsize'] = [10,5]\n",
    "#plt.ylim(-450, -250)\n",
    "plt.scatter('DateTime', 'cCO2Wtr', s=1, data=df.loc[df['year']==2024, :], c='red')\n",
    "plt.scatter('DateTime', 'cCO2Wtr', s=1, data=df)\n",
    "\n",
    "#plt.scatter('DateTime', 'vCO2Air', s=1, data=df.loc[(df['DateTime'] > pd.to_datetime('30.05.2024 00:00', dayfirst=True)) & (df['DateTime'] < pd.to_datetime('30.05.2024 07:00', dayfirst=True)), :])"
   ]
  },
  {
   "cell_type": "code",
   "execution_count": null,
   "id": "7b31525b-0ecc-424f-ba17-386ebc9bc07b",
   "metadata": {},
   "outputs": [],
   "source": [
    "central_stations = {}\n",
    "for key, coor in scheme.central.items():\n",
    "    central_stations[key] = scheme.get_center(coor)\n",
    "central_stations"
   ]
  },
  {
   "cell_type": "code",
   "execution_count": null,
   "id": "15f01a0b-a8ed-42aa-98d7-1b872dec68eb",
   "metadata": {},
   "outputs": [],
   "source": [
    "dfc = pd.DataFrame.from_dict(central_stations, orient='index')\n",
    "dfc.columns = ['Latitude', 'Longitude']\n",
    "dfp = pd.DataFrame.from_dict(scheme.points, orient='index')\n",
    "dfp.columns = ['Latitude', 'Longitude']\n",
    "dfp.reset_index(drop=False, inplace=True, names='place')"
   ]
  },
  {
   "cell_type": "code",
   "execution_count": null,
   "id": "33ba6c7b-2841-467f-a8cd-53c687238bc2",
   "metadata": {},
   "outputs": [],
   "source": [
    "plt.rcParams['figure.figsize'] = [30, 30]\n",
    "plt.scatter('Longitude', 'Latitude', data=df.loc[df['year'] == 2013,:], s=2, alpha=0.1)\n",
    "#plt.scatter('Longitude', 'Latitude', data=dfj, s=2, c='green', alpha=0.1)\n",
    "plt.scatter('Longitude', 'Latitude', data=dfc, s=20, c='red', alpha=1)\n",
    "plt.scatter('Longitude', 'Latitude', data=dfp, s=10, c='darkred', alpha=1)\n",
    "plt.plot('long', 'lat', 'b-', data=obris, alpha=1)\n",
    "#plt.xlim(106.8, 107)\n",
    "#plt.ylim(52.6, 52.8)\n",
    "#plt.xlim(104, 105)\n",
    "#plt.ylim(51.4, 52)\n",
    "for name, coor in central_stations.items():\n",
    "    plt.annotate(name, (coor[1]+0.001, coor[0]+0.002))\n",
    "for name, coor in scheme.points.items():\n",
    "    plt.annotate(name, (coor[1]+0.001, coor[0]+0.002))\n",
    "plt.savefig('track_2_3.png')"
   ]
  },
  {
   "cell_type": "code",
   "execution_count": null,
   "id": "76d55d47-507d-4bae-9915-c4a7616ff8b3",
   "metadata": {},
   "outputs": [],
   "source": [
    "df['Station'] = ''\n",
    "DLAT = 0.01\n",
    "DLNG = 0.02\n",
    "\n",
    "for k, v in central_stations.items():\n",
    "    df.loc[(df['Latitude'].between(v[0]-DLAT, v[0]+DLAT) & df['Longitude'].between(v[1]-DLNG, v[1]+DLNG)), 'Station'] = k"
   ]
  },
  {
   "cell_type": "code",
   "execution_count": null,
   "id": "0f72a4e8-6a39-419c-86d9-b54e61525c3a",
   "metadata": {},
   "outputs": [],
   "source": [
    "dfg = df.groupby(by=['year', 'Station'])['cCO2Wtr'].agg(['count', 'mean', 'median', 'std'])\n",
    "dfg"
   ]
  },
  {
   "cell_type": "code",
   "execution_count": null,
   "id": "74a2e826-d8aa-4b71-96bd-81f2bb15db0a",
   "metadata": {},
   "outputs": [],
   "source": [
    "dfg.to_csv('CO2CentralStationAllSpring.dat', sep='\\t')"
   ]
  },
  {
   "cell_type": "code",
   "execution_count": null,
   "id": "8f329846-c0f0-460c-a1e9-a07f485521d7",
   "metadata": {},
   "outputs": [],
   "source": [
    "meteo = pd.read_csv(os.path.join(pwd, 'meteo.txt'),\n",
    "                    sep='\\t',\n",
    "                    decimal='.',\n",
    "                    parse_dates=['DateTime'],\n",
    "                    dayfirst=False,\n",
    "                   )\n",
    "\n",
    "colsneeded = ['DateTime', 'vx', 'vy', 'Wh', 'Wdir']\n",
    "meteo.drop(columns=[col for col in meteo.columns if col not in colsneeded], axis='columns', inplace=True)\n",
    "# meteo = meteo.loc[meteo['DateTime'] < pd.to_datetime('2024-07-01'), :]\n",
    "meteo"
   ]
  },
  {
   "cell_type": "code",
   "execution_count": null,
   "id": "51471e69-5427-42b7-902a-42be7d2cfadd",
   "metadata": {},
   "outputs": [],
   "source": [
    "## some wrong data while severe wind unsyncronized the UltraSonic threshold \n",
    "meteo.loc[meteo['vy'] > 20, 'vy'] = np.nan"
   ]
  },
  {
   "cell_type": "code",
   "execution_count": null,
   "id": "295a5803-d064-4334-a67a-97fd2d4dc6a0",
   "metadata": {},
   "outputs": [],
   "source": [
    "plt.rcParams['figure.figsize'] = [12,5]\n",
    "plt.scatter('DateTime', 'vx', data=meteo, alpha=0.4, s=1, c='red')\n",
    "plt.scatter('DateTime', 'vy', data=meteo, alpha=0.4, s=1, c='blue')\n",
    "plt.xlim(pd.to_datetime('2021-06-06 12:00'), pd.to_datetime('2021-06-07'))"
   ]
  },
  {
   "cell_type": "code",
   "execution_count": null,
   "id": "62222c26-f773-4cc3-9462-8819d5db5c74",
   "metadata": {},
   "outputs": [],
   "source": [
    "meteo = meteo.resample('1min', on='DateTime').mean()\n",
    "meteo.reset_index(drop=False, inplace=True)\n",
    "meteo"
   ]
  },
  {
   "cell_type": "code",
   "execution_count": null,
   "id": "71f50f32-f3ce-4194-b4e7-207dec447842",
   "metadata": {},
   "outputs": [],
   "source": [
    "meteo.dropna(axis='index', subset=['vx', 'vy'], inplace=True)"
   ]
  },
  {
   "cell_type": "code",
   "execution_count": null,
   "id": "5ff509ba-ec25-4ee4-8a20-47313c562dfe",
   "metadata": {},
   "outputs": [],
   "source": [
    "meteo"
   ]
  },
  {
   "cell_type": "code",
   "execution_count": null,
   "id": "76e22663-4fa5-4396-bac8-76fd3bee919b",
   "metadata": {},
   "outputs": [],
   "source": [
    "df = pd.merge(left=df, right=meteo, left_on='DateTime', right_on='DateTime', how='outer').sort_values(by='DateTime')"
   ]
  },
  {
   "cell_type": "code",
   "execution_count": null,
   "id": "8308dc56-bd91-4c9e-966d-9fa5f6ae0dad",
   "metadata": {},
   "outputs": [],
   "source": [
    "df"
   ]
  },
  {
   "cell_type": "code",
   "execution_count": null,
   "id": "9b79a2c0-9a96-467b-9074-fe5987c232dc",
   "metadata": {},
   "outputs": [],
   "source": [
    "## vesx: RV x offset along longitude, vesy: RV y offset along latitude (meters)\n",
    "df['vesx'] = dist((df['Longitude'], df['Latitude']), (df['Longitude'].shift(1), df['Latitude'])) * np.sign(df['Longitude']-df['Longitude'].shift(1)) * 1000  ## meters per sec\n",
    "df['vesy'] = dist((df['Longitude'], df['Latitude']), (df['Longitude'], df['Latitude'].shift(1))) * np.sign(df['Latitude']-df['Latitude'].shift(1)) * 1000\n",
    "df['dateSec'] = df['DateTime'].astype('int64')/10**9  ## seconds\n",
    "df['dt'] = (df['dateSec'] - df['dateSec'].shift(1))\n",
    "df['vesSpeed'] = np.sqrt(np.power(df['vesx'], 2) + np.power(df['vesy'], 2)) / df['dt']"
   ]
  },
  {
   "cell_type": "code",
   "execution_count": null,
   "id": "50192bc8-b0d9-4add-b8e7-360766cec2fe",
   "metadata": {},
   "outputs": [],
   "source": [
    "df['winSpeed'] = np.sqrt(np.power(df['vx'],2) + np.power((df['vy'] - df['vesy']/df['dt']),2))"
   ]
  },
  {
   "cell_type": "code",
   "execution_count": null,
   "id": "8a7825e2-14f5-4d3f-ae84-f33f6cac67d9",
   "metadata": {},
   "outputs": [],
   "source": [
    "df.loc[(df['DateTime'] > pd.to_datetime('2023-06-01 01:10')) & (df['DateTime'] < pd.to_datetime('2023-06-01 01:30')), ['DateTime', 'Longitude', 'vesx', 'Latitude', 'vesy', 'Speed', 'vesSpeed', 'vx', 'vy', 'winSpeed', 'Wh']]"
   ]
  },
  {
   "cell_type": "code",
   "execution_count": null,
   "id": "538ad720-e56e-4c98-bf6f-7b642465a801",
   "metadata": {
    "editable": true,
    "slideshow": {
     "slide_type": ""
    },
    "tags": []
   },
   "outputs": [],
   "source": [
    "plt.rcParams['figure.figsize'] = [25, 10]\n",
    "#plt.scatter('DateTime', 'vesSpeed', data=df.loc[df['year']==2023,:], s=1, alpha=0.5)\n",
    "plt.scatter('DateTime', 'Speed', data=df.loc[df['year']==2023,:], s=1, alpha=0.5, c='red')\n",
    "plt.scatter('DateTime', 'winSpeed', data=df.loc[df['year']==2023,:], s=6, alpha=0.5, c='green')\n",
    "plt.scatter('DateTime', 'Wh', data=df.loc[df['year']==2023,:], s=3, alpha=0.2, c='blue')\n",
    "plt.plot('DateTime', 'winSpeed', data=df.loc[df['year']==2023,:], c='green')\n",
    "plt.legend()\n",
    "plt.ylim(0, 10)\n",
    "#plt.xlim(pd.to_datetime('2023-06-01 00:00'), pd.to_datetime('2023-06-02 15:00'))"
   ]
  },
  {
   "cell_type": "code",
   "execution_count": null,
   "id": "494bda26-0676-46cf-973b-d5e9df759a9f",
   "metadata": {
    "tags": []
   },
   "outputs": [],
   "source": [
    "batlegend = pd.read_csv(batimetrFile,\n",
    "                         nrows=6,\n",
    "                         decimal='.',\n",
    "                         sep=r'\\s+',\n",
    "                         index_col=0,\n",
    "                         header=None,\n",
    "                        )\n",
    "batlegend = batlegend.T\n",
    "na_val = batlegend['nodata_value']"
   ]
  },
  {
   "cell_type": "code",
   "execution_count": null,
   "id": "c276fdd5-6914-46b7-90ba-49a9844bf1ad",
   "metadata": {
    "tags": []
   },
   "outputs": [],
   "source": [
    "batimetria = pd.read_csv(batimetrFile,\n",
    "                         skiprows=6,\n",
    "                         decimal='.',\n",
    "                         sep=r'\\s+',\n",
    "                         na_values=na_val,\n",
    "                         index_col=False,\n",
    "                         header=None,\n",
    "                        )\n",
    "\n",
    "# batimetria.dtypes\\\n",
    "xllcorner = batlegend.loc[1, 'xllcorner']\n",
    "yllcorner = batlegend.loc[1, 'yllcorner']\n",
    "cellsize = batlegend.loc[1, 'cellsize']"
   ]
  },
  {
   "cell_type": "code",
   "execution_count": null,
   "id": "79df8a0f-c840-43dd-bd3e-7f007a3156e4",
   "metadata": {},
   "outputs": [],
   "source": [
    "yllcorner"
   ]
  },
  {
   "cell_type": "code",
   "execution_count": null,
   "id": "1fc01b09-b3c4-44a4-9ee4-d4f485913ec1",
   "metadata": {
    "tags": []
   },
   "outputs": [],
   "source": [
    "batimetria"
   ]
  },
  {
   "cell_type": "code",
   "execution_count": null,
   "id": "15b740cd-b744-4ad6-b003-69ae73b78787",
   "metadata": {
    "tags": []
   },
   "outputs": [],
   "source": [
    "## plt.rcParams['figure.figsize'] = [4, 4]\n",
    "plt.imshow(batimetria)"
   ]
  },
  {
   "cell_type": "code",
   "execution_count": null,
   "id": "5b72f284-7e37-49f2-bae8-1a0473d56a45",
   "metadata": {
    "tags": []
   },
   "outputs": [],
   "source": [
    "#df['depth'] = batimetria.iloc[((df['Latitude'] - yllcorner) / cellsize).astype('int32'),((df['Longitude'] - xllcorner) / cellsize).astype('int32')]\n",
    "yllcorner_m = yllcorner + batimetria.shape[0] * cellsize\n",
    "yllcorner_m"
   ]
  },
  {
   "cell_type": "code",
   "execution_count": null,
   "id": "c0a900df-a8d7-416e-b47d-d4a6cd241a29",
   "metadata": {
    "tags": []
   },
   "outputs": [],
   "source": [
    "df = df.dropna(axis='index', subset=['Longitude', 'Latitude'], inplace=False)"
   ]
  },
  {
   "cell_type": "code",
   "execution_count": null,
   "id": "c1793eb5-b772-4b11-89ab-d254468f791e",
   "metadata": {
    "tags": []
   },
   "outputs": [],
   "source": [
    "df['batix'] = ((df['Longitude'] - xllcorner) / cellsize).astype('int32')\n",
    "df['batiy'] = ((yllcorner_m - df['Latitude']) / cellsize).astype('int32')\n",
    "df.columns"
   ]
  },
  {
   "cell_type": "code",
   "execution_count": null,
   "id": "c0ef5a3d-8cd3-4097-a2bf-ae3e9799c408",
   "metadata": {
    "tags": []
   },
   "outputs": [],
   "source": [
    "#df = (pd.merge(df, batimetria.stack().rename(\"depth\"), left_on=[\"batiy\", \"batix\"], right_index=True, how=\"left\"))\n",
    "df['depth'] = batimetria.to_numpy()[df['batiy'], df['batix']]\n",
    "df"
   ]
  },
  {
   "cell_type": "code",
   "execution_count": null,
   "id": "0c45aade-3cb1-48b0-afa5-d2427aa27926",
   "metadata": {
    "tags": []
   },
   "outputs": [],
   "source": [
    "plt.rcParams['figure.figsize'] = [10, 10]\n",
    "plt.scatter(df['Longitude'], df['Latitude'], s=10, c=df['year'], marker='o', linewidth=0, alpha=0.5)\n",
    "plt.plot(obris['long'], obris['lat'], 'b-')\n",
    "plt.colorbar()"
   ]
  },
  {
   "cell_type": "code",
   "execution_count": null,
   "id": "98d1e5fb-ad15-45ea-87b8-8ce23caacac2",
   "metadata": {
    "tags": []
   },
   "outputs": [],
   "source": [
    "longStep = 0.02\n",
    "latStep = 0.01\n",
    "\n",
    "df['long'] = (df['Longitude']/longStep).round()*longStep\n",
    "df['lat'] = (df['Latitude']/latStep).round()*latStep"
   ]
  },
  {
   "cell_type": "code",
   "execution_count": null,
   "id": "fcef07fd-d666-4507-a116-4d6b23ba188f",
   "metadata": {},
   "outputs": [],
   "source": [
    "dist((80, 56), (80.02, 56))"
   ]
  },
  {
   "cell_type": "code",
   "execution_count": null,
   "id": "2b551630-05fb-4d11-b462-326407ce8bdf",
   "metadata": {
    "tags": []
   },
   "outputs": [],
   "source": [
    "func_list = ['mean', 'count']\n",
    "#func_list = ['mean']\n",
    "cols_to_calc = {'pCO2Wtr': func_list,\n",
    "                'pCH4Wtr': func_list,\n",
    "                'cCO2Wtr': func_list,\n",
    "                'cCH4Wtr': func_list,\n",
    "                'dpCO2': func_list,\n",
    "                'dpCH4': func_list,\n",
    "                'pCO2Air': func_list,\n",
    "                'pCH4Air': func_list,\n",
    "                'depth': ['mean']}\n",
    "res = df.groupby(['year', 'long', 'lat'], as_index=False).agg(cols_to_calc)\n",
    "res"
   ]
  },
  {
   "cell_type": "code",
   "execution_count": null,
   "id": "adaa8f6a-09c3-46c4-9c85-a85560a7c396",
   "metadata": {
    "tags": []
   },
   "outputs": [],
   "source": [
    "for yr in range(2013, 2026):\n",
    "    t = res.loc[res['year'] == yr].shape\n",
    "    print(f'{yr}: {t[0]}')"
   ]
  },
  {
   "cell_type": "code",
   "execution_count": null,
   "id": "ce2480bd-9d6d-48da-a2d0-d2ea9bfb8497",
   "metadata": {
    "editable": true,
    "slideshow": {
     "slide_type": ""
    },
    "tags": []
   },
   "outputs": [],
   "source": [
    "plt.rcParams['figure.figsize'] = [8,10]\n",
    "plt.plot('long', 'lat', data=obris, markersize=1, alpha=1)\n",
    "plt.scatter('long', 'lat', data=res, s=20, alpha=0.1, c=res[('dpCO2', 'mean')], cmap='rainbow')\n",
    "plt.colorbar()\n",
    "plt.clim(-200,200)\n",
    "#for yr in [2013, 2016, 2017, 2018, 2020, 2021, 2022, 2023, 2024]:\n",
    "#for yr in [2024]:\n",
    "#    plt.scatter('long', 'lat', data=res.loc[res['year']==yr, :], s=20, alpha=0.1, c=res.loc[res['year']==yr, ('dpCO2', 'mean')], cmap='Paired')\n",
    "    #plt.colorbar()"
   ]
  },
  {
   "cell_type": "code",
   "execution_count": null,
   "id": "f8555e13-d9d6-4f79-b3e1-e9007535cb98",
   "metadata": {},
   "outputs": [],
   "source": [
    "res.describe()"
   ]
  },
  {
   "cell_type": "raw",
   "id": "8f30717d-3cc8-4d2e-8bc4-e23fc1dabd8e",
   "metadata": {},
   "source": [
    "supported values are 'Accent', 'Accent_r', 'Blues', 'Blues_r', 'BrBG', 'BrBG_r', 'BuGn', 'BuGn_r', 'BuPu', 'BuPu_r', 'CMRmap', 'CMRmap_r', 'Dark2', 'Dark2_r', 'GnBu', 'GnBu_r', 'Grays', 'Greens', 'Greens_r', 'Greys', 'Greys_r', 'OrRd', 'OrRd_r', 'Oranges', 'Oranges_r', 'PRGn', 'PRGn_r', 'Paired', 'Paired_r', 'Pastel1', 'Pastel1_r', 'Pastel2', 'Pastel2_r', 'PiYG', 'PiYG_r', 'PuBu', 'PuBuGn', 'PuBuGn_r', 'PuBu_r', 'PuOr', 'PuOr_r', 'PuRd', 'PuRd_r', 'Purples', 'Purples_r', 'RdBu', 'RdBu_r', 'RdGy', 'RdGy_r', 'RdPu', 'RdPu_r', 'RdYlBu', 'RdYlBu_r', 'RdYlGn', 'RdYlGn_r', 'Reds', 'Reds_r', 'Set1', 'Set1_r', 'Set2', 'Set2_r', 'Set3', 'Set3_r', 'Spectral', 'Spectral_r', 'Wistia', 'Wistia_r', 'YlGn', 'YlGnBu', 'YlGnBu_r', 'YlGn_r', 'YlOrBr', 'YlOrBr_r', 'YlOrRd', 'YlOrRd_r', 'afmhot', 'afmhot_r', 'autumn', 'autumn_r', 'binary', 'binary_r', 'bone', 'bone_r', 'brg', 'brg_r', 'bwr', 'bwr_r', 'cividis', 'cividis_r', 'cool', 'cool_r', 'coolwarm', 'coolwarm_r', 'copper', 'copper_r', 'cubehelix', 'cubehelix_r', 'flag', 'flag_r', 'gist_earth', 'gist_earth_r', 'gist_gray', 'gist_gray_r', 'gist_grey', 'gist_heat', 'gist_heat_r', 'gist_ncar', 'gist_ncar_r', 'gist_rainbow', 'gist_rainbow_r', 'gist_stern', 'gist_stern_r', 'gist_yarg', 'gist_yarg_r', 'gist_yerg', 'gnuplot', 'gnuplot2', 'gnuplot2_r', 'gnuplot_r', 'gray', 'gray_r', 'grey', 'hot', 'hot_r', 'hsv', 'hsv_r', 'inferno', 'inferno_r', 'jet', 'jet_r', 'magma', 'magma_r', 'nipy_spectral', 'nipy_spectral_r', 'ocean', 'ocean_r', 'pink', 'pink_r', 'plasma', 'plasma_r', 'prism', 'prism_r', 'rainbow', 'rainbow_r', 'seismic', 'seismic_r', 'spring', 'spring_r', 'summer', 'summer_r', 'tab10', 'tab10_r', 'tab20', 'tab20_r', 'tab20b', 'tab20b_r', 'tab20c', 'tab20c_r', 'terrain', 'terrain_r', 'turbo', 'turbo_r', 'twilight', 'twilight_r', 'twilight_shifted', 'twilight_shifted_r', 'viridis', 'viridis_r', 'winter', 'winter_r'\n",
    "\n"
   ]
  },
  {
   "cell_type": "code",
   "execution_count": null,
   "id": "4f8f91e7-4511-4cd6-8af2-c3aab8fb5a91",
   "metadata": {
    "tags": []
   },
   "outputs": [],
   "source": [
    "func_list = ['mean', 'std', 'count']\n",
    "\n",
    "cols_to_calc = {('cCH4Wtr', 'mean'): func_list,\n",
    "                ('cCO2Wtr', 'mean'): func_list,\n",
    "                ('depth', 'mean'): ['mean'],\n",
    "               }\n",
    "res = res.groupby(['long', 'lat'], as_index=False).agg(cols_to_calc)\n",
    "res"
   ]
  },
  {
   "cell_type": "raw",
   "id": "090d74d8-32a7-4425-8614-dd5ef8d9fe73",
   "metadata": {
    "tags": []
   },
   "source": [
    "res['toobris'] = 0\n",
    "\n",
    "for i in range(len(res)):\n",
    "    min_dist = 100\n",
    "    for j in range(len(obris)):\n",
    "        dista = dist((res['long'][i], res['lat'][i]), (obris['long'][j], obris['lat'][j]))\n",
    "        if (min_dist > dista):\n",
    "            min_dist = dista\n",
    "    res.at[i, 'toobris'] = min_dist"
   ]
  },
  {
   "cell_type": "code",
   "execution_count": null,
   "id": "63ebf1db-de73-41de-aa87-6f8a142c3cc9",
   "metadata": {
    "editable": true,
    "slideshow": {
     "slide_type": ""
    },
    "tags": []
   },
   "outputs": [],
   "source": [
    "destData"
   ]
  },
  {
   "cell_type": "code",
   "execution_count": null,
   "id": "8f347ca2-1317-4455-8166-0cd4bcd70087",
   "metadata": {
    "tags": []
   },
   "outputs": [],
   "source": [
    "res.to_csv(destData,\n",
    "           sep='\\t',\n",
    "           )"
   ]
  },
  {
   "cell_type": "code",
   "execution_count": null,
   "id": "a5c2b38f-6fe7-4c8f-8a2a-eb07a919946e",
   "metadata": {
    "editable": true,
    "slideshow": {
     "slide_type": ""
    },
    "tags": []
   },
   "outputs": [],
   "source": [
    "df.to_csv(os.path.join(pwd, 'AllSea.txt'),\n",
    "           sep='\\t'\n",
    "          )"
   ]
  },
  {
   "cell_type": "code",
   "execution_count": null,
   "id": "15034ddd-dd32-4a32-8269-8f812142faa4",
   "metadata": {
    "tags": []
   },
   "outputs": [],
   "source": [
    "%matplotlib inline\n",
    "#valMax = res[('cCO2Wtr','mean')].max\n",
    "plt.rcParams['figure.figsize'] = [10,10]\n",
    "fig, ax = plt.subplots()\n",
    "ax.set_xlim(103.2, 110)\n",
    "ax.set_ylim(51, 56)\n",
    "\n",
    "# wether this or those\n",
    "ax.scatter(res['long'], res['lat'], c=res[('cCO2Wtr', 'mean', 'mean')], s=40, marker='s', linewidth=0, cmap='rainbow', alpha=0.1)\n",
    "ax.plot(obris['long'], obris['lat'], 'b-')\n",
    "\n",
    "fig.savefig('gis.png')"
   ]
  },
  {
   "cell_type": "code",
   "execution_count": null,
   "id": "27676ba8-c818-4ee3-9e18-e036bafa22fc",
   "metadata": {},
   "outputs": [],
   "source": [
    "df.info()"
   ]
  },
  {
   "cell_type": "code",
   "execution_count": null,
   "id": "2e30db09-4a16-4da4-87d0-9fae35e3c2d5",
   "metadata": {},
   "outputs": [],
   "source": [
    "df.to_csv(os.path.join(pwd, 'all.txt'), sep='\\t')"
   ]
  },
  {
   "cell_type": "code",
   "execution_count": null,
   "id": "698eedb1-30ad-4bbe-bdb4-f332c557bd3b",
   "metadata": {},
   "outputs": [],
   "source": [
    "pwd"
   ]
  },
  {
   "cell_type": "code",
   "execution_count": null,
   "id": "36250333-c3eb-48f4-8877-88ba3c2f8c1f",
   "metadata": {},
   "outputs": [],
   "source": []
  }
 ],
 "metadata": {
  "kernelspec": {
   "display_name": "Python 3 (ipykernel)",
   "language": "python",
   "name": "python3"
  },
  "language_info": {
   "codemirror_mode": {
    "name": "ipython",
    "version": 3
   },
   "file_extension": ".py",
   "mimetype": "text/x-python",
   "name": "python",
   "nbconvert_exporter": "python",
   "pygments_lexer": "ipython3",
   "version": "3.12.2"
  }
 },
 "nbformat": 4,
 "nbformat_minor": 5
}
