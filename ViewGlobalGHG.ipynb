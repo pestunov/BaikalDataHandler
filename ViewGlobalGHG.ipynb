{
 "cells": [
  {
   "cell_type": "code",
   "execution_count": null,
   "id": "aa54f28c-fe6e-4844-a4ff-395544a8dfdc",
   "metadata": {},
   "outputs": [],
   "source": [
    "import pandas as pd\n",
    "import numpy as np\n",
    "import matplotlib.pyplot as plt"
   ]
  },
  {
   "cell_type": "code",
   "execution_count": null,
   "id": "017efe75-0e26-4a91-89c2-bf23a157e2da",
   "metadata": {},
   "outputs": [],
   "source": [
    "f = 'co2_mm_mlo.csv'\n",
    "# f = r'https://gml.noaa.gov/webdata/ccgg/trends/co2/co2_mm_mlo.csv'\n",
    "df = pd.read_csv(f, skiprows=40, header=[0])"
   ]
  },
  {
   "cell_type": "code",
   "execution_count": null,
   "id": "f8ab9219-4d06-45f2-b2a8-0d643eef08d4",
   "metadata": {},
   "outputs": [],
   "source": [
    "df.loc[df['year'] > 1900].plot('decimal date', 'average', grid=True)"
   ]
  },
  {
   "cell_type": "code",
   "execution_count": null,
   "id": "21cef4ef-e36b-469e-af62-d3050986b992",
   "metadata": {},
   "outputs": [],
   "source": [
    "f = 'ch4_mlo_surface-flask_1_ccgg_month.txt'  #r'https://gml.noaa.gov/aftp/data/trace_gases/ch4/flask/surface/txt/ch4_mlo_surface-flask_1_ccgg_month.txt'\n",
    "dfm = pd.read_csv(f, skiprows=53, header=[0], sep=r'\\s+')"
   ]
  },
  {
   "cell_type": "code",
   "execution_count": null,
   "id": "28344a88-5c96-4b98-a098-cfa5158fa803",
   "metadata": {},
   "outputs": [],
   "source": [
    "dfm['decimal_date'] = dfm['year'] + dfm['month'] / 12\n",
    "dfm.plot('decimal_date', 'value', title='Methane, ppb // Mauna Loa', grid=True)"
   ]
  },
  {
   "cell_type": "code",
   "execution_count": null,
   "id": "57ce1c8f-2d0c-4b39-ab65-a16a85486d66",
   "metadata": {},
   "outputs": [],
   "source": []
  }
 ],
 "metadata": {
  "kernelspec": {
   "display_name": "Python 3 (ipykernel)",
   "language": "python",
   "name": "python3"
  },
  "language_info": {
   "codemirror_mode": {
    "name": "ipython",
    "version": 3
   },
   "file_extension": ".py",
   "mimetype": "text/x-python",
   "name": "python",
   "nbconvert_exporter": "python",
   "pygments_lexer": "ipython3",
   "version": "3.12.2"
  }
 },
 "nbformat": 4,
 "nbformat_minor": 5
}
