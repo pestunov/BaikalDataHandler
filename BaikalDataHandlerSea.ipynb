{
 "cells": [
  {
   "cell_type": "code",
   "execution_count": null,
   "id": "bb14563e-ee56-4209-838c-44330b47fc83",
   "metadata": {
    "tags": []
   },
   "outputs": [],
   "source": [
    "import pandas as pd\n",
    "import numpy as np\n",
    "import matplotlib.pyplot as plt\n",
    "from sqlalchemy import create_engine\n",
    "from sqlalchemy.sql import text\n",
    "\n",
    "import baikalfunctions as bfunc\n",
    "import scheme_mar2023 as scheme\n",
    "import mytools"
   ]
  },
  {
   "cell_type": "code",
   "execution_count": null,
   "id": "bbcb1581-1408-4c7c-982e-a0245a7e37e5",
   "metadata": {
    "tags": []
   },
   "outputs": [],
   "source": [
    "# pd.set_option('display.min_rows', 100)\n",
    "%matplotlib inline\n",
    "plt.style.use('dark_background')   # try another styles: 'classic'\n",
    "plt.rcParams['figure.figsize'] = [15, 5]\n",
    "#plt.subplots_adjust(top=1, left=0, right=1, bottom=0)"
   ]
  },
  {
   "cell_type": "code",
   "execution_count": null,
   "id": "5d425f27-5073-41ec-83a7-5de782187e10",
   "metadata": {
    "tags": []
   },
   "outputs": [],
   "source": [
    "saveImgPath = 'C:\\\\xampp\\\\htdocs\\\\img\\\\'"
   ]
  },
  {
   "cell_type": "code",
   "execution_count": null,
   "id": "0cde0ad4-2ed2-44bb-95b8-cb91c9c5d7e9",
   "metadata": {
    "tags": []
   },
   "outputs": [],
   "source": [
    "# host = 192.168.3.53\n",
    "host = 'localhost'\n",
    "tableName = \"jun2023sea\"\n",
    "\n",
    "engine = create_engine(f\"mysql+pymysql://root:oceana1777@{host}:3306/baikal\")\n",
    "#req = f\"select * from {tableName} where DateTime > ADDDATE((SELECT DATETIME FROM {tableName} ORDER BY \" \\\n",
    "#      f\"DATETIME DESC LIMIT 1), INTERVAL -24 hour);\"\n",
    "req = f\"select * from {tableName}\""
   ]
  },
  {
   "cell_type": "code",
   "execution_count": null,
   "id": "0edbec2d-f0d3-428e-ab7b-ebb0eb1977f0",
   "metadata": {
    "tags": []
   },
   "outputs": [],
   "source": [
    "with engine.connect().execution_options(autocommit=True) as conn:\n",
    "    query = conn.execute(text(req))\n",
    "df = pd.DataFrame(query.fetchall())\n",
    "df.head(5)"
   ]
  },
  {
   "cell_type": "code",
   "execution_count": null,
   "id": "2188712c-c38f-4d7e-872d-15a39599f983",
   "metadata": {
    "tags": []
   },
   "outputs": [],
   "source": [
    "df.shape"
   ]
  },
  {
   "cell_type": "code",
   "execution_count": null,
   "id": "b75e9d5b-2129-4ae8-8eca-b0ad6f667a7b",
   "metadata": {
    "tags": []
   },
   "outputs": [],
   "source": [
    "df.rename(columns=scheme.NAME_CONV_BAS, inplace=True)\n",
    "df.sort_values(by='DateTime', inplace=True)\n",
    "df.reset_index(inplace=True, drop=True)\n",
    "df.head(2)"
   ]
  },
  {
   "cell_type": "code",
   "execution_count": null,
   "id": "82457321-ea6e-4d44-92ea-c16dee7f8666",
   "metadata": {
    "tags": []
   },
   "outputs": [],
   "source": [
    "with engine.connect().execution_options(autocommit=True) as con:\n",
    "    dft = pd.read_sql_table('jun2023sea_t', con, index_col='index')"
   ]
  },
  {
   "cell_type": "code",
   "execution_count": null,
   "id": "e4f9d02e-bc10-486b-b699-ac0628e78ca9",
   "metadata": {
    "tags": []
   },
   "outputs": [],
   "source": [
    "df.shape, dft.shape"
   ]
  },
  {
   "cell_type": "code",
   "execution_count": null,
   "id": "2f238a40-1287-4b59-a8b7-2b9aa8a7c81c",
   "metadata": {
    "tags": []
   },
   "outputs": [],
   "source": [
    "df = pd.concat([df, dft])\n",
    "df.sort_values(by='DateTime', inplace=True)\n",
    "df.reset_index(inplace=True, drop=True)\n",
    "# df.dropna(axis='index', subset=['Longitude', 'Latitude', 'DateTime'], inplace=True)"
   ]
  },
  {
   "cell_type": "code",
   "execution_count": null,
   "id": "7f5c53a9-1426-4d90-bd36-db331ea33407",
   "metadata": {
    "tags": []
   },
   "outputs": [],
   "source": [
    "### remove service variables\n",
    "df.drop([x for x in df.columns if x.lower().endswith('err')], axis='columns', inplace=True, errors='ignore')\n",
    "df.drop([x for x in df.columns if x.lower().endswith('max')], axis='columns', inplace=True, errors='ignore')\n",
    "df.drop([x for x in df.columns if x.lower().endswith('min')], axis='columns', inplace=True, errors='ignore')\n",
    "df.drop([x for x in df.columns if x.lower().startswith('pump')], axis='columns', inplace=True, errors='ignore')\n",
    "df.drop(['HumidityAir', 'WaterFlowEqu4', ], axis='columns', inplace=True, errors='ignore')\n"
   ]
  },
  {
   "cell_type": "code",
   "execution_count": null,
   "id": "586a1fc5-918c-4a33-aaa9-5d65f0887e9d",
   "metadata": {
    "tags": []
   },
   "outputs": [],
   "source": [
    "df.shape, df.columns"
   ]
  },
  {
   "cell_type": "code",
   "execution_count": null,
   "id": "96a0a930-ab2b-4778-9abe-abbbb341bf8e",
   "metadata": {
    "tags": []
   },
   "outputs": [],
   "source": [
    "dfp = pd.read_csv('picarroJun2023.txt', sep='\\t', parse_dates=['DATE_TIME'], dayfirst=False)\n",
    "dfp"
   ]
  },
  {
   "cell_type": "code",
   "execution_count": null,
   "id": "e529773d-1212-427c-82e1-e61c41d190e8",
   "metadata": {
    "tags": []
   },
   "outputs": [],
   "source": [
    "dfp.rename(columns={'DATE_TIME': 'DateTime'}, inplace=True)\n",
    "dsec = dfp['DateTime'].astype('int64')/10**9\n",
    "dsec = dsec.astype('int') + 8 * 60 * 60\n",
    "dfp['DateTime_local'] = pd.to_datetime(dsec, unit='s')\n",
    "dfp.dtypes"
   ]
  },
  {
   "cell_type": "code",
   "execution_count": null,
   "id": "d3195539-7c3c-4fdc-b5b9-5a055b02e1b6",
   "metadata": {
    "tags": []
   },
   "outputs": [],
   "source": [
    "df = df.resample('20S', on='DateTime').mean()"
   ]
  },
  {
   "cell_type": "code",
   "execution_count": null,
   "id": "7f171249-01a4-4045-b578-2bc11676569f",
   "metadata": {
    "tags": []
   },
   "outputs": [],
   "source": [
    "df"
   ]
  },
  {
   "cell_type": "code",
   "execution_count": null,
   "id": "c4b1456b-5dd8-4507-949b-2786afaaaaa5",
   "metadata": {
    "tags": []
   },
   "outputs": [],
   "source": [
    "df = pd.merge(left=df, right=dfp, how='left', left_on='DateTime', right_on='DateTime_local')\n",
    "df"
   ]
  },
  {
   "cell_type": "code",
   "execution_count": null,
   "id": "c953534a-a7a8-40be-926e-5cd3c30ed5f3",
   "metadata": {
    "tags": []
   },
   "outputs": [],
   "source": [
    "## gether/apply specific variables\n",
    "### data corrections\n",
    "# df['vCO2'] = df['vCO2'] * scheme.CO2PicarroScaut_cor[0] + scheme.CO2PicarroScaut_cor[1]\n",
    "# df['vCH4'] = df['vCH4'] * scheme.CH4PicarroScaut_cor[0] + scheme.CH4PicarroScaut_cor[1]\n",
    "df['vCO2'] = df['CO2_dry'] * scheme.CO2PicarroScaut_cor[0] + scheme.CO2PicarroScaut_cor[1]\n",
    "df['vCH4'] = df['CH4_dry'] * scheme.CH4PicarroScaut_cor[0] + scheme.CH4PicarroScaut_cor[1]\n",
    "df['LightLX'] = df['LightLX'] * scheme.solar_cor[0] + scheme.solar_cor[1]\n",
    "df['LightUV'] = df['LightUV'] * scheme.solar_uv_cor[0] + scheme.solar_uv_cor[1]\n",
    "df['PressAir'] = bfunc.pressConvert(df['PressAir'])\n",
    "df['PressAir'] = df['PressAir'] * scheme.press_cor[0] + scheme.press_cor[1]\n",
    "\n",
    "### servise data corrections\n",
    "df['TempEqu1'] = df['TempEqu1'] * scheme.tempEqu1_cor_m[0] + scheme.tempEqu1_cor_m[1]\n",
    "df['TempEqu2'] = df['TempEqu2'] * scheme.tempEqu2_cor_m[0] + scheme.tempEqu2_cor_m[1]\n",
    "df['TempEqu3'] = df['TempEqu3'] * scheme.tempEqu3_cor_m[0] + scheme.tempEqu3_cor_m[1]\n",
    "\n",
    "df['AirFlow'] = df['AirFlow'] * scheme.airflow_cor_m[0] + scheme.airflow_cor_m[1]\n",
    "df['WaterFlowEqu1'] = df['WaterFlowEqu1'] * scheme.waterflowEqu1_cor_m[0] + scheme.waterflowEqu1_cor_m[1]\n",
    "df['WaterFlowEqu2'] = df['WaterFlowEqu2'] * scheme.waterflowEqu2_cor_m[0] + scheme.waterflowEqu2_cor_m[1]\n",
    "df['WaterFlowEqu3'] = df['WaterFlowEqu3'] * scheme.waterflowEqu3_cor_m[0] + scheme.waterflowEqu3_cor_m[1]"
   ]
  },
  {
   "cell_type": "code",
   "execution_count": null,
   "id": "675051d7-637f-4fad-9832-1171e33c585d",
   "metadata": {
    "tags": []
   },
   "outputs": [],
   "source": [
    "v_state_list = list(scheme.CHANNEL_COLS.values())\n",
    "\n",
    "chnl = 'Channel'\n",
    "if not chnl in df.columns:\n",
    "    df[chnl] = 0\n",
    "if 'V1_state' in df.columns:\n",
    "    df.loc[df.V1_state == 1, chnl] = 1\n",
    "    df.loc[df.V2_state == 1, chnl] = 2\n",
    "    df.loc[df.V3_state == 1, chnl] = 3\n",
    "    df.loc[df.V4_state == 1, chnl] = 4\n",
    "    df.loc[df.V5_state == 1, chnl] = 5\n",
    "    df.loc[df.V6_state == 1, chnl] = 6\n",
    "df.drop(v_state_list, axis='columns', inplace=True, errors='ignore')"
   ]
  },
  {
   "cell_type": "code",
   "execution_count": null,
   "id": "3fc3f342-0fce-457e-80c5-f6b9294e7b13",
   "metadata": {
    "tags": []
   },
   "outputs": [],
   "source": [
    "ch_v = 'Chn_valid'\n",
    "df[ch_v] = 1\n",
    "for deep in range(1, 7):\n",
    "    df.loc[df[chnl] != df[chnl].shift(deep), ch_v] = 0"
   ]
  },
  {
   "cell_type": "code",
   "execution_count": null,
   "id": "3c4f6936-405f-40db-a185-30ee7ae6cc65",
   "metadata": {
    "tags": []
   },
   "outputs": [],
   "source": [
    "df['vCO2air'] = df['vCO2'][(df[chnl] == 6) & (df[ch_v] == 1)]\n",
    "df['vCH4air'] = df['vCH4'][(df[chnl] == 6) & (df[ch_v] == 1)]\n",
    "for col in ['vCO2air', 'vCH4air',]:\n",
    "    df[col] = df[col].rolling(3).mean()\n",
    "\n",
    "df['vCO2air'].interpolate(method='values', inplace=True)\n",
    "df['vCH4air'].interpolate(method='values', inplace=True)  ## `time` method mb better\n",
    "df['pCO2air'] = df['vCO2air'] * df['PressAir']  # mkatm\n",
    "df['pCH4air'] = df['vCH4air'] * df['PressAir']  # mkatm"
   ]
  },
  {
   "cell_type": "code",
   "execution_count": null,
   "id": "a003322e-b7bd-4326-b6d7-f2b6bf38b1f3",
   "metadata": {
    "tags": []
   },
   "outputs": [],
   "source": [
    "plt.rcParams['figure.figsize'] = [15, 5]\n",
    "fig, axs = plt.subplots(2, 1)\n",
    "\n",
    "axs[0].set_title('CO2 air, ppm')\n",
    "axs[0].set_ylim(400, 500)\n",
    "axs[0].plot(df.DateTime, df['vCO2'], '-', c='silver')\n",
    "axs[0].plot(df.DateTime, df['vCO2air'], 'r-')\n",
    "\n",
    "axs[1].set_title('CH4 air, ppm')\n",
    "axs[1].set_ylim(1.75, 2.5)\n",
    "axs[1].plot(df.DateTime, df['vCH4'], '-', c='silver')\n",
    "axs[1].plot(df.DateTime, df['vCH4air'], 'b-')\n",
    "fig.savefig(saveImgPath+'cAir_vs_time.png', transparent=False)"
   ]
  },
  {
   "cell_type": "code",
   "execution_count": null,
   "id": "07adc32f-9084-4b20-99a9-09e9d8ab27d7",
   "metadata": {
    "tags": []
   },
   "outputs": [],
   "source": [
    "## RECOVERY !!!\n",
    "equ_vol = scheme.equ_seatube_param['equ_vol']  # equivalent equ volume, l\n",
    "equ_cap = scheme.equ_seatube_param['equ_cap']  # equilibrator capacity\n",
    "df['DateSec'] = df['DateTime'].astype('int64')//10**9\n",
    "df['dTSec'] = df['DateSec'] - df['DateSec'].shift(1)\n",
    "dt = df['dTSec'] / 60   ## delta time, min\n",
    "t_wtr = df['TempEqu1']\n",
    "t_air = t_wtr\n",
    "air_flow = df['AirFlow']\n",
    "wtr_flow = df['WaterFlowEqu1']"
   ]
  },
  {
   "cell_type": "code",
   "execution_count": null,
   "id": "d8f3a70c-aa0e-402e-9244-9d5aa90e6323",
   "metadata": {
    "tags": []
   },
   "outputs": [],
   "source": [
    "### CO2 water\n",
    "df['vCO2equ1'] = df['vCO2'][(df[chnl] == 1) & (df[ch_v] == 1)]\n",
    "solubility = bfunc.getSolubility(df['TempEqu1'], 'CO2')\n",
    "\n",
    "density = bfunc.getDensity(t_air, df['PressAir'], 'CO2')\n",
    "cGasAir = df['pCO2air'] / 1000000 * density\n",
    "pGasEquAir = df['vCO2equ1'] * df['PressAir']\n",
    "cGasEquAir = pGasEquAir * density / 1000000  # g/l\n",
    "\n",
    "tau = equ_vol/(air_flow+wtr_flow*equ_cap*solubility/density)\n",
    "eternal = (cGasEquAir-cGasEquAir.shift(1)*np.exp(-1*dt/tau))/(1-np.exp(-1*dt/tau))\n",
    "cGasWtr = (eternal*(wtr_flow*equ_cap*solubility/density+air_flow)-air_flow*cGasAir)/(wtr_flow*equ_cap)\n",
    "\n",
    "df['cCO2wtr'] = cGasWtr * 1000     # mg/l\n",
    "df['pCO2wtr'] = cGasWtr * 1000000 / solubility  # mkatm"
   ]
  },
  {
   "cell_type": "code",
   "execution_count": null,
   "id": "a9b96faf-3a40-4b78-9db2-f365ac3f8eb8",
   "metadata": {
    "tags": []
   },
   "outputs": [],
   "source": [
    "### CH4 water\n",
    "df['vCH4equ1'] = df['vCH4'][(df[chnl] == 1) & (df[ch_v] == 1)]\n",
    "solubility = bfunc.getSolubility(df['TempEqu1'], 'CH4')\n",
    "\n",
    "density = bfunc.getDensity(t_air, df['PressAir'], 'CH4')\n",
    "cGasAir = df['pCH4air'] / 1000000 * density\n",
    "pGasEquAir = df['vCH4equ1'] * df['PressAir']\n",
    "cGasEquAir = pGasEquAir * density / 1000000  # g/l\n",
    "\n",
    "tau = equ_vol/(air_flow+wtr_flow*equ_cap*solubility/density)\n",
    "eternal = (cGasEquAir-cGasEquAir.shift(1)*np.exp(-1*dt/tau))/(1-np.exp(-1*dt/tau))\n",
    "cGasWtr = (eternal*(wtr_flow*equ_cap*solubility/density+air_flow)-air_flow*cGasAir)/(wtr_flow*equ_cap)\n",
    "df['cCH4wtr'] = cGasWtr * 1000000000    # ng/l\n",
    "df['pCH4wtr'] = cGasWtr * 1000000 / solubility  # mkatm"
   ]
  },
  {
   "cell_type": "code",
   "execution_count": null,
   "id": "c665e9c8-8671-4d29-902c-b192c657becc",
   "metadata": {
    "tags": []
   },
   "outputs": [],
   "source": [
    "## rolling average is applied inplace. Be cafelly, run this cell **ONCE**\n",
    "\n",
    "for col in ['cCO2wtr', 'pCO2wtr', 'cCH4wtr', 'pCH4wtr']:\n",
    "    df.loc[df[col] == np.inf , col] = np.nan \n",
    "    df.loc[df[col] == -np.inf , col] = np.nan\n",
    "    df.loc[df[col] <= 0 , col] = np.nan\n",
    "    df[col] = df[col].rolling(4, center=True).mean()\n",
    "\n",
    "df['cCH4wtr'].describe()"
   ]
  },
  {
   "cell_type": "code",
   "execution_count": null,
   "id": "1457e1c0-c3c9-420d-8668-fe3920dde42a",
   "metadata": {
    "tags": []
   },
   "outputs": [],
   "source": [
    "df['pCO2'] = df['vCO2'] * df['PressAir']\n",
    "\n",
    "plt.rcParams['figure.figsize'] = [18, 5]\n",
    "fig, ax = plt.subplots()\n",
    "## ax.set_xlim(pd.to_datetime('05.06.2023 18:00:00', dayfirst=True), pd.to_datetime('05.06.2023 19:00:00', dayfirst=True))\n",
    "ax.set_title('CO2 water, mkatm')\n",
    "ax.set_ylim(100, 800)\n",
    "ax.plot(df.DateTime, df['pCO2'], '-', c='silver')\n",
    "ax.plot(df.DateTime, df['pCO2wtr'], 'r-')\n",
    "ax.plot(df.DateTime, df['pCO2air'], 'b-')\n",
    "fig.savefig(saveImgPath+'pCO2wtr_vs_time.png')"
   ]
  },
  {
   "cell_type": "code",
   "execution_count": null,
   "id": "1059de88-2582-466e-bd76-30d3a52add19",
   "metadata": {
    "tags": []
   },
   "outputs": [],
   "source": [
    "count_recent = 1000\n",
    "df['pCH4'] = df['vCH4'] * df['PressAir']\n",
    "plt.rcParams['figure.figsize'] = [18, 5]\n",
    "fig, ax = plt.subplots()\n",
    "ax.set_title('CH4 water, mkatm')\n",
    "# ax.set_xlim(pd.to_datetime('06.06.2023 10:00:00', dayfirst=True), pd.to_datetime('06.06.2023 19:00:00', dayfirst=True))\n",
    "# ax.set_ylim(0, 20)\n",
    "ax.plot(df.tail(count_recent).DateTime, df.tail(count_recent)['pCH4'], '-', c='silver')\n",
    "ax.plot(df.tail(count_recent).DateTime, df.tail(count_recent)['pCH4wtr'], 'b.')\n",
    "fig.savefig(saveImgPath+'pCH4wtr_vs_time.png')"
   ]
  },
  {
   "cell_type": "code",
   "execution_count": null,
   "id": "573580a0-ce28-4a68-bf14-a272669708bb",
   "metadata": {},
   "outputs": [],
   "source": [
    "obrisData = \"G:/1_Data1/obris/obris.dat\"\n",
    "obris = pd.read_csv(obrisData,\n",
    "                    header=0,\n",
    "                    na_values='--',\n",
    "                    sep='\\t',\n",
    "                    decimal=',',\n",
    "                    )\n",
    "obris.head(3)"
   ]
  },
  {
   "cell_type": "code",
   "execution_count": null,
   "id": "9be4b5da-0d5f-41f6-98ec-e825c67e83de",
   "metadata": {
    "tags": []
   },
   "outputs": [],
   "source": [
    "allMethaneData = \"G:/1_Data1/sea/AllSeaGisOut.txt\"\n",
    "colNames = ['i', 'long', 'lat', 'cCH4wtr']\n",
    "allMethane_df = pd.read_csv(allMethaneData,\n",
    "                            index_col =0,\n",
    "                            sep='\\t',\n",
    "                            skiprows=[0, 1, 2],\n",
    "                            usecols=[0, 1, 2, 3],\n",
    "                            header=None,\n",
    "                            names=colNames,\n",
    "                           )\n",
    "allMethane_df.head(5)"
   ]
  },
  {
   "cell_type": "code",
   "execution_count": null,
   "id": "923a6ec2-6693-4c09-b74f-f6ba67e6ebc0",
   "metadata": {},
   "outputs": [],
   "source": [
    "cCH2lim_top = 700\n",
    "df.loc[df.cCH4wtr > cCH2lim_top, 'cCH4wtr'] = cCH2lim_top\n",
    "allMethane_df.loc[allMethane_df.cCH4wtr > cCH2lim_top, 'cCH4wtr'] = cCH2lim_top\n",
    "cCH2lim_bot = 0\n",
    "df.loc[df.cCH4wtr < cCH2lim_bot, 'cCH4wtr'] = np.NaN\n",
    "allMethane_df.loc[allMethane_df.cCH4wtr < cCH2lim_bot, 'cCH4wtr'] = np.NaN\n",
    "\n",
    "df.dropna(axis='index', subset=['Longitude', 'Latitude', 'cCH4wtr'], inplace=True)\n",
    "\n",
    "\n",
    "cCH4wtrlog_all = np.log(allMethane_df['cCH4wtr'])\n",
    "df['cCH4wtrlog'] = np.log(df['cCH4wtr'])"
   ]
  },
  {
   "cell_type": "code",
   "execution_count": null,
   "id": "ae0333f1-3002-434f-9ec7-fcb3de63f4a1",
   "metadata": {},
   "outputs": [],
   "source": [
    "plt.rcParams['figure.figsize'] = [10, 12]\n",
    "fig, ax = plt.subplots()\n",
    "#ax.set_xlim(106.2, 109.4)\n",
    "#ax.set_ylim(52, 55)\n",
    "\n",
    "ax.plot(obris['long'], obris['lat'], 'b-')\n",
    "ax.scatter(x='long', y='lat', c=cCH4wtrlog_all, s=50, marker='o', linewidth=0, cmap='rainbow', alpha=0.02, data=allMethane_df, )\n",
    "ax.scatter(df['Longitude'], df['Latitude'], c=df['cCH4wtrlog'], s=30, marker='o', linewidth=0, cmap='rainbow', alpha=0.4,)\n",
    "fig.savefig(saveImgPath+'CH4wtrSpatialJun2023.png', transparent=True)"
   ]
  },
  {
   "cell_type": "code",
   "execution_count": null,
   "id": "9d8918b3-3159-4c9e-8fcb-05b35b0a52bf",
   "metadata": {
    "tags": []
   },
   "outputs": [],
   "source": [
    "df['dpCO2'] = df['pCO2wtr'] - df['pCO2air']\n",
    "df.loc[0, 'dpCO2'] = -380.8\n",
    "df['dpCO2'].describe()"
   ]
  },
  {
   "cell_type": "code",
   "execution_count": null,
   "id": "81e59d68-de14-4f91-bbe1-75d2cad40491",
   "metadata": {
    "tags": []
   },
   "outputs": [],
   "source": [
    "plt.rcParams['figure.figsize'] = [10, 12]\n",
    "fig, ax = plt.subplots()\n",
    "#ax.set_xlim(106.2, 109.4)\n",
    "#ax.set_ylim(52, 55)\n",
    "ax.set_title('dpCO2, mkatm')\n",
    "ax.plot(obris['long'], obris['lat'], 'b-')\n",
    "ax.scatter(df['Longitude'], df['Latitude'], c=df['dpCO2'], s=30, marker='o', linewidth=0, cmap='seismic', alpha=0.4,)\n",
    "fig.savefig(saveImgPath+'dpCO2SpatialJun2023.png', transparent=True)"
   ]
  },
  {
   "cell_type": "code",
   "execution_count": null,
   "id": "bcea058c-4a9d-469f-9ffc-c284a4fbc0df",
   "metadata": {
    "tags": []
   },
   "outputs": [],
   "source": [
    "df.cCH4wtr.describe()"
   ]
  },
  {
   "cell_type": "code",
   "execution_count": null,
   "id": "f7cfbc97-27bc-45fd-8b69-5c6baa231943",
   "metadata": {
    "tags": []
   },
   "outputs": [],
   "source": [
    "allMethane_df.cCH4wtr.describe()"
   ]
  },
  {
   "cell_type": "code",
   "execution_count": null,
   "id": "d977f144-dba8-4cce-b644-0aa46e67f0ea",
   "metadata": {
    "tags": []
   },
   "outputs": [],
   "source": [
    "df.dropna(axis='index', subset=['Longitude', 'Latitude', 'DateTime'], inplace=True)"
   ]
  },
  {
   "cell_type": "code",
   "execution_count": null,
   "id": "c5051366-08d6-4f23-bcd2-a38419512fac",
   "metadata": {
    "tags": []
   },
   "outputs": [],
   "source": [
    "d_lat_lim = 0.15  # +/- degree\n",
    "d_long_lim = 0.3  # +/- degree\n",
    "cur_coordinates = [float(df.tail(1).loc[:, 'Longitude']), float(df.tail(1).loc[:, 'Latitude'])]\n",
    "\n",
    "plt.rcParams['figure.figsize'] = [8, 10]\n",
    "fig, ax = plt.subplots()\n",
    "ax.set_xlim(cur_coordinates[0] - d_long_lim, cur_coordinates[0] + d_long_lim)\n",
    "ax.set_ylim(cur_coordinates[1] - d_lat_lim, cur_coordinates[1] + d_lat_lim)\n",
    "\n",
    "ax.plot(obris['long'], obris['lat'], 'b-')\n",
    "ax.scatter(x='long', y='lat', c=cCH4wtrlog_all, s=200, marker='o', linewidth=0, cmap='rainbow', alpha=0.1,\n",
    "           data=allMethane_df, )\n",
    "ax.scatter(x='Longitude', y='Latitude', c='cCH4wtrlog', s=30, marker='o', linewidth=0, cmap='rainbow',\n",
    "           alpha=0.2, data=df)\n",
    "ax.scatter(cur_coordinates[0], cur_coordinates[1], c='white', s=60, marker='+', alpha=1)\n",
    "fig.savefig(saveImgPath + 'CH4wtrSpatialJun2023_detailed.png', transparent=True)"
   ]
  },
  {
   "cell_type": "code",
   "execution_count": null,
   "id": "8dded338-0575-4827-a4b7-8cfd644371cc",
   "metadata": {
    "tags": []
   },
   "outputs": [],
   "source": [
    "plt.rcParams['figure.figsize'] = [15, 5]\n",
    "fig, ax = plt.subplots()\n",
    "\n",
    "ax.plot('DateTime', 'WaterFlowEqu1', 'r-', linewidth=1, alpha=0.8, data=df, )\n",
    "ax.plot('DateTime', 'WaterFlowEqu2', 'b-', linewidth=1, alpha=0.8, data=df, )\n",
    "fig.savefig(saveImgPath+'sWaterFlow.png')\n"
   ]
  },
  {
   "cell_type": "code",
   "execution_count": null,
   "id": "e0dcfa0b-59f2-427d-860c-dc6cb7a0bb24",
   "metadata": {
    "tags": []
   },
   "outputs": [],
   "source": [
    "geo = mytools.geo_gen_stations()\n",
    "geo"
   ]
  },
  {
   "cell_type": "code",
   "execution_count": null,
   "id": "5f33635b-147b-40fc-9504-e500c004047e",
   "metadata": {
    "tags": []
   },
   "outputs": [],
   "source": [
    "df['Station'] = ''\n",
    "DLAT = 0.01\n",
    "DLNG = 0.01\n",
    "\n",
    "for k, v in geo.items():\n",
    "    df.loc[(df['Latitude'].between(v[0]-DLAT, v[0]+DLAT) & df['Longitude'].between(v[1]-DLNG, v[1]+DLNG)), 'Station'] = k"
   ]
  },
  {
   "cell_type": "code",
   "execution_count": null,
   "id": "8b5b9452-f2dd-4b46-b75d-63fd2cd1bafb",
   "metadata": {
    "tags": []
   },
   "outputs": [],
   "source": [
    "dfg = df.groupby(by='Station')['cCH4wtr', 'cCO2wtr'].agg(['count', 'mean', 'median', 'std'])\n",
    "dfg"
   ]
  },
  {
   "cell_type": "code",
   "execution_count": null,
   "id": "4a84cc13-c3c6-47f9-b600-6e3aace9bbcc",
   "metadata": {
    "tags": []
   },
   "outputs": [],
   "source": [
    "dfg.to_csv('stationsCH4CO2.txt',\n",
    "          sep='\\t',\n",
    "         )"
   ]
  },
  {
   "cell_type": "code",
   "execution_count": null,
   "id": "7793e65f-c656-4aa0-8a86-59ce979d8007",
   "metadata": {
    "tags": []
   },
   "outputs": [],
   "source": [
    "df.to_csv('df.txt',\n",
    "          sep='\\t',\n",
    "         )"
   ]
  },
  {
   "cell_type": "code",
   "execution_count": null,
   "id": "d96bd022-12e4-4502-8088-54ce5f5afd68",
   "metadata": {},
   "outputs": [],
   "source": [
    "df"
   ]
  },
  {
   "cell_type": "code",
   "execution_count": null,
   "id": "7b2a8a18-7fc8-4ed5-b41b-402d12d9d8ec",
   "metadata": {},
   "outputs": [],
   "source": []
  }
 ],
 "metadata": {
  "kernelspec": {
   "display_name": "Python 3 (ipykernel)",
   "language": "python",
   "name": "python3"
  },
  "language_info": {
   "codemirror_mode": {
    "name": "ipython",
    "version": 3
   },
   "file_extension": ".py",
   "mimetype": "text/x-python",
   "name": "python",
   "nbconvert_exporter": "python",
   "pygments_lexer": "ipython3",
   "version": "3.11.2"
  },
  "toc-autonumbering": true,
  "toc-showcode": true,
  "toc-showmarkdowntxt": true
 },
 "nbformat": 4,
 "nbformat_minor": 5
}
