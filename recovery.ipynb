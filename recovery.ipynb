{
 "cells": [
  {
   "cell_type": "code",
   "execution_count": null,
   "id": "b88c8ef1-49df-4aa3-a3d9-77b18cf5f5ef",
   "metadata": {
    "tags": []
   },
   "outputs": [],
   "source": [
    "import pandas as pd\n",
    "import scheme_mar2023 as scheme"
   ]
  },
  {
   "cell_type": "markdown",
   "id": "e01d5fc3-879e-47fe-bbe7-953bb6df1ea9",
   "metadata": {
    "tags": []
   },
   "source": [
    "### recovery algorithm\n",
    "\n",
    "Computes real gas concentration in water  \n",
    " \n",
    "> input parameters:  \n",
    "> - **datetime** : *col in pd.DataFrame timestamp* - date time\n",
    "> - **v_gas_equ** : *col in pd.DataFrame* - gas mixing ratio in equilibrator (ppmv)\n",
    "> - **v_gas_air** : *col in pd.DataFrame* - gas mixing ratio in air. inflow gas into equilibrator while sampling (ppmv)\n",
    "> - **t_wrt** : *col in pd.DataFrame* - water temperature in equilibrator. Air temperature is equal (grad K)\n",
    "> - **press** : *col in pd.DataFrame* - air pressure (atm)\n",
    "> - **v_air** : *col in pd.DataFrame* - air flow thrw equilibrator (l/min)\n",
    "> - **v_wtr** : *col in pd.DataFrame* - water flow thrw equilibrator (l/min)\n",
    "> - **gas_type** : *String* - gas formulae: 'CO2', 'CH4'\n",
    "> - **equ_param** : *dict* - equilibratore features, as `equ_vol`, `equ_eff`\n",
    ">\n",
    "> output:  \n",
    "> - pd.series gas in water concentration (mg/l)\n",
    " "
   ]
  },
  {
   "cell_type": "code",
   "execution_count": null,
   "id": "75ccaa48-fd18-4a45-9cd5-9fe4fd6d5a5e",
   "metadata": {
    "tags": []
   },
   "outputs": [],
   "source": [
    "    \"\"\" add columns to df with names 'c'+DefName and 'p'+DefName filled with\n",
    "    recovered values in [g/l] and [uatm] accordingly \"\"\"\n",
    "\n",
    "def equToWtrRecovery(datetime, v_gas_equ, v_gas_air, t_wtr, press, v_air, v_wtr, equ_param, gas_type='CO2'):\n",
    "    dt = datetime.shift(1) - datetime  # time delta to int of minutes\n",
    "    equ_vol = equ_param['equ_vol']  # equivalent equ volume, l\n",
    "    equ_eff = equ_param['equ_eff']  # equilibrator capacity\n",
    "    print('Equ volume = {}, equ capasity = {}'.format(equ_vol, equ_eff))\n",
    "\n",
    "    sol = getSolubility(t_wtr, gas_type)\n",
    "    t_air = t_wtr\n",
    "    # !!!\n",
    "    den = getDensity(t_air, None, gas_type)\n",
    "    press = pressConvert(press)\n",
    "\n",
    "    # !!!\n",
    "    cGasAir = vGasAir.median()*0.000001*density*press/NORM_PRESS  # g/l\n",
    "\n",
    "    pGasEqu = vGasEqu*press/NORM_PRESS\n",
    "    cGasEqu = pGasEqu*density*0.000001  # g/l\n",
    "\n",
    "    tau = equ_vol/(air_flow+wtrflow*equ_eff*solubility/density)\n",
    "    eternal = (cGasEqu-cGasEqu.shift(1)*np.exp(-1*dt/tau))/(1-np.exp(-1*dt/tau))\n",
    "    cGasWtr = (eternal*(wtrflow*equ_eff*solubility/density+air_flow)-air_flow*cGasAir)/(wtrflow*equ_eff)\n",
    "    temp_col_name = 'c'+out_col_name\n",
    "    df[temp_col_name] = cGasWtr\n",
    "    print(temp_col_name)\n",
    "    temp_col_name = 'p'+out_col_name\n",
    "    df[temp_col_name] = cGasWtr*1000000/solubility\n",
    "    print(temp_col_name)\n"
   ]
  },
  {
   "cell_type": "code",
   "execution_count": null,
   "id": "847a9781-4df2-4438-8a68-988b385a4aba",
   "metadata": {},
   "outputs": [],
   "source": []
  }
 ],
 "metadata": {
  "kernelspec": {
   "display_name": "Python 3 (ipykernel)",
   "language": "python",
   "name": "python3"
  },
  "language_info": {
   "codemirror_mode": {
    "name": "ipython",
    "version": 3
   },
   "file_extension": ".py",
   "mimetype": "text/x-python",
   "name": "python",
   "nbconvert_exporter": "python",
   "pygments_lexer": "ipython3",
   "version": "3.11.2"
  }
 },
 "nbformat": 4,
 "nbformat_minor": 5
}
