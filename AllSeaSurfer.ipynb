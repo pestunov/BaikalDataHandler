{
 "cells": [
  {
   "cell_type": "code",
   "execution_count": null,
   "id": "2f6d2dd3-7936-4d9b-a57c-76c6b37028bb",
   "metadata": {
    "tags": []
   },
   "outputs": [],
   "source": [
    "import pandas as pd\n",
    "import numpy as np\n",
    "\n",
    "from matplotlib import pyplot as plt\n",
    "from pykrige import OrdinaryKriging\n",
    "\n",
    "import os"
   ]
  },
  {
   "cell_type": "markdown",
   "id": "8cd8dab6-6c27-49da-8269-54bbe01cf94f",
   "metadata": {},
   "source": [
    "## Data reading    \n",
    " - [ ] read origin data\n",
    " - [ ] read baikal obris\n",
    " - [ ] read baikal normalazed matrix "
   ]
  },
  {
   "cell_type": "code",
   "execution_count": null,
   "id": "2c5b1822-a104-48a5-b35e-092b989d793a",
   "metadata": {
    "tags": []
   },
   "outputs": [],
   "source": [
    "plt.style.use('Solarize_Light2')   # try another styles: 'classic', 'Solarize_Light2'\n",
    "driver = \"~/\"  # \"G:/\n",
    "pwd = os.path.join(driver, '1_Data1/sea/')\n",
    "srcDataPath = os.path.join(pwd, \"AllSea.txt\")\n",
    "obrisDataPath = os.path.join(driver, \"1_Data1/obris/obris.dat\")\n",
    "batimetrFilePath = os.path.join(driver, \"1_Data1/batimetria/b1.txt\")\n",
    "# srcData = \"~/methaneSea.dat\n",
    "srcDataPath"
   ]
  },
  {
   "cell_type": "code",
   "execution_count": null,
   "id": "29cb09ae-a590-4e60-aa22-3a378b2310a9",
   "metadata": {
    "tags": []
   },
   "outputs": [],
   "source": [
    "obris = pd.read_csv(obrisDataPath,\n",
    "                    header=0,\n",
    "                    na_values='--',\n",
    "                    sep='\\t',\n",
    "                    decimal=',',\n",
    "                   )"
   ]
  },
  {
   "cell_type": "code",
   "execution_count": null,
   "id": "6440ff8f-3f60-4e3a-b6b8-827f61b510ff",
   "metadata": {
    "editable": true,
    "slideshow": {
     "slide_type": ""
    },
    "tags": []
   },
   "outputs": [],
   "source": [
    "## set grid\n",
    "longStep = 0.02\n",
    "latStep = 0.01"
   ]
  },
  {
   "cell_type": "code",
   "execution_count": null,
   "id": "6d10df8f-fff3-4265-b209-ce9d0d8737a5",
   "metadata": {},
   "outputs": [],
   "source": [
    "gdf = pd.read_csv('wholeBaikalGrid.dat', sep='\\t')\n",
    "gdf.drop('Unnamed: 0', axis='columns', inplace=True)\n",
    "gdf['long'] = ((gdf['long']/longStep).round()*longStep*1000).round().astype('int')\n",
    "gdf['lat'] = ((gdf['lat']/latStep).round()*latStep*1000).round().astype('int')\n",
    "gdf['Longitude'] = gdf['long']/1000\n",
    "gdf['Latitude'] = gdf['lat']/1000\n",
    "gdf['norm_x'] = (gdf['toWest']/(gdf['toWest'] + gdf['toEast'])*25).astype('int')\n",
    "gdf['norm_y'] = (gdf['toSud']/(gdf['toSud'] + gdf['toNord'])*400).astype('int')\n",
    "\n",
    "gdf.loc[(gdf['long']==104000) & (gdf['lat']==51630), :]"
   ]
  },
  {
   "cell_type": "code",
   "execution_count": null,
   "id": "7fad44a8-7314-4266-acb5-39eccee05e41",
   "metadata": {},
   "outputs": [],
   "source": [
    "gdf"
   ]
  },
  {
   "cell_type": "code",
   "execution_count": null,
   "id": "18fcc277-6828-40d9-aedd-7e084b8356d3",
   "metadata": {
    "tags": []
   },
   "outputs": [],
   "source": [
    "df = pd.read_csv(os.path.join(pwd, \"BaikalJul2024Sea.dat\"),  #\"AllSea.txt\"\n",
    "                 header=0,\n",
    "                 usecols=['Longitude', 'Latitude', 'DateTime', 'cCH4Wtr', 'cCO2Wtr', 'dpCO2', 'dpCH4'],\n",
    "                 # skip_blank_lines=True,\n",
    "                 skipinitialspace=True,\n",
    "                 na_values='',\n",
    "                 skiprows=[],\n",
    "                 sep='\\t',\n",
    "                 decimal='.',\n",
    "                 #nrows=5000,\n",
    "                 parse_dates=['DateTime'],\n",
    "                 dayfirst=False\n",
    "                 )"
   ]
  },
  {
   "cell_type": "code",
   "execution_count": null,
   "id": "edf54fb2-e1df-45af-ab29-5b2ecf56556b",
   "metadata": {
    "tags": []
   },
   "outputs": [],
   "source": [
    "df['year'] = df['DateTime'].dt.year"
   ]
  },
  {
   "cell_type": "code",
   "execution_count": null,
   "id": "b71bb47f-84fe-4a4f-82b2-78177114ece8",
   "metadata": {
    "tags": []
   },
   "outputs": [],
   "source": [
    "df.reset_index(drop=True, inplace=True)"
   ]
  },
  {
   "cell_type": "code",
   "execution_count": null,
   "id": "4715e63c-b356-426e-8b4d-d18d22a9e199",
   "metadata": {},
   "outputs": [],
   "source": [
    "## check for bad data\n",
    "df.dropna(subset=['dpCO2']).sort_values(by='dpCO2').tail(2)"
   ]
  },
  {
   "cell_type": "code",
   "execution_count": null,
   "id": "e577e998-f9a9-49ad-a3ec-c3c19dfe989d",
   "metadata": {
    "tags": []
   },
   "outputs": [],
   "source": [
    "for yr in range(2013, 2025):\n",
    "    t = df.loc[(df['year'] == yr) & df['dpCO2']].shape\n",
    "    print(f'{yr}: {t[0]}')"
   ]
  },
  {
   "cell_type": "code",
   "execution_count": null,
   "id": "083cad56-36b7-4701-babd-ae9276fb0924",
   "metadata": {
    "editable": true,
    "slideshow": {
     "slide_type": ""
    },
    "tags": []
   },
   "outputs": [],
   "source": [
    "df['long'] = ((df['Longitude']/longStep).round()*longStep*1000).round().astype('int')\n",
    "df['lat'] = ((df['Latitude']/latStep).round()*latStep*1000).round().astype('int')\n",
    "df"
   ]
  },
  {
   "cell_type": "code",
   "execution_count": null,
   "id": "32fa36cc-3819-49da-8245-42721402d452",
   "metadata": {
    "tags": []
   },
   "outputs": [],
   "source": [
    "#func_list = ['mean', 'count']\n",
    "func_list = ['mean']\n",
    "cols_to_calc = {#'cCH4Wtr': func_list,\n",
    "                #'cCO2Wtr': func_list,\n",
    "                'dpCO2': func_list,\n",
    "                #'dpCH4': func_list,\n",
    "               }\n",
    "res = df.groupby(['year', 'long', 'lat'], as_index=False).agg(cols_to_calc)\n",
    "res.columns = res.columns.get_level_values(0)\n",
    "res"
   ]
  },
  {
   "cell_type": "code",
   "execution_count": null,
   "id": "38fd4694-a846-4f67-91ee-b0afb7eb1f60",
   "metadata": {},
   "outputs": [],
   "source": [
    "res = pd.merge(left=res, right=gdf, left_on=['long', 'lat'], right_on=['long', 'lat'], how='left')"
   ]
  },
  {
   "cell_type": "code",
   "execution_count": null,
   "id": "a45342a2-b556-4271-81bd-cc3792d54756",
   "metadata": {
    "tags": []
   },
   "outputs": [],
   "source": [
    "res['norm_x'] = res['toWest']/(res['toWest'] + res['toEast'])\n",
    "res['norm_y'] = res['toSud']/(res['toSud'] + res['toNord'])\n",
    "res = res.dropna(subset=['dpCO2', 'norm_x', 'norm_y'])"
   ]
  },
  {
   "cell_type": "code",
   "execution_count": null,
   "id": "d6bdff89-8d23-44e8-85dd-2eaf09c7c7df",
   "metadata": {},
   "outputs": [],
   "source": [
    "res.describe()"
   ]
  },
  {
   "cell_type": "code",
   "execution_count": null,
   "id": "6edde5ac-e9d3-4bb7-b1bc-9a0c78d06c97",
   "metadata": {},
   "outputs": [],
   "source": [
    "plt.rcParams['figure.figsize'] = [9, 9]\n",
    "\n",
    "plt.scatter(res['long']/1000, res['lat']/1000, c=res['dpCO2'], cmap='rainbow', s=2, alpha=0.2)\n",
    "plt.colorbar()\n",
    "plt.clim(-300, 300)\n",
    "#plt.xlim(103.6, 105)\n",
    "#plt.ylim(51.4, 52)\n",
    "plt.plot('long', 'lat', data=obris)"
   ]
  },
  {
   "cell_type": "code",
   "execution_count": null,
   "id": "6b57d802-efdb-4115-9ea4-775d83f50145",
   "metadata": {
    "editable": true,
    "slideshow": {
     "slide_type": ""
    },
    "tags": []
   },
   "outputs": [],
   "source": [
    "lat = res['norm_y'].values\n",
    "long = res['norm_x'].values\n",
    "dpCO2 = res['dpCO2'].values\n",
    "gridx = np.linspace(0, 1, 25)\n",
    "gridy = np.linspace(0, 1, 400)"
   ]
  },
  {
   "cell_type": "code",
   "execution_count": null,
   "id": "65ac8156-e785-4e18-9d78-3cc9347c6214",
   "metadata": {},
   "outputs": [],
   "source": [
    "plt.rcParams['figure.figsize'] = [3, 3]\n",
    "ok = OrdinaryKriging(long,\n",
    "                     lat,\n",
    "                     dpCO2,\n",
    "                     variogram_model='spherical',\n",
    "                     coordinates_type='geographic',\n",
    "                     verbose=True,\n",
    "                     enable_plotting=True)"
   ]
  },
  {
   "cell_type": "code",
   "execution_count": null,
   "id": "38ec9e3e-5ddf-421b-bb0f-89248c0d6ab8",
   "metadata": {},
   "outputs": [],
   "source": [
    "z_interp, ss = ok.execute('grid', gridx, gridy)"
   ]
  },
  {
   "cell_type": "code",
   "execution_count": null,
   "id": "e63aa6a9-6d8c-4d9a-b9ce-a5cb12c3b879",
   "metadata": {},
   "outputs": [],
   "source": [
    "z_interp.data.shape"
   ]
  },
  {
   "cell_type": "code",
   "execution_count": null,
   "id": "57da463f-773d-4ef5-b572-5f25e673bd9f",
   "metadata": {},
   "outputs": [],
   "source": [
    "surdf = pd.DataFrame([[y, x, z_interp[x, y]] for x in range(400) for y in range(25)], columns=['norm_x', 'norm_y', 'dpCO2All'])"
   ]
  },
  {
   "cell_type": "code",
   "execution_count": null,
   "id": "cb662296-c586-4a34-9618-cb5065a92e2f",
   "metadata": {},
   "outputs": [],
   "source": [
    "plt.rcParams['figure.figsize'] = [3, 10]\n",
    "plt.scatter('norm_x', 'norm_y', data=surdf, c=surdf['dpCO2All'], cmap='rainbow')\n",
    "plt.colorbar()"
   ]
  },
  {
   "cell_type": "code",
   "execution_count": null,
   "id": "a217b5dc-8119-4d31-976f-4416ee2bbe4f",
   "metadata": {},
   "outputs": [],
   "source": [
    "gdf = pd.merge(left=gdf, right=surdf, left_on=['norm_x', 'norm_y'], right_on=['norm_x', 'norm_y'], how='left')"
   ]
  },
  {
   "cell_type": "code",
   "execution_count": null,
   "id": "dd00f7a3-343b-46a7-b5be-cf52021a8aa2",
   "metadata": {},
   "outputs": [],
   "source": [
    "gdf"
   ]
  },
  {
   "cell_type": "code",
   "execution_count": null,
   "id": "dbda25d3-5203-469a-a3ec-a81b786915c6",
   "metadata": {},
   "outputs": [],
   "source": [
    "plt.rcParams['figure.figsize'] = [12, 12]\n",
    "\n",
    "plt.scatter('Longitude', 'Latitude', data=gdf, c=gdf['dpCO2All'], cmap='rainbow', s=20, alpha=0.5, linewidth=0)\n",
    "plt.clim(-200, 200)\n",
    "plt.colorbar(alpha=1)\n",
    "plt.scatter('Longitude', 'Latitude', data=df, c=df['dpCO2'], cmap='rainbow', s=5, alpha=0.1, linewidth=0)\n",
    "plt.clim(-200, 200)\n",
    "plt.xlim(103.6, 110)\n",
    "plt.ylim(51.2, 56)\n",
    "plt.plot('long', 'lat', data=obris, alpha=0.5, linewidth=0.5)\n",
    "plt.fill('long', 'lat', data=obris.iloc[4845:,:], c='white', alpha=1, linewidth=0.5)\n",
    "plt.title(f'dpCO2 Jul-Aug 2024, mkatm')\n",
    "plt.savefig(f'surf_dpCO2_jul2024.png')\n"
   ]
  },
  {
   "cell_type": "code",
   "execution_count": null,
   "id": "50058008-659b-423e-b3ee-971e960b63f6",
   "metadata": {},
   "outputs": [],
   "source": [
    "#for year in [2013, 2016, 2017, 2018, 2021, 2022, 2023, 2024]:\n",
    "for year in [2024]:\n",
    "    lat = res.loc[res['year']==year,'norm_y'].values\n",
    "    long = res.loc[res['year']==year,'norm_x'].values\n",
    "    value = res.loc[res['year']==year,'dpCO2'].values\n",
    "    gridx = np.linspace(0, 1, 25)\n",
    "    gridy = np.linspace(0, 1, 400)\n",
    "    \n",
    "    ok = OrdinaryKriging(long,\n",
    "                         lat,\n",
    "                         value,\n",
    "                         variogram_model='spherical',\n",
    "                         coordinates_type='geographic',\n",
    "                         verbose=False,\n",
    "                         enable_plotting=False)\n",
    "    z_interp, ss = ok.execute('grid', gridx, gridy)\n",
    "    \n",
    "    surdf = pd.DataFrame([[y, x, z_interp[x, y]] for x in range(400) for y in range(25)], columns=['norm_x', 'norm_y', f'dpCO2{year}'])\n",
    "    gdf = pd.merge(left=gdf, right=surdf, left_on=['norm_x', 'norm_y'], right_on=['norm_x', 'norm_y'], how='left')"
   ]
  },
  {
   "cell_type": "code",
   "execution_count": null,
   "id": "58eff7c4-9cd6-40ef-970e-de13abf346c3",
   "metadata": {},
   "outputs": [],
   "source": [
    "cycles=['dpCO22013', 'dpCO22016', 'dpCO22017', 'dpCO22018', 'dpCO22021', 'dpCO22022', 'dpCO22023', 'dpCO22024']\n",
    "gdf['dpCO2All']=0\n",
    "for cycle in cycles:\n",
    "    gdf['dpCO2All'] += gdf[cycle]\n",
    "gdf['dpCO2All']/=len(cycles)\n",
    "gdf"
   ]
  },
  {
   "cell_type": "code",
   "execution_count": null,
   "id": "0307e3c5-2d47-4e7b-8d33-c8cd60fb3a9d",
   "metadata": {},
   "outputs": [],
   "source": [
    "gdf.to_csv(os.path.join(pwd, 'pdCO2Surfer.txt'), sep='\\t')"
   ]
  },
  {
   "cell_type": "code",
   "execution_count": null,
   "id": "0dd933a6-539a-46d4-a5f1-c58a2e00e100",
   "metadata": {},
   "outputs": [],
   "source": [
    "plt.style.use('default')\n",
    "plt.rcParams['figure.figsize'] = [12, 12]"
   ]
  },
  {
   "cell_type": "code",
   "execution_count": null,
   "id": "678346bb-91f5-4c7b-9228-2124e50da1c0",
   "metadata": {},
   "outputs": [],
   "source": [
    "cycles=['dpCO2All', 'dpCO22013', 'dpCO22016', 'dpCO22017', 'dpCO22018', 'dpCO22021', 'dpCO22022', 'dpCO22023', 'dpCO22024']\n",
    "cycles=['All', 2013, 2016, 2017, 2018, 2021, 2022, 2023, 2024]\n",
    "for cycle in cycles:\n",
    "    if cycle == 'All':\n",
    "        plt.scatter('Longitude', 'Latitude', data=df, c=df['dpCO2'], cmap='rainbow', s=5, alpha=0.1, linewidth=0)\n",
    "    else:\n",
    "        plt.scatter('Longitude', 'Latitude', data=df.loc[df['year']==cycle,:], c=df.loc[df['year']==cycle,'dpCO2'], cmap='rainbow', s=5, alpha=0.3, linewidth=0)\n",
    "    plt.clim(-200, 200)\n",
    "    plt.scatter('Longitude', 'Latitude', data=gdf, c=gdf[f'dpCO2{cycle}'], cmap='rainbow', s=5, alpha=0.5, linewidth=0)\n",
    "    plt.colorbar(alpha=1)\n",
    "    plt.clim(-200, 200)\n",
    "    plt.xlim(103.6, 110)\n",
    "    plt.ylim(51.2, 56)\n",
    "    plt.plot('long', 'lat', data=obris, alpha=0.5, linewidth=0.5)\n",
    "    plt.fill('long', 'lat', data=obris.iloc[4845:,:], c='white', alpha=1, linewidth=0.5)\n",
    "    plt.title(f'dpCO2_{cycle}, mkatm')\n",
    "    plt.savefig(f'surf_dpCO2_{cycle}.png')\n",
    "    plt.close()\n"
   ]
  },
  {
   "cell_type": "code",
   "execution_count": null,
   "id": "3793771c-51d9-48bd-8cba-4ae049d1469d",
   "metadata": {},
   "outputs": [],
   "source": [
    "gdf.describe()"
   ]
  },
  {
   "cell_type": "code",
   "execution_count": null,
   "id": "0175a6c0-911c-4796-8d10-3bf554160063",
   "metadata": {},
   "outputs": [],
   "source": []
  }
 ],
 "metadata": {
  "kernelspec": {
   "display_name": "Python 3 (ipykernel)",
   "language": "python",
   "name": "python3"
  },
  "language_info": {
   "codemirror_mode": {
    "name": "ipython",
    "version": 3
   },
   "file_extension": ".py",
   "mimetype": "text/x-python",
   "name": "python",
   "nbconvert_exporter": "python",
   "pygments_lexer": "ipython3",
   "version": "3.12.2"
  }
 },
 "nbformat": 4,
 "nbformat_minor": 5
}
