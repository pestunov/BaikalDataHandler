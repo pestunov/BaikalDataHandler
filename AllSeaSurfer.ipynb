{
 "cells": [
  {
   "cell_type": "code",
   "execution_count": null,
   "id": "2f6d2dd3-7936-4d9b-a57c-76c6b37028bb",
   "metadata": {
    "tags": []
   },
   "outputs": [],
   "source": [
    "import pandas as pd\n",
    "import numpy as np\n",
    "import matplotlib as mpl\n",
    "import matplotlib.pyplot as plt\n",
    "import datetime as dt"
   ]
  },
  {
   "cell_type": "code",
   "execution_count": null,
   "id": "4e77b902-5852-4cb1-85df-835eb5ae6041",
   "metadata": {
    "tags": []
   },
   "outputs": [],
   "source": [
    "def dist(a, b):\n",
    "    \"\"\"\n",
    "    Calculate the great circle distance between two points\n",
    "    on the earth (specified in decimal degrees,\n",
    "    [0] - long,\n",
    "    [1] - lat)\n",
    "    \"\"\"\n",
    "    x1, y1, x2, y2 = map(np.radians, [a[0], a[1], b[0], b[1]])\n",
    "    dx = x2 - x1\n",
    "    dy = y2 - y1\n",
    "    a = np.sin(dy/2)**2 + np.cos(y1) * np.cos(y2) * np.sin(dx/2)**2\n",
    "    c = 2 * np.arcsin(np.sqrt(a))\n",
    "    # Earth`s radius in kilometers\n",
    "    km = 6372.795 * c\n",
    "    return km"
   ]
  },
  {
   "cell_type": "code",
   "execution_count": null,
   "id": "2c5b1822-a104-48a5-b35e-092b989d793a",
   "metadata": {
    "tags": []
   },
   "outputs": [],
   "source": [
    "plt.style.use('Solarize_Light2')   # try another styles: 'classic'\n",
    "plt.rcParams['figure.figsize'] = [12, 15]\n",
    "\n",
    "srcData = \"G:/1_Data1/sea/AllSea.txt\"\n",
    "destData = \"G:/1_Data1/sea/AllSeaGisOut.txt\"\n",
    "obrisData = \"G:/1_Data1/obris/obris.dat\"\n",
    "#obrisWest = \"G:/1_Data1/obris/obrisWest.dat\"\n",
    "#obrisEast = \"G:/1_Data1/obris/obrisEast.dat\"\n",
    "batimetrFile = \"G:/1_Data1/batimetria/b1.txt\"\n",
    "# srcData = \"~/methaneSea.dat"
   ]
  },
  {
   "cell_type": "code",
   "execution_count": null,
   "id": "18fcc277-6828-40d9-aedd-7e084b8356d3",
   "metadata": {
    "tags": []
   },
   "outputs": [],
   "source": [
    "df = pd.read_csv(\"G:/1_Data1/sea/AllSea.txt\",\n",
    "                 header=0,\n",
    "                 usecols=['Longitude', 'Latitude', 'DateTime', 'cCH4Wtr', 'cCO2Wtr'],\n",
    "                 # skip_blank_lines=True,\n",
    "                 skipinitialspace=True,\n",
    "                 na_values='--',\n",
    "                 skiprows=[1,2,3,4],\n",
    "                 sep='\\t',\n",
    "                 decimal=',',\n",
    "                 #nrows=5000,\n",
    "                 parse_dates=['DateTime'],\n",
    "                 dayfirst=True\n",
    "                 )"
   ]
  },
  {
   "cell_type": "code",
   "execution_count": null,
   "id": "53826e91-72da-40c3-90a1-6a45a38021ad",
   "metadata": {
    "tags": []
   },
   "outputs": [],
   "source": [
    "print(f\"size before {df.shape}\")\n",
    "df.dropna(axis='index', subset=['Longitude', 'Latitude', 'cCH4Wtr', 'cCO2Wtr'], inplace=True)\n",
    "print(f\"size after {df.shape}\")"
   ]
  },
  {
   "cell_type": "code",
   "execution_count": null,
   "id": "edf54fb2-e1df-45af-ab29-5b2ecf56556b",
   "metadata": {
    "tags": []
   },
   "outputs": [],
   "source": [
    "df['year'] = df['DateTime'].dt.year"
   ]
  },
  {
   "cell_type": "code",
   "execution_count": null,
   "id": "b71bb47f-84fe-4a4f-82b2-78177114ece8",
   "metadata": {
    "tags": []
   },
   "outputs": [],
   "source": [
    "df.reset_index(drop=True, inplace=True)\n",
    "df"
   ]
  },
  {
   "cell_type": "code",
   "execution_count": null,
   "id": "e577e998-f9a9-49ad-a3ec-c3c19dfe989d",
   "metadata": {
    "tags": []
   },
   "outputs": [],
   "source": [
    "for yr in range(2013, 2024):\n",
    "    t = df.loc[(df['year'] == yr) & df['cCH4Wtr']].shape\n",
    "    print(f'{yr}: {t[0]}')"
   ]
  },
  {
   "cell_type": "code",
   "execution_count": null,
   "id": "29cb09ae-a590-4e60-aa22-3a378b2310a9",
   "metadata": {
    "tags": []
   },
   "outputs": [],
   "source": [
    "obris = pd.read_csv(\"G:/1_Data1/obris/obris.dat\",\n",
    "                        header=0,\n",
    "                        na_values='--',\n",
    "                        sep='\\t',\n",
    "                        decimal=',',\n",
    "                       )"
   ]
  },
  {
   "cell_type": "code",
   "execution_count": null,
   "id": "41cf4a37-995a-4f44-a085-e019f65a1e73",
   "metadata": {
    "tags": []
   },
   "outputs": [],
   "source": [
    "obrisEast = pd.read_csv(\"G:/1_Data1/obris/obrisEast.dat\",\n",
    "                        header=0,\n",
    "                        na_values='--',\n",
    "                        sep='\\t',\n",
    "                        decimal=',',\n",
    "                       )"
   ]
  },
  {
   "cell_type": "code",
   "execution_count": null,
   "id": "bb1eed62-1ba3-4132-9012-07d1a09851f6",
   "metadata": {
    "tags": []
   },
   "outputs": [],
   "source": [
    "obrisWest = pd.read_csv(\"G:/1_Data1/obris/obrisWest.dat\",\n",
    "                        header=0,\n",
    "                        na_values='--',\n",
    "                        sep='\\t',\n",
    "                        decimal=',',\n",
    "                       )\n",
    "obrisWest.head(3)"
   ]
  },
  {
   "cell_type": "code",
   "execution_count": null,
   "id": "5e453ae2-717b-43d6-9d3d-c962293e8190",
   "metadata": {
    "tags": []
   },
   "outputs": [],
   "source": [
    "fig, ax = plt.subplots()\n",
    "ax.plot(obrisEast['long'], obrisEast['lat'], 'b-')\n",
    "ax.plot(obrisWest['long'], obrisWest['lat'], 'r-')\n"
   ]
  },
  {
   "cell_type": "code",
   "execution_count": null,
   "id": "98d1e5fb-ad15-45ea-87b8-8ce23caacac2",
   "metadata": {
    "tags": []
   },
   "outputs": [],
   "source": [
    "longStep = 0.01\n",
    "latStep = 0.005\n",
    "\n",
    "df['long'] = (df['Longitude']/longStep).round()*longStep\n",
    "df['lat'] = (df['Latitude']/latStep).round()*latStep\n",
    "df['year'] = df['DateTime'].dt.year"
   ]
  },
  {
   "cell_type": "code",
   "execution_count": null,
   "id": "2b551630-05fb-4d11-b462-326407ce8bdf",
   "metadata": {
    "tags": []
   },
   "outputs": [],
   "source": [
    "#func_list = ['mean', 'count']\n",
    "func_list = ['mean']\n",
    "cols_to_calc = {'cCH4Wtr': func_list,\n",
    "                'cCO2Wtr': func_list,\n",
    "               }\n",
    "res = df.groupby(['long', 'lat'], as_index=False).agg(cols_to_calc)\n",
    "res"
   ]
  },
  {
   "cell_type": "markdown",
   "id": "305f30b0-1570-4a9b-bda5-a4487616f8a8",
   "metadata": {},
   "source": [
    "## GIS handlers   \n",
    "### Get Squared Baikal"
   ]
  },
  {
   "cell_type": "code",
   "execution_count": null,
   "id": "a8fd2812-9357-4d17-b1d5-d5e9e65cf73a",
   "metadata": {
    "tags": []
   },
   "outputs": [],
   "source": [
    "nordPoint = (109.767, 55.751)\n",
    "sudPoint = (103.709166666667, 51.7079166666667)"
   ]
  },
  {
   "cell_type": "code",
   "execution_count": null,
   "id": "b8aeada9-6ed2-4c42-9a61-78d63837380c",
   "metadata": {
    "tags": []
   },
   "outputs": [],
   "source": [
    "longr = np.radians(res['long'])\n",
    "latr = np.radians(res['lat'])\n",
    "obrisWest['longr'] = np.radians(obrisWest['long'])\n",
    "obrisWest['latr'] = np.radians(obrisWest['lat'])\n",
    "obrisEast['longr'] = np.radians(obrisEast['long'])\n",
    "obrisEast['latr'] = np.radians(obrisEast['lat'])"
   ]
  },
  {
   "cell_type": "code",
   "execution_count": null,
   "id": "41cf2780-8ef3-43b0-bb35-f5eb3b6f5187",
   "metadata": {
    "tags": []
   },
   "outputs": [],
   "source": [
    "for i in range(len(res)):\n",
    "    argg = (float(res.loc[i, 'long']), float(res.loc[i, 'lat']))\n",
    "    res.at[i, 'toWest'] = obrisWest.apply(lambda x: dist((x['long'], x['lat']), argg), axis=1).min()\n",
    "    res.at[i, 'toEast'] = obrisEast.apply(lambda x: dist((x['long'], x['lat']), argg), axis=1).min()\n",
    "    res.at[i, 'toSud'] = dist(sudPoint, argg)\n",
    "    res.at[i, 'toNord'] = dist(nordPoint, argg)\n",
    "    print('*', end='')\n",
    "    "
   ]
  },
  {
   "cell_type": "code",
   "execution_count": null,
   "id": "a45342a2-b556-4271-81bd-cc3792d54756",
   "metadata": {
    "tags": []
   },
   "outputs": [],
   "source": [
    "res['norm_x'] = res['toWest']/(res['toWest'] + res['toEast'])\n",
    "res['norm_y'] = res['toSud']/(res['toSud'] + res['toNord'])\n",
    "res"
   ]
  },
  {
   "cell_type": "code",
   "execution_count": null,
   "id": "de121335-6294-4a2c-bfe4-2b785d442a24",
   "metadata": {
    "tags": []
   },
   "outputs": [],
   "source": [
    "plt.rcParams['figure.figsize'] = [15, 10]\n",
    "fig, ax = plt.subplots(1, 2)\n",
    "ax[0].scatter(res['long'], res['lat'], s=30, c=np.log(res[('cCO2Wtr', 'mean')]), marker='o', linewidth=0, alpha=0.1)\n",
    "ax[1].scatter(res['norm_x'], res['norm_y'], s=30, c=np.log(res[('cCO2Wtr', 'mean')]), marker='o', linewidth=0, alpha=0.1)"
   ]
  },
  {
   "cell_type": "code",
   "execution_count": null,
   "id": "a5c2b38f-6fe7-4c8f-8a2a-eb07a919946e",
   "metadata": {
    "tags": []
   },
   "outputs": [],
   "source": [
    "res.to_csv('all_gases_dist.dat',\n",
    "           sep='\\t'\n",
    "          )"
   ]
  },
  {
   "cell_type": "code",
   "execution_count": null,
   "id": "15034ddd-dd32-4a32-8269-8f812142faa4",
   "metadata": {
    "tags": []
   },
   "outputs": [],
   "source": [
    "%matplotlib inline\n",
    "valMax = res[('cCO2Wtr','mean')].max\n",
    "\n",
    "fig, ax = plt.subplots()\n",
    "ax.set_xlim(106, 108)\n",
    "ax.set_ylim(52, 53)\n",
    "\n",
    "# wether this or those\n",
    "ax.scatter(res['long'], res['lat'], c=res[('cCO2Wtr', 'mean')], s=40, marker='o', linewidth=0, cmap='rainbow', alpha=0.1)\n",
    "ax.plot(obris['long'], obris['lat'], 'b-')\n",
    "\n",
    "fig.savefig('gis.png')"
   ]
  },
  {
   "cell_type": "code",
   "execution_count": null,
   "id": "98fcb274-2cfe-49bf-9f33-51ff3133ca11",
   "metadata": {
    "tags": []
   },
   "outputs": [],
   "source": [
    "tomsk = (85.1974, 56.372)\n",
    "moscow = (37.929, 55.422)\n",
    "\n",
    "dist(tomsk, moscow)"
   ]
  },
  {
   "cell_type": "code",
   "execution_count": null,
   "id": "a1375ac1-5686-443a-a99b-8a528fa08807",
   "metadata": {
    "tags": []
   },
   "outputs": [],
   "source": [
    "dist((0, 89), (1, 89))"
   ]
  },
  {
   "cell_type": "code",
   "execution_count": null,
   "id": "9f9b7ea9-a8de-4746-8209-5d70f5e7a1c3",
   "metadata": {},
   "outputs": [],
   "source": [
    "from scipy import spatial"
   ]
  },
  {
   "cell_type": "code",
   "execution_count": null,
   "id": "374fad21-1e08-41bf-a559-c935d66f3b82",
   "metadata": {},
   "outputs": [],
   "source": [
    "# This solution by @denis is OK for small xy2\n",
    "res['mindistWest'] = np.min(spatial.distance.cdist(res.loc[:, ['long', 'lat']], obrisWest.loc[:, ['long', 'lat']]), axis=1)\n",
    "res['mindistEast'] = np.min(spatial.distance.cdist(res.loc[:, ['long', 'lat']], obrisEast.loc[:, ['long', 'lat']]), axis=1)\n",
    "res['norm_xx'] = res['mindistWest']/(res['mindistWest'] + res['mindistEast'])\n",
    "# res['norm_yy'] = res['toSud']/(res['toSud'] + res['toNord'])\n",
    "\n",
    "res"
   ]
  },
  {
   "cell_type": "code",
   "execution_count": null,
   "id": "2d4d94ac-859b-4418-b4f5-4e453c587082",
   "metadata": {
    "tags": []
   },
   "outputs": [],
   "source": [
    "from shapely.geometry import Point\n",
    "from shapely.geometry import Polygon"
   ]
  },
  {
   "cell_type": "code",
   "execution_count": null,
   "id": "0a55d0fc-7ac2-4b5c-b05f-85ab76e38a79",
   "metadata": {
    "tags": []
   },
   "outputs": [],
   "source": [
    "l = list(obrisWest['long']) + list(obrisEast['long'])"
   ]
  },
  {
   "cell_type": "code",
   "execution_count": null,
   "id": "6aae26df-a82f-4da2-ab76-618101430247",
   "metadata": {
    "tags": []
   },
   "outputs": [],
   "source": [
    "ob = zip(list(obrisWest['long'])+(list(obrisEast['long'])) , list(obrisWest['lat'])+(list(obrisEast['lat'])))\n",
    "print(ob)"
   ]
  },
  {
   "cell_type": "code",
   "execution_count": null,
   "id": "606ca249-ecc1-4a4e-a3e2-e56648139c4c",
   "metadata": {
    "tags": []
   },
   "outputs": [],
   "source": [
    "obrisPolygon = Polygon(ob)"
   ]
  },
  {
   "cell_type": "code",
   "execution_count": null,
   "id": "e3495744-cee5-45c7-b461-d6faf4351405",
   "metadata": {
    "tags": []
   },
   "outputs": [],
   "source": [
    "point = Point(103, 55)"
   ]
  },
  {
   "cell_type": "code",
   "execution_count": null,
   "id": "6cb8df72-af2d-4d4a-81aa-cef3898b820f",
   "metadata": {
    "tags": []
   },
   "outputs": [],
   "source": [
    "obrisPolygon.contains(point)"
   ]
  },
  {
   "cell_type": "code",
   "execution_count": null,
   "id": "5cf63b66-2d15-4883-81b1-2c91f3a9ed10",
   "metadata": {
    "tags": []
   },
   "outputs": [],
   "source": [
    "dff = pd.DataFrame(columns=['long', 'lat'])\n",
    "dff"
   ]
  },
  {
   "cell_type": "markdown",
   "id": "253692b9-4e34-43ac-8a4d-da8269d18694",
   "metadata": {},
   "source": [
    "#### fill baikal obris with cells `longStep` * `latStep`  \n",
    "do it once. do no forget save to file"
   ]
  },
  {
   "cell_type": "code",
   "execution_count": null,
   "id": "291640b2-a0dd-4159-8fb3-c75d9cedb968",
   "metadata": {
    "tags": []
   },
   "outputs": [],
   "source": [
    "longStep = 0.01\n",
    "latStep = 0.005\n",
    "n=0\n",
    "for x in np.arange(103.5, 110.0, longStep):\n",
    "    for y in np.arange(51.4, 55.9, latStep):\n",
    "        if obrisPolygon.contains(Point(x, y)):\n",
    "            toWest = obrisWest.apply(lambda f: dist((f['long'], f['lat']), (x, y)), axis=1).min()\n",
    "            toEast = obrisEast.apply(lambda f: dist((f['long'], f['lat']), (x, y)), axis=1).min()\n",
    "            toSud = dist(sudPoint, (x, y))\n",
    "            toNord = dist(nordPoint, (x, y))\n",
    "            dff.loc[len(dff), ['long', 'lat', 'toWest', 'toEast', 'toSud', 'toNord']] = [x, y, toWest, toEast, toSud, toNord]\n",
    "            n+=1\n",
    "            if n%100 == 0:\n",
    "                print(f\"n={n},\", end=' ')\n",
    "print(\"done!\")"
   ]
  },
  {
   "cell_type": "code",
   "execution_count": null,
   "id": "b3bca902-1d92-47b0-b142-d913d2001077",
   "metadata": {
    "tags": []
   },
   "outputs": [],
   "source": [
    "dff['norm_x'] = np.int32(dff['toWest']/(dff['toWest'] + dff['toEast'])*100)\n",
    "dff['norm_y'] = np.int32(dff['toSud']/(dff['toSud'] + dff['toNord'])*100)\n",
    "dff"
   ]
  },
  {
   "cell_type": "code",
   "execution_count": null,
   "id": "d8eac222-235a-4bf1-9800-98b875af9b10",
   "metadata": {
    "tags": []
   },
   "outputs": [],
   "source": [
    "dff.plot('long', 'lat', c=dff['norm_x'], kind='scatter',  )"
   ]
  },
  {
   "cell_type": "code",
   "execution_count": null,
   "id": "3f98be08-1242-4003-8b9e-f69e897b6de6",
   "metadata": {
    "tags": []
   },
   "outputs": [],
   "source": [
    "dff.to_csv('wholeBaikalGrid.dat',\n",
    "          sep='\\t')"
   ]
  },
  {
   "cell_type": "code",
   "execution_count": null,
   "id": "5ff7bb2f-f8da-43b2-b054-7161ef9162a3",
   "metadata": {
    "tags": []
   },
   "outputs": [],
   "source": [
    "surferData = pd.read_csv('out_VAR.dat', sep=' ', header=0, names=['norm_x', 'norm_y', 'cCH4wtr'])\n",
    "surferData['norm_x'] = np.int32(surferData['norm_x']*100)\n",
    "surferData['norm_y'] = np.int32(surferData['norm_y']*100)\n",
    "surferData"
   ]
  },
  {
   "cell_type": "code",
   "execution_count": null,
   "id": "1032b5e0-cad2-4d10-b26e-ba641a8e1454",
   "metadata": {
    "tags": []
   },
   "outputs": [],
   "source": [
    "dff = pd.merge(dff, surferData, how='left', on=['norm_x', 'norm_y'])"
   ]
  },
  {
   "cell_type": "code",
   "execution_count": null,
   "id": "a1ef4d6e-1486-4cfe-b875-a6b5af29cc84",
   "metadata": {
    "tags": []
   },
   "outputs": [],
   "source": [
    "dff"
   ]
  },
  {
   "cell_type": "code",
   "execution_count": null,
   "id": "abb0a8a9-c2bd-4668-b4d6-2f20fffac618",
   "metadata": {
    "tags": []
   },
   "outputs": [],
   "source": [
    "dff.plot('long', 'lat', c=np.log(dff['cCH4wtr']), kind='scatter' )"
   ]
  },
  {
   "cell_type": "code",
   "execution_count": null,
   "id": "5efef421-9c30-4b61-887d-63749b453893",
   "metadata": {},
   "outputs": [],
   "source": []
  }
 ],
 "metadata": {
  "kernelspec": {
   "display_name": "Python 3 (ipykernel)",
   "language": "python",
   "name": "python3"
  },
  "language_info": {
   "codemirror_mode": {
    "name": "ipython",
    "version": 3
   },
   "file_extension": ".py",
   "mimetype": "text/x-python",
   "name": "python",
   "nbconvert_exporter": "python",
   "pygments_lexer": "ipython3",
   "version": "3.11.2"
  }
 },
 "nbformat": 4,
 "nbformat_minor": 5
}
